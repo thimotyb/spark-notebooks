{
 "cells": [
  {
   "cell_type": "markdown",
   "metadata": {},
   "source": [
    "#MLFlow Quickstart Demo"
   ]
  },
  {
   "cell_type": "code",
   "execution_count": 1,
   "metadata": {},
   "outputs": [
    {
     "name": "stdout",
     "output_type": "stream",
     "text": [
      "Requirement already satisfied: mlflow in /home/azureuser/miniconda3/lib/python3.11/site-packages (2.17.0)\n",
      "Requirement already satisfied: mlflow-skinny==2.17.0 in /home/azureuser/miniconda3/lib/python3.11/site-packages (from mlflow) (2.17.0)\n",
      "Requirement already satisfied: Flask<4 in /home/azureuser/miniconda3/lib/python3.11/site-packages (from mlflow) (3.0.3)\n",
      "Requirement already satisfied: alembic!=1.10.0,<2 in /home/azureuser/miniconda3/lib/python3.11/site-packages (from mlflow) (1.13.3)\n",
      "Requirement already satisfied: docker<8,>=4.0.0 in /home/azureuser/miniconda3/lib/python3.11/site-packages (from mlflow) (7.1.0)\n",
      "Requirement already satisfied: graphene<4 in /home/azureuser/miniconda3/lib/python3.11/site-packages (from mlflow) (3.4)\n",
      "Requirement already satisfied: markdown<4,>=3.3 in /home/azureuser/miniconda3/lib/python3.11/site-packages (from mlflow) (3.7)\n",
      "Requirement already satisfied: matplotlib<4 in /home/azureuser/miniconda3/lib/python3.11/site-packages (from mlflow) (3.9.2)\n",
      "Requirement already satisfied: numpy<3 in /home/azureuser/miniconda3/lib/python3.11/site-packages (from mlflow) (2.1.2)\n",
      "Requirement already satisfied: pandas<3 in /home/azureuser/miniconda3/lib/python3.11/site-packages (from mlflow) (2.2.3)\n",
      "Requirement already satisfied: pyarrow<18,>=4.0.0 in /home/azureuser/miniconda3/lib/python3.11/site-packages (from mlflow) (17.0.0)\n",
      "Requirement already satisfied: scikit-learn<2 in /home/azureuser/miniconda3/lib/python3.11/site-packages (from mlflow) (1.5.2)\n",
      "Requirement already satisfied: scipy<2 in /home/azureuser/miniconda3/lib/python3.11/site-packages (from mlflow) (1.14.1)\n",
      "Requirement already satisfied: sqlalchemy<3,>=1.4.0 in /home/azureuser/miniconda3/lib/python3.11/site-packages (from mlflow) (2.0.36)\n",
      "Requirement already satisfied: Jinja2<4,>=2.11 in /home/azureuser/miniconda3/lib/python3.11/site-packages (from mlflow) (3.1.4)\n",
      "Requirement already satisfied: gunicorn<24 in /home/azureuser/miniconda3/lib/python3.11/site-packages (from mlflow) (23.0.0)\n",
      "Requirement already satisfied: cachetools<6,>=5.0.0 in /home/azureuser/miniconda3/lib/python3.11/site-packages (from mlflow-skinny==2.17.0->mlflow) (5.5.0)\n",
      "Requirement already satisfied: click<9,>=7.0 in /home/azureuser/miniconda3/lib/python3.11/site-packages (from mlflow-skinny==2.17.0->mlflow) (8.1.7)\n",
      "Requirement already satisfied: cloudpickle<4 in /home/azureuser/miniconda3/lib/python3.11/site-packages (from mlflow-skinny==2.17.0->mlflow) (3.1.0)\n",
      "Requirement already satisfied: databricks-sdk<1,>=0.20.0 in /home/azureuser/miniconda3/lib/python3.11/site-packages (from mlflow-skinny==2.17.0->mlflow) (0.36.0)\n",
      "Requirement already satisfied: gitpython<4,>=3.1.9 in /home/azureuser/miniconda3/lib/python3.11/site-packages (from mlflow-skinny==2.17.0->mlflow) (3.1.43)\n",
      "Requirement already satisfied: importlib-metadata!=4.7.0,<9,>=3.7.0 in /home/azureuser/miniconda3/lib/python3.11/site-packages (from mlflow-skinny==2.17.0->mlflow) (8.5.0)\n",
      "Requirement already satisfied: opentelemetry-api<3,>=1.9.0 in /home/azureuser/miniconda3/lib/python3.11/site-packages (from mlflow-skinny==2.17.0->mlflow) (1.27.0)\n",
      "Requirement already satisfied: opentelemetry-sdk<3,>=1.9.0 in /home/azureuser/miniconda3/lib/python3.11/site-packages (from mlflow-skinny==2.17.0->mlflow) (1.27.0)\n",
      "Requirement already satisfied: packaging<25 in /home/azureuser/miniconda3/lib/python3.11/site-packages (from mlflow-skinny==2.17.0->mlflow) (23.1)\n",
      "Requirement already satisfied: protobuf<6,>=3.12.0 in /home/azureuser/miniconda3/lib/python3.11/site-packages (from mlflow-skinny==2.17.0->mlflow) (5.29.0rc2)\n",
      "Requirement already satisfied: pyyaml<7,>=5.1 in /home/azureuser/miniconda3/lib/python3.11/site-packages (from mlflow-skinny==2.17.0->mlflow) (6.0.2)\n",
      "Requirement already satisfied: requests<3,>=2.17.3 in /home/azureuser/miniconda3/lib/python3.11/site-packages (from mlflow-skinny==2.17.0->mlflow) (2.31.0)\n",
      "Requirement already satisfied: sqlparse<1,>=0.4.0 in /home/azureuser/miniconda3/lib/python3.11/site-packages (from mlflow-skinny==2.17.0->mlflow) (0.5.1)\n",
      "Requirement already satisfied: Mako in /home/azureuser/miniconda3/lib/python3.11/site-packages (from alembic!=1.10.0,<2->mlflow) (1.3.6)\n",
      "Requirement already satisfied: typing-extensions>=4 in /home/azureuser/miniconda3/lib/python3.11/site-packages (from alembic!=1.10.0,<2->mlflow) (4.12.2)\n",
      "Requirement already satisfied: urllib3>=1.26.0 in /home/azureuser/miniconda3/lib/python3.11/site-packages (from docker<8,>=4.0.0->mlflow) (1.26.16)\n",
      "Requirement already satisfied: Werkzeug>=3.0.0 in /home/azureuser/miniconda3/lib/python3.11/site-packages (from Flask<4->mlflow) (3.0.4)\n",
      "Requirement already satisfied: itsdangerous>=2.1.2 in /home/azureuser/miniconda3/lib/python3.11/site-packages (from Flask<4->mlflow) (2.2.0)\n",
      "Requirement already satisfied: blinker>=1.6.2 in /home/azureuser/miniconda3/lib/python3.11/site-packages (from Flask<4->mlflow) (1.8.2)\n",
      "Requirement already satisfied: graphql-core<3.3,>=3.1 in /home/azureuser/miniconda3/lib/python3.11/site-packages (from graphene<4->mlflow) (3.2.5)\n",
      "Requirement already satisfied: graphql-relay<3.3,>=3.1 in /home/azureuser/miniconda3/lib/python3.11/site-packages (from graphene<4->mlflow) (3.2.0)\n",
      "Requirement already satisfied: MarkupSafe>=2.0 in /home/azureuser/miniconda3/lib/python3.11/site-packages (from Jinja2<4,>=2.11->mlflow) (3.0.2)\n",
      "Requirement already satisfied: contourpy>=1.0.1 in /home/azureuser/miniconda3/lib/python3.11/site-packages (from matplotlib<4->mlflow) (1.3.0)\n",
      "Requirement already satisfied: cycler>=0.10 in /home/azureuser/miniconda3/lib/python3.11/site-packages (from matplotlib<4->mlflow) (0.12.1)\n",
      "Requirement already satisfied: fonttools>=4.22.0 in /home/azureuser/miniconda3/lib/python3.11/site-packages (from matplotlib<4->mlflow) (4.54.1)\n",
      "Requirement already satisfied: kiwisolver>=1.3.1 in /home/azureuser/miniconda3/lib/python3.11/site-packages (from matplotlib<4->mlflow) (1.4.7)\n",
      "Requirement already satisfied: pillow>=8 in /home/azureuser/miniconda3/lib/python3.11/site-packages (from matplotlib<4->mlflow) (11.0.0)\n",
      "Requirement already satisfied: pyparsing>=2.3.1 in /home/azureuser/miniconda3/lib/python3.11/site-packages (from matplotlib<4->mlflow) (3.2.0)\n",
      "Requirement already satisfied: python-dateutil>=2.7 in /home/azureuser/miniconda3/lib/python3.11/site-packages (from matplotlib<4->mlflow) (2.9.0.post0)\n",
      "Requirement already satisfied: pytz>=2020.1 in /home/azureuser/miniconda3/lib/python3.11/site-packages (from pandas<3->mlflow) (2024.2)\n",
      "Requirement already satisfied: tzdata>=2022.7 in /home/azureuser/miniconda3/lib/python3.11/site-packages (from pandas<3->mlflow) (2024.2)\n",
      "Requirement already satisfied: joblib>=1.2.0 in /home/azureuser/miniconda3/lib/python3.11/site-packages (from scikit-learn<2->mlflow) (1.4.2)\n",
      "Requirement already satisfied: threadpoolctl>=3.1.0 in /home/azureuser/miniconda3/lib/python3.11/site-packages (from scikit-learn<2->mlflow) (3.5.0)\n",
      "Requirement already satisfied: greenlet!=0.4.17 in /home/azureuser/miniconda3/lib/python3.11/site-packages (from sqlalchemy<3,>=1.4.0->mlflow) (3.1.1)\n",
      "Requirement already satisfied: google-auth~=2.0 in /home/azureuser/miniconda3/lib/python3.11/site-packages (from databricks-sdk<1,>=0.20.0->mlflow-skinny==2.17.0->mlflow) (2.35.0)\n",
      "Requirement already satisfied: gitdb<5,>=4.0.1 in /home/azureuser/miniconda3/lib/python3.11/site-packages (from gitpython<4,>=3.1.9->mlflow-skinny==2.17.0->mlflow) (4.0.11)\n",
      "Requirement already satisfied: zipp>=3.20 in /home/azureuser/miniconda3/lib/python3.11/site-packages (from importlib-metadata!=4.7.0,<9,>=3.7.0->mlflow-skinny==2.17.0->mlflow) (3.20.2)\n",
      "Requirement already satisfied: deprecated>=1.2.6 in /home/azureuser/miniconda3/lib/python3.11/site-packages (from opentelemetry-api<3,>=1.9.0->mlflow-skinny==2.17.0->mlflow) (1.2.14)\n",
      "Collecting importlib-metadata!=4.7.0,<9,>=3.7.0 (from mlflow-skinny==2.17.0->mlflow)\n",
      "  Obtaining dependency information for importlib-metadata!=4.7.0,<9,>=3.7.0 from https://files.pythonhosted.org/packages/c0/14/362d31bf1076b21e1bcdcb0dc61944822ff263937b804a79231df2774d28/importlib_metadata-8.4.0-py3-none-any.whl.metadata\n",
      "  Using cached importlib_metadata-8.4.0-py3-none-any.whl.metadata (4.7 kB)\n",
      "Requirement already satisfied: opentelemetry-semantic-conventions==0.48b0 in /home/azureuser/miniconda3/lib/python3.11/site-packages (from opentelemetry-sdk<3,>=1.9.0->mlflow-skinny==2.17.0->mlflow) (0.48b0)\n",
      "Requirement already satisfied: six>=1.5 in /home/azureuser/miniconda3/lib/python3.11/site-packages (from python-dateutil>=2.7->matplotlib<4->mlflow) (1.16.0)\n",
      "Requirement already satisfied: charset-normalizer<4,>=2 in /home/azureuser/miniconda3/lib/python3.11/site-packages (from requests<3,>=2.17.3->mlflow-skinny==2.17.0->mlflow) (2.0.4)\n",
      "Requirement already satisfied: idna<4,>=2.5 in /home/azureuser/miniconda3/lib/python3.11/site-packages (from requests<3,>=2.17.3->mlflow-skinny==2.17.0->mlflow) (3.4)\n",
      "Requirement already satisfied: certifi>=2017.4.17 in /home/azureuser/miniconda3/lib/python3.11/site-packages (from requests<3,>=2.17.3->mlflow-skinny==2.17.0->mlflow) (2024.8.30)\n",
      "Requirement already satisfied: wrapt<2,>=1.10 in /home/azureuser/miniconda3/lib/python3.11/site-packages (from deprecated>=1.2.6->opentelemetry-api<3,>=1.9.0->mlflow-skinny==2.17.0->mlflow) (1.17.0rc1)\n",
      "Requirement already satisfied: smmap<6,>=3.0.1 in /home/azureuser/miniconda3/lib/python3.11/site-packages (from gitdb<5,>=4.0.1->gitpython<4,>=3.1.9->mlflow-skinny==2.17.0->mlflow) (5.0.1)\n",
      "Requirement already satisfied: pyasn1-modules>=0.2.1 in /home/azureuser/miniconda3/lib/python3.11/site-packages (from google-auth~=2.0->databricks-sdk<1,>=0.20.0->mlflow-skinny==2.17.0->mlflow) (0.4.1)\n",
      "Requirement already satisfied: rsa<5,>=3.1.4 in /home/azureuser/miniconda3/lib/python3.11/site-packages (from google-auth~=2.0->databricks-sdk<1,>=0.20.0->mlflow-skinny==2.17.0->mlflow) (4.9)\n",
      "Requirement already satisfied: pyasn1<0.7.0,>=0.4.6 in /home/azureuser/miniconda3/lib/python3.11/site-packages (from pyasn1-modules>=0.2.1->google-auth~=2.0->databricks-sdk<1,>=0.20.0->mlflow-skinny==2.17.0->mlflow) (0.6.1)\n",
      "Using cached importlib_metadata-8.4.0-py3-none-any.whl (26 kB)\n",
      "Installing collected packages: importlib-metadata\n",
      "  Attempting uninstall: importlib-metadata\n",
      "    Found existing installation: importlib_metadata 8.5.0\n",
      "    Uninstalling importlib_metadata-8.5.0:\n",
      "      Successfully uninstalled importlib_metadata-8.5.0\n",
      "Successfully installed importlib-metadata-8.4.0\n"
     ]
    }
   ],
   "source": [
    "# install the latest release candidate\n",
    "!pip install --pre mlflow"
   ]
  },
  {
   "cell_type": "code",
   "execution_count": 2,
   "metadata": {},
   "outputs": [
    {
     "name": "stdout",
     "output_type": "stream",
     "text": [
      "[2024-10-24 10:26:33 +0000] [2972182] [INFO] Starting gunicorn 23.0.0\n",
      "[2024-10-24 10:26:33 +0000] [2972182] [INFO] Listening at: http://127.0.0.1:8080 (2972182)\n",
      "[2024-10-24 10:26:33 +0000] [2972182] [INFO] Using worker: sync\n",
      "[2024-10-24 10:26:33 +0000] [2972183] [INFO] Booting worker with pid: 2972183\n",
      "[2024-10-24 10:26:33 +0000] [2972184] [INFO] Booting worker with pid: 2972184\n",
      "[2024-10-24 10:26:33 +0000] [2972185] [INFO] Booting worker with pid: 2972185\n",
      "[2024-10-24 10:26:33 +0000] [2972186] [INFO] Booting worker with pid: 2972186\n",
      "^C\n",
      "[2024-10-24 10:26:54 +0000] [2972182] [INFO] Handling signal: int\n",
      "[2024-10-24 10:26:54 +0000] [2972184] [INFO] Worker exiting (pid: 2972184)\n",
      "[2024-10-24 10:26:54 +0000] [2972183] [INFO] Worker exiting (pid: 2972183)\n",
      "[2024-10-24 10:26:54 +0000] [2972185] [INFO] Worker exiting (pid: 2972185)\n",
      "[2024-10-24 10:26:54 +0000] [2972186] [INFO] Worker exiting (pid: 2972186)\n"
     ]
    }
   ],
   "source": [
    "# Run MlFlow server on external terminal on machine\n",
    "# !mlflow server --host 127.0.0.1 --port 8080"
   ]
  },
  {
   "cell_type": "markdown",
   "metadata": {},
   "source": [
    "###Set the Tracking Server URI"
   ]
  },
  {
   "cell_type": "code",
   "execution_count": 3,
   "metadata": {},
   "outputs": [],
   "source": [
    "import mlflow\n",
    "\n",
    "mlflow.set_tracking_uri(uri=\"http://localhost:8080\")\n"
   ]
  },
  {
   "cell_type": "markdown",
   "metadata": {},
   "source": [
    "###Train a model and prepare metadata for logging"
   ]
  },
  {
   "cell_type": "code",
   "execution_count": 4,
   "metadata": {},
   "outputs": [
    {
     "name": "stderr",
     "output_type": "stream",
     "text": [
      "/home/azureuser/miniconda3/lib/python3.11/site-packages/sklearn/linear_model/_logistic.py:1247: FutureWarning: 'multi_class' was deprecated in version 1.5 and will be removed in 1.7. From then on, it will always use 'multinomial'. Leave it to its default value to avoid this warning.\n",
      "  warnings.warn(\n"
     ]
    }
   ],
   "source": [
    "import mlflow\n",
    "from mlflow.models import infer_signature\n",
    "\n",
    "import pandas as pd\n",
    "from sklearn import datasets\n",
    "from sklearn.model_selection import train_test_split\n",
    "from sklearn.linear_model import LogisticRegression\n",
    "from sklearn.metrics import accuracy_score, precision_score, recall_score, f1_score\n",
    "\n",
    "\n",
    "# Load the Iris dataset\n",
    "X, y = datasets.load_iris(return_X_y=True)\n",
    "\n",
    "# Split the data into training and test sets\n",
    "X_train, X_test, y_train, y_test = train_test_split(\n",
    "    X, y, test_size=0.2, random_state=42\n",
    ")\n",
    "\n",
    "# Define the model hyperparameters\n",
    "params = {\n",
    "    \"solver\": \"lbfgs\",\n",
    "    \"max_iter\": 1000,\n",
    "    \"multi_class\": \"auto\",\n",
    "    \"random_state\": 8888,\n",
    "}\n",
    "\n",
    "# Train the model\n",
    "lr = LogisticRegression(**params)\n",
    "lr.fit(X_train, y_train)\n",
    "\n",
    "# Predict on the test set\n",
    "y_pred = lr.predict(X_test)\n",
    "\n",
    "# Calculate metrics\n",
    "accuracy = accuracy_score(y_test, y_pred)\n"
   ]
  },
  {
   "cell_type": "markdown",
   "metadata": {},
   "source": [
    "- Initiate an MLflow run context to start a new run that we will log the model and metadata to.\n",
    "- Log model parameters and performance metrics.\n",
    "- Tag the run for easy retrieval.\n",
    "- Register the model in the MLflow Model Registry while logging (saving) the model."
   ]
  },
  {
   "cell_type": "code",
   "execution_count": 5,
   "metadata": {},
   "outputs": [
    {
     "name": "stderr",
     "output_type": "stream",
     "text": [
      "2024/10/24 10:28:00 INFO mlflow.tracking.fluent: Experiment with name 'MLflow Quickstart' does not exist. Creating a new experiment.\n",
      "Successfully registered model 'tracking-quickstart'.\n",
      "2024/10/24 10:28:02 INFO mlflow.store.model_registry.abstract_store: Waiting up to 300 seconds for model version to finish creation. Model name: tracking-quickstart, version 1\n",
      "Created version '1' of model 'tracking-quickstart'.\n",
      "/home/azureuser/miniconda3/lib/python3.11/site-packages/tqdm/auto.py:21: TqdmWarning: IProgress not found. Please update jupyter and ipywidgets. See https://ipywidgets.readthedocs.io/en/stable/user_install.html\n",
      "  from .autonotebook import tqdm as notebook_tqdm\n",
      "Downloading artifacts: 100%|██████████| 7/7 [00:00<00:00, 998.00it/s]  \n",
      "2024/10/24 10:28:02 INFO mlflow.tracking._tracking_service.client: 🏃 View run nimble-snake-785 at: http://127.0.0.1:8080/#/experiments/540310481050719949/runs/b6b883b337cf4d91a8ca5515e81870a0.\n",
      "2024/10/24 10:28:02 INFO mlflow.tracking._tracking_service.client: 🧪 View experiment at: http://127.0.0.1:8080/#/experiments/540310481050719949.\n"
     ]
    }
   ],
   "source": [
    "# Set our tracking server uri for logging\n",
    "mlflow.set_tracking_uri(uri=\"http://127.0.0.1:8080\")\n",
    "\n",
    "# Create a new MLflow Experiment\n",
    "mlflow.set_experiment(\"MLflow Quickstart\")\n",
    "\n",
    "# Start an MLflow run\n",
    "with mlflow.start_run():\n",
    "    # Log the hyperparameters\n",
    "    mlflow.log_params(params)\n",
    "\n",
    "    # Log the loss metric\n",
    "    mlflow.log_metric(\"accuracy\", accuracy)\n",
    "\n",
    "    # Set a tag that we can use to remind ourselves what this run was for\n",
    "    mlflow.set_tag(\"Training Info\", \"Basic LR model for iris data\")\n",
    "\n",
    "    # Infer the model signature\n",
    "    signature = infer_signature(X_train, lr.predict(X_train))\n",
    "\n",
    "    # Log the model\n",
    "    model_info = mlflow.sklearn.log_model(\n",
    "        sk_model=lr,\n",
    "        artifact_path=\"iris_model\",\n",
    "        signature=signature,\n",
    "        input_example=X_train,\n",
    "        registered_model_name=\"tracking-quickstart\",\n",
    "    )\n"
   ]
  },
  {
   "cell_type": "markdown",
   "metadata": {},
   "source": [
    "###Load the model as a Python Function (pyfunc) and use it for inference"
   ]
  },
  {
   "cell_type": "code",
   "execution_count": 6,
   "metadata": {},
   "outputs": [
    {
     "name": "stderr",
     "output_type": "stream",
     "text": [
      "Downloading artifacts: 100%|██████████| 7/7 [00:00<00:00, 237.62it/s]  \n"
     ]
    },
    {
     "data": {
      "text/html": [
       "<div>\n",
       "<style scoped>\n",
       "    .dataframe tbody tr th:only-of-type {\n",
       "        vertical-align: middle;\n",
       "    }\n",
       "\n",
       "    .dataframe tbody tr th {\n",
       "        vertical-align: top;\n",
       "    }\n",
       "\n",
       "    .dataframe thead th {\n",
       "        text-align: right;\n",
       "    }\n",
       "</style>\n",
       "<table border=\"1\" class=\"dataframe\">\n",
       "  <thead>\n",
       "    <tr style=\"text-align: right;\">\n",
       "      <th></th>\n",
       "      <th>sepal length (cm)</th>\n",
       "      <th>sepal width (cm)</th>\n",
       "      <th>petal length (cm)</th>\n",
       "      <th>petal width (cm)</th>\n",
       "      <th>actual_class</th>\n",
       "      <th>predicted_class</th>\n",
       "    </tr>\n",
       "  </thead>\n",
       "  <tbody>\n",
       "    <tr>\n",
       "      <th>0</th>\n",
       "      <td>6.1</td>\n",
       "      <td>2.8</td>\n",
       "      <td>4.7</td>\n",
       "      <td>1.2</td>\n",
       "      <td>1</td>\n",
       "      <td>1</td>\n",
       "    </tr>\n",
       "    <tr>\n",
       "      <th>1</th>\n",
       "      <td>5.7</td>\n",
       "      <td>3.8</td>\n",
       "      <td>1.7</td>\n",
       "      <td>0.3</td>\n",
       "      <td>0</td>\n",
       "      <td>0</td>\n",
       "    </tr>\n",
       "    <tr>\n",
       "      <th>2</th>\n",
       "      <td>7.7</td>\n",
       "      <td>2.6</td>\n",
       "      <td>6.9</td>\n",
       "      <td>2.3</td>\n",
       "      <td>2</td>\n",
       "      <td>2</td>\n",
       "    </tr>\n",
       "    <tr>\n",
       "      <th>3</th>\n",
       "      <td>6.0</td>\n",
       "      <td>2.9</td>\n",
       "      <td>4.5</td>\n",
       "      <td>1.5</td>\n",
       "      <td>1</td>\n",
       "      <td>1</td>\n",
       "    </tr>\n",
       "  </tbody>\n",
       "</table>\n",
       "</div>"
      ],
      "text/plain": [
       "   sepal length (cm)  sepal width (cm)  petal length (cm)  petal width (cm)  \\\n",
       "0                6.1               2.8                4.7               1.2   \n",
       "1                5.7               3.8                1.7               0.3   \n",
       "2                7.7               2.6                6.9               2.3   \n",
       "3                6.0               2.9                4.5               1.5   \n",
       "\n",
       "   actual_class  predicted_class  \n",
       "0             1                1  \n",
       "1             0                0  \n",
       "2             2                2  \n",
       "3             1                1  "
      ]
     },
     "execution_count": 6,
     "metadata": {},
     "output_type": "execute_result"
    }
   ],
   "source": [
    "# Load the model back for predictions as a generic Python Function model\n",
    "loaded_model = mlflow.pyfunc.load_model(model_info.model_uri)\n",
    "\n",
    "predictions = loaded_model.predict(X_test)\n",
    "\n",
    "iris_feature_names = datasets.load_iris().feature_names\n",
    "\n",
    "result = pd.DataFrame(X_test, columns=iris_feature_names)\n",
    "result[\"actual_class\"] = y_test\n",
    "result[\"predicted_class\"] = predictions\n",
    "\n",
    "result[:4]\n"
   ]
  },
  {
   "cell_type": "markdown",
   "metadata": {},
   "source": [
    "###View the Run in the MLflow UI\n",
    "http://localhost:8080"
   ]
  }
 ],
 "metadata": {
  "kernelspec": {
   "display_name": "base",
   "language": "python",
   "name": "python3"
  },
  "language_info": {
   "codemirror_mode": {
    "name": "ipython",
    "version": 3
   },
   "file_extension": ".py",
   "mimetype": "text/x-python",
   "name": "python",
   "nbconvert_exporter": "python",
   "pygments_lexer": "ipython3",
   "version": "3.11.5"
  }
 },
 "nbformat": 4,
 "nbformat_minor": 2
}
