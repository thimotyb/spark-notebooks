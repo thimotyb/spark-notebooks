{
  "nbformat": 4,
  "nbformat_minor": 0,
  "metadata": {
    "colab": {
      "provenance": [],
      "collapsed_sections": [
        "kkSXsFae8Cct",
        "7AYS0MlUvfrI",
        "WNaboQo22HOW",
        "2fj4XecA5nX_",
        "fUjc4g4xHE7p",
        "D6Syynf5QCxB",
        "0k8qNqs2T2a0",
        "jzlxJnZ6bNcq"
      ],
      "toc_visible": true,
      "include_colab_link": true
    },
    "kernelspec": {
      "name": "python3",
      "display_name": "Python 3"
    },
    "language_info": {
      "name": "python"
    }
  },
  "cells": [
    {
      "cell_type": "markdown",
      "metadata": {
        "id": "view-in-github",
        "colab_type": "text"
      },
      "source": [
        "<a href=\"https://colab.research.google.com/github/thimotyb/spark-notebooks/blob/main/Data_Analysis_with_PySpark.ipynb\" target=\"_parent\"><img src=\"https://colab.research.google.com/assets/colab-badge.svg\" alt=\"Open In Colab\"/></a>"
      ]
    },
    {
      "cell_type": "markdown",
      "metadata": {
        "id": "32fjpkeS-nYP"
      },
      "source": [
        "#Data Analysis with PySpark in Google Colab\n",
        "\n",
        "PySpark is Python interface for Apache Spark. The primary use cases for PySpark are to work with huge amounts of data and for creating data pipelines.\n",
        "\n",
        "You don't need to work with big data to benefit from PySpark. I find that the SparkSQL is a great tool for performing routine data anlysis. Pandas can get slow and you may find yourself writing a lot of code for data cleaning whereas the same actions take much less code in SQL. Let's get started!\n",
        "\n",
        "See more here! http://spark.apache.org/docs/latest/api/python/"
      ]
    },
    {
      "cell_type": "markdown",
      "metadata": {
        "id": "m9yXqV3LigUA"
      },
      "source": [
        "# 1. Installing PySpark in Google Colab"
      ]
    },
    {
      "cell_type": "code",
      "metadata": {
        "colab": {
          "base_uri": "https://localhost:8080/",
          "height": 1000
        },
        "id": "hxv7w_2y2bb9",
        "outputId": "8dcc5cb0-7567-482d-d4b7-dfb6f55ffeee"
      },
      "source": [
        "!sudo apt update\n",
        "!apt-get install openjdk-8-jdk-headless -qq > /dev/null\n",
        "#Check this site for the latest download link https://www.apache.org/dyn/closer.lua/spark/spark-3.2.1/spark-3.2.1-bin-hadoop3.2.tgz\n",
        "#  https://archive.apache.org/dist/spark/spark-3.2.1/spark-3.2.1-bin-hadoop3.2.tgz\n",
        "!wget https://archive.apache.org/dist/spark/spark-3.2.1/spark-3.2.1-bin-hadoop3.2.tgz\n",
        "!tar xf spark-3.2.1-bin-hadoop3.2.tgz\n",
        "!pip install -q findspark\n",
        "!pip install pyspark\n",
        "!pip install py4j\n",
        "\n",
        "import os\n",
        "import sys\n",
        "# os.environ[\"JAVA_HOME\"] = \"/usr/lib/jvm/java-8-openjdk-amd64\"\n",
        "# os.environ[\"SPARK_HOME\"] = \"/content/spark-3.2.1-bin-hadoop3.2\"\n",
        "\n",
        "\n",
        "import findspark\n",
        "findspark.init()\n",
        "findspark.find()\n",
        "\n",
        "import pyspark\n",
        "\n",
        "from pyspark.sql import DataFrame, SparkSession\n",
        "from typing import List\n",
        "import pyspark.sql.types as T\n",
        "import pyspark.sql.functions as F\n",
        "\n",
        "spark= SparkSession \\\n",
        "       .builder \\\n",
        "       .appName(\"Our First Spark Example\") \\\n",
        "       .getOrCreate()\n",
        "\n",
        "spark"
      ],
      "execution_count": 1,
      "outputs": [
        {
          "output_type": "stream",
          "name": "stdout",
          "text": [
            "\u001b[33m\r0% [Working]\u001b[0m\r            \rGet:1 http://security.ubuntu.com/ubuntu jammy-security InRelease [129 kB]\n",
            "\u001b[33m\r0% [Connecting to archive.ubuntu.com (185.125.190.83)] [1 InRelease 0 B/129 kB \u001b[0m\r                                                                               \rGet:2 https://cloud.r-project.org/bin/linux/ubuntu jammy-cran40/ InRelease [3,626 B]\n",
            "\u001b[33m\r0% [Connecting to archive.ubuntu.com (185.125.190.83)] [1 InRelease 75.0 kB/129\u001b[0m\r                                                                               \rGet:3 https://developer.download.nvidia.com/compute/cuda/repos/ubuntu2204/x86_64  InRelease [1,581 B]\n",
            "\u001b[33m\r0% [Waiting for headers] [1 InRelease 111 kB/129 kB 86%] [Waiting for headers] \u001b[0m\u001b[33m\r0% [Waiting for headers] [Waiting for headers] [Connecting to ppa.launchpadcont\u001b[0m\r                                                                               \rIgn:4 https://r2u.stat.illinois.edu/ubuntu jammy InRelease\n",
            "\u001b[33m\r0% [Waiting for headers] [Connected to ppa.launchpadcontent.net (185.125.190.80\u001b[0m\r                                                                               \rHit:5 http://archive.ubuntu.com/ubuntu jammy InRelease\n",
            "Get:6 https://r2u.stat.illinois.edu/ubuntu jammy Release [5,713 B]\n",
            "Get:7 https://r2u.stat.illinois.edu/ubuntu jammy Release.gpg [793 B]\n",
            "Get:8 http://archive.ubuntu.com/ubuntu jammy-updates InRelease [128 kB]\n",
            "Hit:9 http://archive.ubuntu.com/ubuntu jammy-backports InRelease\n",
            "Get:10 https://developer.download.nvidia.com/compute/cuda/repos/ubuntu2204/x86_64  Packages [1,031 kB]\n",
            "Get:11 https://ppa.launchpadcontent.net/deadsnakes/ppa/ubuntu jammy InRelease [18.1 kB]\n",
            "Hit:12 https://ppa.launchpadcontent.net/graphics-drivers/ppa/ubuntu jammy InRelease\n",
            "Hit:13 https://ppa.launchpadcontent.net/ubuntugis/ppa/ubuntu jammy InRelease\n",
            "Get:14 http://security.ubuntu.com/ubuntu jammy-security/restricted amd64 Packages [3,122 kB]\n",
            "Get:15 http://security.ubuntu.com/ubuntu jammy-security/main amd64 Packages [2,325 kB]\n",
            "Get:16 http://security.ubuntu.com/ubuntu jammy-security/universe amd64 Packages [1,160 kB]\n",
            "Get:17 https://r2u.stat.illinois.edu/ubuntu jammy/main amd64 Packages [2,592 kB]\n",
            "Get:18 https://r2u.stat.illinois.edu/ubuntu jammy/main all Packages [8,379 kB]\n",
            "Get:19 http://archive.ubuntu.com/ubuntu jammy-updates/main amd64 Packages [2,602 kB]\n",
            "Get:20 http://archive.ubuntu.com/ubuntu jammy-updates/universe amd64 Packages [1,448 kB]\n",
            "Get:21 http://archive.ubuntu.com/ubuntu jammy-updates/restricted amd64 Packages [3,200 kB]\n",
            "Get:22 https://ppa.launchpadcontent.net/deadsnakes/ppa/ubuntu jammy/main amd64 Packages [27.8 kB]\n",
            "Fetched 26.2 MB in 9s (2,792 kB/s)\n",
            "Reading package lists... Done\n",
            "Building dependency tree... Done\n",
            "Reading state information... Done\n",
            "49 packages can be upgraded. Run 'apt list --upgradable' to see them.\n",
            "\u001b[1;33mW: \u001b[0mSkipping acquire of configured file 'main/source/Sources' as repository 'https://r2u.stat.illinois.edu/ubuntu jammy InRelease' does not seem to provide it (sources.list entry misspelt?)\u001b[0m\n",
            "--2024-10-10 15:33:02--  https://archive.apache.org/dist/spark/spark-3.2.1/spark-3.2.1-bin-hadoop3.2.tgz\n",
            "Resolving archive.apache.org (archive.apache.org)... 65.108.204.189, 2a01:4f9:1a:a084::2\n",
            "Connecting to archive.apache.org (archive.apache.org)|65.108.204.189|:443... connected.\n",
            "HTTP request sent, awaiting response... 200 OK\n",
            "Length: 300971569 (287M) [application/x-gzip]\n",
            "Saving to: ‘spark-3.2.1-bin-hadoop3.2.tgz’\n",
            "\n",
            "spark-3.2.1-bin-had 100%[===================>] 287.03M   621KB/s    in 8m 49s  \n",
            "\n",
            "2024-10-10 15:41:52 (556 KB/s) - ‘spark-3.2.1-bin-hadoop3.2.tgz’ saved [300971569/300971569]\n",
            "\n",
            "Collecting pyspark\n",
            "  Downloading pyspark-3.5.3.tar.gz (317.3 MB)\n",
            "\u001b[2K     \u001b[90m━━━━━━━━━━━━━━━━━━━━━━━━━━━━━━━━━━━━━━━━\u001b[0m \u001b[32m317.3/317.3 MB\u001b[0m \u001b[31m4.7 MB/s\u001b[0m eta \u001b[36m0:00:00\u001b[0m\n",
            "\u001b[?25h  Preparing metadata (setup.py) ... \u001b[?25l\u001b[?25hdone\n",
            "Requirement already satisfied: py4j==0.10.9.7 in /usr/local/lib/python3.10/dist-packages (from pyspark) (0.10.9.7)\n",
            "Building wheels for collected packages: pyspark\n",
            "  Building wheel for pyspark (setup.py) ... \u001b[?25l\u001b[?25hdone\n",
            "  Created wheel for pyspark: filename=pyspark-3.5.3-py2.py3-none-any.whl size=317840625 sha256=1485302e60b3e74ba05798d5d7a6ac8aa554039d8ed2f08f87360a46c2cbc96b\n",
            "  Stored in directory: /root/.cache/pip/wheels/1b/3a/92/28b93e2fbfdbb07509ca4d6f50c5e407f48dce4ddbda69a4ab\n",
            "Successfully built pyspark\n",
            "Installing collected packages: pyspark\n",
            "Successfully installed pyspark-3.5.3\n",
            "Requirement already satisfied: py4j in /usr/local/lib/python3.10/dist-packages (0.10.9.7)\n"
          ]
        },
        {
          "output_type": "execute_result",
          "data": {
            "text/plain": [
              "<pyspark.sql.session.SparkSession at 0x7e51b827b2e0>"
            ],
            "text/html": [
              "\n",
              "            <div>\n",
              "                <p><b>SparkSession - in-memory</b></p>\n",
              "                \n",
              "        <div>\n",
              "            <p><b>SparkContext</b></p>\n",
              "\n",
              "            <p><a href=\"http://a06fa5b3793a:4040\">Spark UI</a></p>\n",
              "\n",
              "            <dl>\n",
              "              <dt>Version</dt>\n",
              "                <dd><code>v3.5.3</code></dd>\n",
              "              <dt>Master</dt>\n",
              "                <dd><code>local[*]</code></dd>\n",
              "              <dt>AppName</dt>\n",
              "                <dd><code>Our First Spark Example</code></dd>\n",
              "            </dl>\n",
              "        </div>\n",
              "        \n",
              "            </div>\n",
              "        "
            ]
          },
          "metadata": {},
          "execution_count": 1
        }
      ]
    },
    {
      "cell_type": "code",
      "metadata": {
        "colab": {
          "base_uri": "https://localhost:8080/",
          "height": 219
        },
        "id": "hcOCBgQo2Pqf",
        "outputId": "97b82dae-5fb6-4c7b-9bef-1af71f14f23c"
      },
      "source": [
        "spark"
      ],
      "execution_count": null,
      "outputs": [
        {
          "output_type": "execute_result",
          "data": {
            "text/plain": [
              "<pyspark.sql.session.SparkSession at 0x78b8841a30d0>"
            ],
            "text/html": [
              "\n",
              "            <div>\n",
              "                <p><b>SparkSession - in-memory</b></p>\n",
              "                \n",
              "        <div>\n",
              "            <p><b>SparkContext</b></p>\n",
              "\n",
              "            <p><a href=\"http://7c81f60acd8e:4040\">Spark UI</a></p>\n",
              "\n",
              "            <dl>\n",
              "              <dt>Version</dt>\n",
              "                <dd><code>v3.5.3</code></dd>\n",
              "              <dt>Master</dt>\n",
              "                <dd><code>local[*]</code></dd>\n",
              "              <dt>AppName</dt>\n",
              "                <dd><code>Our First Spark Example</code></dd>\n",
              "            </dl>\n",
              "        </div>\n",
              "        \n",
              "            </div>\n",
              "        "
            ]
          },
          "metadata": {},
          "execution_count": 2
        }
      ]
    },
    {
      "cell_type": "code",
      "source": [
        "# Get more example data\n",
        "!git clone https://github.com/thimotyb/DataAnalysisWithPythonAndPySpark-Data.git"
      ],
      "metadata": {
        "colab": {
          "base_uri": "https://localhost:8080/"
        },
        "id": "pYX_v49bIXYR",
        "outputId": "db0813d4-debe-4290-f85c-a5ba9169acd5"
      },
      "execution_count": 2,
      "outputs": [
        {
          "output_type": "stream",
          "name": "stdout",
          "text": [
            "Cloning into 'DataAnalysisWithPythonAndPySpark-Data'...\n",
            "remote: Enumerating objects: 71, done.\u001b[K\n",
            "remote: Total 71 (delta 0), reused 0 (delta 0), pack-reused 71 (from 1)\u001b[K\n",
            "Receiving objects: 100% (71/71), 828.81 MiB | 26.14 MiB/s, done.\n",
            "Updating files: 100% (59/59), done.\n"
          ]
        }
      ]
    },
    {
      "cell_type": "code",
      "source": [
        "!mv DataAnalysisWithPythonAndPySpark-Data /content/data"
      ],
      "metadata": {
        "id": "jg40eTP6IwfR"
      },
      "execution_count": 5,
      "outputs": []
    },
    {
      "cell_type": "markdown",
      "source": [
        "# PySpark Data Analysis Examples"
      ],
      "metadata": {
        "id": "GbnrZrIcJZ-f"
      }
    },
    {
      "cell_type": "markdown",
      "source": [
        "## WordCount Example"
      ],
      "metadata": {
        "id": "9Yu2tpSDJl2w"
      }
    },
    {
      "cell_type": "code",
      "source": [
        "from pyspark.sql import SparkSession\n",
        "from pyspark.sql.functions import col, split, explode, lower, regexp_extract\n",
        "\n",
        "spark = SparkSession.builder.getOrCreate()\n",
        "\n",
        "book = spark.read.text(\"data/gutenberg_books/1342-0.txt\")\n",
        "\n",
        "lines = book.select(split(book.value, \" \").alias(\"line\"))\n",
        "\n",
        "words = lines.select(explode(col(\"line\")).alias(\"word\"))\n",
        "\n",
        "words_lower = words.select(lower(col(\"word\")).alias(\"word_lower\"))\n",
        "\n",
        "words_clean = words_lower.select(\n",
        "    regexp_extract(col(\"word_lower\"), \"[a-z]*\", 0).alias(\"word\")\n",
        ")\n",
        "\n",
        "words_nonull = words_clean.where(col(\"word\") != \"\")"
      ],
      "metadata": {
        "id": "zo8SK4fQeMUQ"
      },
      "execution_count": null,
      "outputs": []
    },
    {
      "cell_type": "code",
      "source": [
        "words_nonull.show(50)"
      ],
      "metadata": {
        "colab": {
          "base_uri": "https://localhost:8080/"
        },
        "id": "vOiTP37IJr4d",
        "outputId": "31b4b615-3fb6-4ed6-a103-ae126bdca856"
      },
      "execution_count": null,
      "outputs": [
        {
          "output_type": "stream",
          "name": "stdout",
          "text": [
            "+------------+\n",
            "|        word|\n",
            "+------------+\n",
            "|         the|\n",
            "|     project|\n",
            "|   gutenberg|\n",
            "|       ebook|\n",
            "|          of|\n",
            "|       pride|\n",
            "|         and|\n",
            "|   prejudice|\n",
            "|          by|\n",
            "|        jane|\n",
            "|      austen|\n",
            "|        this|\n",
            "|       ebook|\n",
            "|          is|\n",
            "|         for|\n",
            "|         the|\n",
            "|         use|\n",
            "|          of|\n",
            "|      anyone|\n",
            "|    anywhere|\n",
            "|          at|\n",
            "|          no|\n",
            "|        cost|\n",
            "|         and|\n",
            "|        with|\n",
            "|      almost|\n",
            "|          no|\n",
            "|restrictions|\n",
            "|  whatsoever|\n",
            "|         you|\n",
            "|         may|\n",
            "|        copy|\n",
            "|          it|\n",
            "|        give|\n",
            "|          it|\n",
            "|        away|\n",
            "|          or|\n",
            "|          re|\n",
            "|          it|\n",
            "|       under|\n",
            "|         the|\n",
            "|       terms|\n",
            "|          of|\n",
            "|         the|\n",
            "|     project|\n",
            "|   gutenberg|\n",
            "|     license|\n",
            "|    included|\n",
            "|        with|\n",
            "|        this|\n",
            "+------------+\n",
            "only showing top 50 rows\n",
            "\n"
          ]
        }
      ]
    },
    {
      "cell_type": "code",
      "source": [
        "from pyspark.sql import SparkSession\n",
        "import pyspark.sql.functions as F\n",
        "\n",
        "spark = SparkSession.builder.getOrCreate()"
      ],
      "metadata": {
        "id": "adUmVrJuyUzs"
      },
      "execution_count": null,
      "outputs": []
    },
    {
      "cell_type": "code",
      "source": [
        "(\n",
        "    spark.read.csv(\"./data/list_of_numbers/sample.csv\", header=True)\n",
        "    .withColumn(\n",
        "        \"new_column\", F.when(F.col(\"old_column\") > 10, 10).otherwise(0)\n",
        "    )\n",
        "    .where(\"old_column > 8\")\n",
        "    .groupby(\"new_column\")\n",
        "    .count()\n",
        "    .write.csv(\"updated_frequencies.csv\", mode=\"overwrite\")\n",
        ")"
      ],
      "metadata": {
        "id": "NfUYt0kzJwXE"
      },
      "execution_count": null,
      "outputs": []
    },
    {
      "cell_type": "markdown",
      "source": [
        "# Using PySpark"
      ],
      "metadata": {
        "id": "BzXd7IaJh_fm"
      }
    },
    {
      "cell_type": "code",
      "source": [
        "from pyspark.sql import SparkSession\n",
        "import pyspark.sql.functions as F\n",
        "\n",
        "spark = SparkSession.builder.getOrCreate()"
      ],
      "metadata": {
        "id": "xl-mJ8PYMlrs"
      },
      "execution_count": null,
      "outputs": []
    },
    {
      "cell_type": "code",
      "source": [
        "my_grocery_list = [\n",
        "    [\"Banana\", 2, 1.74],\n",
        "    [\"Apple\", 4, 2.04],\n",
        "    [\"Carrot\", 1, 1.09],\n",
        "    [\"Cake\", 1, 10.99],\n",
        "]\n",
        "\n",
        "df_grocery_list = spark.createDataFrame(\n",
        "    my_grocery_list, [\"Item\", \"Quantity\", \"Price\"]\n",
        ")\n",
        "\n",
        "df_grocery_list.printSchema()"
      ],
      "metadata": {
        "colab": {
          "base_uri": "https://localhost:8080/"
        },
        "id": "sVdQbz_DlPvT",
        "outputId": "96de9379-7585-4ff0-c61f-45e352df9cb4"
      },
      "execution_count": null,
      "outputs": [
        {
          "output_type": "stream",
          "name": "stdout",
          "text": [
            "root\n",
            " |-- Item: string (nullable = true)\n",
            " |-- Quantity: long (nullable = true)\n",
            " |-- Price: double (nullable = true)\n",
            "\n"
          ]
        }
      ]
    },
    {
      "cell_type": "code",
      "source": [
        "df_grocery_list.select(\"Item\", \"Price\").where(\"Price > 2\").show()"
      ],
      "metadata": {
        "colab": {
          "base_uri": "https://localhost:8080/"
        },
        "id": "ge91tFVWlbYj",
        "outputId": "83c65265-f9bb-4a65-b21e-24138544c7b8"
      },
      "execution_count": null,
      "outputs": [
        {
          "output_type": "stream",
          "name": "stdout",
          "text": [
            "+-----+-----+\n",
            "| Item|Price|\n",
            "+-----+-----+\n",
            "|Apple| 2.04|\n",
            "| Cake|10.99|\n",
            "+-----+-----+\n",
            "\n"
          ]
        }
      ]
    },
    {
      "cell_type": "code",
      "source": [
        "DIRECTORY = \"data/broadcast_logs\"\n",
        "logs = (\n",
        "    spark.read.csv(\n",
        "        os.path.join(DIRECTORY, \"BroadcastLogs_2018_Q3_M8_sample.CSV\"),\n",
        "        sep=\"|\",\n",
        "        header=True,\n",
        "        inferSchema=True,\n",
        "        timestampFormat=\"yyyy-MM-dd\",\n",
        "    ))"
      ],
      "metadata": {
        "id": "Y4p-MUL_zmp1"
      },
      "execution_count": null,
      "outputs": []
    },
    {
      "cell_type": "code",
      "source": [
        "logs.select(\"BroadcastLogID\", \"LogServiceID\", \"LogDate\").show(5, False)"
      ],
      "metadata": {
        "id": "HyKUBvyDzqEy",
        "outputId": "f599ef77-215c-41e2-f2cc-6f1e7496799d",
        "colab": {
          "base_uri": "https://localhost:8080/"
        }
      },
      "execution_count": null,
      "outputs": [
        {
          "output_type": "stream",
          "name": "stdout",
          "text": [
            "+--------------+------------+----------+\n",
            "|BroadcastLogID|LogServiceID|LogDate   |\n",
            "+--------------+------------+----------+\n",
            "|1196192316    |3157        |2018-08-01|\n",
            "|1196192317    |3157        |2018-08-01|\n",
            "|1196192318    |3157        |2018-08-01|\n",
            "|1196192319    |3157        |2018-08-01|\n",
            "|1196192320    |3157        |2018-08-01|\n",
            "+--------------+------------+----------+\n",
            "only showing top 5 rows\n",
            "\n"
          ]
        }
      ]
    },
    {
      "cell_type": "code",
      "source": [
        "# Using the string to column conversion\n",
        "logs.select(\"BroadCastLogID\", \"LogServiceID\", \"LogDate\")\n",
        "logs.select(*[\"BroadCastLogID\", \"LogServiceID\", \"LogDate\"])\n",
        "\n",
        "# Passing the column object explicitly\n",
        "logs.select(\n",
        "    F.col(\"BroadCastLogID\"), F.col(\"LogServiceID\"), F.col(\"LogDate\")\n",
        ")\n",
        "logs.select(\n",
        "    *[F.col(\"BroadCastLogID\"), F.col(\"LogServiceID\"), F.col(\"LogDate\")]\n",
        ")"
      ],
      "metadata": {
        "id": "GcLHRBl2z4Rj",
        "outputId": "6aae6021-65c3-47fd-c171-4246fd2bc4ee",
        "colab": {
          "base_uri": "https://localhost:8080/"
        }
      },
      "execution_count": null,
      "outputs": [
        {
          "output_type": "execute_result",
          "data": {
            "text/plain": [
              "DataFrame[BroadCastLogID: int, LogServiceID: int, LogDate: date]"
            ]
          },
          "metadata": {},
          "execution_count": 23
        }
      ]
    },
    {
      "cell_type": "code",
      "source": [
        "import numpy as np\n",
        "\n",
        "column_split = np.array_split(\n",
        "    np.array(logs.columns), len(logs.columns) // 3\n",
        ")"
      ],
      "metadata": {
        "id": "sLu6nalx1HGy"
      },
      "execution_count": null,
      "outputs": []
    },
    {
      "cell_type": "code",
      "source": [
        "column_split"
      ],
      "metadata": {
        "id": "mOHLh-vs1Kkc",
        "outputId": "a5e2a5cb-5be3-43f9-8dd2-e9bfd229d754",
        "colab": {
          "base_uri": "https://localhost:8080/"
        }
      },
      "execution_count": null,
      "outputs": [
        {
          "output_type": "execute_result",
          "data": {
            "text/plain": [
              "[array(['BroadcastLogID', 'LogServiceID', 'LogDate'], dtype='<U22'),\n",
              " array(['SequenceNO', 'AudienceTargetAgeID', 'AudienceTargetEthnicID'],\n",
              "       dtype='<U22'),\n",
              " array(['CategoryID', 'ClosedCaptionID', 'CountryOfOriginID'], dtype='<U22'),\n",
              " array(['DubDramaCreditID', 'EthnicProgramID', 'ProductionSourceID'],\n",
              "       dtype='<U22'),\n",
              " array(['ProgramClassID', 'FilmClassificationID', 'ExhibitionID'],\n",
              "       dtype='<U22'),\n",
              " array(['Duration', 'EndTime', 'LogEntryDate'], dtype='<U22'),\n",
              " array(['ProductionNO', 'ProgramTitle', 'StartTime'], dtype='<U22'),\n",
              " array(['Subtitle', 'NetworkAffiliationID', 'SpecialAttentionID'],\n",
              "       dtype='<U22'),\n",
              " array(['BroadcastOriginPointID', 'CompositionID', 'Producer1'],\n",
              "       dtype='<U22'),\n",
              " array(['Producer2', 'Language1', 'Language2'], dtype='<U22')]"
            ]
          },
          "metadata": {},
          "execution_count": 25
        }
      ]
    },
    {
      "cell_type": "code",
      "source": [
        "for x in column_split:\n",
        "    logs.select(*x).show(5, False)"
      ],
      "metadata": {
        "id": "HhtKh_tt1NG8",
        "outputId": "cd64319a-e54f-4720-86c9-a2932d3fe838",
        "colab": {
          "base_uri": "https://localhost:8080/"
        }
      },
      "execution_count": null,
      "outputs": [
        {
          "output_type": "stream",
          "name": "stdout",
          "text": [
            "+--------------+------------+----------+\n",
            "|BroadcastLogID|LogServiceID|LogDate   |\n",
            "+--------------+------------+----------+\n",
            "|1196192316    |3157        |2018-08-01|\n",
            "|1196192317    |3157        |2018-08-01|\n",
            "|1196192318    |3157        |2018-08-01|\n",
            "|1196192319    |3157        |2018-08-01|\n",
            "|1196192320    |3157        |2018-08-01|\n",
            "+--------------+------------+----------+\n",
            "only showing top 5 rows\n",
            "\n",
            "+----------+-------------------+----------------------+\n",
            "|SequenceNO|AudienceTargetAgeID|AudienceTargetEthnicID|\n",
            "+----------+-------------------+----------------------+\n",
            "|1         |4                  |NULL                  |\n",
            "|2         |NULL               |NULL                  |\n",
            "|3         |NULL               |NULL                  |\n",
            "|4         |NULL               |NULL                  |\n",
            "|5         |NULL               |NULL                  |\n",
            "+----------+-------------------+----------------------+\n",
            "only showing top 5 rows\n",
            "\n",
            "+----------+---------------+-----------------+\n",
            "|CategoryID|ClosedCaptionID|CountryOfOriginID|\n",
            "+----------+---------------+-----------------+\n",
            "|13        |3              |3                |\n",
            "|NULL      |1              |NULL             |\n",
            "|NULL      |1              |NULL             |\n",
            "|NULL      |1              |NULL             |\n",
            "|NULL      |1              |NULL             |\n",
            "+----------+---------------+-----------------+\n",
            "only showing top 5 rows\n",
            "\n",
            "+----------------+---------------+------------------+\n",
            "|DubDramaCreditID|EthnicProgramID|ProductionSourceID|\n",
            "+----------------+---------------+------------------+\n",
            "|NULL            |NULL           |10                |\n",
            "|NULL            |NULL           |NULL              |\n",
            "|NULL            |NULL           |NULL              |\n",
            "|NULL            |NULL           |NULL              |\n",
            "|NULL            |NULL           |NULL              |\n",
            "+----------------+---------------+------------------+\n",
            "only showing top 5 rows\n",
            "\n",
            "+--------------+--------------------+------------+\n",
            "|ProgramClassID|FilmClassificationID|ExhibitionID|\n",
            "+--------------+--------------------+------------+\n",
            "|19            |NULL                |2           |\n",
            "|20            |NULL                |NULL        |\n",
            "|3             |NULL                |NULL        |\n",
            "|3             |NULL                |NULL        |\n",
            "|3             |NULL                |NULL        |\n",
            "+--------------+--------------------+------------+\n",
            "only showing top 5 rows\n",
            "\n",
            "+----------------+----------------+------------+\n",
            "|Duration        |EndTime         |LogEntryDate|\n",
            "+----------------+----------------+------------+\n",
            "|02:00:00.0000000|08:00:00.0000000|2018-08-01  |\n",
            "|00:00:30.0000000|06:13:45.0000000|2018-08-01  |\n",
            "|00:00:15.0000000|06:14:00.0000000|2018-08-01  |\n",
            "|00:00:15.0000000|06:14:15.0000000|2018-08-01  |\n",
            "|00:00:15.0000000|06:14:30.0000000|2018-08-01  |\n",
            "+----------------+----------------+------------+\n",
            "only showing top 5 rows\n",
            "\n",
            "+------------+-------------------------------------------+----------------+\n",
            "|ProductionNO|ProgramTitle                               |StartTime       |\n",
            "+------------+-------------------------------------------+----------------+\n",
            "|A39082      |Newlywed and Dead                          |06:00:00.0000000|\n",
            "|NULL        |15-SPECIALTY CHANNELS-Canadian Generic     |06:13:15.0000000|\n",
            "|NULL        |3-PROCTER & GAMBLE INC-Anti-Perspirant 3rd |06:13:45.0000000|\n",
            "|NULL        |12-CREDIT KARMA-Bank/Credit Union/Trust 3rd|06:14:00.0000000|\n",
            "|NULL        |3-L'OREAL CANADA-Hair Products 3rd         |06:14:15.0000000|\n",
            "+------------+-------------------------------------------+----------------+\n",
            "only showing top 5 rows\n",
            "\n",
            "+--------+--------------------+------------------+\n",
            "|Subtitle|NetworkAffiliationID|SpecialAttentionID|\n",
            "+--------+--------------------+------------------+\n",
            "|NULL    |NULL                |NULL              |\n",
            "|NULL    |NULL                |NULL              |\n",
            "|NULL    |NULL                |NULL              |\n",
            "|NULL    |NULL                |NULL              |\n",
            "|NULL    |NULL                |NULL              |\n",
            "+--------+--------------------+------------------+\n",
            "only showing top 5 rows\n",
            "\n",
            "+----------------------+-------------+---------+\n",
            "|BroadcastOriginPointID|CompositionID|Producer1|\n",
            "+----------------------+-------------+---------+\n",
            "|NULL                  |NULL         |NULL     |\n",
            "|NULL                  |NULL         |NULL     |\n",
            "|NULL                  |NULL         |NULL     |\n",
            "|NULL                  |NULL         |NULL     |\n",
            "|NULL                  |NULL         |NULL     |\n",
            "+----------------------+-------------+---------+\n",
            "only showing top 5 rows\n",
            "\n",
            "+---------+---------+---------+\n",
            "|Producer2|Language1|Language2|\n",
            "+---------+---------+---------+\n",
            "|NULL     |94       |NULL     |\n",
            "|NULL     |NULL     |NULL     |\n",
            "|NULL     |NULL     |NULL     |\n",
            "|NULL     |NULL     |NULL     |\n",
            "|NULL     |NULL     |NULL     |\n",
            "+---------+---------+---------+\n",
            "only showing top 5 rows\n",
            "\n"
          ]
        }
      ]
    },
    {
      "cell_type": "code",
      "source": [
        "DIRECTORY = \"data/broadcast_logs\"\n",
        "logs = (\n",
        "    spark.read.csv(\n",
        "        os.path.join(DIRECTORY, \"BroadcastLogs_2018_Q3_M8_sample.CSV\"),\n",
        "        sep=\"|\",\n",
        "        header=True,\n",
        "        inferSchema=True,\n",
        "        timestampFormat=\"yyyy-MM-dd\",\n",
        "    )\n",
        "    .drop(\"BroadcastLogID\", \"SequenceNO\")\n",
        "    .withColumn(\n",
        "        \"duration_seconds\",\n",
        "        (\n",
        "            F.col(\"Duration\").substr(1, 2).cast(\"int\") * 60 * 60\n",
        "            + F.col(\"Duration\").substr(4, 2).cast(\"int\") * 60\n",
        "            + F.col(\"Duration\").substr(7, 2).cast(\"int\")\n",
        "        ),\n",
        "    )\n",
        ")"
      ],
      "metadata": {
        "id": "lKOlEtJrwnLN"
      },
      "execution_count": 57,
      "outputs": []
    },
    {
      "cell_type": "code",
      "source": [
        "logs.printSchema()"
      ],
      "metadata": {
        "colab": {
          "base_uri": "https://localhost:8080/"
        },
        "id": "gQ5n876QxJjX",
        "outputId": "1f49974a-0623-40ce-f63e-7ca7dc67dcbf"
      },
      "execution_count": 53,
      "outputs": [
        {
          "output_type": "stream",
          "name": "stdout",
          "text": [
            "root\n",
            " |-- LogServiceID: integer (nullable = true)\n",
            " |-- LogDate: date (nullable = true)\n",
            " |-- AudienceTargetAgeID: integer (nullable = true)\n",
            " |-- AudienceTargetEthnicID: integer (nullable = true)\n",
            " |-- CategoryID: integer (nullable = true)\n",
            " |-- ClosedCaptionID: integer (nullable = true)\n",
            " |-- CountryOfOriginID: integer (nullable = true)\n",
            " |-- DubDramaCreditID: integer (nullable = true)\n",
            " |-- EthnicProgramID: integer (nullable = true)\n",
            " |-- ProductionSourceID: integer (nullable = true)\n",
            " |-- ProgramClassID: integer (nullable = true)\n",
            " |-- FilmClassificationID: integer (nullable = true)\n",
            " |-- ExhibitionID: integer (nullable = true)\n",
            " |-- Duration: string (nullable = true)\n",
            " |-- EndTime: string (nullable = true)\n",
            " |-- LogEntryDate: date (nullable = true)\n",
            " |-- ProductionNO: string (nullable = true)\n",
            " |-- ProgramTitle: string (nullable = true)\n",
            " |-- StartTime: string (nullable = true)\n",
            " |-- Subtitle: string (nullable = true)\n",
            " |-- NetworkAffiliationID: integer (nullable = true)\n",
            " |-- SpecialAttentionID: integer (nullable = true)\n",
            " |-- BroadcastOriginPointID: integer (nullable = true)\n",
            " |-- CompositionID: integer (nullable = true)\n",
            " |-- Producer1: string (nullable = true)\n",
            " |-- Producer2: string (nullable = true)\n",
            " |-- Language1: integer (nullable = true)\n",
            " |-- Language2: integer (nullable = true)\n",
            " |-- duration_seconds: integer (nullable = true)\n",
            "\n"
          ]
        }
      ]
    },
    {
      "cell_type": "code",
      "source": [
        "logs.select(F.col(\"Duration\")).show(5)"
      ],
      "metadata": {
        "id": "TTuZ520j2HvZ",
        "outputId": "f46fb8bc-f523-4111-b4da-274aefce37a1",
        "colab": {
          "base_uri": "https://localhost:8080/"
        }
      },
      "execution_count": 26,
      "outputs": [
        {
          "output_type": "stream",
          "name": "stdout",
          "text": [
            "+----------------+\n",
            "|        Duration|\n",
            "+----------------+\n",
            "|02:00:00.0000000|\n",
            "|00:00:30.0000000|\n",
            "|00:00:15.0000000|\n",
            "|00:00:15.0000000|\n",
            "|00:00:15.0000000|\n",
            "+----------------+\n",
            "only showing top 5 rows\n",
            "\n"
          ]
        }
      ]
    },
    {
      "cell_type": "code",
      "source": [
        "logs.select(F.col(\"duration_seconds\")).show(5)"
      ],
      "metadata": {
        "colab": {
          "base_uri": "https://localhost:8080/"
        },
        "id": "AqNVnlyESfog",
        "outputId": "e4ef21a6-c063-4886-a929-d90728e79dd2"
      },
      "execution_count": 54,
      "outputs": [
        {
          "output_type": "stream",
          "name": "stdout",
          "text": [
            "+----------------+\n",
            "|duration_seconds|\n",
            "+----------------+\n",
            "|            7200|\n",
            "|              30|\n",
            "|              15|\n",
            "|              15|\n",
            "|              15|\n",
            "+----------------+\n",
            "only showing top 5 rows\n",
            "\n"
          ]
        }
      ]
    },
    {
      "cell_type": "code",
      "source": [
        "print(logs.select(F.col(\"Duration\")).dtypes)"
      ],
      "metadata": {
        "id": "ATzzgUR12LIq",
        "outputId": "8be8638c-7093-49d4-ce8e-6f0472432a49",
        "colab": {
          "base_uri": "https://localhost:8080/"
        }
      },
      "execution_count": null,
      "outputs": [
        {
          "output_type": "stream",
          "name": "stdout",
          "text": [
            "[('Duration', 'string')]\n"
          ]
        }
      ]
    },
    {
      "cell_type": "code",
      "source": [
        "logs.select(\n",
        "    F.col(\"Duration\"),\n",
        "    F.col(\"Duration\").substr(1, 2).cast(\"int\").alias(\"dur_hours\"),\n",
        "    F.col(\"Duration\").substr(4, 2).cast(\"int\").alias(\"dur_minutes\"),\n",
        "    F.col(\"Duration\").substr(7, 2).cast(\"int\").alias(\"dur_seconds\"),\n",
        ").distinct().show(\n",
        "    5\n",
        ")"
      ],
      "metadata": {
        "id": "Ib-ZtjW12Twz",
        "outputId": "1f7a01d3-9205-4f8d-aeb1-317b86ced39e",
        "colab": {
          "base_uri": "https://localhost:8080/"
        }
      },
      "execution_count": 49,
      "outputs": [
        {
          "output_type": "stream",
          "name": "stdout",
          "text": [
            "+----------------+---------+-----------+-----------+\n",
            "|        Duration|dur_hours|dur_minutes|dur_seconds|\n",
            "+----------------+---------+-----------+-----------+\n",
            "|00:04:52.0000000|        0|          4|         52|\n",
            "|00:10:06.0000000|        0|         10|          6|\n",
            "|00:26:41.0000000|        0|         26|         41|\n",
            "|00:05:29.0000000|        0|          5|         29|\n",
            "|00:08:18.0000000|        0|          8|         18|\n",
            "+----------------+---------+-----------+-----------+\n",
            "only showing top 5 rows\n",
            "\n"
          ]
        }
      ]
    },
    {
      "cell_type": "code",
      "source": [
        "logs.select(\n",
        "    F.col(\"Duration\"),\n",
        "    (\n",
        "        F.col(\"Duration\").substr(1, 2).cast(\"int\") * 60 * 60\n",
        "        + F.col(\"Duration\").substr(4, 2).cast(\"int\") * 60\n",
        "        + F.col(\"Duration\").substr(7, 2).cast(\"int\")\n",
        "    ).alias(\"Duration_seconds\"),\n",
        ").distinct().show(5)"
      ],
      "metadata": {
        "id": "mvBRip222Z0r",
        "outputId": "0e600b1d-30e1-4eaf-d042-4aac5e2bdb40",
        "colab": {
          "base_uri": "https://localhost:8080/"
        }
      },
      "execution_count": 50,
      "outputs": [
        {
          "output_type": "stream",
          "name": "stdout",
          "text": [
            "+----------------+----------------+\n",
            "|        Duration|Duration_seconds|\n",
            "+----------------+----------------+\n",
            "|01:59:30.0000000|            7170|\n",
            "|00:31:00.0000000|            1860|\n",
            "|00:28:08.0000000|            1688|\n",
            "|00:10:30.0000000|             630|\n",
            "|00:32:00.0000000|            1920|\n",
            "+----------------+----------------+\n",
            "only showing top 5 rows\n",
            "\n"
          ]
        }
      ]
    },
    {
      "cell_type": "code",
      "source": [
        "#for i in logs.columns:\n",
        "#    logs.describe(i).show()\n",
        "\n",
        "for i in logs.columns:\n",
        "    logs.select(i).summary().show()"
      ],
      "metadata": {
        "id": "MdLxoQ4L2dYR",
        "outputId": "1b3a9684-797a-4ed2-ab1c-7079dbebb591",
        "colab": {
          "base_uri": "https://localhost:8080/"
        }
      },
      "execution_count": null,
      "outputs": [
        {
          "output_type": "stream",
          "name": "stdout",
          "text": [
            "+-------+--------------------+\n",
            "|summary|      BroadcastLogID|\n",
            "+-------+--------------------+\n",
            "|  count|              238945|\n",
            "|   mean|1.2168651122760174E9|\n",
            "| stddev| 1.496913424143109E7|\n",
            "|    min|          1195788151|\n",
            "|    25%|          1204679733|\n",
            "|    50%|          1213242718|\n",
            "|    75%|          1226220079|\n",
            "|    max|          1249431576|\n",
            "+-------+--------------------+\n",
            "\n",
            "+-------+------------------+\n",
            "|summary|      LogServiceID|\n",
            "+-------+------------------+\n",
            "|  count|            238945|\n",
            "|   mean| 3450.890284375065|\n",
            "| stddev|199.50673962555592|\n",
            "|    min|              3157|\n",
            "|    25%|              3287|\n",
            "|    50%|              3379|\n",
            "|    75%|              3627|\n",
            "|    max|              3925|\n",
            "+-------+------------------+\n",
            "\n",
            "+-------+\n",
            "|summary|\n",
            "+-------+\n",
            "|  count|\n",
            "|   mean|\n",
            "| stddev|\n",
            "|    min|\n",
            "|    25%|\n",
            "|    50%|\n",
            "|    75%|\n",
            "|    max|\n",
            "+-------+\n",
            "\n",
            "+-------+-----------------+\n",
            "|summary|       SequenceNO|\n",
            "+-------+-----------------+\n",
            "|  count|           238945|\n",
            "|   mean|466.3855824562138|\n",
            "| stddev|311.5109104839782|\n",
            "|    min|                1|\n",
            "|    25%|              201|\n",
            "|    50%|              428|\n",
            "|    75%|              699|\n",
            "|    max|             1463|\n",
            "+-------+-----------------+\n",
            "\n",
            "+-------+-------------------+\n",
            "|summary|AudienceTargetAgeID|\n",
            "+-------+-------------------+\n",
            "|  count|              16112|\n",
            "|   mean| 3.4929245283018866|\n",
            "| stddev| 1.0415963394745125|\n",
            "|    min|                  1|\n",
            "|    25%|                  4|\n",
            "|    50%|                  4|\n",
            "|    75%|                  4|\n",
            "|    max|                  4|\n",
            "+-------+-------------------+\n",
            "\n",
            "+-------+----------------------+\n",
            "|summary|AudienceTargetEthnicID|\n",
            "+-------+----------------------+\n",
            "|  count|                  1710|\n",
            "|   mean|    120.56432748538012|\n",
            "| stddev|     71.98694059436133|\n",
            "|    min|                     4|\n",
            "|    25%|                    74|\n",
            "|    50%|                    95|\n",
            "|    75%|                   136|\n",
            "|    max|                   337|\n",
            "+-------+----------------------+\n",
            "\n",
            "+-------+------------------+\n",
            "|summary|        CategoryID|\n",
            "+-------+------------------+\n",
            "|  count|             25506|\n",
            "|   mean|18.485297577040697|\n",
            "| stddev| 9.655852252020834|\n",
            "|    min|                 1|\n",
            "|    25%|                11|\n",
            "|    50%|                24|\n",
            "|    75%|                26|\n",
            "|    max|                29|\n",
            "+-------+------------------+\n",
            "\n",
            "+-------+-------------------+\n",
            "|summary|    ClosedCaptionID|\n",
            "+-------+-------------------+\n",
            "|  count|             224117|\n",
            "|   mean| 1.0316174141185184|\n",
            "| stddev|0.24947032900378974|\n",
            "|    min|                  1|\n",
            "|    25%|                  1|\n",
            "|    50%|                  1|\n",
            "|    75%|                  1|\n",
            "|    max|                  3|\n",
            "+-------+-------------------+\n",
            "\n",
            "+-------+------------------+\n",
            "|summary| CountryOfOriginID|\n",
            "+-------+------------------+\n",
            "|  count|             17822|\n",
            "|   mean|  4.06390977443609|\n",
            "| stddev|2.6159675821007298|\n",
            "|    min|                 2|\n",
            "|    25%|                 2|\n",
            "|    50%|                 3|\n",
            "|    75%|                 5|\n",
            "|    max|                11|\n",
            "+-------+------------------+\n",
            "\n",
            "+-------+------------------+\n",
            "|summary|  DubDramaCreditID|\n",
            "+-------+------------------+\n",
            "|  count|               263|\n",
            "|   mean|5.1254752851711025|\n",
            "| stddev| 3.451329711438564|\n",
            "|    min|                 1|\n",
            "|    25%|                 2|\n",
            "|    50%|                 4|\n",
            "|    75%|                10|\n",
            "|    max|                10|\n",
            "+-------+------------------+\n",
            "\n",
            "+-------+------------------+\n",
            "|summary|   EthnicProgramID|\n",
            "+-------+------------------+\n",
            "|  count|              1895|\n",
            "|   mean| 4.316622691292876|\n",
            "| stddev|2.2966421456800274|\n",
            "|    min|                 1|\n",
            "|    25%|                 1|\n",
            "|    50%|                 6|\n",
            "|    75%|                 6|\n",
            "|    max|                 6|\n",
            "+-------+------------------+\n",
            "\n",
            "+-------+------------------+\n",
            "|summary|ProductionSourceID|\n",
            "+-------+------------------+\n",
            "|  count|             16223|\n",
            "|   mean|11.193737286568453|\n",
            "| stddev| 6.079022239331335|\n",
            "|    min|                 1|\n",
            "|    25%|                 7|\n",
            "|    50%|                12|\n",
            "|    75%|                16|\n",
            "|    max|                19|\n",
            "+-------+------------------+\n",
            "\n",
            "+-------+-----------------+\n",
            "|summary|   ProgramClassID|\n",
            "+-------+-----------------+\n",
            "|  count|           238945|\n",
            "|   mean| 8.49341061750612|\n",
            "| stddev|7.902116846905711|\n",
            "|    min|                3|\n",
            "|    25%|                3|\n",
            "|    50%|                3|\n",
            "|    75%|               19|\n",
            "|    max|               30|\n",
            "+-------+-----------------+\n",
            "\n",
            "+-------+--------------------+\n",
            "|summary|FilmClassificationID|\n",
            "+-------+--------------------+\n",
            "|  count|                1885|\n",
            "|   mean|   1.953315649867374|\n",
            "| stddev|  1.6420515263133848|\n",
            "|    min|                   1|\n",
            "|    25%|                   1|\n",
            "|    50%|                   1|\n",
            "|    75%|                   2|\n",
            "|    max|                   8|\n",
            "+-------+--------------------+\n",
            "\n",
            "+-------+------------------+\n",
            "|summary|      ExhibitionID|\n",
            "+-------+------------------+\n",
            "|  count|              9263|\n",
            "|   mean|  4.52067364784627|\n",
            "| stddev|1.4418772626833427|\n",
            "|    min|                 1|\n",
            "|    25%|                 4|\n",
            "|    50%|                 5|\n",
            "|    75%|                 5|\n",
            "|    max|                 8|\n",
            "+-------+------------------+\n",
            "\n",
            "+-------+----------------+\n",
            "|summary|        Duration|\n",
            "+-------+----------------+\n",
            "|  count|          236724|\n",
            "|   mean|            NULL|\n",
            "| stddev|            NULL|\n",
            "|    min|00:00:01.0000000|\n",
            "|    25%|            NULL|\n",
            "|    50%|            NULL|\n",
            "|    75%|            NULL|\n",
            "|    max|06:30:09.0000000|\n",
            "+-------+----------------+\n",
            "\n",
            "+-------+----------------+\n",
            "|summary|         EndTime|\n",
            "+-------+----------------+\n",
            "|  count|          169979|\n",
            "|   mean|            NULL|\n",
            "| stddev|            NULL|\n",
            "|    min|00:00:00.0000000|\n",
            "|    25%|            NULL|\n",
            "|    50%|            NULL|\n",
            "|    75%|            NULL|\n",
            "|    max|23:59:59.0000000|\n",
            "+-------+----------------+\n",
            "\n",
            "+-------+\n",
            "|summary|\n",
            "+-------+\n",
            "|  count|\n",
            "|   mean|\n",
            "| stddev|\n",
            "|    min|\n",
            "|    25%|\n",
            "|    50%|\n",
            "|    75%|\n",
            "|    max|\n",
            "+-------+\n",
            "\n",
            "+-------+------------------+\n",
            "|summary|      ProductionNO|\n",
            "+-------+------------------+\n",
            "|  count|              3519|\n",
            "|   mean| 35710.61538461538|\n",
            "| stddev|3749.1340008607663|\n",
            "|    min|            030641|\n",
            "|    25%|           32974.0|\n",
            "|    50%|           37775.0|\n",
            "|    75%|           37775.0|\n",
            "|    max|            c34183|\n",
            "+-------+------------------+\n",
            "\n",
            "+-------+------------------+\n",
            "|summary|      ProgramTitle|\n",
            "+-------+------------------+\n",
            "|  count|            238703|\n",
            "|   mean|            1999.0|\n",
            "| stddev|              NULL|\n",
            "|    min|  !NO 5PM A ID(:5)|\n",
            "|    25%|            1999.0|\n",
            "|    50%|            1999.0|\n",
            "|    75%|            1999.0|\n",
            "|    max|�t� avec Jo�l 2/Un|\n",
            "+-------+------------------+\n",
            "\n",
            "+-------+----------------+\n",
            "|summary|       StartTime|\n",
            "+-------+----------------+\n",
            "|  count|          238945|\n",
            "|   mean|            NULL|\n",
            "| stddev|            NULL|\n",
            "|    min|00:00:00.0000000|\n",
            "|    25%|            NULL|\n",
            "|    50%|            NULL|\n",
            "|    75%|            NULL|\n",
            "|    max|23:59:59.0000000|\n",
            "+-------+----------------+\n",
            "\n",
            "+-------+--------------------+\n",
            "|summary|            Subtitle|\n",
            "+-------+--------------------+\n",
            "|  count|               15468|\n",
            "|   mean|   3463.573913043478|\n",
            "| stddev|  16251.272419144227|\n",
            "|    min|                #001|\n",
            "|    25%|                17.0|\n",
            "|    50%|               106.0|\n",
            "|    75%|              2014.0|\n",
            "|    max|�tre dans le trou...|\n",
            "+-------+--------------------+\n",
            "\n",
            "+-------+--------------------+\n",
            "|summary|NetworkAffiliationID|\n",
            "+-------+--------------------+\n",
            "|  count|              108807|\n",
            "|   mean|   6.082200593711802|\n",
            "| stddev|  2.9908486752285115|\n",
            "|    min|                   1|\n",
            "|    25%|                   5|\n",
            "|    50%|                   6|\n",
            "|    75%|                   9|\n",
            "|    max|                   9|\n",
            "+-------+--------------------+\n",
            "\n",
            "+-------+------------------+\n",
            "|summary|SpecialAttentionID|\n",
            "+-------+------------------+\n",
            "|  count|              2395|\n",
            "|   mean| 1.704384133611691|\n",
            "| stddev|0.5394635034869686|\n",
            "|    min|                 1|\n",
            "|    25%|                 1|\n",
            "|    50%|                 2|\n",
            "|    75%|                 2|\n",
            "|    max|                 3|\n",
            "+-------+------------------+\n",
            "\n",
            "+-------+----------------------+\n",
            "|summary|BroadcastOriginPointID|\n",
            "+-------+----------------------+\n",
            "|  count|                  9978|\n",
            "|   mean|    2.1390058127881337|\n",
            "| stddev|    0.9323192037553304|\n",
            "|    min|                     1|\n",
            "|    25%|                     1|\n",
            "|    50%|                     3|\n",
            "|    75%|                     3|\n",
            "|    max|                     3|\n",
            "+-------+----------------------+\n",
            "\n",
            "+-------+------------------+\n",
            "|summary|     CompositionID|\n",
            "+-------+------------------+\n",
            "|  count|              9978|\n",
            "|   mean|3.4141110442974543|\n",
            "| stddev|0.9338603403654618|\n",
            "|    min|                 1|\n",
            "|    25%|                 3|\n",
            "|    50%|                 4|\n",
            "|    75%|                 4|\n",
            "|    max|                 4|\n",
            "+-------+------------------+\n",
            "\n",
            "+-------+---------+\n",
            "|summary|Producer1|\n",
            "+-------+---------+\n",
            "|  count|     2607|\n",
            "|   mean|     NULL|\n",
            "| stddev|     NULL|\n",
            "|    min|      AMI|\n",
            "|    25%|     NULL|\n",
            "|    50%|     NULL|\n",
            "|    75%|     NULL|\n",
            "|    max|   VISION|\n",
            "+-------+---------+\n",
            "\n",
            "+-------+---------+\n",
            "|summary|Producer2|\n",
            "+-------+---------+\n",
            "|  count|       38|\n",
            "|   mean|     NULL|\n",
            "| stddev|     NULL|\n",
            "|    min|    NEWSW|\n",
            "|    25%|     NULL|\n",
            "|    50%|     NULL|\n",
            "|    75%|     NULL|\n",
            "|    max|       QC|\n",
            "+-------+---------+\n",
            "\n",
            "+-------+------------------+\n",
            "|summary|         Language1|\n",
            "+-------+------------------+\n",
            "|  count|             12586|\n",
            "|   mean|101.75377403464167|\n",
            "| stddev| 45.68403685468214|\n",
            "|    min|                94|\n",
            "|    25%|                94|\n",
            "|    50%|                94|\n",
            "|    75%|                94|\n",
            "|    max|               437|\n",
            "+-------+------------------+\n",
            "\n",
            "+-------+------------------+\n",
            "|summary|         Language2|\n",
            "+-------+------------------+\n",
            "|  count|              2629|\n",
            "|   mean|175.49334347660707|\n",
            "| stddev| 86.03603792883942|\n",
            "|    min|                 3|\n",
            "|    25%|               134|\n",
            "|    50%|               151|\n",
            "|    75%|               259|\n",
            "|    max|               438|\n",
            "+-------+------------------+\n",
            "\n"
          ]
        }
      ]
    },
    {
      "cell_type": "code",
      "source": [
        "DIRECTORY = \"data/broadcast_logs\"\n",
        "log_identifier = spark.read.csv(\n",
        "    os.path.join(DIRECTORY, \"ReferenceTables/LogIdentifier.csv\"),\n",
        "    sep=\"|\",\n",
        "    header=True,\n",
        "    inferSchema=True,\n",
        ")\n",
        "\n",
        "log_identifier.printSchema()"
      ],
      "metadata": {
        "colab": {
          "base_uri": "https://localhost:8080/"
        },
        "id": "2yrBKoSkI3-O",
        "outputId": "95012edb-7e12-4155-cc17-e3cc87e8013a"
      },
      "execution_count": 28,
      "outputs": [
        {
          "output_type": "stream",
          "name": "stdout",
          "text": [
            "root\n",
            " |-- LogIdentifierID: string (nullable = true)\n",
            " |-- LogServiceID: integer (nullable = true)\n",
            " |-- PrimaryFG: integer (nullable = true)\n",
            "\n"
          ]
        }
      ]
    },
    {
      "cell_type": "code",
      "source": [
        "log_identifier.show(5)"
      ],
      "metadata": {
        "colab": {
          "base_uri": "https://localhost:8080/"
        },
        "id": "ASd0QkkbI-F9",
        "outputId": "c3ce4749-e5ad-46f3-9d17-ddfac2ae9933"
      },
      "execution_count": 29,
      "outputs": [
        {
          "output_type": "stream",
          "name": "stdout",
          "text": [
            "+---------------+------------+---------+\n",
            "|LogIdentifierID|LogServiceID|PrimaryFG|\n",
            "+---------------+------------+---------+\n",
            "|           13ST|        3157|        1|\n",
            "|         2000SM|        3466|        1|\n",
            "|           70SM|        3883|        1|\n",
            "|           80SM|        3590|        1|\n",
            "|           90SM|        3470|        1|\n",
            "+---------------+------------+---------+\n",
            "only showing top 5 rows\n",
            "\n"
          ]
        }
      ]
    },
    {
      "cell_type": "code",
      "source": [
        "logs_and_channels_verbose = logs.join(\n",
        "    log_identifier, logs[\"LogServiceID\"] == log_identifier[\"LogServiceID\"]\n",
        ")\n",
        "\n",
        "logs_and_channels_verbose.printSchema()"
      ],
      "metadata": {
        "id": "hopAn65P2dG6",
        "colab": {
          "base_uri": "https://localhost:8080/"
        },
        "outputId": "ac390931-9f53-4b41-f6e1-4cf2fee595a7"
      },
      "execution_count": 60,
      "outputs": [
        {
          "output_type": "stream",
          "name": "stdout",
          "text": [
            "root\n",
            " |-- LogServiceID: integer (nullable = true)\n",
            " |-- LogDate: date (nullable = true)\n",
            " |-- AudienceTargetAgeID: integer (nullable = true)\n",
            " |-- AudienceTargetEthnicID: integer (nullable = true)\n",
            " |-- CategoryID: integer (nullable = true)\n",
            " |-- ClosedCaptionID: integer (nullable = true)\n",
            " |-- CountryOfOriginID: integer (nullable = true)\n",
            " |-- DubDramaCreditID: integer (nullable = true)\n",
            " |-- EthnicProgramID: integer (nullable = true)\n",
            " |-- ProductionSourceID: integer (nullable = true)\n",
            " |-- ProgramClassID: integer (nullable = true)\n",
            " |-- FilmClassificationID: integer (nullable = true)\n",
            " |-- ExhibitionID: integer (nullable = true)\n",
            " |-- Duration: string (nullable = true)\n",
            " |-- EndTime: string (nullable = true)\n",
            " |-- LogEntryDate: date (nullable = true)\n",
            " |-- ProductionNO: string (nullable = true)\n",
            " |-- ProgramTitle: string (nullable = true)\n",
            " |-- StartTime: string (nullable = true)\n",
            " |-- Subtitle: string (nullable = true)\n",
            " |-- NetworkAffiliationID: integer (nullable = true)\n",
            " |-- SpecialAttentionID: integer (nullable = true)\n",
            " |-- BroadcastOriginPointID: integer (nullable = true)\n",
            " |-- CompositionID: integer (nullable = true)\n",
            " |-- Producer1: string (nullable = true)\n",
            " |-- Producer2: string (nullable = true)\n",
            " |-- Language1: integer (nullable = true)\n",
            " |-- Language2: integer (nullable = true)\n",
            " |-- duration_seconds: integer (nullable = true)\n",
            " |-- LogIdentifierID: string (nullable = true)\n",
            " |-- LogServiceID: integer (nullable = true)\n",
            " |-- PrimaryFG: integer (nullable = true)\n",
            "\n"
          ]
        }
      ]
    },
    {
      "cell_type": "code",
      "source": [
        "logs_and_channels = logs.join(log_identifier, \"LogServiceID\")\n",
        "\n",
        "logs_and_channels.printSchema()"
      ],
      "metadata": {
        "colab": {
          "base_uri": "https://localhost:8080/"
        },
        "id": "npLOOaduIo1u",
        "outputId": "b8d0f5ef-7c79-4f25-e504-ff9725e583f3"
      },
      "execution_count": 61,
      "outputs": [
        {
          "output_type": "stream",
          "name": "stdout",
          "text": [
            "root\n",
            " |-- LogServiceID: integer (nullable = true)\n",
            " |-- LogDate: date (nullable = true)\n",
            " |-- AudienceTargetAgeID: integer (nullable = true)\n",
            " |-- AudienceTargetEthnicID: integer (nullable = true)\n",
            " |-- CategoryID: integer (nullable = true)\n",
            " |-- ClosedCaptionID: integer (nullable = true)\n",
            " |-- CountryOfOriginID: integer (nullable = true)\n",
            " |-- DubDramaCreditID: integer (nullable = true)\n",
            " |-- EthnicProgramID: integer (nullable = true)\n",
            " |-- ProductionSourceID: integer (nullable = true)\n",
            " |-- ProgramClassID: integer (nullable = true)\n",
            " |-- FilmClassificationID: integer (nullable = true)\n",
            " |-- ExhibitionID: integer (nullable = true)\n",
            " |-- Duration: string (nullable = true)\n",
            " |-- EndTime: string (nullable = true)\n",
            " |-- LogEntryDate: date (nullable = true)\n",
            " |-- ProductionNO: string (nullable = true)\n",
            " |-- ProgramTitle: string (nullable = true)\n",
            " |-- StartTime: string (nullable = true)\n",
            " |-- Subtitle: string (nullable = true)\n",
            " |-- NetworkAffiliationID: integer (nullable = true)\n",
            " |-- SpecialAttentionID: integer (nullable = true)\n",
            " |-- BroadcastOriginPointID: integer (nullable = true)\n",
            " |-- CompositionID: integer (nullable = true)\n",
            " |-- Producer1: string (nullable = true)\n",
            " |-- Producer2: string (nullable = true)\n",
            " |-- Language1: integer (nullable = true)\n",
            " |-- Language2: integer (nullable = true)\n",
            " |-- duration_seconds: integer (nullable = true)\n",
            " |-- LogIdentifierID: string (nullable = true)\n",
            " |-- PrimaryFG: integer (nullable = true)\n",
            "\n"
          ]
        }
      ]
    },
    {
      "cell_type": "code",
      "source": [
        "DIRECTORY = \"data/broadcast_logs\"\n",
        "\n",
        "cd_category = spark.read.csv(\n",
        "    os.path.join(DIRECTORY, \"ReferenceTables/CD_Category.csv\"),\n",
        "    sep=\"|\",\n",
        "    header=True,\n",
        "    inferSchema=True,\n",
        ").select(\n",
        "    \"CategoryID\",\n",
        "    \"CategoryCD\",\n",
        "    F.col(\"EnglishDescription\").alias(\"Category_Description\"),\n",
        ")\n",
        "\n",
        "cd_program_class = spark.read.csv(\n",
        "    os.path.join(DIRECTORY, \"ReferenceTables/CD_ProgramClass.csv\"),\n",
        "    sep=\"|\",\n",
        "    header=True,\n",
        "    inferSchema=True,\n",
        ").select(\n",
        "    \"ProgramClassID\",\n",
        "    \"ProgramClassCD\",\n",
        "    F.col(\"EnglishDescription\").alias(\"ProgramClass_Description\"),\n",
        ")\n",
        "\n",
        "full_log = logs_and_channels.join(cd_category, \"CategoryID\", how=\"left\").join(\n",
        "    cd_program_class, \"ProgramClassID\", how=\"left\"\n",
        ")"
      ],
      "metadata": {
        "id": "xxFS-TDMH07t"
      },
      "execution_count": 62,
      "outputs": []
    },
    {
      "cell_type": "code",
      "source": [
        "full_log.show(10)"
      ],
      "metadata": {
        "colab": {
          "base_uri": "https://localhost:8080/"
        },
        "id": "NkpOcpOAJO2N",
        "outputId": "2eae74f7-5975-4823-e5d7-85113e7754db"
      },
      "execution_count": 63,
      "outputs": [
        {
          "output_type": "stream",
          "name": "stdout",
          "text": [
            "+--------------+----------+------------+----------+-------------------+----------------------+---------------+-----------------+----------------+---------------+------------------+--------------------+------------+----------------+----------------+------------+------------+--------------------+----------------+--------+--------------------+------------------+----------------------+-------------+---------+---------+---------+---------+----------------+---------------+---------+----------+--------------------+--------------+------------------------+\n",
            "|ProgramClassID|CategoryID|LogServiceID|   LogDate|AudienceTargetAgeID|AudienceTargetEthnicID|ClosedCaptionID|CountryOfOriginID|DubDramaCreditID|EthnicProgramID|ProductionSourceID|FilmClassificationID|ExhibitionID|        Duration|         EndTime|LogEntryDate|ProductionNO|        ProgramTitle|       StartTime|Subtitle|NetworkAffiliationID|SpecialAttentionID|BroadcastOriginPointID|CompositionID|Producer1|Producer2|Language1|Language2|duration_seconds|LogIdentifierID|PrimaryFG|CategoryCD|Category_Description|ProgramClassCD|ProgramClass_Description|\n",
            "+--------------+----------+------------+----------+-------------------+----------------------+---------------+-----------------+----------------+---------------+------------------+--------------------+------------+----------------+----------------+------------+------------+--------------------+----------------+--------+--------------------+------------------+----------------------+-------------+---------+---------+---------+---------+----------------+---------------+---------+----------+--------------------+--------------+------------------------+\n",
            "|            19|        13|        3157|2018-08-01|                  4|                  NULL|              3|                3|            NULL|           NULL|                10|                NULL|           2|02:00:00.0000000|08:00:00.0000000|  2018-08-01|      A39082|   Newlywed and Dead|06:00:00.0000000|    NULL|                NULL|              NULL|                  NULL|         NULL|     NULL|     NULL|       94|     NULL|            7200|           13ST|        1|       07C|SPECIALS,MINI-SER...|          PGR |                 PROGRAM|\n",
            "|            20|      NULL|        3157|2018-08-01|               NULL|                  NULL|              1|             NULL|            NULL|           NULL|              NULL|                NULL|        NULL|00:00:30.0000000|06:13:45.0000000|  2018-08-01|        NULL|15-SPECIALTY CHAN...|06:13:15.0000000|    NULL|                NULL|              NULL|                  NULL|         NULL|     NULL|     NULL|     NULL|     NULL|              30|           13ST|        1|      NULL|                NULL|          PRC |    PROMOTION OF UPCO...|\n",
            "|             3|      NULL|        3157|2018-08-01|               NULL|                  NULL|              1|             NULL|            NULL|           NULL|              NULL|                NULL|        NULL|00:00:15.0000000|06:14:00.0000000|  2018-08-01|        NULL|3-PROCTER & GAMBL...|06:13:45.0000000|    NULL|                NULL|              NULL|                  NULL|         NULL|     NULL|     NULL|     NULL|     NULL|              15|           13ST|        1|      NULL|                NULL|          COM |      COMMERCIAL MESSAGE|\n",
            "|             3|      NULL|        3157|2018-08-01|               NULL|                  NULL|              1|             NULL|            NULL|           NULL|              NULL|                NULL|        NULL|00:00:15.0000000|06:14:15.0000000|  2018-08-01|        NULL|12-CREDIT KARMA-B...|06:14:00.0000000|    NULL|                NULL|              NULL|                  NULL|         NULL|     NULL|     NULL|     NULL|     NULL|              15|           13ST|        1|      NULL|                NULL|          COM |      COMMERCIAL MESSAGE|\n",
            "|             3|      NULL|        3157|2018-08-01|               NULL|                  NULL|              1|             NULL|            NULL|           NULL|              NULL|                NULL|        NULL|00:00:15.0000000|06:14:30.0000000|  2018-08-01|        NULL|3-L'OREAL CANADA-...|06:14:15.0000000|    NULL|                NULL|              NULL|                  NULL|         NULL|     NULL|     NULL|     NULL|     NULL|              15|           13ST|        1|      NULL|                NULL|          COM |      COMMERCIAL MESSAGE|\n",
            "|             3|      NULL|        3157|2018-08-01|               NULL|                  NULL|              1|             NULL|            NULL|           NULL|              NULL|                NULL|        NULL|00:00:15.0000000|06:14:45.0000000|  2018-08-01|        NULL|11-YUM! BRANDS-Ch...|06:14:30.0000000|    NULL|                NULL|              NULL|                  NULL|         NULL|     NULL|     NULL|     NULL|     NULL|              15|           13ST|        1|      NULL|                NULL|          COM |      COMMERCIAL MESSAGE|\n",
            "|             3|      NULL|        3157|2018-08-01|               NULL|                  NULL|              1|             NULL|            NULL|           NULL|              NULL|                NULL|        NULL|00:00:30.0000000|06:15:16.0000000|  2018-08-01|        NULL|2-PIER 1 IMPORTS ...|06:14:46.0000000|    NULL|                NULL|              NULL|                  NULL|         NULL|     NULL|     NULL|     NULL|     NULL|              30|           13ST|        1|      NULL|                NULL|          COM |      COMMERCIAL MESSAGE|\n",
            "|             3|      NULL|        3157|2018-08-01|               NULL|                  NULL|              1|             NULL|            NULL|           NULL|              NULL|                NULL|        NULL|00:00:15.0000000|06:15:31.0000000|  2018-08-01|        NULL|3-HAVAS EDGE-Trav...|06:15:16.0000000|    NULL|                NULL|              NULL|                  NULL|         NULL|     NULL|     NULL|     NULL|     NULL|              15|           13ST|        1|      NULL|                NULL|          COM |      COMMERCIAL MESSAGE|\n",
            "|             3|      NULL|        3157|2018-08-01|               NULL|                  NULL|              1|             NULL|            NULL|           NULL|              NULL|                NULL|        NULL|00:00:15.0000000|06:15:46.0000000|  2018-08-01|        NULL|2-AUTOTRADER-Inte...|06:15:31.0000000|    NULL|                NULL|              NULL|                  NULL|         NULL|     NULL|     NULL|     NULL|     NULL|              15|           13ST|        1|      NULL|                NULL|          COM |      COMMERCIAL MESSAGE|\n",
            "|             3|      NULL|        3157|2018-08-01|               NULL|                  NULL|              1|             NULL|            NULL|           NULL|              NULL|                NULL|        NULL|00:00:15.0000000|06:16:01.0000000|  2018-08-01|        NULL|11-SLEEP COUNTRY ...|06:15:46.0000000|    NULL|                NULL|              NULL|                  NULL|         NULL|     NULL|     NULL|     NULL|     NULL|              15|           13ST|        1|      NULL|                NULL|          COM |      COMMERCIAL MESSAGE|\n",
            "+--------------+----------+------------+----------+-------------------+----------------------+---------------+-----------------+----------------+---------------+------------------+--------------------+------------+----------------+----------------+------------+------------+--------------------+----------------+--------+--------------------+------------------+----------------------+-------------+---------+---------+---------+---------+----------------+---------------+---------+----------+--------------------+--------------+------------------------+\n",
            "only showing top 10 rows\n",
            "\n"
          ]
        }
      ]
    },
    {
      "cell_type": "code",
      "source": [
        "(full_log\n",
        " .groupby(\"ProgramClassCD\", \"ProgramClass_Description\")\n",
        " .agg(F.sum(\"duration_seconds\").alias(\"duration_total\"))\n",
        " .orderBy(\"duration_total\", ascending=False).show(100, False)\n",
        " )"
      ],
      "metadata": {
        "colab": {
          "base_uri": "https://localhost:8080/"
        },
        "id": "gaNYK6fjJbR1",
        "outputId": "f089b4f9-9118-4e1d-dae4-7d80c292c764"
      },
      "execution_count": 64,
      "outputs": [
        {
          "output_type": "stream",
          "name": "stdout",
          "text": [
            "+--------------+--------------------------------------+--------------+\n",
            "|ProgramClassCD|ProgramClass_Description              |duration_total|\n",
            "+--------------+--------------------------------------+--------------+\n",
            "|PGR           |PROGRAM                               |20992510      |\n",
            "|COM           |COMMERCIAL MESSAGE                    |3519163       |\n",
            "|PFS           |PROGRAM FIRST SEGMENT                 |1344762       |\n",
            "|SEG           |SEGMENT OF A PROGRAM                  |1205998       |\n",
            "|PRC           |PROMOTION OF UPCOMING CANADIAN PROGRAM|880600        |\n",
            "|PGI           |PROGRAM INFOMERCIAL                   |679182        |\n",
            "|PRO           |PROMOTION OF NON-CANADIAN PROGRAM     |335701        |\n",
            "|OFF           |SCHEDULED OFF AIR TIME PERIOD         |142279        |\n",
            "|ID            |NETWORK IDENTIFICATION MESSAGE        |74926         |\n",
            "|NRN           |No recognized nationality             |59686         |\n",
            "|MAG           |MAGAZINE PROGRAM                      |57622         |\n",
            "|PSA           |PUBLIC SERVICE ANNOUNCEMENT           |51214         |\n",
            "|SO            |MAY IDENTIFY THE SIGN ON\\OFF OF A DAY |32509         |\n",
            "|OFT           |OFF AIR DUE TO TECHNICAL DIFFICULTY   |18263         |\n",
            "|LOC           |LOCAL ADVERTISING                     |13294         |\n",
            "|MVC           |MUSIC VIDEO CLIP                      |7907          |\n",
            "|REG           |REGIONAL                              |6749          |\n",
            "|MER           |MERCHANDISING                         |1680          |\n",
            "|SPO           |SPONSORSHIP MESSAGE                   |1544          |\n",
            "|SOL           |SOLICITATION MESSAGE                  |596           |\n",
            "|MOS           |Mosaic                                |NULL          |\n",
            "|COR           |CORNERSTONE                           |NULL          |\n",
            "+--------------+--------------------------------------+--------------+\n",
            "\n"
          ]
        }
      ]
    },
    {
      "cell_type": "code",
      "source": [
        "mytest = full_log.groupby(\"LogIdentifierID\").agg(\n",
        "        F.sum(\n",
        "            \"duration_seconds\"\n",
        "            ).alias(\"duration_commercial\")\n",
        "        )\n",
        "mytest = mytest.filter(mytest[\"duration_commercial\"].isNotNull())\n",
        "mytest.show(100, False)"
      ],
      "metadata": {
        "colab": {
          "base_uri": "https://localhost:8080/"
        },
        "id": "7alAEAhlM0Wg",
        "outputId": "5ef2446d-84d7-41df-98f6-d28e03b681da"
      },
      "execution_count": 65,
      "outputs": [
        {
          "output_type": "stream",
          "name": "stdout",
          "text": [
            "+---------------+-------------------+\n",
            "|LogIdentifierID|duration_commercial|\n",
            "+---------------+-------------------+\n",
            "|CJCO           |106174             |\n",
            "|BRAVO          |108920             |\n",
            "|CFTF           |1805               |\n",
            "|CKCS           |97158              |\n",
            "|CJNT           |112904             |\n",
            "|CKES           |97019              |\n",
            "|CHBX           |108007             |\n",
            "|BBCKID         |92104              |\n",
            "|BOOK           |105885             |\n",
            "|CHAN           |107938             |\n",
            "|CEVASI         |107180             |\n",
            "|CMT            |108942             |\n",
            "|CIII           |107812             |\n",
            "|CFMT           |102688             |\n",
            "|CFGS           |91500              |\n",
            "|CBKT           |103410             |\n",
            "|CHEK           |100372             |\n",
            "|CFCF           |107878             |\n",
            "|CBXT           |103810             |\n",
            "|CIVM           |11802              |\n",
            "|CESS           |105700             |\n",
            "|CBHT           |103779             |\n",
            "|CICC           |107731             |\n",
            "|CFTM           |105732             |\n",
            "|CJOH           |108093             |\n",
            "|CBAFT          |100479             |\n",
            "|CFTV           |102                |\n",
            "|CFCM           |105894             |\n",
            "|CKPG           |100070             |\n",
            "|CKVU           |113367             |\n",
            "|ATN9           |99792              |\n",
            "|CJPM           |105655             |\n",
            "|CKWS1          |96287              |\n",
            "|CFTU           |7619               |\n",
            "|CICA           |90140              |\n",
            "|MAKE           |110196             |\n",
            "|CITY           |112061             |\n",
            "|CFRS           |17789              |\n",
            "|CKY            |107669             |\n",
            "|13ST           |108982             |\n",
            "|CFRE           |108109             |\n",
            "|CJMT           |105811             |\n",
            "|BBCCND         |110578             |\n",
            "|CFKS           |19581              |\n",
            "|CJDC           |91470              |\n",
            "|CKVR           |105861             |\n",
            "|CKCK           |107856             |\n",
            "|CFPL           |105616             |\n",
            "|CJCB           |107990             |\n",
            "|OWN            |109612             |\n",
            "|CFTK           |91785              |\n",
            "|CITV           |108442             |\n",
            "|ANIMAL         |109445             |\n",
            "|ASN            |106920             |\n",
            "|CBMT           |103605             |\n",
            "|CKAL           |113368             |\n",
            "|CBUFT          |100448             |\n",
            "|CKND           |107971             |\n",
            "|ATN3           |107267             |\n",
            "|CFJP           |19533              |\n",
            "|VRAK           |38050              |\n",
            "|CBXFT          |100448             |\n",
            "|CFQC           |107986             |\n",
            "|CFKM           |19582              |\n",
            "|CBWT           |103107             |\n",
            "|CIMT           |775                |\n",
            "|CIPA           |107742             |\n",
            "|CIHF           |108224             |\n",
            "|CFCN           |108424             |\n",
            "|CHFD           |98125              |\n",
            "|CBVT           |101348             |\n",
            "|CHMG           |96870              |\n",
            "|ARTV           |108519             |\n",
            "|CANALD         |21875              |\n",
            "|CKRT           |14400              |\n",
            "|CFER           |105556             |\n",
            "|GAME           |107889             |\n",
            "|ZT�L�          |21965              |\n",
            "|CBC            |98735              |\n",
            "|CITS           |98727              |\n",
            "|CBAT           |103809             |\n",
            "|CKLT           |107990             |\n",
            "|CIVI           |105330             |\n",
            "|COSMO          |109263             |\n",
            "|CKEM           |113308             |\n",
            "|ATN8           |88153              |\n",
            "|CKWS           |96289              |\n",
            "|CBNT           |103809             |\n",
            "|CHAT           |92665              |\n",
            "|CBUT           |103750             |\n",
            "|ABORIN         |105300             |\n",
            "|CKNO           |96123              |\n",
            "|ALLTV          |23126              |\n",
            "|CHMI           |113305             |\n",
            "|CJEO           |105746             |\n",
            "|CITO           |107972             |\n",
            "|BC1            |100958             |\n",
            "|CBLT           |103665             |\n",
            "|CFYK           |103285             |\n",
            "|CANALVIE       |21309              |\n",
            "+---------------+-------------------+\n",
            "only showing top 100 rows\n",
            "\n"
          ]
        }
      ]
    },
    {
      "cell_type": "code",
      "source": [
        "# When the field of the column ProgramClass, trimmed of spaces at the beginning and end of the field,\n",
        "# is in our list of commercial codes,\n",
        "# then take the value of the field in the column duration_seconds. Otherwise, use zero as a value.\n",
        "answer = (\n",
        "    full_log.groupby(\"LogIdentifierID\")\n",
        "    .agg(\n",
        "        F.sum(\n",
        "            F.when(\n",
        "                F.trim(F.col(\"ProgramClassCD\")).isin(\n",
        "                    [\"COM\", \"PGR\", \"PGI\", \"PRO\", \"LOC\", \"SPO\", \"MER\", \"SOL\"]\n",
        "                ),\n",
        "                F.col(\"duration_seconds\"),\n",
        "            ).otherwise(0)\n",
        "        ).alias(\"duration_commercial\"),\n",
        "        F.sum(\"duration_seconds\").alias(\"duration_total\"),\n",
        "    )\n",
        "    .withColumn(\n",
        "        \"commercial_ratio\", F.col(\"duration_commercial\") / F.col(\"duration_total\")\n",
        "    )\n",
        "    .fillna(0)\n",
        ")\n",
        "\n",
        "answer.orderBy(\"commercial_ratio\", ascending=False).show(1000, False)"
      ],
      "metadata": {
        "colab": {
          "base_uri": "https://localhost:8080/"
        },
        "id": "562eeDMsPjQW",
        "outputId": "091e3f86-2ffe-4e59-8a55-a281df99c70a"
      },
      "execution_count": 66,
      "outputs": [
        {
          "output_type": "stream",
          "name": "stdout",
          "text": [
            "+---------------+-------------------+--------------+-------------------+\n",
            "|LogIdentifierID|duration_commercial|duration_total|commercial_ratio   |\n",
            "+---------------+-------------------+--------------+-------------------+\n",
            "|CIMT           |775                |775           |1.0                |\n",
            "|ATN6           |97121              |97121         |1.0                |\n",
            "|MOVIEP         |86400              |86400         |1.0                |\n",
            "|ATN13          |86400              |86400         |1.0                |\n",
            "|SKIN           |86400              |86400         |1.0                |\n",
            "|SNONE          |1800               |1800          |1.0                |\n",
            "|TIMESN         |86400              |86400         |1.0                |\n",
            "|MPIX2          |86400              |86400         |1.0                |\n",
            "|OTN3           |86400              |86400         |1.0                |\n",
            "|TMN3           |86400              |86400         |1.0                |\n",
            "|PLAY           |86400              |86400         |1.0                |\n",
            "|PENT           |86400              |86400         |1.0                |\n",
            "|ATN11          |86400              |86400         |1.0                |\n",
            "|TMN1           |86400              |86400         |1.0                |\n",
            "|TMN4           |86400              |86400         |1.0                |\n",
            "|ATN14          |86400              |86400         |1.0                |\n",
            "|TMN2           |86400              |86400         |1.0                |\n",
            "|HPITV          |13                 |13            |1.0                |\n",
            "|TENCH2         |86400              |86400         |1.0                |\n",
            "|ZOOM           |86400              |86400         |1.0                |\n",
            "|NEOCRI         |90646              |90646         |1.0                |\n",
            "|ATN10          |98797              |98866         |0.9993020856512855 |\n",
            "|ATN9           |99712              |99792         |0.9991983325316659 |\n",
            "|OTN1           |86640              |86730         |0.99896229678312   |\n",
            "|ATN5           |101076             |101181        |0.9989622557594805 |\n",
            "|ATN3           |107145             |107267        |0.998862651141544  |\n",
            "|ATN8           |88023              |88153         |0.9985252912549771 |\n",
            "|ATN7           |94851              |94995         |0.9984841307437233 |\n",
            "|ATN1           |102259             |102442        |0.9982136233185608 |\n",
            "|SAB            |87016              |87207         |0.9978098088456202 |\n",
            "|ZEETV          |89745              |89971         |0.9974880794922808 |\n",
            "|ATN2           |99075              |99335         |0.9973825942517743 |\n",
            "|TCC            |90681              |91081         |0.9956083046958202 |\n",
            "|SLVSC          |89292              |89722         |0.9952074184703863 |\n",
            "|ESPN           |101390             |101965        |0.9943608100818908 |\n",
            "|2000SM         |88722              |89311         |0.9934050676848316 |\n",
            "|CFJC           |94540              |95170         |0.9933802668908269 |\n",
            "|SATV           |104172             |104877        |0.9932778397551417 |\n",
            "|SCSD03         |85750              |86400         |0.9924768518518519 |\n",
            "|SCSD01         |85742              |86400         |0.9923842592592592 |\n",
            "|80SM           |87646              |88352         |0.9920092357841361 |\n",
            "|OUTDR          |108667             |109607        |0.9914239054075014 |\n",
            "|FNTSY          |101610             |102545        |0.9908820517821444 |\n",
            "|CHAT           |91805              |92665         |0.9907192575406032 |\n",
            "|CHCH           |105998             |106997        |0.9906632896249428 |\n",
            "|BLC            |103680             |104721        |0.9900593004268485 |\n",
            "|FIGHT          |102970             |104229        |0.9879208281764192 |\n",
            "|CHMI           |111795             |113305        |0.9866731388729535 |\n",
            "|FXC            |108907             |110414        |0.9863513684858805 |\n",
            "|SCSD02         |85209              |86400         |0.9862152777777777 |\n",
            "|CSCN           |101634             |103091        |0.9858668554966001 |\n",
            "|CFTK           |90360              |91785         |0.9844745873508743 |\n",
            "|CFMT           |101086             |102688        |0.9843993455905267 |\n",
            "|CITY           |110233             |112061        |0.983687455939176  |\n",
            "|SCSD04         |84970              |86400         |0.9834490740740741 |\n",
            "|CKVU           |111448             |113367        |0.9830726754699339 |\n",
            "|RDS            |102065             |103855        |0.9827644311780849 |\n",
            "|SPRTVA         |102315             |104117        |0.9826925478067943 |\n",
            "|CKEM           |111312             |113308        |0.9823842976665372 |\n",
            "|CJNT           |110866             |112904        |0.9819492666336003 |\n",
            "|CKPG           |98235              |100070        |0.9816628360147897 |\n",
            "|CKAL           |111267             |113368        |0.9814674334909322 |\n",
            "|CPOP           |84742              |86400         |0.9808101851851851 |\n",
            "|CHRGD          |93428              |95431         |0.9790110131927781 |\n",
            "|CICA           |88212              |90140         |0.9786110494785889 |\n",
            "|CBC            |96605              |98735         |0.9784271028510659 |\n",
            "|FXX            |106838             |109220        |0.9781908075444058 |\n",
            "|TSN            |102061             |104390        |0.9776894338538175 |\n",
            "|FAMJR          |84451              |86400         |0.9774421296296296 |\n",
            "|SPTVA2         |101775             |104132        |0.9773652671609111 |\n",
            "|CHEX02         |93477              |95654         |0.9772408890375729 |\n",
            "|BOOK           |103470             |105885        |0.9771922368607452 |\n",
            "|TSN1           |101626             |104059        |0.9766190334329563 |\n",
            "|SE01           |84353              |86400         |0.9763078703703704 |\n",
            "|RDSINF         |100650             |103200        |0.9752906976744186 |\n",
            "|RDS2           |100665             |103240        |0.9750581170089113 |\n",
            "|TSN3           |102060             |104730        |0.9745058722429103 |\n",
            "|CHEX           |94847              |97329         |0.9744988646754821 |\n",
            "|SE02           |84147              |86400         |0.9739236111111111 |\n",
            "|CHRO           |104475             |107345        |0.9732637756765569 |\n",
            "|TSN5           |102152             |104996        |0.9729132538382415 |\n",
            "|LCN            |100965             |103780        |0.972875313162459  |\n",
            "|CJEO           |102819             |105746        |0.9723204660223554 |\n",
            "|CBUT           |100730             |103750        |0.9708915662650602 |\n",
            "|CBXT           |100770             |103810        |0.970715730661786  |\n",
            "|ASN            |103755             |106920        |0.9703984287317621 |\n",
            "|CBLT           |100595             |103665        |0.9703853759706748 |\n",
            "|CBET           |100595             |103665        |0.9703853759706748 |\n",
            "|CBRT           |100670             |103750        |0.9703132530120482 |\n",
            "|CJCO           |103013             |106174        |0.970228116111289  |\n",
            "|OMAB           |103013             |106174        |0.970228116111289  |\n",
            "|CBWT           |100035             |103107        |0.9702057086327796 |\n",
            "|PRIS           |102345             |105545        |0.9696811786441802 |\n",
            "|TSN2           |99810              |102987        |0.9691514462990475 |\n",
            "|CBMT           |100400             |103605        |0.969065199556006  |\n",
            "|OMON           |102173             |105457        |0.9688593455152337 |\n",
            "|CJMT           |102502             |105811        |0.9687272589806353 |\n",
            "|FAMCHA         |83685              |86400         |0.9685763888888889 |\n",
            "|CBOT           |100460             |103732        |0.9684571781128292 |\n",
            "|CBHT           |100475             |103779        |0.9681631158519546 |\n",
            "|CBAT           |100490             |103809        |0.968027820323864  |\n",
            "|CBCT           |100460             |103779        |0.9680185779396603 |\n",
            "|CBKT           |100065             |103410        |0.9676530316217    |\n",
            "|OWN            |106032             |109612        |0.9673393424077655 |\n",
            "|BBCKID         |89057              |92104         |0.9669178320159819 |\n",
            "|CJDC           |88425              |91470         |0.9667103968514267 |\n",
            "|CKWS           |93047              |96289         |0.9663305258129173 |\n",
            "|CKWS1          |93043              |96287         |0.9663090552203308 |\n",
            "|CBNT           |100295             |103809        |0.9661493704784749 |\n",
            "|13ST           |105255             |108982        |0.9658016920225359 |\n",
            "|CMT            |105060             |108942        |0.9643663600815112 |\n",
            "|CHNM           |102040             |105845        |0.9640512069535642 |\n",
            "|OMBC           |102040             |105845        |0.9640512069535642 |\n",
            "|HISTORY        |105329             |109288        |0.9637746138642852 |\n",
            "|NEWSW          |102152             |106082        |0.9629531871571049 |\n",
            "|SE03           |83185              |86400         |0.9627893518518519 |\n",
            "|CFER           |101491             |105556        |0.9614896358331123 |\n",
            "|CHEM           |101476             |105626        |0.9607104311438471 |\n",
            "|CJPM           |101491             |105655        |0.9605887085324878 |\n",
            "|CFCM           |101684             |105894        |0.9602432621300546 |\n",
            "|SNWST          |100126             |104278        |0.9601833560290761 |\n",
            "|CHLT           |101476             |105686        |0.9601650171262041 |\n",
            "|MVOLA          |88176              |91851         |0.9599895482901656 |\n",
            "|COMGLD         |103680             |108135        |0.9588014981273408 |\n",
            "|CFTM           |101341             |105732        |0.9584704725154163 |\n",
            "|RAZER          |103680             |108330        |0.9570756023262255 |\n",
            "|COTT           |103890             |108568        |0.9569117972146489 |\n",
            "|SNPAC          |99751              |104258        |0.9567707034472175 |\n",
            "|FYI            |105914             |110769        |0.956170047576488  |\n",
            "|BBCCND         |105699             |110578        |0.9558772992819549 |\n",
            "|SNONT          |99499              |104235        |0.9545642058809422 |\n",
            "|DISVEL         |103680             |108645        |0.9543007041281237 |\n",
            "|INVDIS         |103680             |108730        |0.9535546767221558 |\n",
            "|DISSCI         |103680             |108730        |0.9535546767221558 |\n",
            "|MOICIE         |102645             |107715        |0.9529313466091074 |\n",
            "|SE04           |82279              |86400         |0.9523032407407407 |\n",
            "|TRESR          |100270             |105394        |0.9513824316374746 |\n",
            "|COSMO          |103944             |109263        |0.9513192938140084 |\n",
            "|CASA           |103680             |109022        |0.9510007154519271 |\n",
            "|MUCHM          |102240             |107510        |0.9509813040647381 |\n",
            "|90SM           |84012              |88372         |0.9506631059611642 |\n",
            "|SN360          |100165             |105447        |0.9499084848312422 |\n",
            "|SNEST          |99009              |104235        |0.9498632896819686 |\n",
            "|COOK           |105921             |111561        |0.9494446984161131 |\n",
            "|TVADIK         |103095             |108661        |0.9487764699386164 |\n",
            "|NICK           |95761              |100935        |0.9487392876603755 |\n",
            "|GAME           |102300             |107889        |0.9481967577788283 |\n",
            "|DSNYEN         |97832              |103184        |0.9481314932547682 |\n",
            "|SPACE          |102090             |107695        |0.9479548725567575 |\n",
            "|GUS            |102270             |107935        |0.9475147079260666 |\n",
            "|ANIMAL         |103680             |109445        |0.9473251404815204 |\n",
            "|YTV            |99135              |104672        |0.9471014215836135 |\n",
            "|DSNYJR         |86697              |91602         |0.9464531342110434 |\n",
            "|MTV1           |101610             |107585        |0.9444625180090161 |\n",
            "|TCN            |102430             |108600        |0.9431860036832412 |\n",
            "|PRIDE          |94159              |99859         |0.9429195165182908 |\n",
            "|TRV            |103410             |109713        |0.9425501080090782 |\n",
            "|DOCS           |96555              |102460        |0.9423677532695686 |\n",
            "|CKNO           |90522              |96123         |0.9417309072750538 |\n",
            "|SMITH          |97815              |103894        |0.9414884401409128 |\n",
            "|WILD           |101385             |107721        |0.9411813852452168 |\n",
            "|THTV           |86711              |92253         |0.9399260728648391 |\n",
            "|MAKE           |103530             |110196        |0.9395077861265382 |\n",
            "|CFHD           |96955              |103223        |0.9392770990961317 |\n",
            "|OMQC           |96955              |103223        |0.9392770990961317 |\n",
            "|BRAVO          |102280             |108920        |0.9390378259272861 |\n",
            "|TOON           |97835              |104466        |0.9365248023280301 |\n",
            "|DEJA           |102264             |109325        |0.9354127601189115 |\n",
            "|CARTN          |97992              |104776        |0.9352523478659235 |\n",
            "|TV5            |10489              |11220         |0.9348484848484848 |\n",
            "|SN2            |86400              |92495         |0.934104546191686  |\n",
            "|E!             |102345             |109745        |0.9325709599526174 |\n",
            "|TDC            |102210             |109615        |0.9324453770013228 |\n",
            "|ABORIN         |98100              |105300        |0.9316239316239316 |\n",
            "|DSNYXD         |97459              |104682        |0.9310005540589595 |\n",
            "|NATUR          |86400              |92847         |0.9305631845940096 |\n",
            "|FASH           |103590             |111320        |0.9305605461731944 |\n",
            "|MAGINO         |84734              |91221         |0.9288869887416275 |\n",
            "|MSET           |2505               |2700          |0.9277777777777778 |\n",
            "|DSNYFR         |91200              |98312         |0.9276588819269265 |\n",
            "|TLTOON         |95880              |103498        |0.9263947129413129 |\n",
            "|SALT           |86610              |93541         |0.9259041489827989 |\n",
            "|CIVT           |100092             |108232        |0.9247911892970656 |\n",
            "|ABORIW         |97820              |105846        |0.9241728549024054 |\n",
            "|70SM           |82507              |89326         |0.9236616438662876 |\n",
            "|LIFENT         |100400             |108901        |0.921938274212358  |\n",
            "|ASIDE          |93912              |102166        |0.9192099132783901 |\n",
            "|CIVM           |10843              |11802         |0.9187425860023725 |\n",
            "|CFYK           |94790              |103285        |0.9177518516725566 |\n",
            "|BBCE           |95156              |103685        |0.9177412354728264 |\n",
            "|WFN            |102075             |111498        |0.9154872733143196 |\n",
            "|EXP            |98615              |107951        |0.9135163175885356 |\n",
            "|BNN            |94745              |104162        |0.909592749755189  |\n",
            "|CHWI           |95710              |105816        |0.9044945943902624 |\n",
            "|CFQC           |97453              |107986        |0.9024595780934566 |\n",
            "|ABORI          |95443              |105784        |0.9022441957195795 |\n",
            "|SRC            |86265              |95648         |0.9019007193041151 |\n",
            "|ABORIH         |95343              |106223        |0.8975739717387007 |\n",
            "|CKY            |95995              |107669        |0.891575105183479  |\n",
            "|CKVR           |94190              |105861        |0.8897516554727426 |\n",
            "|CAVE           |97809              |109990        |0.8892535685062278 |\n",
            "|TELENO         |15795              |17790         |0.887858347386172  |\n",
            "|CITS           |87265              |98727         |0.8839020733943096 |\n",
            "|CIII           |95004              |107812        |0.88120060846659   |\n",
            "|NGWILD         |94733              |108667        |0.8717733994680998 |\n",
            "|RURAL          |2220               |2550          |0.8705882352941177 |\n",
            "|CKCK           |93883              |107856        |0.8704476338822134 |\n",
            "|CBFT           |87725              |101048        |0.8681517694561001 |\n",
            "|DIY            |97363              |112587        |0.8647801255917645 |\n",
            "|SERIEP         |94065              |108896        |0.8638058330884514 |\n",
            "|CHBC           |91600              |108000        |0.8481481481481481 |\n",
            "|CIHF           |91695              |108224        |0.8472704760496748 |\n",
            "|CHNB2          |91680              |108251        |0.8469205827197901 |\n",
            "|CKMI           |91287              |107956        |0.8455945014635592 |\n",
            "|INVST          |17280              |20470         |0.844162188568637  |\n",
            "|TLNSP          |13050              |15480         |0.8430232558139535 |\n",
            "|CFSK           |91042              |108069        |0.8424432538470792 |\n",
            "|BC1            |84915              |100958        |0.8410923354266131 |\n",
            "|CHEK           |84410              |100372        |0.8409715857011916 |\n",
            "|CHISTO         |91731              |109109        |0.8407280792601893 |\n",
            "|CITL           |80405              |95687         |0.8402917846729441 |\n",
            "|CFPL           |88610              |105616        |0.8389827298894107 |\n",
            "|ONEBMS         |15450              |18522         |0.8341431810819566 |\n",
            "|CISA           |90376              |108521        |0.8327973387639259 |\n",
            "|CTVNC          |87608              |105310        |0.8319058019181464 |\n",
            "|CICT           |90102              |108398        |0.8312145980553147 |\n",
            "|CHNU           |4064               |4921          |0.8258484047957733 |\n",
            "|VISION         |11221              |13621         |0.8238014830041848 |\n",
            "|CKCS           |79992              |97158         |0.8233187179645526 |\n",
            "|CKSA           |84540              |103387        |0.8177043535454167 |\n",
            "|CANALVIE       |17280              |21309         |0.8109249612839645 |\n",
            "|CFRE           |87493              |108109        |0.8093035732455207 |\n",
            "|CIVI           |84740              |105330        |0.8045191303522263 |\n",
            "|CFAP           |14060              |17681         |0.7952038911826255 |\n",
            "|CFTO           |85704              |108003        |0.7935335129579734 |\n",
            "|HGTV           |86802              |109420        |0.7932919027600073 |\n",
            "|CJCH           |85564              |107930        |0.7927730936718244 |\n",
            "|CJCB           |85569              |107990        |0.7923789239744421 |\n",
            "|CKLT           |85559              |107990        |0.7922863228076674 |\n",
            "|CKCW           |85559              |107990        |0.7922863228076674 |\n",
            "|CITO           |85484              |107972        |0.7917237802393213 |\n",
            "|CJOH           |85559              |108093        |0.7915313665084696 |\n",
            "|CKNY           |85469              |107982        |0.7915115482209998 |\n",
            "|CFCF           |85354              |107878        |0.7912085874784479 |\n",
            "|CHBX           |85454              |108007        |0.7911894599424112 |\n",
            "|CICI           |85459              |108036        |0.7910233625828428 |\n",
            "|CKCO           |85329              |107928        |0.7906104069379586 |\n",
            "|CANALD         |17280              |21875         |0.7899428571428572 |\n",
            "|CESS           |83220              |105700        |0.7873226111636707 |\n",
            "|ZT�L�          |17280              |21965         |0.7867061233781015 |\n",
            "|CFRN6          |85496              |108740        |0.7862424130954571 |\n",
            "|CJIL           |3303               |4213          |0.7840018988844054 |\n",
            "|FPTV           |74469              |95285         |0.7815395917510626 |\n",
            "|CFRS           |13628              |17789         |0.7660914048007196 |\n",
            "|CHAN           |82425              |107938        |0.7636328262521077 |\n",
            "|CP24           |79217              |103860        |0.7627286732139419 |\n",
            "|YOOP           |70920              |92984         |0.7627118644067796 |\n",
            "|RAPT           |13740              |18279         |0.7516822583292303 |\n",
            "|CFJP           |14676              |19533         |0.7513438795883889 |\n",
            "|IDNR           |64633              |86530         |0.7469432566739859 |\n",
            "|CITV           |80907              |108442        |0.7460854650412202 |\n",
            "|FACHV2         |69503              |97848         |0.7103160003270379 |\n",
            "|ARTV           |75975              |108519        |0.7001078152212976 |\n",
            "|CIPA           |75421              |107742        |0.7000148502905088 |\n",
            "|CICC           |75106              |107731        |0.6971623766603856 |\n",
            "|CKES           |67497              |97019         |0.6957090879106155 |\n",
            "|CFKM           |13469              |19582         |0.6878255540802778 |\n",
            "|MMAX           |16083              |23582         |0.6820032227970486 |\n",
            "|CFCNL          |73543              |108434        |0.6782282309976576 |\n",
            "|CKTM           |67909              |100418        |0.6762632197414806 |\n",
            "|CKSH           |67909              |100418        |0.6762632197414806 |\n",
            "|CBVT           |68284              |101348        |0.6737577455894541 |\n",
            "|CBOFT          |67814              |101198        |0.6701120575505445 |\n",
            "|CJBRT          |67199              |100418        |0.669192774203828  |\n",
            "|CFKS           |13063              |19581         |0.6671262958990859 |\n",
            "|DTOUR          |73733              |110971        |0.6644348523488118 |\n",
            "|SPARK          |72489              |109425        |0.6624537354352296 |\n",
            "|CKTV           |66419              |100418        |0.6614252424864068 |\n",
            "|CFCN           |71632              |108424        |0.6606655353058364 |\n",
            "|V              |12902              |19557         |0.6597126348621977 |\n",
            "|NGCE           |70042              |107031        |0.6544085358447552 |\n",
            "|CKND           |70082              |107971        |0.6490816978633152 |\n",
            "|CFRN           |69055              |108409        |0.6369858591076387 |\n",
            "|unis           |7585               |11998         |0.6321886981163527 |\n",
            "|WTN            |67172              |107500        |0.6248558139534883 |\n",
            "|CFGS           |55290              |91500         |0.6042622950819672 |\n",
            "|CBUFT          |59564              |100448        |0.5929834342147181 |\n",
            "|CBXFT          |59564              |100448        |0.5929834342147181 |\n",
            "|CBKFT          |59564              |100448        |0.5929834342147181 |\n",
            "|CBWFT          |59564              |100448        |0.5929834342147181 |\n",
            "|CBLFT          |59234              |100658        |0.5884678813407777 |\n",
            "|CBAFT          |58869              |100479        |0.5858836174723077 |\n",
            "|MPLU           |12078              |20912         |0.5775631216526397 |\n",
            "|FTV            |53907              |94841         |0.5683934163494692 |\n",
            "|FACHTV         |53907              |94841         |0.5683934163494692 |\n",
            "|CJON           |59288              |104555        |0.5670508344890249 |\n",
            "|FOOD           |58647              |111088        |0.5279328100244851 |\n",
            "|TTV            |47624              |92687         |0.5138153139059415 |\n",
            "|DIVA           |54935              |109961        |0.4995862169314575 |\n",
            "|SHOW           |54003              |108662        |0.49698146546170696|\n",
            "|CFEM           |43280              |94580         |0.45760203002748995|\n",
            "|CFVS           |40515              |91130         |0.4445846592779546 |\n",
            "|CIIT           |1517               |3596          |0.4218576195773081 |\n",
            "|LEAF           |4831               |12034         |0.4014459032740568 |\n",
            "|CHOT           |37492              |94017         |0.3987789442334897 |\n",
            "|CHAU           |1080               |2880          |0.375              |\n",
            "|RDI            |36425              |105900        |0.3439565627950897 |\n",
            "|VRAK           |12240              |38050         |0.3216819973718791 |\n",
            "|CKPR           |27870              |94965         |0.29347654398989104|\n",
            "|CHFD           |25725              |98125         |0.2621656050955414 |\n",
            "|ALLTV          |5716               |23126         |0.24716769004583586|\n",
            "|CHMG           |18181              |96870         |0.18768452565293692|\n",
            "|TANG           |1236               |8125          |0.15212307692307692|\n",
            "|CHLF           |1960               |14439         |0.13574347253964955|\n",
            "|ZEST           |14250              |107945        |0.13201167261105193|\n",
            "|CEVASI         |12135              |107180        |0.11322075013995149|\n",
            "|AMIFR          |3338               |96120         |0.03472742405326675|\n",
            "|CFTF           |0                  |1805          |0.0                |\n",
            "|CFTV           |0                  |102           |0.0                |\n",
            "|CFTU           |0                  |7619          |0.0                |\n",
            "|CKRT           |0                  |14400         |0.0                |\n",
            "|AMITV          |0                  |98293         |0.0                |\n",
            "|EURO           |0                  |0             |0.0                |\n",
            "|NINOS          |0                  |0             |0.0                |\n",
            "+---------------+-------------------+--------------+-------------------+\n",
            "\n"
          ]
        }
      ]
    },
    {
      "cell_type": "code",
      "source": [
        "# Convert to pandas dataframe\n",
        "df = answer.orderBy(\"commercial_ratio\", ascending=False).toPandas()"
      ],
      "metadata": {
        "id": "0yodkoQhQ33t"
      },
      "execution_count": 67,
      "outputs": []
    },
    {
      "cell_type": "code",
      "source": [
        "df.head(100)"
      ],
      "metadata": {
        "colab": {
          "base_uri": "https://localhost:8080/",
          "height": 423
        },
        "id": "BmCOsqeTR3vo",
        "outputId": "c18f293c-5259-465c-d865-335f4a55cd9c"
      },
      "execution_count": 68,
      "outputs": [
        {
          "output_type": "execute_result",
          "data": {
            "text/plain": [
              "   LogIdentifierID  duration_commercial  duration_total  commercial_ratio\n",
              "0             CIMT                  775             775          1.000000\n",
              "1             ATN6                97121           97121          1.000000\n",
              "2           MOVIEP                86400           86400          1.000000\n",
              "3            ATN13                86400           86400          1.000000\n",
              "4             SKIN                86400           86400          1.000000\n",
              "..             ...                  ...             ...               ...\n",
              "95            OMON               102173          105457          0.968859\n",
              "96            CJMT               102502          105811          0.968727\n",
              "97          FAMCHA                83685           86400          0.968576\n",
              "98            CBOT               100460          103732          0.968457\n",
              "99            CBHT               100475          103779          0.968163\n",
              "\n",
              "[100 rows x 4 columns]"
            ],
            "text/html": [
              "\n",
              "  <div id=\"df-a43a0e9e-851f-4bfa-a749-abea227a1b15\" class=\"colab-df-container\">\n",
              "    <div>\n",
              "<style scoped>\n",
              "    .dataframe tbody tr th:only-of-type {\n",
              "        vertical-align: middle;\n",
              "    }\n",
              "\n",
              "    .dataframe tbody tr th {\n",
              "        vertical-align: top;\n",
              "    }\n",
              "\n",
              "    .dataframe thead th {\n",
              "        text-align: right;\n",
              "    }\n",
              "</style>\n",
              "<table border=\"1\" class=\"dataframe\">\n",
              "  <thead>\n",
              "    <tr style=\"text-align: right;\">\n",
              "      <th></th>\n",
              "      <th>LogIdentifierID</th>\n",
              "      <th>duration_commercial</th>\n",
              "      <th>duration_total</th>\n",
              "      <th>commercial_ratio</th>\n",
              "    </tr>\n",
              "  </thead>\n",
              "  <tbody>\n",
              "    <tr>\n",
              "      <th>0</th>\n",
              "      <td>CIMT</td>\n",
              "      <td>775</td>\n",
              "      <td>775</td>\n",
              "      <td>1.000000</td>\n",
              "    </tr>\n",
              "    <tr>\n",
              "      <th>1</th>\n",
              "      <td>ATN6</td>\n",
              "      <td>97121</td>\n",
              "      <td>97121</td>\n",
              "      <td>1.000000</td>\n",
              "    </tr>\n",
              "    <tr>\n",
              "      <th>2</th>\n",
              "      <td>MOVIEP</td>\n",
              "      <td>86400</td>\n",
              "      <td>86400</td>\n",
              "      <td>1.000000</td>\n",
              "    </tr>\n",
              "    <tr>\n",
              "      <th>3</th>\n",
              "      <td>ATN13</td>\n",
              "      <td>86400</td>\n",
              "      <td>86400</td>\n",
              "      <td>1.000000</td>\n",
              "    </tr>\n",
              "    <tr>\n",
              "      <th>4</th>\n",
              "      <td>SKIN</td>\n",
              "      <td>86400</td>\n",
              "      <td>86400</td>\n",
              "      <td>1.000000</td>\n",
              "    </tr>\n",
              "    <tr>\n",
              "      <th>...</th>\n",
              "      <td>...</td>\n",
              "      <td>...</td>\n",
              "      <td>...</td>\n",
              "      <td>...</td>\n",
              "    </tr>\n",
              "    <tr>\n",
              "      <th>95</th>\n",
              "      <td>OMON</td>\n",
              "      <td>102173</td>\n",
              "      <td>105457</td>\n",
              "      <td>0.968859</td>\n",
              "    </tr>\n",
              "    <tr>\n",
              "      <th>96</th>\n",
              "      <td>CJMT</td>\n",
              "      <td>102502</td>\n",
              "      <td>105811</td>\n",
              "      <td>0.968727</td>\n",
              "    </tr>\n",
              "    <tr>\n",
              "      <th>97</th>\n",
              "      <td>FAMCHA</td>\n",
              "      <td>83685</td>\n",
              "      <td>86400</td>\n",
              "      <td>0.968576</td>\n",
              "    </tr>\n",
              "    <tr>\n",
              "      <th>98</th>\n",
              "      <td>CBOT</td>\n",
              "      <td>100460</td>\n",
              "      <td>103732</td>\n",
              "      <td>0.968457</td>\n",
              "    </tr>\n",
              "    <tr>\n",
              "      <th>99</th>\n",
              "      <td>CBHT</td>\n",
              "      <td>100475</td>\n",
              "      <td>103779</td>\n",
              "      <td>0.968163</td>\n",
              "    </tr>\n",
              "  </tbody>\n",
              "</table>\n",
              "<p>100 rows × 4 columns</p>\n",
              "</div>\n",
              "    <div class=\"colab-df-buttons\">\n",
              "\n",
              "  <div class=\"colab-df-container\">\n",
              "    <button class=\"colab-df-convert\" onclick=\"convertToInteractive('df-a43a0e9e-851f-4bfa-a749-abea227a1b15')\"\n",
              "            title=\"Convert this dataframe to an interactive table.\"\n",
              "            style=\"display:none;\">\n",
              "\n",
              "  <svg xmlns=\"http://www.w3.org/2000/svg\" height=\"24px\" viewBox=\"0 -960 960 960\">\n",
              "    <path d=\"M120-120v-720h720v720H120Zm60-500h600v-160H180v160Zm220 220h160v-160H400v160Zm0 220h160v-160H400v160ZM180-400h160v-160H180v160Zm440 0h160v-160H620v160ZM180-180h160v-160H180v160Zm440 0h160v-160H620v160Z\"/>\n",
              "  </svg>\n",
              "    </button>\n",
              "\n",
              "  <style>\n",
              "    .colab-df-container {\n",
              "      display:flex;\n",
              "      gap: 12px;\n",
              "    }\n",
              "\n",
              "    .colab-df-convert {\n",
              "      background-color: #E8F0FE;\n",
              "      border: none;\n",
              "      border-radius: 50%;\n",
              "      cursor: pointer;\n",
              "      display: none;\n",
              "      fill: #1967D2;\n",
              "      height: 32px;\n",
              "      padding: 0 0 0 0;\n",
              "      width: 32px;\n",
              "    }\n",
              "\n",
              "    .colab-df-convert:hover {\n",
              "      background-color: #E2EBFA;\n",
              "      box-shadow: 0px 1px 2px rgba(60, 64, 67, 0.3), 0px 1px 3px 1px rgba(60, 64, 67, 0.15);\n",
              "      fill: #174EA6;\n",
              "    }\n",
              "\n",
              "    .colab-df-buttons div {\n",
              "      margin-bottom: 4px;\n",
              "    }\n",
              "\n",
              "    [theme=dark] .colab-df-convert {\n",
              "      background-color: #3B4455;\n",
              "      fill: #D2E3FC;\n",
              "    }\n",
              "\n",
              "    [theme=dark] .colab-df-convert:hover {\n",
              "      background-color: #434B5C;\n",
              "      box-shadow: 0px 1px 3px 1px rgba(0, 0, 0, 0.15);\n",
              "      filter: drop-shadow(0px 1px 2px rgba(0, 0, 0, 0.3));\n",
              "      fill: #FFFFFF;\n",
              "    }\n",
              "  </style>\n",
              "\n",
              "    <script>\n",
              "      const buttonEl =\n",
              "        document.querySelector('#df-a43a0e9e-851f-4bfa-a749-abea227a1b15 button.colab-df-convert');\n",
              "      buttonEl.style.display =\n",
              "        google.colab.kernel.accessAllowed ? 'block' : 'none';\n",
              "\n",
              "      async function convertToInteractive(key) {\n",
              "        const element = document.querySelector('#df-a43a0e9e-851f-4bfa-a749-abea227a1b15');\n",
              "        const dataTable =\n",
              "          await google.colab.kernel.invokeFunction('convertToInteractive',\n",
              "                                                    [key], {});\n",
              "        if (!dataTable) return;\n",
              "\n",
              "        const docLinkHtml = 'Like what you see? Visit the ' +\n",
              "          '<a target=\"_blank\" href=https://colab.research.google.com/notebooks/data_table.ipynb>data table notebook</a>'\n",
              "          + ' to learn more about interactive tables.';\n",
              "        element.innerHTML = '';\n",
              "        dataTable['output_type'] = 'display_data';\n",
              "        await google.colab.output.renderOutput(dataTable, element);\n",
              "        const docLink = document.createElement('div');\n",
              "        docLink.innerHTML = docLinkHtml;\n",
              "        element.appendChild(docLink);\n",
              "      }\n",
              "    </script>\n",
              "  </div>\n",
              "\n",
              "\n",
              "<div id=\"df-082a2007-3fe3-4671-83dc-a6c99502dc53\">\n",
              "  <button class=\"colab-df-quickchart\" onclick=\"quickchart('df-082a2007-3fe3-4671-83dc-a6c99502dc53')\"\n",
              "            title=\"Suggest charts\"\n",
              "            style=\"display:none;\">\n",
              "\n",
              "<svg xmlns=\"http://www.w3.org/2000/svg\" height=\"24px\"viewBox=\"0 0 24 24\"\n",
              "     width=\"24px\">\n",
              "    <g>\n",
              "        <path d=\"M19 3H5c-1.1 0-2 .9-2 2v14c0 1.1.9 2 2 2h14c1.1 0 2-.9 2-2V5c0-1.1-.9-2-2-2zM9 17H7v-7h2v7zm4 0h-2V7h2v10zm4 0h-2v-4h2v4z\"/>\n",
              "    </g>\n",
              "</svg>\n",
              "  </button>\n",
              "\n",
              "<style>\n",
              "  .colab-df-quickchart {\n",
              "      --bg-color: #E8F0FE;\n",
              "      --fill-color: #1967D2;\n",
              "      --hover-bg-color: #E2EBFA;\n",
              "      --hover-fill-color: #174EA6;\n",
              "      --disabled-fill-color: #AAA;\n",
              "      --disabled-bg-color: #DDD;\n",
              "  }\n",
              "\n",
              "  [theme=dark] .colab-df-quickchart {\n",
              "      --bg-color: #3B4455;\n",
              "      --fill-color: #D2E3FC;\n",
              "      --hover-bg-color: #434B5C;\n",
              "      --hover-fill-color: #FFFFFF;\n",
              "      --disabled-bg-color: #3B4455;\n",
              "      --disabled-fill-color: #666;\n",
              "  }\n",
              "\n",
              "  .colab-df-quickchart {\n",
              "    background-color: var(--bg-color);\n",
              "    border: none;\n",
              "    border-radius: 50%;\n",
              "    cursor: pointer;\n",
              "    display: none;\n",
              "    fill: var(--fill-color);\n",
              "    height: 32px;\n",
              "    padding: 0;\n",
              "    width: 32px;\n",
              "  }\n",
              "\n",
              "  .colab-df-quickchart:hover {\n",
              "    background-color: var(--hover-bg-color);\n",
              "    box-shadow: 0 1px 2px rgba(60, 64, 67, 0.3), 0 1px 3px 1px rgba(60, 64, 67, 0.15);\n",
              "    fill: var(--button-hover-fill-color);\n",
              "  }\n",
              "\n",
              "  .colab-df-quickchart-complete:disabled,\n",
              "  .colab-df-quickchart-complete:disabled:hover {\n",
              "    background-color: var(--disabled-bg-color);\n",
              "    fill: var(--disabled-fill-color);\n",
              "    box-shadow: none;\n",
              "  }\n",
              "\n",
              "  .colab-df-spinner {\n",
              "    border: 2px solid var(--fill-color);\n",
              "    border-color: transparent;\n",
              "    border-bottom-color: var(--fill-color);\n",
              "    animation:\n",
              "      spin 1s steps(1) infinite;\n",
              "  }\n",
              "\n",
              "  @keyframes spin {\n",
              "    0% {\n",
              "      border-color: transparent;\n",
              "      border-bottom-color: var(--fill-color);\n",
              "      border-left-color: var(--fill-color);\n",
              "    }\n",
              "    20% {\n",
              "      border-color: transparent;\n",
              "      border-left-color: var(--fill-color);\n",
              "      border-top-color: var(--fill-color);\n",
              "    }\n",
              "    30% {\n",
              "      border-color: transparent;\n",
              "      border-left-color: var(--fill-color);\n",
              "      border-top-color: var(--fill-color);\n",
              "      border-right-color: var(--fill-color);\n",
              "    }\n",
              "    40% {\n",
              "      border-color: transparent;\n",
              "      border-right-color: var(--fill-color);\n",
              "      border-top-color: var(--fill-color);\n",
              "    }\n",
              "    60% {\n",
              "      border-color: transparent;\n",
              "      border-right-color: var(--fill-color);\n",
              "    }\n",
              "    80% {\n",
              "      border-color: transparent;\n",
              "      border-right-color: var(--fill-color);\n",
              "      border-bottom-color: var(--fill-color);\n",
              "    }\n",
              "    90% {\n",
              "      border-color: transparent;\n",
              "      border-bottom-color: var(--fill-color);\n",
              "    }\n",
              "  }\n",
              "</style>\n",
              "\n",
              "  <script>\n",
              "    async function quickchart(key) {\n",
              "      const quickchartButtonEl =\n",
              "        document.querySelector('#' + key + ' button');\n",
              "      quickchartButtonEl.disabled = true;  // To prevent multiple clicks.\n",
              "      quickchartButtonEl.classList.add('colab-df-spinner');\n",
              "      try {\n",
              "        const charts = await google.colab.kernel.invokeFunction(\n",
              "            'suggestCharts', [key], {});\n",
              "      } catch (error) {\n",
              "        console.error('Error during call to suggestCharts:', error);\n",
              "      }\n",
              "      quickchartButtonEl.classList.remove('colab-df-spinner');\n",
              "      quickchartButtonEl.classList.add('colab-df-quickchart-complete');\n",
              "    }\n",
              "    (() => {\n",
              "      let quickchartButtonEl =\n",
              "        document.querySelector('#df-082a2007-3fe3-4671-83dc-a6c99502dc53 button');\n",
              "      quickchartButtonEl.style.display =\n",
              "        google.colab.kernel.accessAllowed ? 'block' : 'none';\n",
              "    })();\n",
              "  </script>\n",
              "</div>\n",
              "\n",
              "    </div>\n",
              "  </div>\n"
            ],
            "application/vnd.google.colaboratory.intrinsic+json": {
              "type": "dataframe",
              "variable_name": "df",
              "summary": "{\n  \"name\": \"df\",\n  \"rows\": 324,\n  \"fields\": [\n    {\n      \"column\": \"LogIdentifierID\",\n      \"properties\": {\n        \"dtype\": \"string\",\n        \"num_unique_values\": 324,\n        \"samples\": [\n          \"INVDIS\",\n          \"CBNT\",\n          \"COSMO\"\n        ],\n        \"semantic_type\": \"\",\n        \"description\": \"\"\n      }\n    },\n    {\n      \"column\": \"duration_commercial\",\n      \"properties\": {\n        \"dtype\": \"number\",\n        \"std\": 31819,\n        \"min\": 0,\n        \"max\": 111795,\n        \"num_unique_values\": 273,\n        \"samples\": [\n          103680,\n          95761,\n          102502\n        ],\n        \"semantic_type\": \"\",\n        \"description\": \"\"\n      }\n    },\n    {\n      \"column\": \"duration_total\",\n      \"properties\": {\n        \"dtype\": \"number\",\n        \"std\": 30418,\n        \"min\": 0,\n        \"max\": 113368,\n        \"num_unique_values\": 279,\n        \"samples\": [\n          113305,\n          107721,\n          108003\n        ],\n        \"semantic_type\": \"\",\n        \"description\": \"\"\n      }\n    },\n    {\n      \"column\": \"commercial_ratio\",\n      \"properties\": {\n        \"dtype\": \"number\",\n        \"std\": 0.22123480375071408,\n        \"min\": 0.0,\n        \"max\": 1.0,\n        \"num_unique_values\": 287,\n        \"samples\": [\n          0.9978098088456202,\n          0.6369858591076387,\n          0.9348484848484848\n        ],\n        \"semantic_type\": \"\",\n        \"description\": \"\"\n      }\n    }\n  ]\n}"
            }
          },
          "metadata": {},
          "execution_count": 68
        }
      ]
    },
    {
      "cell_type": "code",
      "source": [
        "df.info()"
      ],
      "metadata": {
        "colab": {
          "base_uri": "https://localhost:8080/"
        },
        "id": "Qw6BtKcNRVhH",
        "outputId": "1aaa877a-537d-4c02-b933-4c69de42ec2e"
      },
      "execution_count": 69,
      "outputs": [
        {
          "output_type": "stream",
          "name": "stdout",
          "text": [
            "<class 'pandas.core.frame.DataFrame'>\n",
            "RangeIndex: 324 entries, 0 to 323\n",
            "Data columns (total 4 columns):\n",
            " #   Column               Non-Null Count  Dtype  \n",
            "---  ------               --------------  -----  \n",
            " 0   LogIdentifierID      324 non-null    object \n",
            " 1   duration_commercial  324 non-null    int64  \n",
            " 2   duration_total       324 non-null    int64  \n",
            " 3   commercial_ratio     324 non-null    float64\n",
            "dtypes: float64(1), int64(2), object(1)\n",
            "memory usage: 10.2+ KB\n"
          ]
        }
      ]
    },
    {
      "cell_type": "code",
      "source": [
        "# prompt: using df plot a bar chart with the first top 100 log base 10 of commercial_ratio\n",
        "\n",
        "import matplotlib.pyplot as plt\n",
        "import numpy as np\n",
        "\n",
        "# Assuming 'df' is your Pandas DataFrame with 'LogIdentifierID' and 'commercial_ratio' columns\n",
        "\n",
        "# Take the top 100 rows ordered by commercial_ratio\n",
        "top_100_df = df.nlargest(100, 'commercial_ratio')\n",
        "\n",
        "# Calculate the base 10 logarithm of commercial_ratio\n",
        "top_100_df['log10_commercial_ratio'] = np.log10(top_100_df['commercial_ratio'])\n",
        "\n",
        "# Create a bar chart\n",
        "plt.figure(figsize=(15, 8))\n",
        "plt.bar(top_100_df['LogIdentifierID'].astype(str), top_100_df['log10_commercial_ratio'])\n",
        "plt.xlabel('LogIdentifierID')\n",
        "plt.ylabel('Log10(Commercial Ratio)')\n",
        "plt.title('Top 100 LogIdentifierIDs by Log10(Commercial Ratio)')\n",
        "plt.xticks(rotation=90)  # Rotate x-axis labels for better readability\n",
        "plt.tight_layout()  # Adjust layout to prevent overlapping labels\n",
        "plt.show()\n"
      ],
      "metadata": {
        "colab": {
          "base_uri": "https://localhost:8080/",
          "height": 533
        },
        "id": "klFnQfWoRXsO",
        "outputId": "7debec7b-7404-4bd8-b3ef-a38c1c0af5bb"
      },
      "execution_count": 71,
      "outputs": [
        {
          "output_type": "display_data",
          "data": {
            "text/plain": [
              "<Figure size 1500x800 with 1 Axes>"
            ],
            "image/png": "[encoded data removed]"
          },
          "metadata": {}
        }
      ]
    },
    {
      "cell_type": "markdown",
      "source": [
        "# Using JSON Data With Spark"
      ],
      "metadata": {
        "id": "NDA03teMP1iu"
      }
    },
    {
      "cell_type": "code",
      "source": [
        "from pyspark.sql import SparkSession\n",
        "\n",
        "spark = SparkSession.builder.getOrCreate()\n",
        "shows = spark.read.json(\"data/shows/shows-silicon-valley.json\")\n",
        "shows.count()"
      ],
      "metadata": {
        "colab": {
          "base_uri": "https://localhost:8080/"
        },
        "id": "XGDfMMMPP1Bm",
        "outputId": "ec6c3149-c845-481d-d793-1ed7d2511d95"
      },
      "execution_count": 72,
      "outputs": [
        {
          "output_type": "execute_result",
          "data": {
            "text/plain": [
              "1"
            ]
          },
          "metadata": {},
          "execution_count": 72
        }
      ]
    },
    {
      "cell_type": "code",
      "source": [
        "shows.show(1)"
      ],
      "metadata": {
        "id": "MXjrgWTzzI9r",
        "colab": {
          "base_uri": "https://localhost:8080/"
        },
        "outputId": "fc72c864-e9e9-40e4-dccc-1f83e47d6048"
      },
      "execution_count": 74,
      "outputs": [
        {
          "output_type": "stream",
          "name": "stdout",
          "text": [
            "+--------------------+--------------------+--------------------+--------+---+--------------------+--------+--------------+--------------------+--------------------+----------+------+-------+-----------------+------+--------------------+--------+----------+--------------------+----------+------+\n",
            "|           _embedded|              _links|           externals|  genres| id|               image|language|          name|             network|        officialSite| premiered|rating|runtime|         schedule|status|             summary|    type|   updated|                 url|webChannel|weight|\n",
            "+--------------------+--------------------+--------------------+--------+---+--------------------+--------+--------------+--------------------+--------------------+----------+------+-------+-----------------+------+--------------------+--------+----------+--------------------+----------+------+\n",
            "|{[{{{http://api.t...|{{http://api.tvma...|{tt2575988, 27716...|[Comedy]|143|{http://static.tv...| English|Silicon Valley|{{US, United Stat...|http://www.hbo.co...|2014-04-06| {8.5}|     30|{[Sunday], 22:00}| Ended|<p>In the high-te...|Scripted|1576570329|http://www.tvmaze...|      NULL|    96|\n",
            "+--------------------+--------------------+--------------------+--------+---+--------------------+--------+--------------+--------------------+--------------------+----------+------+-------+-----------------+------+--------------------+--------+----------+--------------------+----------+------+\n",
            "\n"
          ]
        }
      ]
    },
    {
      "cell_type": "code",
      "source": [
        "three_shows = spark.read.json(\"data/shows/shows-*.json\", multiLine=True)\n",
        "three_shows.show()"
      ],
      "metadata": {
        "colab": {
          "base_uri": "https://localhost:8080/"
        },
        "id": "hE9NzWsMVNJw",
        "outputId": "fe489856-fe8b-48bc-f3ee-a2d88aa43cf3"
      },
      "execution_count": 75,
      "outputs": [
        {
          "output_type": "stream",
          "name": "stdout",
          "text": [
            "+--------------------+--------------------+--------------------+--------------------+---+--------------------+--------+----------------+--------------------+--------------------+----------+------+-------+-------------------+------+--------------------+--------+----------+--------------------+------------------+------+\n",
            "|           _embedded|              _links|           externals|              genres| id|               image|language|            name|             network|        officialSite| premiered|rating|runtime|           schedule|status|             summary|    type|   updated|                 url|        webChannel|weight|\n",
            "+--------------------+--------------------+--------------------+--------------------+---+--------------------+--------+----------------+--------------------+--------------------+----------+------+-------+-------------------+------+--------------------+--------+----------+--------------------+------------------+------+\n",
            "|{[{{{http://api.t...|{{http://api.tvma...|{tt0088526, 71292...|     [Drama, Comedy]|722|{http://static.tv...| English|The Golden Girls|{{US, United Stat...|                NULL|1985-09-14| {8.5}|     30|{[Saturday], 21:00}| Ended|<p><b>The Golden ...|Scripted|1587944467|http://www.tvmaze...|              NULL|    68|\n",
            "|{[{{{http://api.t...|{{http://api.tvma...|{tt0903747, 81189...|[Drama, Crime, Th...|169|{http://static.tv...| English|    Breaking Bad|{{US, United Stat...|http://www.amc.co...|2008-01-20| {9.3}|     60|  {[Sunday], 22:00}| Ended|<p><b>Breaking Ba...|Scripted|1582273722|http://www.tvmaze...|{NULL, 1, Netflix}|    98|\n",
            "|{[{{{http://api.t...|{{http://api.tvma...|{tt2575988, 27716...|            [Comedy]|143|{http://static.tv...| English|  Silicon Valley|{{US, United Stat...|http://www.hbo.co...|2014-04-06| {8.5}|     30|  {[Sunday], 22:00}| Ended|<p>In the high-te...|Scripted|1576570329|http://www.tvmaze...|              NULL|    96|\n",
            "+--------------------+--------------------+--------------------+--------------------+---+--------------------+--------+----------------+--------------------+--------------------+----------+------+-------+-------------------+------+--------------------+--------+----------+--------------------+------------------+------+\n",
            "\n"
          ]
        }
      ]
    },
    {
      "cell_type": "code",
      "source": [
        "shows.printSchema()"
      ],
      "metadata": {
        "colab": {
          "base_uri": "https://localhost:8080/"
        },
        "id": "duJEHM16VYql",
        "outputId": "7b959098-9da5-4d46-dd11-51bca869540f"
      },
      "execution_count": 76,
      "outputs": [
        {
          "output_type": "stream",
          "name": "stdout",
          "text": [
            "root\n",
            " |-- _embedded: struct (nullable = true)\n",
            " |    |-- episodes: array (nullable = true)\n",
            " |    |    |-- element: struct (containsNull = true)\n",
            " |    |    |    |-- _links: struct (nullable = true)\n",
            " |    |    |    |    |-- self: struct (nullable = true)\n",
            " |    |    |    |    |    |-- href: string (nullable = true)\n",
            " |    |    |    |-- airdate: string (nullable = true)\n",
            " |    |    |    |-- airstamp: string (nullable = true)\n",
            " |    |    |    |-- airtime: string (nullable = true)\n",
            " |    |    |    |-- id: long (nullable = true)\n",
            " |    |    |    |-- image: struct (nullable = true)\n",
            " |    |    |    |    |-- medium: string (nullable = true)\n",
            " |    |    |    |    |-- original: string (nullable = true)\n",
            " |    |    |    |-- name: string (nullable = true)\n",
            " |    |    |    |-- number: long (nullable = true)\n",
            " |    |    |    |-- runtime: long (nullable = true)\n",
            " |    |    |    |-- season: long (nullable = true)\n",
            " |    |    |    |-- summary: string (nullable = true)\n",
            " |    |    |    |-- url: string (nullable = true)\n",
            " |-- _links: struct (nullable = true)\n",
            " |    |-- previousepisode: struct (nullable = true)\n",
            " |    |    |-- href: string (nullable = true)\n",
            " |    |-- self: struct (nullable = true)\n",
            " |    |    |-- href: string (nullable = true)\n",
            " |-- externals: struct (nullable = true)\n",
            " |    |-- imdb: string (nullable = true)\n",
            " |    |-- thetvdb: long (nullable = true)\n",
            " |    |-- tvrage: long (nullable = true)\n",
            " |-- genres: array (nullable = true)\n",
            " |    |-- element: string (containsNull = true)\n",
            " |-- id: long (nullable = true)\n",
            " |-- image: struct (nullable = true)\n",
            " |    |-- medium: string (nullable = true)\n",
            " |    |-- original: string (nullable = true)\n",
            " |-- language: string (nullable = true)\n",
            " |-- name: string (nullable = true)\n",
            " |-- network: struct (nullable = true)\n",
            " |    |-- country: struct (nullable = true)\n",
            " |    |    |-- code: string (nullable = true)\n",
            " |    |    |-- name: string (nullable = true)\n",
            " |    |    |-- timezone: string (nullable = true)\n",
            " |    |-- id: long (nullable = true)\n",
            " |    |-- name: string (nullable = true)\n",
            " |-- officialSite: string (nullable = true)\n",
            " |-- premiered: string (nullable = true)\n",
            " |-- rating: struct (nullable = true)\n",
            " |    |-- average: double (nullable = true)\n",
            " |-- runtime: long (nullable = true)\n",
            " |-- schedule: struct (nullable = true)\n",
            " |    |-- days: array (nullable = true)\n",
            " |    |    |-- element: string (containsNull = true)\n",
            " |    |-- time: string (nullable = true)\n",
            " |-- status: string (nullable = true)\n",
            " |-- summary: string (nullable = true)\n",
            " |-- type: string (nullable = true)\n",
            " |-- updated: long (nullable = true)\n",
            " |-- url: string (nullable = true)\n",
            " |-- webChannel: string (nullable = true)\n",
            " |-- weight: long (nullable = true)\n",
            "\n"
          ]
        }
      ]
    },
    {
      "cell_type": "markdown",
      "source": [
        "## Manipulating Arrays"
      ],
      "metadata": {
        "id": "nebLrqdNWc94"
      }
    },
    {
      "cell_type": "code",
      "source": [
        "array_subset = three_shows.select(\"name\", \"genres\")\n",
        "array_subset.show()"
      ],
      "metadata": {
        "colab": {
          "base_uri": "https://localhost:8080/"
        },
        "id": "8XE4Rx57Vdnt",
        "outputId": "03b40a07-9393-473d-bd1d-59f30bbf3f48"
      },
      "execution_count": 79,
      "outputs": [
        {
          "output_type": "stream",
          "name": "stdout",
          "text": [
            "+----------------+--------------------+\n",
            "|            name|              genres|\n",
            "+----------------+--------------------+\n",
            "|The Golden Girls|     [Drama, Comedy]|\n",
            "|    Breaking Bad|[Drama, Crime, Th...|\n",
            "|  Silicon Valley|            [Comedy]|\n",
            "+----------------+--------------------+\n",
            "\n"
          ]
        }
      ]
    },
    {
      "cell_type": "code",
      "source": [
        "import pyspark.sql.functions as F\n",
        "\n",
        "array_subset = array_subset.select(\n",
        "    \"name\",\n",
        "    array_subset.genres[0].alias(\"dot_and_index\"),\n",
        "    F.col(\"genres\")[0].alias(\"col_and_index\"),\n",
        "    array_subset.genres.getItem(0).alias(\"dot_and_method\"),\n",
        "    F.col(\"genres\").getItem(0).alias(\"col_and_method\"),\n",
        ")\n",
        "\n",
        "array_subset.show()"
      ],
      "metadata": {
        "colab": {
          "base_uri": "https://localhost:8080/"
        },
        "id": "XPVf4pNXVkDS",
        "outputId": "b3fce7e1-29af-42c9-ebff-03ef680d4843"
      },
      "execution_count": 80,
      "outputs": [
        {
          "output_type": "stream",
          "name": "stdout",
          "text": [
            "+----------------+-------------+-------------+--------------+--------------+\n",
            "|            name|dot_and_index|col_and_index|dot_and_method|col_and_method|\n",
            "+----------------+-------------+-------------+--------------+--------------+\n",
            "|The Golden Girls|        Drama|        Drama|         Drama|         Drama|\n",
            "|    Breaking Bad|        Drama|        Drama|         Drama|         Drama|\n",
            "|  Silicon Valley|       Comedy|       Comedy|        Comedy|        Comedy|\n",
            "+----------------+-------------+-------------+--------------+--------------+\n",
            "\n"
          ]
        }
      ]
    },
    {
      "cell_type": "code",
      "source": [
        "array_subset_repeated = array_subset.select(\n",
        "    \"name\",\n",
        "    F.lit(\"Comedy\").alias(\"one\"),\n",
        "    F.lit(\"Horror\").alias(\"two\"),\n",
        "    F.lit(\"Drama\").alias(\"three\"),\n",
        "    F.col(\"dot_and_index\"),\n",
        ").select(\n",
        "    \"name\",\n",
        "    F.array(\"one\", \"two\", \"three\").alias(\"Some_Genres\"),\n",
        "    F.array_repeat(\"dot_and_index\", 5).alias(\"Repeated_Genres\"),\n",
        ")\n",
        "\n",
        "array_subset_repeated.show()"
      ],
      "metadata": {
        "colab": {
          "base_uri": "https://localhost:8080/"
        },
        "id": "u9FojRpEV5dG",
        "outputId": "5e80a661-bef9-4e91-a744-9c9e99e8782c"
      },
      "execution_count": 94,
      "outputs": [
        {
          "output_type": "stream",
          "name": "stdout",
          "text": [
            "+----------------+--------------------+--------------------+\n",
            "|            name|         Some_Genres|     Repeated_Genres|\n",
            "+----------------+--------------------+--------------------+\n",
            "|The Golden Girls|[Comedy, Horror, ...|[Drama, Drama, Dr...|\n",
            "|    Breaking Bad|[Comedy, Horror, ...|[Drama, Drama, Dr...|\n",
            "|  Silicon Valley|[Comedy, Horror, ...|[Comedy, Comedy, ...|\n",
            "+----------------+--------------------+--------------------+\n",
            "\n"
          ]
        }
      ]
    },
    {
      "cell_type": "code",
      "source": [
        "array_subset_repeated.select(\n",
        "    \"name\", F.size(\"Some_Genres\"), F.size(\"Repeated_Genres\")\n",
        ").show()"
      ],
      "metadata": {
        "colab": {
          "base_uri": "https://localhost:8080/"
        },
        "id": "dmCJRQAZV0F-",
        "outputId": "b800a149-cafa-4367-9f51-0a4bdcc90de7"
      },
      "execution_count": 95,
      "outputs": [
        {
          "output_type": "stream",
          "name": "stdout",
          "text": [
            "+----------------+-----------------+---------------------+\n",
            "|            name|size(Some_Genres)|size(Repeated_Genres)|\n",
            "+----------------+-----------------+---------------------+\n",
            "|The Golden Girls|                3|                    5|\n",
            "|    Breaking Bad|                3|                    5|\n",
            "|  Silicon Valley|                3|                    5|\n",
            "+----------------+-----------------+---------------------+\n",
            "\n"
          ]
        }
      ]
    },
    {
      "cell_type": "code",
      "source": [
        "array_subset_repeated.select(\n",
        "    \"name\",\n",
        "    F.array_distinct(\"Some_Genres\"),\n",
        "    F.array_distinct(\"Repeated_Genres\"),\n",
        ").show(truncate=False)"
      ],
      "metadata": {
        "colab": {
          "base_uri": "https://localhost:8080/"
        },
        "id": "_K9eZqdHWGik",
        "outputId": "fe7b142f-3aff-446d-93de-8fceb9ee9e47"
      },
      "execution_count": 96,
      "outputs": [
        {
          "output_type": "stream",
          "name": "stdout",
          "text": [
            "+----------------+---------------------------+-------------------------------+\n",
            "|name            |array_distinct(Some_Genres)|array_distinct(Repeated_Genres)|\n",
            "+----------------+---------------------------+-------------------------------+\n",
            "|The Golden Girls|[Comedy, Horror, Drama]    |[Drama]                        |\n",
            "|Breaking Bad    |[Comedy, Horror, Drama]    |[Drama]                        |\n",
            "|Silicon Valley  |[Comedy, Horror, Drama]    |[Comedy]                       |\n",
            "+----------------+---------------------------+-------------------------------+\n",
            "\n"
          ]
        }
      ]
    },
    {
      "cell_type": "code",
      "source": [
        "array_subset_repeated = array_subset_repeated.select(\n",
        "    \"name\",\n",
        "    F.array_intersect(\"Some_Genres\", \"Repeated_Genres\").alias(\n",
        "        \"Genres\"\n",
        "    ),\n",
        ")\n",
        "\n",
        "array_subset_repeated.show()"
      ],
      "metadata": {
        "colab": {
          "base_uri": "https://localhost:8080/"
        },
        "id": "5WSi7XNcWM3E",
        "outputId": "65ba0e8b-06cc-45a4-d35e-3dc6786878e5"
      },
      "execution_count": 97,
      "outputs": [
        {
          "output_type": "stream",
          "name": "stdout",
          "text": [
            "+----------------+--------+\n",
            "|            name|  Genres|\n",
            "+----------------+--------+\n",
            "|The Golden Girls| [Drama]|\n",
            "|    Breaking Bad| [Drama]|\n",
            "|  Silicon Valley|[Comedy]|\n",
            "+----------------+--------+\n",
            "\n"
          ]
        }
      ]
    },
    {
      "cell_type": "code",
      "source": [
        "array_subset_repeated.select(\n",
        "    \"Genres\", F.array_position(\"Genres\", \"Comedy\")\n",
        ").show()"
      ],
      "metadata": {
        "colab": {
          "base_uri": "https://localhost:8080/"
        },
        "id": "RqUgUBwzWQ_H",
        "outputId": "eef71640-f05f-4a6e-abda-7540cd21616a"
      },
      "execution_count": 98,
      "outputs": [
        {
          "output_type": "stream",
          "name": "stdout",
          "text": [
            "+--------+------------------------------+\n",
            "|  Genres|array_position(Genres, Comedy)|\n",
            "+--------+------------------------------+\n",
            "| [Drama]|                             0|\n",
            "| [Drama]|                             0|\n",
            "|[Comedy]|                             1|\n",
            "+--------+------------------------------+\n",
            "\n"
          ]
        }
      ]
    },
    {
      "cell_type": "markdown",
      "source": [
        "## Manipulating Maps"
      ],
      "metadata": {
        "id": "089ULPNiWnun"
      }
    },
    {
      "cell_type": "code",
      "source": [
        "columns = [\"name\", \"language\", \"type\"]\n",
        "\n",
        "shows_map = three_shows.select(\n",
        "    *[F.lit(column) for column in columns],\n",
        "    F.array(*columns).alias(\"values\"),\n",
        ")\n",
        "\n",
        "shows_map = shows_map.select(F.array(*columns).alias(\"keys\"), \"values\")\n",
        "\n",
        "shows_map.show(truncate=False)"
      ],
      "metadata": {
        "colab": {
          "base_uri": "https://localhost:8080/"
        },
        "id": "s7BlYE3bWVSP",
        "outputId": "f030b5c7-94d5-48c2-f25f-9a4eb146ed21"
      },
      "execution_count": 99,
      "outputs": [
        {
          "output_type": "stream",
          "name": "stdout",
          "text": [
            "+----------------------+-------------------------------------+\n",
            "|keys                  |values                               |\n",
            "+----------------------+-------------------------------------+\n",
            "|[name, language, type]|[The Golden Girls, English, Scripted]|\n",
            "|[name, language, type]|[Breaking Bad, English, Scripted]    |\n",
            "|[name, language, type]|[Silicon Valley, English, Scripted]  |\n",
            "+----------------------+-------------------------------------+\n",
            "\n"
          ]
        }
      ]
    },
    {
      "cell_type": "code",
      "source": [
        "shows_map = shows_map.select(\n",
        "    F.map_from_arrays(\"keys\", \"values\").alias(\"mapped\")\n",
        ")\n",
        "\n",
        "shows_map.printSchema()"
      ],
      "metadata": {
        "colab": {
          "base_uri": "https://localhost:8080/"
        },
        "id": "kK-ZJ3zWWtv2",
        "outputId": "bdcc3ada-20d9-4b94-82f0-114d69f76e29"
      },
      "execution_count": 100,
      "outputs": [
        {
          "output_type": "stream",
          "name": "stdout",
          "text": [
            "root\n",
            " |-- mapped: map (nullable = false)\n",
            " |    |-- key: string\n",
            " |    |-- value: string (valueContainsNull = true)\n",
            "\n"
          ]
        }
      ]
    },
    {
      "cell_type": "code",
      "source": [
        "shows_map.show(truncate=False)"
      ],
      "metadata": {
        "colab": {
          "base_uri": "https://localhost:8080/"
        },
        "id": "ydWxf5QdXLTh",
        "outputId": "a1c62808-4160-45a8-d434-46c2e29779d3"
      },
      "execution_count": 101,
      "outputs": [
        {
          "output_type": "stream",
          "name": "stdout",
          "text": [
            "+-----------------------------------------------------------------+\n",
            "|mapped                                                           |\n",
            "+-----------------------------------------------------------------+\n",
            "|{name -> The Golden Girls, language -> English, type -> Scripted}|\n",
            "|{name -> Breaking Bad, language -> English, type -> Scripted}    |\n",
            "|{name -> Silicon Valley, language -> English, type -> Scripted}  |\n",
            "+-----------------------------------------------------------------+\n",
            "\n"
          ]
        }
      ]
    },
    {
      "cell_type": "code",
      "source": [
        "shows_map.select(\n",
        "    F.col(\"mapped.name\"),\n",
        "    F.col(\"mapped\")[\"name\"],\n",
        "    shows_map.mapped[\"name\"],\n",
        ").show()"
      ],
      "metadata": {
        "colab": {
          "base_uri": "https://localhost:8080/"
        },
        "id": "SrfkD3AmXVY-",
        "outputId": "472d8325-199c-48b5-a126-3506310e89e0"
      },
      "execution_count": 102,
      "outputs": [
        {
          "output_type": "stream",
          "name": "stdout",
          "text": [
            "+----------------+----------------+----------------+\n",
            "|            name|    mapped[name]|    mapped[name]|\n",
            "+----------------+----------------+----------------+\n",
            "|The Golden Girls|The Golden Girls|The Golden Girls|\n",
            "|    Breaking Bad|    Breaking Bad|    Breaking Bad|\n",
            "|  Silicon Valley|  Silicon Valley|  Silicon Valley|\n",
            "+----------------+----------------+----------------+\n",
            "\n"
          ]
        }
      ]
    },
    {
      "cell_type": "markdown",
      "source": [
        "## Using structs\n",
        "The struct is very different from the array and the map in that the number of fields and their names are known ahead of time. In our case, the schedule struct column is fixed."
      ],
      "metadata": {
        "id": "no0vACP3XuMS"
      }
    },
    {
      "cell_type": "code",
      "source": [
        "shows.select(\"schedule\").printSchema()"
      ],
      "metadata": {
        "colab": {
          "base_uri": "https://localhost:8080/"
        },
        "id": "d5YvNl-mXZX9",
        "outputId": "0f5b199c-fa30-465e-bfd5-d2505a9f182e"
      },
      "execution_count": 103,
      "outputs": [
        {
          "output_type": "stream",
          "name": "stdout",
          "text": [
            "root\n",
            " |-- schedule: struct (nullable = true)\n",
            " |    |-- days: array (nullable = true)\n",
            " |    |    |-- element: string (containsNull = true)\n",
            " |    |-- time: string (nullable = true)\n",
            "\n"
          ]
        }
      ]
    },
    {
      "cell_type": "markdown",
      "source": [
        "![image.png](data:image/png;base64,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)"
      ],
      "metadata": {
        "id": "srmvJ57ZYD7J"
      }
    },
    {
      "cell_type": "code",
      "source": [
        "shows.select(F.col(\"_embedded\")).printSchema()"
      ],
      "metadata": {
        "id": "i-f8xZcjXxMF",
        "outputId": "95357d79-49f9-43c6-9cac-43d67030627b",
        "colab": {
          "base_uri": "https://localhost:8080/"
        }
      },
      "execution_count": 104,
      "outputs": [
        {
          "output_type": "stream",
          "name": "stdout",
          "text": [
            "root\n",
            " |-- _embedded: struct (nullable = true)\n",
            " |    |-- episodes: array (nullable = true)\n",
            " |    |    |-- element: struct (containsNull = true)\n",
            " |    |    |    |-- _links: struct (nullable = true)\n",
            " |    |    |    |    |-- self: struct (nullable = true)\n",
            " |    |    |    |    |    |-- href: string (nullable = true)\n",
            " |    |    |    |-- airdate: string (nullable = true)\n",
            " |    |    |    |-- airstamp: string (nullable = true)\n",
            " |    |    |    |-- airtime: string (nullable = true)\n",
            " |    |    |    |-- id: long (nullable = true)\n",
            " |    |    |    |-- image: struct (nullable = true)\n",
            " |    |    |    |    |-- medium: string (nullable = true)\n",
            " |    |    |    |    |-- original: string (nullable = true)\n",
            " |    |    |    |-- name: string (nullable = true)\n",
            " |    |    |    |-- number: long (nullable = true)\n",
            " |    |    |    |-- runtime: long (nullable = true)\n",
            " |    |    |    |-- season: long (nullable = true)\n",
            " |    |    |    |-- summary: string (nullable = true)\n",
            " |    |    |    |-- url: string (nullable = true)\n",
            "\n"
          ]
        }
      ]
    },
    {
      "cell_type": "code",
      "source": [
        "shows_clean = shows.withColumn(\n",
        " \"episodes\", F.col(\"_embedded.episodes\")\n",
        ").drop(\"_embedded\")\n",
        "\n",
        "shows_clean.printSchema()"
      ],
      "metadata": {
        "id": "VYLu-jQgX_Mf",
        "outputId": "0d3cda6b-ca66-4267-bc7b-107bd9e6d70e",
        "colab": {
          "base_uri": "https://localhost:8080/"
        }
      },
      "execution_count": 105,
      "outputs": [
        {
          "output_type": "stream",
          "name": "stdout",
          "text": [
            "root\n",
            " |-- _links: struct (nullable = true)\n",
            " |    |-- previousepisode: struct (nullable = true)\n",
            " |    |    |-- href: string (nullable = true)\n",
            " |    |-- self: struct (nullable = true)\n",
            " |    |    |-- href: string (nullable = true)\n",
            " |-- externals: struct (nullable = true)\n",
            " |    |-- imdb: string (nullable = true)\n",
            " |    |-- thetvdb: long (nullable = true)\n",
            " |    |-- tvrage: long (nullable = true)\n",
            " |-- genres: array (nullable = true)\n",
            " |    |-- element: string (containsNull = true)\n",
            " |-- id: long (nullable = true)\n",
            " |-- image: struct (nullable = true)\n",
            " |    |-- medium: string (nullable = true)\n",
            " |    |-- original: string (nullable = true)\n",
            " |-- language: string (nullable = true)\n",
            " |-- name: string (nullable = true)\n",
            " |-- network: struct (nullable = true)\n",
            " |    |-- country: struct (nullable = true)\n",
            " |    |    |-- code: string (nullable = true)\n",
            " |    |    |-- name: string (nullable = true)\n",
            " |    |    |-- timezone: string (nullable = true)\n",
            " |    |-- id: long (nullable = true)\n",
            " |    |-- name: string (nullable = true)\n",
            " |-- officialSite: string (nullable = true)\n",
            " |-- premiered: string (nullable = true)\n",
            " |-- rating: struct (nullable = true)\n",
            " |    |-- average: double (nullable = true)\n",
            " |-- runtime: long (nullable = true)\n",
            " |-- schedule: struct (nullable = true)\n",
            " |    |-- days: array (nullable = true)\n",
            " |    |    |-- element: string (containsNull = true)\n",
            " |    |-- time: string (nullable = true)\n",
            " |-- status: string (nullable = true)\n",
            " |-- summary: string (nullable = true)\n",
            " |-- type: string (nullable = true)\n",
            " |-- updated: long (nullable = true)\n",
            " |-- url: string (nullable = true)\n",
            " |-- webChannel: string (nullable = true)\n",
            " |-- weight: long (nullable = true)\n",
            " |-- episodes: array (nullable = true)\n",
            " |    |-- element: struct (containsNull = true)\n",
            " |    |    |-- _links: struct (nullable = true)\n",
            " |    |    |    |-- self: struct (nullable = true)\n",
            " |    |    |    |    |-- href: string (nullable = true)\n",
            " |    |    |-- airdate: string (nullable = true)\n",
            " |    |    |-- airstamp: string (nullable = true)\n",
            " |    |    |-- airtime: string (nullable = true)\n",
            " |    |    |-- id: long (nullable = true)\n",
            " |    |    |-- image: struct (nullable = true)\n",
            " |    |    |    |-- medium: string (nullable = true)\n",
            " |    |    |    |-- original: string (nullable = true)\n",
            " |    |    |-- name: string (nullable = true)\n",
            " |    |    |-- number: long (nullable = true)\n",
            " |    |    |-- runtime: long (nullable = true)\n",
            " |    |    |-- season: long (nullable = true)\n",
            " |    |    |-- summary: string (nullable = true)\n",
            " |    |    |-- url: string (nullable = true)\n",
            "\n"
          ]
        }
      ]
    },
    {
      "cell_type": "code",
      "source": [
        "episodes_name = shows_clean.select(F.col(\"episodes.name\"))\n",
        "episodes_name.printSchema()"
      ],
      "metadata": {
        "id": "I0AFZ_K3YPP0",
        "outputId": "1dca2990-9d27-4655-cbca-ee4fa5390452",
        "colab": {
          "base_uri": "https://localhost:8080/"
        }
      },
      "execution_count": 107,
      "outputs": [
        {
          "output_type": "stream",
          "name": "stdout",
          "text": [
            "root\n",
            " |-- name: array (nullable = true)\n",
            " |    |-- element: string (containsNull = true)\n",
            "\n"
          ]
        }
      ]
    },
    {
      "cell_type": "code",
      "source": [
        "episodes_name.select(F.explode(\"name\").alias(\"name\")).show(truncate=False)"
      ],
      "metadata": {
        "id": "Zxr1ALmHYX_Q",
        "outputId": "6e43b60a-7fa9-491a-9a4c-f008767fcb87",
        "colab": {
          "base_uri": "https://localhost:8080/"
        }
      },
      "execution_count": 108,
      "outputs": [
        {
          "output_type": "stream",
          "name": "stdout",
          "text": [
            "+-----------------------------+\n",
            "|name                         |\n",
            "+-----------------------------+\n",
            "|Minimum Viable Product       |\n",
            "|The Cap Table                |\n",
            "|Articles of Incorporation    |\n",
            "|Fiduciary Duties             |\n",
            "|Signaling Risk               |\n",
            "|Third Party Insourcing       |\n",
            "|Proof of Concept             |\n",
            "|Optimal Tip-to-Tip Efficiency|\n",
            "|Sand Hill Shuffle            |\n",
            "|Runaway Devaluation          |\n",
            "|Bad Money                    |\n",
            "|The Lady                     |\n",
            "|Server Space                 |\n",
            "|Homicide                     |\n",
            "|Adult Content                |\n",
            "|White Hat/Black Hat          |\n",
            "|Binding Arbitration          |\n",
            "|Two Days of the Condor       |\n",
            "|Founder Friendly             |\n",
            "|Two in the Box               |\n",
            "+-----------------------------+\n",
            "only showing top 20 rows\n",
            "\n"
          ]
        }
      ]
    },
    {
      "cell_type": "markdown",
      "source": [
        "## Building a Spark DF from a JSON Schema"
      ],
      "metadata": {
        "id": "dWcXVHYgZIGP"
      }
    },
    {
      "cell_type": "code",
      "source": [
        "episode_links_schema = T.StructType(\n",
        "    [\n",
        "        T.StructField(\n",
        "            \"self\", T.StructType([T.StructField(\"href\", T.StringType())])\n",
        "        )\n",
        "    ]\n",
        ")\n",
        "\n",
        "episode_image_schema = T.StructType(\n",
        "    [\n",
        "        T.StructField(\"medium\", T.StringType()),\n",
        "        T.StructField(\"original\", T.StringType()),\n",
        "    ]\n",
        ")\n",
        "\n",
        "episode_schema = T.StructType(\n",
        "    [\n",
        "        T.StructField(\"_links\", episode_links_schema),\n",
        "        T.StructField(\"airdate\", T.DateType()),\n",
        "        T.StructField(\"airstamp\", T.TimestampType()),\n",
        "        T.StructField(\"airtime\", T.StringType()),\n",
        "        T.StructField(\"id\", T.StringType()),\n",
        "        T.StructField(\"image\", episode_image_schema),\n",
        "        T.StructField(\"name\", T.StringType()),\n",
        "        T.StructField(\"number\", T.LongType()),\n",
        "        T.StructField(\"runtime\", T.LongType()),\n",
        "        T.StructField(\"season\", T.LongType()),\n",
        "        T.StructField(\"summary\", T.StringType()),\n",
        "        T.StructField(\"url\", T.StringType()),\n",
        "    ]\n",
        ")\n",
        "\n",
        "embedded_schema = T.StructType(\n",
        "    [\n",
        "        T.StructField(\n",
        "            \"_embedded\",\n",
        "            T.StructType(\n",
        "                [\n",
        "                    T.StructField(\n",
        "                        \"episodes\", T.ArrayType(episode_schema)\n",
        "                    )\n",
        "                ]\n",
        "            ),\n",
        "        )\n",
        "    ]\n",
        ")"
      ],
      "metadata": {
        "id": "Tgset_GMYh-a"
      },
      "execution_count": 109,
      "outputs": []
    },
    {
      "cell_type": "code",
      "source": [
        "shows_with_schema = spark.read.json(\n",
        "    \"data/shows/shows-silicon-valley.json\",\n",
        "    schema=embedded_schema,\n",
        "    mode=\"FAILFAST\",\n",
        ")"
      ],
      "metadata": {
        "id": "G0Cs56LvZUht"
      },
      "execution_count": 110,
      "outputs": []
    },
    {
      "cell_type": "code",
      "source": [
        "for column in [\"airdate\", \"airstamp\"]:\n",
        "    shows.select(f\"_embedded.episodes.{column}\").select(\n",
        "        F.explode(column)\n",
        "    ).show(5)"
      ],
      "metadata": {
        "id": "b3UOTzE5Za69",
        "outputId": "36e56e93-b64b-47d7-f36e-bb1cce764bd1",
        "colab": {
          "base_uri": "https://localhost:8080/"
        }
      },
      "execution_count": 111,
      "outputs": [
        {
          "output_type": "stream",
          "name": "stdout",
          "text": [
            "+----------+\n",
            "|       col|\n",
            "+----------+\n",
            "|2014-04-06|\n",
            "|2014-04-13|\n",
            "|2014-04-20|\n",
            "|2014-04-27|\n",
            "|2014-05-04|\n",
            "+----------+\n",
            "only showing top 5 rows\n",
            "\n",
            "+--------------------+\n",
            "|                 col|\n",
            "+--------------------+\n",
            "|2014-04-07T02:00:...|\n",
            "|2014-04-14T02:00:...|\n",
            "|2014-04-21T02:00:...|\n",
            "|2014-04-28T02:00:...|\n",
            "|2014-05-05T02:00:...|\n",
            "+--------------------+\n",
            "only showing top 5 rows\n",
            "\n"
          ]
        }
      ]
    },
    {
      "cell_type": "code",
      "source": [
        "import pprint\n",
        "\n",
        "pprint.pprint(\n",
        "    shows_with_schema.select(\n",
        "        F.explode(\"_embedded.episodes\").alias(\"episode\")\n",
        "    )\n",
        "    .select(\"episode.airtime\")\n",
        "    .schema.jsonValue()\n",
        ")"
      ],
      "metadata": {
        "id": "zs3fk-FmZfFW",
        "outputId": "5bd92841-7222-4b53-ad89-f49f74fb34fd",
        "colab": {
          "base_uri": "https://localhost:8080/"
        }
      },
      "execution_count": 112,
      "outputs": [
        {
          "output_type": "stream",
          "name": "stdout",
          "text": [
            "{'fields': [{'metadata': {},\n",
            "             'name': 'airtime',\n",
            "             'nullable': True,\n",
            "             'type': 'string'}],\n",
            " 'type': 'struct'}\n"
          ]
        }
      ]
    },
    {
      "cell_type": "markdown",
      "source": [
        "## Some JSON manipulation examples"
      ],
      "metadata": {
        "id": "SOboYVSvZ5Vg"
      }
    },
    {
      "cell_type": "code",
      "source": [
        "episodes = shows.select(\n",
        "    \"id\", F.explode(\"_embedded.episodes\").alias(\"episodes\")\n",
        ")\n",
        "episodes.show(5, truncate=70)"
      ],
      "metadata": {
        "id": "HlXP6R8fZqpH",
        "outputId": "9951d139-69a5-4fed-fd71-056ac4b9ae0f",
        "colab": {
          "base_uri": "https://localhost:8080/"
        }
      },
      "execution_count": 113,
      "outputs": [
        {
          "output_type": "stream",
          "name": "stdout",
          "text": [
            "+---+----------------------------------------------------------------------+\n",
            "| id|                                                              episodes|\n",
            "+---+----------------------------------------------------------------------+\n",
            "|143|{{{http://api.tvmaze.com/episodes/10897}}, 2014-04-06, 2014-04-07T0...|\n",
            "|143|{{{http://api.tvmaze.com/episodes/10898}}, 2014-04-13, 2014-04-14T0...|\n",
            "|143|{{{http://api.tvmaze.com/episodes/10899}}, 2014-04-20, 2014-04-21T0...|\n",
            "|143|{{{http://api.tvmaze.com/episodes/10900}}, 2014-04-27, 2014-04-28T0...|\n",
            "|143|{{{http://api.tvmaze.com/episodes/10901}}, 2014-05-04, 2014-05-05T0...|\n",
            "+---+----------------------------------------------------------------------+\n",
            "only showing top 5 rows\n",
            "\n"
          ]
        }
      ]
    },
    {
      "cell_type": "code",
      "source": [
        "# Exploding a map using posexplode()\n",
        "episode_name_id = shows.select(\n",
        "    F.map_from_arrays(\n",
        "        F.col(\"_embedded.episodes.id\"), F.col(\"_embedded.episodes.name\")\n",
        "    ).alias(\"name_id\")\n",
        ")\n",
        "\n",
        "episode_name_id = episode_name_id.select(\n",
        "    F.posexplode(\"name_id\").alias(\"position\", \"id\", \"name\")\n",
        ")\n",
        "\n",
        "episode_name_id.show(5)"
      ],
      "metadata": {
        "id": "N-hX5lkqZ9b9",
        "outputId": "87f6d2a0-aeca-4c2c-eb36-04f4ae033d13",
        "colab": {
          "base_uri": "https://localhost:8080/"
        }
      },
      "execution_count": 114,
      "outputs": [
        {
          "output_type": "stream",
          "name": "stdout",
          "text": [
            "+--------+-----+--------------------+\n",
            "|position|   id|                name|\n",
            "+--------+-----+--------------------+\n",
            "|       0|10897|Minimum Viable Pr...|\n",
            "|       1|10898|       The Cap Table|\n",
            "|       2|10899|Articles of Incor...|\n",
            "|       3|10900|    Fiduciary Duties|\n",
            "|       4|10901|      Signaling Risk|\n",
            "+--------+-----+--------------------+\n",
            "only showing top 5 rows\n",
            "\n"
          ]
        }
      ]
    },
    {
      "cell_type": "code",
      "source": [],
      "metadata": {
        "id": "fdeut9yNaQUq"
      },
      "execution_count": null,
      "outputs": []
    }
  ]
}