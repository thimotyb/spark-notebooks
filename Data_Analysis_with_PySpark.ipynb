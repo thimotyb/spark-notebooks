{
  "nbformat": 4,
  "nbformat_minor": 0,
  "metadata": {
    "colab": {
      "provenance": [],
      "collapsed_sections": [
        "kkSXsFae8Cct",
        "7AYS0MlUvfrI",
        "WNaboQo22HOW",
        "2fj4XecA5nX_",
        "fUjc4g4xHE7p",
        "D6Syynf5QCxB",
        "0k8qNqs2T2a0",
        "jzlxJnZ6bNcq"
      ],
      "include_colab_link": true
    },
    "kernelspec": {
      "name": "python3",
      "display_name": "Python 3"
    },
    "language_info": {
      "name": "python"
    }
  },
  "cells": [
    {
      "cell_type": "markdown",
      "metadata": {
        "id": "view-in-github",
        "colab_type": "text"
      },
      "source": [
        "<a href=\"https://colab.research.google.com/github/thimotyb/spark-notebooks/blob/main/Data_Analysis_with_PySpark.ipynb\" target=\"_parent\"><img src=\"https://colab.research.google.com/assets/colab-badge.svg\" alt=\"Open In Colab\"/></a>"
      ]
    },
    {
      "cell_type": "markdown",
      "metadata": {
        "id": "32fjpkeS-nYP"
      },
      "source": [
        "#Data Analysis with PySpark in Google Colab\n",
        "\n",
        "PySpark is Python interface for Apache Spark. The primary use cases for PySpark are to work with huge amounts of data and for creating data pipelines.\n",
        "\n",
        "You don't need to work with big data to benefit from PySpark. I find that the SparkSQL is a great tool for performing routine data anlysis. Pandas can get slow and you may find yourself writing a lot of code for data cleaning whereas the same actions take much less code in SQL. Let's get started!\n",
        "\n",
        "See more here! http://spark.apache.org/docs/latest/api/python/"
      ]
    },
    {
      "cell_type": "markdown",
      "metadata": {
        "id": "m9yXqV3LigUA"
      },
      "source": [
        "# 1. Installing PySpark in Google Colab"
      ]
    },
    {
      "cell_type": "code",
      "metadata": {
        "colab": {
          "base_uri": "https://localhost:8080/",
          "height": 1000
        },
        "id": "hxv7w_2y2bb9",
        "outputId": "8dcc5cb0-7567-482d-d4b7-dfb6f55ffeee"
      },
      "source": [
        "!sudo apt update\n",
        "!apt-get install openjdk-8-jdk-headless -qq > /dev/null\n",
        "#Check this site for the latest download link https://www.apache.org/dyn/closer.lua/spark/spark-3.2.1/spark-3.2.1-bin-hadoop3.2.tgz\n",
        "#  https://archive.apache.org/dist/spark/spark-3.2.1/spark-3.2.1-bin-hadoop3.2.tgz\n",
        "!wget https://archive.apache.org/dist/spark/spark-3.2.1/spark-3.2.1-bin-hadoop3.2.tgz\n",
        "!tar xf spark-3.2.1-bin-hadoop3.2.tgz\n",
        "!pip install -q findspark\n",
        "!pip install pyspark\n",
        "!pip install py4j\n",
        "\n",
        "import os\n",
        "import sys\n",
        "# os.environ[\"JAVA_HOME\"] = \"/usr/lib/jvm/java-8-openjdk-amd64\"\n",
        "# os.environ[\"SPARK_HOME\"] = \"/content/spark-3.2.1-bin-hadoop3.2\"\n",
        "\n",
        "\n",
        "import findspark\n",
        "findspark.init()\n",
        "findspark.find()\n",
        "\n",
        "import pyspark\n",
        "\n",
        "from pyspark.sql import DataFrame, SparkSession\n",
        "from typing import List\n",
        "import pyspark.sql.types as T\n",
        "import pyspark.sql.functions as F\n",
        "\n",
        "spark= SparkSession \\\n",
        "       .builder \\\n",
        "       .appName(\"Our First Spark Example\") \\\n",
        "       .getOrCreate()\n",
        "\n",
        "spark"
      ],
      "execution_count": 1,
      "outputs": [
        {
          "output_type": "stream",
          "name": "stdout",
          "text": [
            "\u001b[33m\r0% [Working]\u001b[0m\r            \rGet:1 http://security.ubuntu.com/ubuntu jammy-security InRelease [129 kB]\n",
            "\u001b[33m\r0% [Connecting to archive.ubuntu.com (185.125.190.83)] [1 InRelease 0 B/129 kB \u001b[0m\r                                                                               \rGet:2 https://cloud.r-project.org/bin/linux/ubuntu jammy-cran40/ InRelease [3,626 B]\n",
            "\u001b[33m\r0% [Connecting to archive.ubuntu.com (185.125.190.83)] [1 InRelease 75.0 kB/129\u001b[0m\r                                                                               \rGet:3 https://developer.download.nvidia.com/compute/cuda/repos/ubuntu2204/x86_64  InRelease [1,581 B]\n",
            "\u001b[33m\r0% [Waiting for headers] [1 InRelease 111 kB/129 kB 86%] [Waiting for headers] \u001b[0m\u001b[33m\r0% [Waiting for headers] [Waiting for headers] [Connecting to ppa.launchpadcont\u001b[0m\r                                                                               \rIgn:4 https://r2u.stat.illinois.edu/ubuntu jammy InRelease\n",
            "\u001b[33m\r0% [Waiting for headers] [Connected to ppa.launchpadcontent.net (185.125.190.80\u001b[0m\r                                                                               \rHit:5 http://archive.ubuntu.com/ubuntu jammy InRelease\n",
            "Get:6 https://r2u.stat.illinois.edu/ubuntu jammy Release [5,713 B]\n",
            "Get:7 https://r2u.stat.illinois.edu/ubuntu jammy Release.gpg [793 B]\n",
            "Get:8 http://archive.ubuntu.com/ubuntu jammy-updates InRelease [128 kB]\n",
            "Hit:9 http://archive.ubuntu.com/ubuntu jammy-backports InRelease\n",
            "Get:10 https://developer.download.nvidia.com/compute/cuda/repos/ubuntu2204/x86_64  Packages [1,031 kB]\n",
            "Get:11 https://ppa.launchpadcontent.net/deadsnakes/ppa/ubuntu jammy InRelease [18.1 kB]\n",
            "Hit:12 https://ppa.launchpadcontent.net/graphics-drivers/ppa/ubuntu jammy InRelease\n",
            "Hit:13 https://ppa.launchpadcontent.net/ubuntugis/ppa/ubuntu jammy InRelease\n",
            "Get:14 http://security.ubuntu.com/ubuntu jammy-security/restricted amd64 Packages [3,122 kB]\n",
            "Get:15 http://security.ubuntu.com/ubuntu jammy-security/main amd64 Packages [2,325 kB]\n",
            "Get:16 http://security.ubuntu.com/ubuntu jammy-security/universe amd64 Packages [1,160 kB]\n",
            "Get:17 https://r2u.stat.illinois.edu/ubuntu jammy/main amd64 Packages [2,592 kB]\n",
            "Get:18 https://r2u.stat.illinois.edu/ubuntu jammy/main all Packages [8,379 kB]\n",
            "Get:19 http://archive.ubuntu.com/ubuntu jammy-updates/main amd64 Packages [2,602 kB]\n",
            "Get:20 http://archive.ubuntu.com/ubuntu jammy-updates/universe amd64 Packages [1,448 kB]\n",
            "Get:21 http://archive.ubuntu.com/ubuntu jammy-updates/restricted amd64 Packages [3,200 kB]\n",
            "Get:22 https://ppa.launchpadcontent.net/deadsnakes/ppa/ubuntu jammy/main amd64 Packages [27.8 kB]\n",
            "Fetched 26.2 MB in 9s (2,792 kB/s)\n",
            "Reading package lists... Done\n",
            "Building dependency tree... Done\n",
            "Reading state information... Done\n",
            "49 packages can be upgraded. Run 'apt list --upgradable' to see them.\n",
            "\u001b[1;33mW: \u001b[0mSkipping acquire of configured file 'main/source/Sources' as repository 'https://r2u.stat.illinois.edu/ubuntu jammy InRelease' does not seem to provide it (sources.list entry misspelt?)\u001b[0m\n",
            "--2024-10-10 15:33:02--  https://archive.apache.org/dist/spark/spark-3.2.1/spark-3.2.1-bin-hadoop3.2.tgz\n",
            "Resolving archive.apache.org (archive.apache.org)... 65.108.204.189, 2a01:4f9:1a:a084::2\n",
            "Connecting to archive.apache.org (archive.apache.org)|65.108.204.189|:443... connected.\n",
            "HTTP request sent, awaiting response... 200 OK\n",
            "Length: 300971569 (287M) [application/x-gzip]\n",
            "Saving to: ‘spark-3.2.1-bin-hadoop3.2.tgz’\n",
            "\n",
            "spark-3.2.1-bin-had 100%[===================>] 287.03M   621KB/s    in 8m 49s  \n",
            "\n",
            "2024-10-10 15:41:52 (556 KB/s) - ‘spark-3.2.1-bin-hadoop3.2.tgz’ saved [300971569/300971569]\n",
            "\n",
            "Collecting pyspark\n",
            "  Downloading pyspark-3.5.3.tar.gz (317.3 MB)\n",
            "\u001b[2K     \u001b[90m━━━━━━━━━━━━━━━━━━━━━━━━━━━━━━━━━━━━━━━━\u001b[0m \u001b[32m317.3/317.3 MB\u001b[0m \u001b[31m4.7 MB/s\u001b[0m eta \u001b[36m0:00:00\u001b[0m\n",
            "\u001b[?25h  Preparing metadata (setup.py) ... \u001b[?25l\u001b[?25hdone\n",
            "Requirement already satisfied: py4j==0.10.9.7 in /usr/local/lib/python3.10/dist-packages (from pyspark) (0.10.9.7)\n",
            "Building wheels for collected packages: pyspark\n",
            "  Building wheel for pyspark (setup.py) ... \u001b[?25l\u001b[?25hdone\n",
            "  Created wheel for pyspark: filename=pyspark-3.5.3-py2.py3-none-any.whl size=317840625 sha256=1485302e60b3e74ba05798d5d7a6ac8aa554039d8ed2f08f87360a46c2cbc96b\n",
            "  Stored in directory: /root/.cache/pip/wheels/1b/3a/92/28b93e2fbfdbb07509ca4d6f50c5e407f48dce4ddbda69a4ab\n",
            "Successfully built pyspark\n",
            "Installing collected packages: pyspark\n",
            "Successfully installed pyspark-3.5.3\n",
            "Requirement already satisfied: py4j in /usr/local/lib/python3.10/dist-packages (0.10.9.7)\n"
          ]
        },
        {
          "output_type": "execute_result",
          "data": {
            "text/plain": [
              "<pyspark.sql.session.SparkSession at 0x7e51b827b2e0>"
            ],
            "text/html": [
              "\n",
              "            <div>\n",
              "                <p><b>SparkSession - in-memory</b></p>\n",
              "                \n",
              "        <div>\n",
              "            <p><b>SparkContext</b></p>\n",
              "\n",
              "            <p><a href=\"http://a06fa5b3793a:4040\">Spark UI</a></p>\n",
              "\n",
              "            <dl>\n",
              "              <dt>Version</dt>\n",
              "                <dd><code>v3.5.3</code></dd>\n",
              "              <dt>Master</dt>\n",
              "                <dd><code>local[*]</code></dd>\n",
              "              <dt>AppName</dt>\n",
              "                <dd><code>Our First Spark Example</code></dd>\n",
              "            </dl>\n",
              "        </div>\n",
              "        \n",
              "            </div>\n",
              "        "
            ]
          },
          "metadata": {},
          "execution_count": 1
        }
      ]
    },
    {
      "cell_type": "code",
      "metadata": {
        "colab": {
          "base_uri": "https://localhost:8080/",
          "height": 219
        },
        "id": "hcOCBgQo2Pqf",
        "outputId": "97b82dae-5fb6-4c7b-9bef-1af71f14f23c"
      },
      "source": [
        "spark"
      ],
      "execution_count": null,
      "outputs": [
        {
          "output_type": "execute_result",
          "data": {
            "text/plain": [
              "<pyspark.sql.session.SparkSession at 0x78b8841a30d0>"
            ],
            "text/html": [
              "\n",
              "            <div>\n",
              "                <p><b>SparkSession - in-memory</b></p>\n",
              "                \n",
              "        <div>\n",
              "            <p><b>SparkContext</b></p>\n",
              "\n",
              "            <p><a href=\"http://7c81f60acd8e:4040\">Spark UI</a></p>\n",
              "\n",
              "            <dl>\n",
              "              <dt>Version</dt>\n",
              "                <dd><code>v3.5.3</code></dd>\n",
              "              <dt>Master</dt>\n",
              "                <dd><code>local[*]</code></dd>\n",
              "              <dt>AppName</dt>\n",
              "                <dd><code>Our First Spark Example</code></dd>\n",
              "            </dl>\n",
              "        </div>\n",
              "        \n",
              "            </div>\n",
              "        "
            ]
          },
          "metadata": {},
          "execution_count": 2
        }
      ]
    },
    {
      "cell_type": "code",
      "source": [
        "# Get more example data\n",
        "!git clone https://github.com/thimotyb/DataAnalysisWithPythonAndPySpark-Data.git"
      ],
      "metadata": {
        "colab": {
          "base_uri": "https://localhost:8080/"
        },
        "id": "pYX_v49bIXYR",
        "outputId": "db0813d4-debe-4290-f85c-a5ba9169acd5"
      },
      "execution_count": 2,
      "outputs": [
        {
          "output_type": "stream",
          "name": "stdout",
          "text": [
            "Cloning into 'DataAnalysisWithPythonAndPySpark-Data'...\n",
            "remote: Enumerating objects: 71, done.\u001b[K\n",
            "remote: Total 71 (delta 0), reused 0 (delta 0), pack-reused 71 (from 1)\u001b[K\n",
            "Receiving objects: 100% (71/71), 828.81 MiB | 26.14 MiB/s, done.\n",
            "Updating files: 100% (59/59), done.\n"
          ]
        }
      ]
    },
    {
      "cell_type": "code",
      "source": [
        "!mv DataAnalysisWithPythonAndPySpark-Data /content/data"
      ],
      "metadata": {
        "id": "jg40eTP6IwfR"
      },
      "execution_count": 5,
      "outputs": []
    },
    {
      "cell_type": "markdown",
      "source": [
        "# PySpark Data Analysis Examples"
      ],
      "metadata": {
        "id": "GbnrZrIcJZ-f"
      }
    },
    {
      "cell_type": "markdown",
      "source": [
        "## WordCount Example"
      ],
      "metadata": {
        "id": "9Yu2tpSDJl2w"
      }
    },
    {
      "cell_type": "code",
      "source": [
        "from pyspark.sql import SparkSession\n",
        "from pyspark.sql.functions import col, split, explode, lower, regexp_extract\n",
        "\n",
        "spark = SparkSession.builder.getOrCreate()\n",
        "\n",
        "book = spark.read.text(\"data/gutenberg_books/1342-0.txt\")\n",
        "\n",
        "lines = book.select(split(book.value, \" \").alias(\"line\"))\n",
        "\n",
        "words = lines.select(explode(col(\"line\")).alias(\"word\"))\n",
        "\n",
        "words_lower = words.select(lower(col(\"word\")).alias(\"word_lower\"))\n",
        "\n",
        "words_clean = words_lower.select(\n",
        "    regexp_extract(col(\"word_lower\"), \"[a-z]*\", 0).alias(\"word\")\n",
        ")\n",
        "\n",
        "words_nonull = words_clean.where(col(\"word\") != \"\")"
      ],
      "metadata": {
        "id": "zo8SK4fQeMUQ"
      },
      "execution_count": null,
      "outputs": []
    },
    {
      "cell_type": "code",
      "source": [
        "words_nonull.show(50)"
      ],
      "metadata": {
        "colab": {
          "base_uri": "https://localhost:8080/"
        },
        "id": "vOiTP37IJr4d",
        "outputId": "31b4b615-3fb6-4ed6-a103-ae126bdca856"
      },
      "execution_count": null,
      "outputs": [
        {
          "output_type": "stream",
          "name": "stdout",
          "text": [
            "+------------+\n",
            "|        word|\n",
            "+------------+\n",
            "|         the|\n",
            "|     project|\n",
            "|   gutenberg|\n",
            "|       ebook|\n",
            "|          of|\n",
            "|       pride|\n",
            "|         and|\n",
            "|   prejudice|\n",
            "|          by|\n",
            "|        jane|\n",
            "|      austen|\n",
            "|        this|\n",
            "|       ebook|\n",
            "|          is|\n",
            "|         for|\n",
            "|         the|\n",
            "|         use|\n",
            "|          of|\n",
            "|      anyone|\n",
            "|    anywhere|\n",
            "|          at|\n",
            "|          no|\n",
            "|        cost|\n",
            "|         and|\n",
            "|        with|\n",
            "|      almost|\n",
            "|          no|\n",
            "|restrictions|\n",
            "|  whatsoever|\n",
            "|         you|\n",
            "|         may|\n",
            "|        copy|\n",
            "|          it|\n",
            "|        give|\n",
            "|          it|\n",
            "|        away|\n",
            "|          or|\n",
            "|          re|\n",
            "|          it|\n",
            "|       under|\n",
            "|         the|\n",
            "|       terms|\n",
            "|          of|\n",
            "|         the|\n",
            "|     project|\n",
            "|   gutenberg|\n",
            "|     license|\n",
            "|    included|\n",
            "|        with|\n",
            "|        this|\n",
            "+------------+\n",
            "only showing top 50 rows\n",
            "\n"
          ]
        }
      ]
    },
    {
      "cell_type": "code",
      "source": [
        "from pyspark.sql import SparkSession\n",
        "import pyspark.sql.functions as F\n",
        "\n",
        "spark = SparkSession.builder.getOrCreate()"
      ],
      "metadata": {
        "id": "adUmVrJuyUzs"
      },
      "execution_count": null,
      "outputs": []
    },
    {
      "cell_type": "code",
      "source": [
        "(\n",
        "    spark.read.csv(\"./data/list_of_numbers/sample.csv\", header=True)\n",
        "    .withColumn(\n",
        "        \"new_column\", F.when(F.col(\"old_column\") > 10, 10).otherwise(0)\n",
        "    )\n",
        "    .where(\"old_column > 8\")\n",
        "    .groupby(\"new_column\")\n",
        "    .count()\n",
        "    .write.csv(\"updated_frequencies.csv\", mode=\"overwrite\")\n",
        ")"
      ],
      "metadata": {
        "id": "NfUYt0kzJwXE"
      },
      "execution_count": null,
      "outputs": []
    },
    {
      "cell_type": "markdown",
      "source": [
        "# Using PySpark SQL"
      ],
      "metadata": {
        "id": "BzXd7IaJh_fm"
      }
    },
    {
      "cell_type": "code",
      "source": [
        "from pyspark.sql import SparkSession\n",
        "import pyspark.sql.functions as F\n",
        "\n",
        "spark = SparkSession.builder.getOrCreate()"
      ],
      "metadata": {
        "id": "xl-mJ8PYMlrs"
      },
      "execution_count": null,
      "outputs": []
    },
    {
      "cell_type": "code",
      "source": [
        "my_grocery_list = [\n",
        "    [\"Banana\", 2, 1.74],\n",
        "    [\"Apple\", 4, 2.04],\n",
        "    [\"Carrot\", 1, 1.09],\n",
        "    [\"Cake\", 1, 10.99],\n",
        "]\n",
        "\n",
        "df_grocery_list = spark.createDataFrame(\n",
        "    my_grocery_list, [\"Item\", \"Quantity\", \"Price\"]\n",
        ")\n",
        "\n",
        "df_grocery_list.printSchema()"
      ],
      "metadata": {
        "colab": {
          "base_uri": "https://localhost:8080/"
        },
        "id": "sVdQbz_DlPvT",
        "outputId": "96de9379-7585-4ff0-c61f-45e352df9cb4"
      },
      "execution_count": null,
      "outputs": [
        {
          "output_type": "stream",
          "name": "stdout",
          "text": [
            "root\n",
            " |-- Item: string (nullable = true)\n",
            " |-- Quantity: long (nullable = true)\n",
            " |-- Price: double (nullable = true)\n",
            "\n"
          ]
        }
      ]
    },
    {
      "cell_type": "code",
      "source": [
        "df_grocery_list.select(\"Item\", \"Price\").where(\"Price > 2\").show()"
      ],
      "metadata": {
        "colab": {
          "base_uri": "https://localhost:8080/"
        },
        "id": "ge91tFVWlbYj",
        "outputId": "83c65265-f9bb-4a65-b21e-24138544c7b8"
      },
      "execution_count": null,
      "outputs": [
        {
          "output_type": "stream",
          "name": "stdout",
          "text": [
            "+-----+-----+\n",
            "| Item|Price|\n",
            "+-----+-----+\n",
            "|Apple| 2.04|\n",
            "| Cake|10.99|\n",
            "+-----+-----+\n",
            "\n"
          ]
        }
      ]
    },
    {
      "cell_type": "code",
      "source": [
        "DIRECTORY = \"data/broadcast_logs\"\n",
        "logs = (\n",
        "    spark.read.csv(\n",
        "        os.path.join(DIRECTORY, \"BroadcastLogs_2018_Q3_M8_sample.CSV\"),\n",
        "        sep=\"|\",\n",
        "        header=True,\n",
        "        inferSchema=True,\n",
        "        timestampFormat=\"yyyy-MM-dd\",\n",
        "    ))"
      ],
      "metadata": {
        "id": "Y4p-MUL_zmp1"
      },
      "execution_count": null,
      "outputs": []
    },
    {
      "cell_type": "code",
      "source": [
        "logs.select(\"BroadcastLogID\", \"LogServiceID\", \"LogDate\").show(5, False)"
      ],
      "metadata": {
        "id": "HyKUBvyDzqEy",
        "outputId": "f599ef77-215c-41e2-f2cc-6f1e7496799d",
        "colab": {
          "base_uri": "https://localhost:8080/"
        }
      },
      "execution_count": null,
      "outputs": [
        {
          "output_type": "stream",
          "name": "stdout",
          "text": [
            "+--------------+------------+----------+\n",
            "|BroadcastLogID|LogServiceID|LogDate   |\n",
            "+--------------+------------+----------+\n",
            "|1196192316    |3157        |2018-08-01|\n",
            "|1196192317    |3157        |2018-08-01|\n",
            "|1196192318    |3157        |2018-08-01|\n",
            "|1196192319    |3157        |2018-08-01|\n",
            "|1196192320    |3157        |2018-08-01|\n",
            "+--------------+------------+----------+\n",
            "only showing top 5 rows\n",
            "\n"
          ]
        }
      ]
    },
    {
      "cell_type": "code",
      "source": [
        "# Using the string to column conversion\n",
        "logs.select(\"BroadCastLogID\", \"LogServiceID\", \"LogDate\")\n",
        "logs.select(*[\"BroadCastLogID\", \"LogServiceID\", \"LogDate\"])\n",
        "\n",
        "# Passing the column object explicitly\n",
        "logs.select(\n",
        "    F.col(\"BroadCastLogID\"), F.col(\"LogServiceID\"), F.col(\"LogDate\")\n",
        ")\n",
        "logs.select(\n",
        "    *[F.col(\"BroadCastLogID\"), F.col(\"LogServiceID\"), F.col(\"LogDate\")]\n",
        ")"
      ],
      "metadata": {
        "id": "GcLHRBl2z4Rj",
        "outputId": "6aae6021-65c3-47fd-c171-4246fd2bc4ee",
        "colab": {
          "base_uri": "https://localhost:8080/"
        }
      },
      "execution_count": null,
      "outputs": [
        {
          "output_type": "execute_result",
          "data": {
            "text/plain": [
              "DataFrame[BroadCastLogID: int, LogServiceID: int, LogDate: date]"
            ]
          },
          "metadata": {},
          "execution_count": 23
        }
      ]
    },
    {
      "cell_type": "code",
      "source": [
        "import numpy as np\n",
        "\n",
        "column_split = np.array_split(\n",
        "    np.array(logs.columns), len(logs.columns) // 3\n",
        ")"
      ],
      "metadata": {
        "id": "sLu6nalx1HGy"
      },
      "execution_count": null,
      "outputs": []
    },
    {
      "cell_type": "code",
      "source": [
        "column_split"
      ],
      "metadata": {
        "id": "mOHLh-vs1Kkc",
        "outputId": "a5e2a5cb-5be3-43f9-8dd2-e9bfd229d754",
        "colab": {
          "base_uri": "https://localhost:8080/"
        }
      },
      "execution_count": null,
      "outputs": [
        {
          "output_type": "execute_result",
          "data": {
            "text/plain": [
              "[array(['BroadcastLogID', 'LogServiceID', 'LogDate'], dtype='<U22'),\n",
              " array(['SequenceNO', 'AudienceTargetAgeID', 'AudienceTargetEthnicID'],\n",
              "       dtype='<U22'),\n",
              " array(['CategoryID', 'ClosedCaptionID', 'CountryOfOriginID'], dtype='<U22'),\n",
              " array(['DubDramaCreditID', 'EthnicProgramID', 'ProductionSourceID'],\n",
              "       dtype='<U22'),\n",
              " array(['ProgramClassID', 'FilmClassificationID', 'ExhibitionID'],\n",
              "       dtype='<U22'),\n",
              " array(['Duration', 'EndTime', 'LogEntryDate'], dtype='<U22'),\n",
              " array(['ProductionNO', 'ProgramTitle', 'StartTime'], dtype='<U22'),\n",
              " array(['Subtitle', 'NetworkAffiliationID', 'SpecialAttentionID'],\n",
              "       dtype='<U22'),\n",
              " array(['BroadcastOriginPointID', 'CompositionID', 'Producer1'],\n",
              "       dtype='<U22'),\n",
              " array(['Producer2', 'Language1', 'Language2'], dtype='<U22')]"
            ]
          },
          "metadata": {},
          "execution_count": 25
        }
      ]
    },
    {
      "cell_type": "code",
      "source": [
        "for x in column_split:\n",
        "    logs.select(*x).show(5, False)"
      ],
      "metadata": {
        "id": "HhtKh_tt1NG8",
        "outputId": "cd64319a-e54f-4720-86c9-a2932d3fe838",
        "colab": {
          "base_uri": "https://localhost:8080/"
        }
      },
      "execution_count": null,
      "outputs": [
        {
          "output_type": "stream",
          "name": "stdout",
          "text": [
            "+--------------+------------+----------+\n",
            "|BroadcastLogID|LogServiceID|LogDate   |\n",
            "+--------------+------------+----------+\n",
            "|1196192316    |3157        |2018-08-01|\n",
            "|1196192317    |3157        |2018-08-01|\n",
            "|1196192318    |3157        |2018-08-01|\n",
            "|1196192319    |3157        |2018-08-01|\n",
            "|1196192320    |3157        |2018-08-01|\n",
            "+--------------+------------+----------+\n",
            "only showing top 5 rows\n",
            "\n",
            "+----------+-------------------+----------------------+\n",
            "|SequenceNO|AudienceTargetAgeID|AudienceTargetEthnicID|\n",
            "+----------+-------------------+----------------------+\n",
            "|1         |4                  |NULL                  |\n",
            "|2         |NULL               |NULL                  |\n",
            "|3         |NULL               |NULL                  |\n",
            "|4         |NULL               |NULL                  |\n",
            "|5         |NULL               |NULL                  |\n",
            "+----------+-------------------+----------------------+\n",
            "only showing top 5 rows\n",
            "\n",
            "+----------+---------------+-----------------+\n",
            "|CategoryID|ClosedCaptionID|CountryOfOriginID|\n",
            "+----------+---------------+-----------------+\n",
            "|13        |3              |3                |\n",
            "|NULL      |1              |NULL             |\n",
            "|NULL      |1              |NULL             |\n",
            "|NULL      |1              |NULL             |\n",
            "|NULL      |1              |NULL             |\n",
            "+----------+---------------+-----------------+\n",
            "only showing top 5 rows\n",
            "\n",
            "+----------------+---------------+------------------+\n",
            "|DubDramaCreditID|EthnicProgramID|ProductionSourceID|\n",
            "+----------------+---------------+------------------+\n",
            "|NULL            |NULL           |10                |\n",
            "|NULL            |NULL           |NULL              |\n",
            "|NULL            |NULL           |NULL              |\n",
            "|NULL            |NULL           |NULL              |\n",
            "|NULL            |NULL           |NULL              |\n",
            "+----------------+---------------+------------------+\n",
            "only showing top 5 rows\n",
            "\n",
            "+--------------+--------------------+------------+\n",
            "|ProgramClassID|FilmClassificationID|ExhibitionID|\n",
            "+--------------+--------------------+------------+\n",
            "|19            |NULL                |2           |\n",
            "|20            |NULL                |NULL        |\n",
            "|3             |NULL                |NULL        |\n",
            "|3             |NULL                |NULL        |\n",
            "|3             |NULL                |NULL        |\n",
            "+--------------+--------------------+------------+\n",
            "only showing top 5 rows\n",
            "\n",
            "+----------------+----------------+------------+\n",
            "|Duration        |EndTime         |LogEntryDate|\n",
            "+----------------+----------------+------------+\n",
            "|02:00:00.0000000|08:00:00.0000000|2018-08-01  |\n",
            "|00:00:30.0000000|06:13:45.0000000|2018-08-01  |\n",
            "|00:00:15.0000000|06:14:00.0000000|2018-08-01  |\n",
            "|00:00:15.0000000|06:14:15.0000000|2018-08-01  |\n",
            "|00:00:15.0000000|06:14:30.0000000|2018-08-01  |\n",
            "+----------------+----------------+------------+\n",
            "only showing top 5 rows\n",
            "\n",
            "+------------+-------------------------------------------+----------------+\n",
            "|ProductionNO|ProgramTitle                               |StartTime       |\n",
            "+------------+-------------------------------------------+----------------+\n",
            "|A39082      |Newlywed and Dead                          |06:00:00.0000000|\n",
            "|NULL        |15-SPECIALTY CHANNELS-Canadian Generic     |06:13:15.0000000|\n",
            "|NULL        |3-PROCTER & GAMBLE INC-Anti-Perspirant 3rd |06:13:45.0000000|\n",
            "|NULL        |12-CREDIT KARMA-Bank/Credit Union/Trust 3rd|06:14:00.0000000|\n",
            "|NULL        |3-L'OREAL CANADA-Hair Products 3rd         |06:14:15.0000000|\n",
            "+------------+-------------------------------------------+----------------+\n",
            "only showing top 5 rows\n",
            "\n",
            "+--------+--------------------+------------------+\n",
            "|Subtitle|NetworkAffiliationID|SpecialAttentionID|\n",
            "+--------+--------------------+------------------+\n",
            "|NULL    |NULL                |NULL              |\n",
            "|NULL    |NULL                |NULL              |\n",
            "|NULL    |NULL                |NULL              |\n",
            "|NULL    |NULL                |NULL              |\n",
            "|NULL    |NULL                |NULL              |\n",
            "+--------+--------------------+------------------+\n",
            "only showing top 5 rows\n",
            "\n",
            "+----------------------+-------------+---------+\n",
            "|BroadcastOriginPointID|CompositionID|Producer1|\n",
            "+----------------------+-------------+---------+\n",
            "|NULL                  |NULL         |NULL     |\n",
            "|NULL                  |NULL         |NULL     |\n",
            "|NULL                  |NULL         |NULL     |\n",
            "|NULL                  |NULL         |NULL     |\n",
            "|NULL                  |NULL         |NULL     |\n",
            "+----------------------+-------------+---------+\n",
            "only showing top 5 rows\n",
            "\n",
            "+---------+---------+---------+\n",
            "|Producer2|Language1|Language2|\n",
            "+---------+---------+---------+\n",
            "|NULL     |94       |NULL     |\n",
            "|NULL     |NULL     |NULL     |\n",
            "|NULL     |NULL     |NULL     |\n",
            "|NULL     |NULL     |NULL     |\n",
            "|NULL     |NULL     |NULL     |\n",
            "+---------+---------+---------+\n",
            "only showing top 5 rows\n",
            "\n"
          ]
        }
      ]
    },
    {
      "cell_type": "code",
      "source": [
        "DIRECTORY = \"data/broadcast_logs\"\n",
        "logs = (\n",
        "    spark.read.csv(\n",
        "        os.path.join(DIRECTORY, \"BroadcastLogs_2018_Q3_M8_sample.CSV\"),\n",
        "        sep=\"|\",\n",
        "        header=True,\n",
        "        inferSchema=True,\n",
        "        timestampFormat=\"yyyy-MM-dd\",\n",
        "    )\n",
        "    .drop(\"BroadcastLogID\", \"SequenceNO\")\n",
        "    .withColumn(\n",
        "        \"duration_seconds\",\n",
        "        (\n",
        "            F.col(\"Duration\").substr(1, 2).cast(\"int\") * 60 * 60\n",
        "            + F.col(\"Duration\").substr(4, 2).cast(\"int\") * 60\n",
        "            + F.col(\"Duration\").substr(7, 2).cast(\"int\")\n",
        "        ),\n",
        "    )\n",
        ")"
      ],
      "metadata": {
        "id": "lKOlEtJrwnLN"
      },
      "execution_count": 7,
      "outputs": []
    },
    {
      "cell_type": "code",
      "source": [
        "logs.printSchema()"
      ],
      "metadata": {
        "colab": {
          "base_uri": "https://localhost:8080/"
        },
        "id": "gQ5n876QxJjX",
        "outputId": "780863be-b7d7-478b-9cc1-7dd1a563bb23"
      },
      "execution_count": null,
      "outputs": [
        {
          "output_type": "stream",
          "name": "stdout",
          "text": [
            "root\n",
            " |-- LogServiceID: integer (nullable = true)\n",
            " |-- LogDate: date (nullable = true)\n",
            " |-- AudienceTargetAgeID: integer (nullable = true)\n",
            " |-- AudienceTargetEthnicID: integer (nullable = true)\n",
            " |-- CategoryID: integer (nullable = true)\n",
            " |-- ClosedCaptionID: integer (nullable = true)\n",
            " |-- CountryOfOriginID: integer (nullable = true)\n",
            " |-- DubDramaCreditID: integer (nullable = true)\n",
            " |-- EthnicProgramID: integer (nullable = true)\n",
            " |-- ProductionSourceID: integer (nullable = true)\n",
            " |-- ProgramClassID: integer (nullable = true)\n",
            " |-- FilmClassificationID: integer (nullable = true)\n",
            " |-- ExhibitionID: integer (nullable = true)\n",
            " |-- Duration: string (nullable = true)\n",
            " |-- EndTime: string (nullable = true)\n",
            " |-- LogEntryDate: date (nullable = true)\n",
            " |-- ProductionNO: string (nullable = true)\n",
            " |-- ProgramTitle: string (nullable = true)\n",
            " |-- StartTime: string (nullable = true)\n",
            " |-- Subtitle: string (nullable = true)\n",
            " |-- NetworkAffiliationID: integer (nullable = true)\n",
            " |-- SpecialAttentionID: integer (nullable = true)\n",
            " |-- BroadcastOriginPointID: integer (nullable = true)\n",
            " |-- CompositionID: integer (nullable = true)\n",
            " |-- Producer1: string (nullable = true)\n",
            " |-- Producer2: string (nullable = true)\n",
            " |-- Language1: integer (nullable = true)\n",
            " |-- Language2: integer (nullable = true)\n",
            " |-- duration_seconds: integer (nullable = true)\n",
            "\n"
          ]
        }
      ]
    },
    {
      "cell_type": "code",
      "source": [
        "logs.select(F.col(\"Duration\")).show(5)"
      ],
      "metadata": {
        "id": "TTuZ520j2HvZ",
        "outputId": "f1a32ad6-6587-4e4e-caa5-7d2a9ec0df30",
        "colab": {
          "base_uri": "https://localhost:8080/"
        }
      },
      "execution_count": null,
      "outputs": [
        {
          "output_type": "stream",
          "name": "stdout",
          "text": [
            "+----------------+\n",
            "|        Duration|\n",
            "+----------------+\n",
            "|02:00:00.0000000|\n",
            "|00:00:30.0000000|\n",
            "|00:00:15.0000000|\n",
            "|00:00:15.0000000|\n",
            "|00:00:15.0000000|\n",
            "+----------------+\n",
            "only showing top 5 rows\n",
            "\n"
          ]
        }
      ]
    },
    {
      "cell_type": "code",
      "source": [
        "print(logs.select(F.col(\"Duration\")).dtypes)"
      ],
      "metadata": {
        "id": "ATzzgUR12LIq",
        "outputId": "8be8638c-7093-49d4-ce8e-6f0472432a49",
        "colab": {
          "base_uri": "https://localhost:8080/"
        }
      },
      "execution_count": null,
      "outputs": [
        {
          "output_type": "stream",
          "name": "stdout",
          "text": [
            "[('Duration', 'string')]\n"
          ]
        }
      ]
    },
    {
      "cell_type": "code",
      "source": [
        "logs.select(\n",
        "    F.col(\"Duration\"),\n",
        "    F.col(\"Duration\").substr(1, 2).cast(\"int\").alias(\"dur_hours\"),\n",
        "    F.col(\"Duration\").substr(4, 2).cast(\"int\").alias(\"dur_minutes\"),\n",
        "    F.col(\"Duration\").substr(7, 2).cast(\"int\").alias(\"dur_seconds\"),\n",
        ").distinct().show(\n",
        "    5\n",
        ")"
      ],
      "metadata": {
        "id": "Ib-ZtjW12Twz",
        "outputId": "844b7fa6-dc6d-44f7-981c-e9394beb3f83",
        "colab": {
          "base_uri": "https://localhost:8080/"
        }
      },
      "execution_count": null,
      "outputs": [
        {
          "output_type": "stream",
          "name": "stdout",
          "text": [
            "+----------------+---------+-----------+-----------+\n",
            "|        Duration|dur_hours|dur_minutes|dur_seconds|\n",
            "+----------------+---------+-----------+-----------+\n",
            "|00:04:52.0000000|        0|          4|         52|\n",
            "|00:10:06.0000000|        0|         10|          6|\n",
            "|00:26:41.0000000|        0|         26|         41|\n",
            "|00:05:29.0000000|        0|          5|         29|\n",
            "|00:08:18.0000000|        0|          8|         18|\n",
            "+----------------+---------+-----------+-----------+\n",
            "only showing top 5 rows\n",
            "\n"
          ]
        }
      ]
    },
    {
      "cell_type": "code",
      "source": [
        "logs.select(\n",
        "    F.col(\"Duration\"),\n",
        "    (\n",
        "        F.col(\"Duration\").substr(1, 2).cast(\"int\") * 60 * 60\n",
        "        + F.col(\"Duration\").substr(4, 2).cast(\"int\") * 60\n",
        "        + F.col(\"Duration\").substr(7, 2).cast(\"int\")\n",
        "    ).alias(\"Duration_seconds\"),\n",
        ").distinct().show(5)"
      ],
      "metadata": {
        "id": "mvBRip222Z0r",
        "outputId": "56cce1e8-1607-4f08-cae9-0be7177f3735",
        "colab": {
          "base_uri": "https://localhost:8080/"
        }
      },
      "execution_count": null,
      "outputs": [
        {
          "output_type": "stream",
          "name": "stdout",
          "text": [
            "+----------------+----------------+\n",
            "|        Duration|Duration_seconds|\n",
            "+----------------+----------------+\n",
            "|01:59:30.0000000|            7170|\n",
            "|00:31:00.0000000|            1860|\n",
            "|00:28:08.0000000|            1688|\n",
            "|00:10:30.0000000|             630|\n",
            "|00:32:00.0000000|            1920|\n",
            "+----------------+----------------+\n",
            "only showing top 5 rows\n",
            "\n"
          ]
        }
      ]
    },
    {
      "cell_type": "code",
      "source": [
        "#for i in logs.columns:\n",
        "#    logs.describe(i).show()\n",
        "\n",
        "for i in logs.columns:\n",
        "    logs.select(i).summary().show()"
      ],
      "metadata": {
        "id": "MdLxoQ4L2dYR",
        "outputId": "1b3a9684-797a-4ed2-ab1c-7079dbebb591",
        "colab": {
          "base_uri": "https://localhost:8080/"
        }
      },
      "execution_count": null,
      "outputs": [
        {
          "output_type": "stream",
          "name": "stdout",
          "text": [
            "+-------+--------------------+\n",
            "|summary|      BroadcastLogID|\n",
            "+-------+--------------------+\n",
            "|  count|              238945|\n",
            "|   mean|1.2168651122760174E9|\n",
            "| stddev| 1.496913424143109E7|\n",
            "|    min|          1195788151|\n",
            "|    25%|          1204679733|\n",
            "|    50%|          1213242718|\n",
            "|    75%|          1226220079|\n",
            "|    max|          1249431576|\n",
            "+-------+--------------------+\n",
            "\n",
            "+-------+------------------+\n",
            "|summary|      LogServiceID|\n",
            "+-------+------------------+\n",
            "|  count|            238945|\n",
            "|   mean| 3450.890284375065|\n",
            "| stddev|199.50673962555592|\n",
            "|    min|              3157|\n",
            "|    25%|              3287|\n",
            "|    50%|              3379|\n",
            "|    75%|              3627|\n",
            "|    max|              3925|\n",
            "+-------+------------------+\n",
            "\n",
            "+-------+\n",
            "|summary|\n",
            "+-------+\n",
            "|  count|\n",
            "|   mean|\n",
            "| stddev|\n",
            "|    min|\n",
            "|    25%|\n",
            "|    50%|\n",
            "|    75%|\n",
            "|    max|\n",
            "+-------+\n",
            "\n",
            "+-------+-----------------+\n",
            "|summary|       SequenceNO|\n",
            "+-------+-----------------+\n",
            "|  count|           238945|\n",
            "|   mean|466.3855824562138|\n",
            "| stddev|311.5109104839782|\n",
            "|    min|                1|\n",
            "|    25%|              201|\n",
            "|    50%|              428|\n",
            "|    75%|              699|\n",
            "|    max|             1463|\n",
            "+-------+-----------------+\n",
            "\n",
            "+-------+-------------------+\n",
            "|summary|AudienceTargetAgeID|\n",
            "+-------+-------------------+\n",
            "|  count|              16112|\n",
            "|   mean| 3.4929245283018866|\n",
            "| stddev| 1.0415963394745125|\n",
            "|    min|                  1|\n",
            "|    25%|                  4|\n",
            "|    50%|                  4|\n",
            "|    75%|                  4|\n",
            "|    max|                  4|\n",
            "+-------+-------------------+\n",
            "\n",
            "+-------+----------------------+\n",
            "|summary|AudienceTargetEthnicID|\n",
            "+-------+----------------------+\n",
            "|  count|                  1710|\n",
            "|   mean|    120.56432748538012|\n",
            "| stddev|     71.98694059436133|\n",
            "|    min|                     4|\n",
            "|    25%|                    74|\n",
            "|    50%|                    95|\n",
            "|    75%|                   136|\n",
            "|    max|                   337|\n",
            "+-------+----------------------+\n",
            "\n",
            "+-------+------------------+\n",
            "|summary|        CategoryID|\n",
            "+-------+------------------+\n",
            "|  count|             25506|\n",
            "|   mean|18.485297577040697|\n",
            "| stddev| 9.655852252020834|\n",
            "|    min|                 1|\n",
            "|    25%|                11|\n",
            "|    50%|                24|\n",
            "|    75%|                26|\n",
            "|    max|                29|\n",
            "+-------+------------------+\n",
            "\n",
            "+-------+-------------------+\n",
            "|summary|    ClosedCaptionID|\n",
            "+-------+-------------------+\n",
            "|  count|             224117|\n",
            "|   mean| 1.0316174141185184|\n",
            "| stddev|0.24947032900378974|\n",
            "|    min|                  1|\n",
            "|    25%|                  1|\n",
            "|    50%|                  1|\n",
            "|    75%|                  1|\n",
            "|    max|                  3|\n",
            "+-------+-------------------+\n",
            "\n",
            "+-------+------------------+\n",
            "|summary| CountryOfOriginID|\n",
            "+-------+------------------+\n",
            "|  count|             17822|\n",
            "|   mean|  4.06390977443609|\n",
            "| stddev|2.6159675821007298|\n",
            "|    min|                 2|\n",
            "|    25%|                 2|\n",
            "|    50%|                 3|\n",
            "|    75%|                 5|\n",
            "|    max|                11|\n",
            "+-------+------------------+\n",
            "\n",
            "+-------+------------------+\n",
            "|summary|  DubDramaCreditID|\n",
            "+-------+------------------+\n",
            "|  count|               263|\n",
            "|   mean|5.1254752851711025|\n",
            "| stddev| 3.451329711438564|\n",
            "|    min|                 1|\n",
            "|    25%|                 2|\n",
            "|    50%|                 4|\n",
            "|    75%|                10|\n",
            "|    max|                10|\n",
            "+-------+------------------+\n",
            "\n",
            "+-------+------------------+\n",
            "|summary|   EthnicProgramID|\n",
            "+-------+------------------+\n",
            "|  count|              1895|\n",
            "|   mean| 4.316622691292876|\n",
            "| stddev|2.2966421456800274|\n",
            "|    min|                 1|\n",
            "|    25%|                 1|\n",
            "|    50%|                 6|\n",
            "|    75%|                 6|\n",
            "|    max|                 6|\n",
            "+-------+------------------+\n",
            "\n",
            "+-------+------------------+\n",
            "|summary|ProductionSourceID|\n",
            "+-------+------------------+\n",
            "|  count|             16223|\n",
            "|   mean|11.193737286568453|\n",
            "| stddev| 6.079022239331335|\n",
            "|    min|                 1|\n",
            "|    25%|                 7|\n",
            "|    50%|                12|\n",
            "|    75%|                16|\n",
            "|    max|                19|\n",
            "+-------+------------------+\n",
            "\n",
            "+-------+-----------------+\n",
            "|summary|   ProgramClassID|\n",
            "+-------+-----------------+\n",
            "|  count|           238945|\n",
            "|   mean| 8.49341061750612|\n",
            "| stddev|7.902116846905711|\n",
            "|    min|                3|\n",
            "|    25%|                3|\n",
            "|    50%|                3|\n",
            "|    75%|               19|\n",
            "|    max|               30|\n",
            "+-------+-----------------+\n",
            "\n",
            "+-------+--------------------+\n",
            "|summary|FilmClassificationID|\n",
            "+-------+--------------------+\n",
            "|  count|                1885|\n",
            "|   mean|   1.953315649867374|\n",
            "| stddev|  1.6420515263133848|\n",
            "|    min|                   1|\n",
            "|    25%|                   1|\n",
            "|    50%|                   1|\n",
            "|    75%|                   2|\n",
            "|    max|                   8|\n",
            "+-------+--------------------+\n",
            "\n",
            "+-------+------------------+\n",
            "|summary|      ExhibitionID|\n",
            "+-------+------------------+\n",
            "|  count|              9263|\n",
            "|   mean|  4.52067364784627|\n",
            "| stddev|1.4418772626833427|\n",
            "|    min|                 1|\n",
            "|    25%|                 4|\n",
            "|    50%|                 5|\n",
            "|    75%|                 5|\n",
            "|    max|                 8|\n",
            "+-------+------------------+\n",
            "\n",
            "+-------+----------------+\n",
            "|summary|        Duration|\n",
            "+-------+----------------+\n",
            "|  count|          236724|\n",
            "|   mean|            NULL|\n",
            "| stddev|            NULL|\n",
            "|    min|00:00:01.0000000|\n",
            "|    25%|            NULL|\n",
            "|    50%|            NULL|\n",
            "|    75%|            NULL|\n",
            "|    max|06:30:09.0000000|\n",
            "+-------+----------------+\n",
            "\n",
            "+-------+----------------+\n",
            "|summary|         EndTime|\n",
            "+-------+----------------+\n",
            "|  count|          169979|\n",
            "|   mean|            NULL|\n",
            "| stddev|            NULL|\n",
            "|    min|00:00:00.0000000|\n",
            "|    25%|            NULL|\n",
            "|    50%|            NULL|\n",
            "|    75%|            NULL|\n",
            "|    max|23:59:59.0000000|\n",
            "+-------+----------------+\n",
            "\n",
            "+-------+\n",
            "|summary|\n",
            "+-------+\n",
            "|  count|\n",
            "|   mean|\n",
            "| stddev|\n",
            "|    min|\n",
            "|    25%|\n",
            "|    50%|\n",
            "|    75%|\n",
            "|    max|\n",
            "+-------+\n",
            "\n",
            "+-------+------------------+\n",
            "|summary|      ProductionNO|\n",
            "+-------+------------------+\n",
            "|  count|              3519|\n",
            "|   mean| 35710.61538461538|\n",
            "| stddev|3749.1340008607663|\n",
            "|    min|            030641|\n",
            "|    25%|           32974.0|\n",
            "|    50%|           37775.0|\n",
            "|    75%|           37775.0|\n",
            "|    max|            c34183|\n",
            "+-------+------------------+\n",
            "\n",
            "+-------+------------------+\n",
            "|summary|      ProgramTitle|\n",
            "+-------+------------------+\n",
            "|  count|            238703|\n",
            "|   mean|            1999.0|\n",
            "| stddev|              NULL|\n",
            "|    min|  !NO 5PM A ID(:5)|\n",
            "|    25%|            1999.0|\n",
            "|    50%|            1999.0|\n",
            "|    75%|            1999.0|\n",
            "|    max|�t� avec Jo�l 2/Un|\n",
            "+-------+------------------+\n",
            "\n",
            "+-------+----------------+\n",
            "|summary|       StartTime|\n",
            "+-------+----------------+\n",
            "|  count|          238945|\n",
            "|   mean|            NULL|\n",
            "| stddev|            NULL|\n",
            "|    min|00:00:00.0000000|\n",
            "|    25%|            NULL|\n",
            "|    50%|            NULL|\n",
            "|    75%|            NULL|\n",
            "|    max|23:59:59.0000000|\n",
            "+-------+----------------+\n",
            "\n",
            "+-------+--------------------+\n",
            "|summary|            Subtitle|\n",
            "+-------+--------------------+\n",
            "|  count|               15468|\n",
            "|   mean|   3463.573913043478|\n",
            "| stddev|  16251.272419144227|\n",
            "|    min|                #001|\n",
            "|    25%|                17.0|\n",
            "|    50%|               106.0|\n",
            "|    75%|              2014.0|\n",
            "|    max|�tre dans le trou...|\n",
            "+-------+--------------------+\n",
            "\n",
            "+-------+--------------------+\n",
            "|summary|NetworkAffiliationID|\n",
            "+-------+--------------------+\n",
            "|  count|              108807|\n",
            "|   mean|   6.082200593711802|\n",
            "| stddev|  2.9908486752285115|\n",
            "|    min|                   1|\n",
            "|    25%|                   5|\n",
            "|    50%|                   6|\n",
            "|    75%|                   9|\n",
            "|    max|                   9|\n",
            "+-------+--------------------+\n",
            "\n",
            "+-------+------------------+\n",
            "|summary|SpecialAttentionID|\n",
            "+-------+------------------+\n",
            "|  count|              2395|\n",
            "|   mean| 1.704384133611691|\n",
            "| stddev|0.5394635034869686|\n",
            "|    min|                 1|\n",
            "|    25%|                 1|\n",
            "|    50%|                 2|\n",
            "|    75%|                 2|\n",
            "|    max|                 3|\n",
            "+-------+------------------+\n",
            "\n",
            "+-------+----------------------+\n",
            "|summary|BroadcastOriginPointID|\n",
            "+-------+----------------------+\n",
            "|  count|                  9978|\n",
            "|   mean|    2.1390058127881337|\n",
            "| stddev|    0.9323192037553304|\n",
            "|    min|                     1|\n",
            "|    25%|                     1|\n",
            "|    50%|                     3|\n",
            "|    75%|                     3|\n",
            "|    max|                     3|\n",
            "+-------+----------------------+\n",
            "\n",
            "+-------+------------------+\n",
            "|summary|     CompositionID|\n",
            "+-------+------------------+\n",
            "|  count|              9978|\n",
            "|   mean|3.4141110442974543|\n",
            "| stddev|0.9338603403654618|\n",
            "|    min|                 1|\n",
            "|    25%|                 3|\n",
            "|    50%|                 4|\n",
            "|    75%|                 4|\n",
            "|    max|                 4|\n",
            "+-------+------------------+\n",
            "\n",
            "+-------+---------+\n",
            "|summary|Producer1|\n",
            "+-------+---------+\n",
            "|  count|     2607|\n",
            "|   mean|     NULL|\n",
            "| stddev|     NULL|\n",
            "|    min|      AMI|\n",
            "|    25%|     NULL|\n",
            "|    50%|     NULL|\n",
            "|    75%|     NULL|\n",
            "|    max|   VISION|\n",
            "+-------+---------+\n",
            "\n",
            "+-------+---------+\n",
            "|summary|Producer2|\n",
            "+-------+---------+\n",
            "|  count|       38|\n",
            "|   mean|     NULL|\n",
            "| stddev|     NULL|\n",
            "|    min|    NEWSW|\n",
            "|    25%|     NULL|\n",
            "|    50%|     NULL|\n",
            "|    75%|     NULL|\n",
            "|    max|       QC|\n",
            "+-------+---------+\n",
            "\n",
            "+-------+------------------+\n",
            "|summary|         Language1|\n",
            "+-------+------------------+\n",
            "|  count|             12586|\n",
            "|   mean|101.75377403464167|\n",
            "| stddev| 45.68403685468214|\n",
            "|    min|                94|\n",
            "|    25%|                94|\n",
            "|    50%|                94|\n",
            "|    75%|                94|\n",
            "|    max|               437|\n",
            "+-------+------------------+\n",
            "\n",
            "+-------+------------------+\n",
            "|summary|         Language2|\n",
            "+-------+------------------+\n",
            "|  count|              2629|\n",
            "|   mean|175.49334347660707|\n",
            "| stddev| 86.03603792883942|\n",
            "|    min|                 3|\n",
            "|    25%|               134|\n",
            "|    50%|               151|\n",
            "|    75%|               259|\n",
            "|    max|               438|\n",
            "+-------+------------------+\n",
            "\n"
          ]
        }
      ]
    },
    {
      "cell_type": "code",
      "source": [
        "DIRECTORY = \"data/broadcast_logs\"\n",
        "log_identifier = spark.read.csv(\n",
        "    os.path.join(DIRECTORY, \"ReferenceTables/LogIdentifier.csv\"),\n",
        "    sep=\"|\",\n",
        "    header=True,\n",
        "    inferSchema=True,\n",
        ")\n",
        "\n",
        "log_identifier.printSchema()"
      ],
      "metadata": {
        "id": "2yrBKoSkI3-O",
        "outputId": "7477a6f4-e6f2-4f69-a054-d9d9e000245d",
        "colab": {
          "base_uri": "https://localhost:8080/"
        }
      },
      "execution_count": 10,
      "outputs": [
        {
          "output_type": "stream",
          "name": "stdout",
          "text": [
            "root\n",
            " |-- LogIdentifierID: string (nullable = true)\n",
            " |-- LogServiceID: integer (nullable = true)\n",
            " |-- PrimaryFG: integer (nullable = true)\n",
            "\n"
          ]
        }
      ]
    },
    {
      "cell_type": "code",
      "source": [
        "log_identifier.show(5)"
      ],
      "metadata": {
        "id": "ASd0QkkbI-F9",
        "outputId": "69d7c7d4-58c5-4dc2-8921-64f8c0649f80",
        "colab": {
          "base_uri": "https://localhost:8080/"
        }
      },
      "execution_count": 12,
      "outputs": [
        {
          "output_type": "stream",
          "name": "stdout",
          "text": [
            "+---------------+------------+---------+\n",
            "|LogIdentifierID|LogServiceID|PrimaryFG|\n",
            "+---------------+------------+---------+\n",
            "|           13ST|        3157|        1|\n",
            "|         2000SM|        3466|        1|\n",
            "|           70SM|        3883|        1|\n",
            "|           80SM|        3590|        1|\n",
            "|           90SM|        3470|        1|\n",
            "+---------------+------------+---------+\n",
            "only showing top 5 rows\n",
            "\n"
          ]
        }
      ]
    },
    {
      "cell_type": "code",
      "source": [
        "logs_and_channels_verbose = logs.join(\n",
        "    log_identifier, logs[\"LogServiceID\"] == log_identifier[\"LogServiceID\"]\n",
        ")\n",
        "\n",
        "logs_and_channels_verbose.printSchema()"
      ],
      "metadata": {
        "id": "hopAn65P2dG6",
        "outputId": "65aea44a-5515-4641-e8ec-d4dbb3aaa7c4",
        "colab": {
          "base_uri": "https://localhost:8080/"
        }
      },
      "execution_count": 11,
      "outputs": [
        {
          "output_type": "stream",
          "name": "stdout",
          "text": [
            "root\n",
            " |-- LogServiceID: integer (nullable = true)\n",
            " |-- LogDate: date (nullable = true)\n",
            " |-- AudienceTargetAgeID: integer (nullable = true)\n",
            " |-- AudienceTargetEthnicID: integer (nullable = true)\n",
            " |-- CategoryID: integer (nullable = true)\n",
            " |-- ClosedCaptionID: integer (nullable = true)\n",
            " |-- CountryOfOriginID: integer (nullable = true)\n",
            " |-- DubDramaCreditID: integer (nullable = true)\n",
            " |-- EthnicProgramID: integer (nullable = true)\n",
            " |-- ProductionSourceID: integer (nullable = true)\n",
            " |-- ProgramClassID: integer (nullable = true)\n",
            " |-- FilmClassificationID: integer (nullable = true)\n",
            " |-- ExhibitionID: integer (nullable = true)\n",
            " |-- Duration: string (nullable = true)\n",
            " |-- EndTime: string (nullable = true)\n",
            " |-- LogEntryDate: date (nullable = true)\n",
            " |-- ProductionNO: string (nullable = true)\n",
            " |-- ProgramTitle: string (nullable = true)\n",
            " |-- StartTime: string (nullable = true)\n",
            " |-- Subtitle: string (nullable = true)\n",
            " |-- NetworkAffiliationID: integer (nullable = true)\n",
            " |-- SpecialAttentionID: integer (nullable = true)\n",
            " |-- BroadcastOriginPointID: integer (nullable = true)\n",
            " |-- CompositionID: integer (nullable = true)\n",
            " |-- Producer1: string (nullable = true)\n",
            " |-- Producer2: string (nullable = true)\n",
            " |-- Language1: integer (nullable = true)\n",
            " |-- Language2: integer (nullable = true)\n",
            " |-- duration_seconds: integer (nullable = true)\n",
            " |-- LogIdentifierID: string (nullable = true)\n",
            " |-- LogServiceID: integer (nullable = true)\n",
            " |-- PrimaryFG: integer (nullable = true)\n",
            "\n"
          ]
        }
      ]
    },
    {
      "cell_type": "code",
      "source": [
        "logs_and_channels = logs.join(log_identifier, \"LogServiceID\")\n",
        "\n",
        "logs_and_channels.printSchema()"
      ],
      "metadata": {
        "id": "npLOOaduIo1u",
        "outputId": "2872bb84-8a53-4d31-ebe0-87a9f7023781",
        "colab": {
          "base_uri": "https://localhost:8080/"
        }
      },
      "execution_count": 13,
      "outputs": [
        {
          "output_type": "stream",
          "name": "stdout",
          "text": [
            "root\n",
            " |-- LogServiceID: integer (nullable = true)\n",
            " |-- LogDate: date (nullable = true)\n",
            " |-- AudienceTargetAgeID: integer (nullable = true)\n",
            " |-- AudienceTargetEthnicID: integer (nullable = true)\n",
            " |-- CategoryID: integer (nullable = true)\n",
            " |-- ClosedCaptionID: integer (nullable = true)\n",
            " |-- CountryOfOriginID: integer (nullable = true)\n",
            " |-- DubDramaCreditID: integer (nullable = true)\n",
            " |-- EthnicProgramID: integer (nullable = true)\n",
            " |-- ProductionSourceID: integer (nullable = true)\n",
            " |-- ProgramClassID: integer (nullable = true)\n",
            " |-- FilmClassificationID: integer (nullable = true)\n",
            " |-- ExhibitionID: integer (nullable = true)\n",
            " |-- Duration: string (nullable = true)\n",
            " |-- EndTime: string (nullable = true)\n",
            " |-- LogEntryDate: date (nullable = true)\n",
            " |-- ProductionNO: string (nullable = true)\n",
            " |-- ProgramTitle: string (nullable = true)\n",
            " |-- StartTime: string (nullable = true)\n",
            " |-- Subtitle: string (nullable = true)\n",
            " |-- NetworkAffiliationID: integer (nullable = true)\n",
            " |-- SpecialAttentionID: integer (nullable = true)\n",
            " |-- BroadcastOriginPointID: integer (nullable = true)\n",
            " |-- CompositionID: integer (nullable = true)\n",
            " |-- Producer1: string (nullable = true)\n",
            " |-- Producer2: string (nullable = true)\n",
            " |-- Language1: integer (nullable = true)\n",
            " |-- Language2: integer (nullable = true)\n",
            " |-- duration_seconds: integer (nullable = true)\n",
            " |-- LogIdentifierID: string (nullable = true)\n",
            " |-- PrimaryFG: integer (nullable = true)\n",
            "\n"
          ]
        }
      ]
    },
    {
      "cell_type": "code",
      "source": [
        "DIRECTORY = \"data/broadcast_logs\"\n",
        "\n",
        "cd_category = spark.read.csv(\n",
        "    os.path.join(DIRECTORY, \"ReferenceTables/CD_Category.csv\"),\n",
        "    sep=\"|\",\n",
        "    header=True,\n",
        "    inferSchema=True,\n",
        ").select(\n",
        "    \"CategoryID\",\n",
        "    \"CategoryCD\",\n",
        "    F.col(\"EnglishDescription\").alias(\"Category_Description\"),\n",
        ")\n",
        "\n",
        "cd_program_class = spark.read.csv(\n",
        "    os.path.join(DIRECTORY, \"ReferenceTables/CD_ProgramClass.csv\"),\n",
        "    sep=\"|\",\n",
        "    header=True,\n",
        "    inferSchema=True,\n",
        ").select(\n",
        "    \"ProgramClassID\",\n",
        "    \"ProgramClassCD\",\n",
        "    F.col(\"EnglishDescription\").alias(\"ProgramClass_Description\"),\n",
        ")\n",
        "\n",
        "full_log = logs_and_channels.join(cd_category, \"CategoryID\", how=\"left\").join(\n",
        "    cd_program_class, \"ProgramClassID\", how=\"left\"\n",
        ")"
      ],
      "metadata": {
        "id": "xxFS-TDMH07t"
      },
      "execution_count": 14,
      "outputs": []
    },
    {
      "cell_type": "code",
      "source": [
        "full_log.show(10)"
      ],
      "metadata": {
        "id": "NkpOcpOAJO2N",
        "outputId": "7b796f21-1a52-4646-f8ed-faf7e8d35edc",
        "colab": {
          "base_uri": "https://localhost:8080/"
        }
      },
      "execution_count": 15,
      "outputs": [
        {
          "output_type": "stream",
          "name": "stdout",
          "text": [
            "+--------------+----------+------------+----------+-------------------+----------------------+---------------+-----------------+----------------+---------------+------------------+--------------------+------------+----------------+----------------+------------+------------+--------------------+----------------+--------+--------------------+------------------+----------------------+-------------+---------+---------+---------+---------+----------------+---------------+---------+----------+--------------------+--------------+------------------------+\n",
            "|ProgramClassID|CategoryID|LogServiceID|   LogDate|AudienceTargetAgeID|AudienceTargetEthnicID|ClosedCaptionID|CountryOfOriginID|DubDramaCreditID|EthnicProgramID|ProductionSourceID|FilmClassificationID|ExhibitionID|        Duration|         EndTime|LogEntryDate|ProductionNO|        ProgramTitle|       StartTime|Subtitle|NetworkAffiliationID|SpecialAttentionID|BroadcastOriginPointID|CompositionID|Producer1|Producer2|Language1|Language2|duration_seconds|LogIdentifierID|PrimaryFG|CategoryCD|Category_Description|ProgramClassCD|ProgramClass_Description|\n",
            "+--------------+----------+------------+----------+-------------------+----------------------+---------------+-----------------+----------------+---------------+------------------+--------------------+------------+----------------+----------------+------------+------------+--------------------+----------------+--------+--------------------+------------------+----------------------+-------------+---------+---------+---------+---------+----------------+---------------+---------+----------+--------------------+--------------+------------------------+\n",
            "|            19|        13|        3157|2018-08-01|                  4|                  NULL|              3|                3|            NULL|           NULL|                10|                NULL|           2|02:00:00.0000000|08:00:00.0000000|  2018-08-01|      A39082|   Newlywed and Dead|06:00:00.0000000|    NULL|                NULL|              NULL|                  NULL|         NULL|     NULL|     NULL|       94|     NULL|            7200|             CI|        0|       07C|SPECIALS,MINI-SER...|          PGR |                 PROGRAM|\n",
            "|            19|        13|        3157|2018-08-01|                  4|                  NULL|              3|                3|            NULL|           NULL|                10|                NULL|           2|02:00:00.0000000|08:00:00.0000000|  2018-08-01|      A39082|   Newlywed and Dead|06:00:00.0000000|    NULL|                NULL|              NULL|                  NULL|         NULL|     NULL|     NULL|       94|     NULL|            7200|           13ST|        1|       07C|SPECIALS,MINI-SER...|          PGR |                 PROGRAM|\n",
            "|            20|      NULL|        3157|2018-08-01|               NULL|                  NULL|              1|             NULL|            NULL|           NULL|              NULL|                NULL|        NULL|00:00:30.0000000|06:13:45.0000000|  2018-08-01|        NULL|15-SPECIALTY CHAN...|06:13:15.0000000|    NULL|                NULL|              NULL|                  NULL|         NULL|     NULL|     NULL|     NULL|     NULL|              30|             CI|        0|      NULL|                NULL|          PRC |    PROMOTION OF UPCO...|\n",
            "|            20|      NULL|        3157|2018-08-01|               NULL|                  NULL|              1|             NULL|            NULL|           NULL|              NULL|                NULL|        NULL|00:00:30.0000000|06:13:45.0000000|  2018-08-01|        NULL|15-SPECIALTY CHAN...|06:13:15.0000000|    NULL|                NULL|              NULL|                  NULL|         NULL|     NULL|     NULL|     NULL|     NULL|              30|           13ST|        1|      NULL|                NULL|          PRC |    PROMOTION OF UPCO...|\n",
            "|             3|      NULL|        3157|2018-08-01|               NULL|                  NULL|              1|             NULL|            NULL|           NULL|              NULL|                NULL|        NULL|00:00:15.0000000|06:14:00.0000000|  2018-08-01|        NULL|3-PROCTER & GAMBL...|06:13:45.0000000|    NULL|                NULL|              NULL|                  NULL|         NULL|     NULL|     NULL|     NULL|     NULL|              15|             CI|        0|      NULL|                NULL|          COM |      COMMERCIAL MESSAGE|\n",
            "|             3|      NULL|        3157|2018-08-01|               NULL|                  NULL|              1|             NULL|            NULL|           NULL|              NULL|                NULL|        NULL|00:00:15.0000000|06:14:00.0000000|  2018-08-01|        NULL|3-PROCTER & GAMBL...|06:13:45.0000000|    NULL|                NULL|              NULL|                  NULL|         NULL|     NULL|     NULL|     NULL|     NULL|              15|           13ST|        1|      NULL|                NULL|          COM |      COMMERCIAL MESSAGE|\n",
            "|             3|      NULL|        3157|2018-08-01|               NULL|                  NULL|              1|             NULL|            NULL|           NULL|              NULL|                NULL|        NULL|00:00:15.0000000|06:14:15.0000000|  2018-08-01|        NULL|12-CREDIT KARMA-B...|06:14:00.0000000|    NULL|                NULL|              NULL|                  NULL|         NULL|     NULL|     NULL|     NULL|     NULL|              15|             CI|        0|      NULL|                NULL|          COM |      COMMERCIAL MESSAGE|\n",
            "|             3|      NULL|        3157|2018-08-01|               NULL|                  NULL|              1|             NULL|            NULL|           NULL|              NULL|                NULL|        NULL|00:00:15.0000000|06:14:15.0000000|  2018-08-01|        NULL|12-CREDIT KARMA-B...|06:14:00.0000000|    NULL|                NULL|              NULL|                  NULL|         NULL|     NULL|     NULL|     NULL|     NULL|              15|           13ST|        1|      NULL|                NULL|          COM |      COMMERCIAL MESSAGE|\n",
            "|             3|      NULL|        3157|2018-08-01|               NULL|                  NULL|              1|             NULL|            NULL|           NULL|              NULL|                NULL|        NULL|00:00:15.0000000|06:14:30.0000000|  2018-08-01|        NULL|3-L'OREAL CANADA-...|06:14:15.0000000|    NULL|                NULL|              NULL|                  NULL|         NULL|     NULL|     NULL|     NULL|     NULL|              15|             CI|        0|      NULL|                NULL|          COM |      COMMERCIAL MESSAGE|\n",
            "|             3|      NULL|        3157|2018-08-01|               NULL|                  NULL|              1|             NULL|            NULL|           NULL|              NULL|                NULL|        NULL|00:00:15.0000000|06:14:30.0000000|  2018-08-01|        NULL|3-L'OREAL CANADA-...|06:14:15.0000000|    NULL|                NULL|              NULL|                  NULL|         NULL|     NULL|     NULL|     NULL|     NULL|              15|           13ST|        1|      NULL|                NULL|          COM |      COMMERCIAL MESSAGE|\n",
            "+--------------+----------+------------+----------+-------------------+----------------------+---------------+-----------------+----------------+---------------+------------------+--------------------+------------+----------------+----------------+------------+------------+--------------------+----------------+--------+--------------------+------------------+----------------------+-------------+---------+---------+---------+---------+----------------+---------------+---------+----------+--------------------+--------------+------------------------+\n",
            "only showing top 10 rows\n",
            "\n"
          ]
        }
      ]
    },
    {
      "cell_type": "code",
      "source": [],
      "metadata": {
        "id": "gaNYK6fjJbR1"
      },
      "execution_count": null,
      "outputs": []
    },
    {
      "cell_type": "markdown",
      "source": [
        "# Commercial Ratio Example"
      ],
      "metadata": {
        "id": "HQXtzJXe2EnL"
      }
    },
    {
      "cell_type": "code",
      "source": [
        "#  commercials.py #############################################################\n",
        "#\n",
        "# This program computes the commercial ratio for each channel present in the\n",
        "# dataset.\n",
        "#\n",
        "###############################################################################\n",
        "\n",
        "import os\n",
        "\n",
        "import pyspark.sql.functions as F\n",
        "from pyspark.sql import SparkSession\n",
        "\n",
        "spark = SparkSession.builder.appName(\n",
        "    \"Getting the Canadian TV channels with the highest/lowest proportion of commercials.\"\n",
        ").getOrCreate()\n",
        "\n",
        "spark.sparkContext.setLogLevel(\"WARN\")\n",
        "\n",
        "###############################################################################\n",
        "# Reading all the relevant data sources\n",
        "###############################################################################\n",
        "\n",
        "DIRECTORY = \"data/broadcast_logs\"\n",
        "\n",
        "logs = spark.read.csv(\n",
        "    os.path.join(DIRECTORY, \"BroadcastLogs_2018_Q3_M8_sample.CSV\"),\n",
        "    sep=\"|\",\n",
        "    header=True,\n",
        "    inferSchema=True,\n",
        ")\n",
        "\n",
        "log_identifier = spark.read.csv(\n",
        "    \"data/broadcast_logs/ReferenceTables/LogIdentifier.csv\",\n",
        "    sep=\"|\",\n",
        "    header=True,\n",
        "    inferSchema=True,\n",
        ")\n",
        "\n",
        "cd_category = spark.read.csv(\n",
        "    \"data/broadcast_logs/ReferenceTables/CD_Category.csv\",\n",
        "    sep=\"|\",\n",
        "    header=True,\n",
        "    inferSchema=True,\n",
        ").select(\n",
        "    \"CategoryID\",\n",
        "    \"CategoryCD\",\n",
        "    F.col(\"EnglishDescription\").alias(\"Category_Description\"),\n",
        ")\n",
        "\n",
        "cd_program_class = spark.read.csv(\n",
        "    \"data/broadcast_logs/ReferenceTables/CD_ProgramClass.csv\",\n",
        "    sep=\"|\",\n",
        "    header=True,\n",
        "    inferSchema=True,\n",
        ").select(\n",
        "    \"ProgramClassID\",\n",
        "    \"ProgramClassCD\",\n",
        "    F.col(\"EnglishDescription\").alias(\"ProgramClass_Description\"),\n",
        ")\n",
        "\n",
        "###############################################################################\n",
        "# Data processing\n",
        "###############################################################################\n",
        "\n",
        "logs = logs.drop(\"BroadcastLogID\", \"SequenceNO\")\n",
        "\n",
        "logs = logs.withColumn(\n",
        "    \"duration_seconds\",\n",
        "    (\n",
        "        F.col(\"Duration\").substr(1, 2).cast(\"int\") * 60 * 60\n",
        "        + F.col(\"Duration\").substr(4, 2).cast(\"int\") * 60\n",
        "        + F.col(\"Duration\").substr(7, 2).cast(\"int\")\n",
        "    ),\n",
        ")\n",
        "\n",
        "log_identifier = log_identifier.where(F.col(\"PrimaryFG\") == 1)\n",
        "\n",
        "logs_and_channels = logs.join(log_identifier, \"LogServiceID\")\n",
        "\n",
        "full_log = logs_and_channels.join(cd_category, \"CategoryID\", how=\"left\").join(\n",
        "    cd_program_class, \"ProgramClassID\", how=\"left\"\n",
        ")\n",
        "\n",
        "full_log.groupby(\"LogIdentifierID\").agg(\n",
        "    F.sum(\n",
        "        F.when(\n",
        "            F.trim(F.col(\"ProgramClassCD\")).isin(\n",
        "                [\"COM\", \"PRC\", \"PGI\", \"PRO\", \"LOC\", \"SPO\", \"MER\", \"SOL\"]\n",
        "            ),\n",
        "            F.col(\"duration_seconds\"),\n",
        "        ).otherwise(0)\n",
        "    ).alias(\"duration_commercial\"),\n",
        "    F.sum(\"duration_seconds\").alias(\"duration_total\"),\n",
        ").withColumn(\n",
        "    \"commercial_ratio\", F.col(\"duration_commercial\") / F.col(\"duration_total\")\n",
        ").orderBy(\n",
        "    \"commercial_ratio\", ascending=False\n",
        ").show(\n",
        "    1000, False\n",
        ")"
      ],
      "metadata": {
        "id": "rYOUyGBlyJFV",
        "outputId": "02691ade-a125-4ef7-ce40-6ca507a48c40",
        "colab": {
          "base_uri": "https://localhost:8080/"
        }
      },
      "execution_count": null,
      "outputs": [
        {
          "output_type": "stream",
          "name": "stdout",
          "text": [
            "+---------------+-------------------+--------------+----------------+\n",
            "|LogIdentifierID|duration_commercial|duration_total|commercial_ratio|\n",
            "+---------------+-------------------+--------------+----------------+\n",
            "|CJCO           |0                  |NULL          |NULL            |\n",
            "|BRAVO          |0                  |NULL          |NULL            |\n",
            "|CFTF           |0                  |NULL          |NULL            |\n",
            "|CKCS           |0                  |NULL          |NULL            |\n",
            "|CJNT           |0                  |NULL          |NULL            |\n",
            "|CKES           |0                  |NULL          |NULL            |\n",
            "|CHBX           |0                  |NULL          |NULL            |\n",
            "|BBCKID         |0                  |NULL          |NULL            |\n",
            "|BOOK           |0                  |NULL          |NULL            |\n",
            "|CHAN           |0                  |NULL          |NULL            |\n",
            "|CEVASI         |0                  |NULL          |NULL            |\n",
            "|CMT            |0                  |NULL          |NULL            |\n",
            "|CIII           |0                  |NULL          |NULL            |\n",
            "|CFMT           |0                  |NULL          |NULL            |\n",
            "|CFGS           |0                  |NULL          |NULL            |\n",
            "|CBKT           |0                  |NULL          |NULL            |\n",
            "|CHEK           |0                  |NULL          |NULL            |\n",
            "|CFCF           |0                  |NULL          |NULL            |\n",
            "|CBXT           |0                  |NULL          |NULL            |\n",
            "|CIVM           |0                  |NULL          |NULL            |\n",
            "|CESS           |0                  |NULL          |NULL            |\n",
            "|CBHT           |0                  |NULL          |NULL            |\n",
            "|CICC           |0                  |NULL          |NULL            |\n",
            "|CFTM           |0                  |NULL          |NULL            |\n",
            "|CJOH           |0                  |NULL          |NULL            |\n",
            "|CBAFT          |0                  |NULL          |NULL            |\n",
            "|CFTV           |0                  |NULL          |NULL            |\n",
            "|CFCM           |0                  |NULL          |NULL            |\n",
            "|CKPG           |0                  |NULL          |NULL            |\n",
            "|CKVU           |0                  |NULL          |NULL            |\n",
            "|ATN9           |0                  |NULL          |NULL            |\n",
            "|CJPM           |0                  |NULL          |NULL            |\n",
            "|CKWS1          |0                  |NULL          |NULL            |\n",
            "|CFTU           |0                  |NULL          |NULL            |\n",
            "|CICA           |0                  |NULL          |NULL            |\n",
            "|MAKE           |0                  |NULL          |NULL            |\n",
            "|CITY           |0                  |NULL          |NULL            |\n",
            "|CFRS           |0                  |NULL          |NULL            |\n",
            "|CKY            |0                  |NULL          |NULL            |\n",
            "|13ST           |0                  |NULL          |NULL            |\n",
            "|CFRE           |0                  |NULL          |NULL            |\n",
            "|CJMT           |0                  |NULL          |NULL            |\n",
            "|BBCCND         |0                  |NULL          |NULL            |\n",
            "|CFKS           |0                  |NULL          |NULL            |\n",
            "|CJDC           |0                  |NULL          |NULL            |\n",
            "|CKVR           |0                  |NULL          |NULL            |\n",
            "|CKCK           |0                  |NULL          |NULL            |\n",
            "|CFPL           |0                  |NULL          |NULL            |\n",
            "|CJCB           |0                  |NULL          |NULL            |\n",
            "|OWN            |0                  |NULL          |NULL            |\n",
            "|CFTK           |0                  |NULL          |NULL            |\n",
            "|CITV           |0                  |NULL          |NULL            |\n",
            "|ANIMAL         |0                  |NULL          |NULL            |\n",
            "|ASN            |0                  |NULL          |NULL            |\n",
            "|CBMT           |0                  |NULL          |NULL            |\n",
            "|CKAL           |0                  |NULL          |NULL            |\n",
            "|CBUFT          |0                  |NULL          |NULL            |\n",
            "|CKND           |0                  |NULL          |NULL            |\n",
            "|ATN3           |0                  |NULL          |NULL            |\n",
            "|CFJP           |0                  |NULL          |NULL            |\n",
            "|VRAK           |0                  |NULL          |NULL            |\n",
            "|CBXFT          |0                  |NULL          |NULL            |\n",
            "|CFQC           |0                  |NULL          |NULL            |\n",
            "|CFKM           |0                  |NULL          |NULL            |\n",
            "|CBWT           |0                  |NULL          |NULL            |\n",
            "|CIMT           |0                  |NULL          |NULL            |\n",
            "|CIPA           |0                  |NULL          |NULL            |\n",
            "|CIHF           |0                  |NULL          |NULL            |\n",
            "|CFCN           |0                  |NULL          |NULL            |\n",
            "|CHFD           |0                  |NULL          |NULL            |\n",
            "|CBVT           |0                  |NULL          |NULL            |\n",
            "|CHMG           |0                  |NULL          |NULL            |\n",
            "|ARTV           |0                  |NULL          |NULL            |\n",
            "|CANALD         |0                  |NULL          |NULL            |\n",
            "|CKRT           |0                  |NULL          |NULL            |\n",
            "|CFER           |0                  |NULL          |NULL            |\n",
            "|GAME           |0                  |NULL          |NULL            |\n",
            "|ZT�L�          |0                  |NULL          |NULL            |\n",
            "|CBC            |0                  |NULL          |NULL            |\n",
            "|CITS           |0                  |NULL          |NULL            |\n",
            "|CBAT           |0                  |NULL          |NULL            |\n",
            "|CKLT           |0                  |NULL          |NULL            |\n",
            "|CIVI           |0                  |NULL          |NULL            |\n",
            "|COSMO          |0                  |NULL          |NULL            |\n",
            "|CKEM           |0                  |NULL          |NULL            |\n",
            "|ATN8           |0                  |NULL          |NULL            |\n",
            "|CKWS           |0                  |NULL          |NULL            |\n",
            "|CBNT           |0                  |NULL          |NULL            |\n",
            "|CHAT           |0                  |NULL          |NULL            |\n",
            "|CBUT           |0                  |NULL          |NULL            |\n",
            "|ABORIN         |0                  |NULL          |NULL            |\n",
            "|CKNO           |0                  |NULL          |NULL            |\n",
            "|ALLTV          |0                  |NULL          |NULL            |\n",
            "|CHMI           |0                  |NULL          |NULL            |\n",
            "|CJEO           |0                  |NULL          |NULL            |\n",
            "|CITO           |0                  |NULL          |NULL            |\n",
            "|BC1            |0                  |NULL          |NULL            |\n",
            "|CBLT           |0                  |NULL          |NULL            |\n",
            "|CFYK           |0                  |NULL          |NULL            |\n",
            "|CANALVIE       |0                  |NULL          |NULL            |\n",
            "|CJIL           |0                  |NULL          |NULL            |\n",
            "|ATN5           |0                  |NULL          |NULL            |\n",
            "|CIIT           |0                  |NULL          |NULL            |\n",
            "|CFCNL          |0                  |NULL          |NULL            |\n",
            "|CBFT           |0                  |NULL          |NULL            |\n",
            "|ATN6           |0                  |NULL          |NULL            |\n",
            "|CFRN6          |0                  |NULL          |NULL            |\n",
            "|CHAU           |0                  |NULL          |NULL            |\n",
            "|ATN2           |0                  |NULL          |NULL            |\n",
            "|ATN7           |0                  |NULL          |NULL            |\n",
            "|CFJC           |0                  |NULL          |NULL            |\n",
            "|CJCH           |0                  |NULL          |NULL            |\n",
            "|CHRO           |0                  |NULL          |NULL            |\n",
            "|CKCW           |0                  |NULL          |NULL            |\n",
            "|CFVS           |0                  |NULL          |NULL            |\n",
            "|CFTO           |0                  |NULL          |NULL            |\n",
            "|CKNY           |0                  |NULL          |NULL            |\n",
            "|CBRT           |0                  |NULL          |NULL            |\n",
            "|CHNU           |0                  |NULL          |NULL            |\n",
            "|CISA           |0                  |NULL          |NULL            |\n",
            "|CICI           |0                  |NULL          |NULL            |\n",
            "|CPOP           |0                  |NULL          |NULL            |\n",
            "|BLC            |0                  |NULL          |NULL            |\n",
            "|CICT           |0                  |NULL          |NULL            |\n",
            "|CKTM           |0                  |NULL          |NULL            |\n",
            "|CHLT           |0                  |NULL          |NULL            |\n",
            "|CBLFT          |0                  |NULL          |NULL            |\n",
            "|ABORIW         |0                  |NULL          |NULL            |\n",
            "|CITL           |0                  |NULL          |NULL            |\n",
            "|CKTV           |0                  |NULL          |NULL            |\n",
            "|CBKFT          |0                  |NULL          |NULL            |\n",
            "|CHEX02         |0                  |NULL          |NULL            |\n",
            "|CFSK           |0                  |NULL          |NULL            |\n",
            "|CBOT           |0                  |NULL          |NULL            |\n",
            "|CHBC           |0                  |NULL          |NULL            |\n",
            "|CHCH           |0                  |NULL          |NULL            |\n",
            "|CKMI           |0                  |NULL          |NULL            |\n",
            "|CFHD           |0                  |NULL          |NULL            |\n",
            "|CKSH           |0                  |NULL          |NULL            |\n",
            "|ASIDE          |0                  |NULL          |NULL            |\n",
            "|CBWFT          |0                  |NULL          |NULL            |\n",
            "|CHEX           |0                  |NULL          |NULL            |\n",
            "|CKPR           |0                  |NULL          |NULL            |\n",
            "|ATN1           |0                  |NULL          |NULL            |\n",
            "|CHNB2          |0                  |NULL          |NULL            |\n",
            "|CSCN           |0                  |NULL          |NULL            |\n",
            "|CFEM           |0                  |NULL          |NULL            |\n",
            "|COTT           |0                  |NULL          |NULL            |\n",
            "|ABORI          |0                  |NULL          |NULL            |\n",
            "|CBET           |0                  |NULL          |NULL            |\n",
            "|CJBRT          |0                  |NULL          |NULL            |\n",
            "|CHNM           |0                  |NULL          |NULL            |\n",
            "|CBOFT          |0                  |NULL          |NULL            |\n",
            "|CKSA           |0                  |NULL          |NULL            |\n",
            "|INVDIS         |0                  |NULL          |NULL            |\n",
            "|CHEM           |0                  |NULL          |NULL            |\n",
            "|CKCO           |0                  |NULL          |NULL            |\n",
            "|CHOT           |0                  |NULL          |NULL            |\n",
            "|CFRN           |0                  |NULL          |NULL            |\n",
            "|CFAP           |0                  |NULL          |NULL            |\n",
            "|CHWI           |0                  |NULL          |NULL            |\n",
            "|CIVT           |0                  |NULL          |NULL            |\n",
            "|CBCT           |0                  |NULL          |NULL            |\n",
            "|CJON           |0                  |NULL          |NULL            |\n",
            "|CHLF           |0                  |NULL          |NULL            |\n",
            "|TSN3           |0                  |NULL          |NULL            |\n",
            "|CASA           |0                  |NULL          |NULL            |\n",
            "|MOVIEP         |0                  |NULL          |NULL            |\n",
            "|RDSINF         |0                  |NULL          |NULL            |\n",
            "|SCSD01         |0                  |NULL          |NULL            |\n",
            "|SLVSC          |0                  |NULL          |NULL            |\n",
            "|TLNSP          |0                  |NULL          |NULL            |\n",
            "|ATN13          |0                  |NULL          |NULL            |\n",
            "|COOK           |0                  |NULL          |NULL            |\n",
            "|OMAB           |0                  |NULL          |NULL            |\n",
            "|SCSD04         |0                  |NULL          |NULL            |\n",
            "|ZEST           |0                  |NULL          |NULL            |\n",
            "|OMQC           |0                  |NULL          |NULL            |\n",
            "|TSN            |0                  |NULL          |NULL            |\n",
            "|OTN1           |0                  |NULL          |NULL            |\n",
            "|SATV           |0                  |NULL          |NULL            |\n",
            "|DIY            |0                  |NULL          |NULL            |\n",
            "|FTV            |0                  |NULL          |NULL            |\n",
            "|SCSD03         |0                  |NULL          |NULL            |\n",
            "|TOON           |0                  |NULL          |NULL            |\n",
            "|SKIN           |0                  |NULL          |NULL            |\n",
            "|OMBC           |0                  |NULL          |NULL            |\n",
            "|SHOW           |0                  |NULL          |NULL            |\n",
            "|SN2            |0                  |NULL          |NULL            |\n",
            "|LCN            |0                  |NULL          |NULL            |\n",
            "|SNWST          |0                  |NULL          |NULL            |\n",
            "|COMGLD         |0                  |NULL          |NULL            |\n",
            "|SNONE          |0                  |NULL          |NULL            |\n",
            "|TIMESN         |0                  |NULL          |NULL            |\n",
            "|MPIX2          |0                  |NULL          |NULL            |\n",
            "|TRESR          |0                  |NULL          |NULL            |\n",
            "|AMITV          |0                  |NULL          |NULL            |\n",
            "|TV5            |0                  |NULL          |NULL            |\n",
            "|ATN10          |0                  |NULL          |NULL            |\n",
            "|MMAX           |0                  |NULL          |NULL            |\n",
            "|OTN3           |0                  |NULL          |NULL            |\n",
            "|DOCS           |0                  |NULL          |NULL            |\n",
            "|TELENO         |0                  |NULL          |NULL            |\n",
            "|CAVE           |0                  |NULL          |NULL            |\n",
            "|OUTDR          |0                  |NULL          |NULL            |\n",
            "|TCC            |0                  |NULL          |NULL            |\n",
            "|ESPN           |0                  |NULL          |NULL            |\n",
            "|SPACE          |0                  |NULL          |NULL            |\n",
            "|2000SM         |0                  |NULL          |NULL            |\n",
            "|TMN3           |0                  |NULL          |NULL            |\n",
            "|PLAY           |0                  |NULL          |NULL            |\n",
            "|FYI            |0                  |NULL          |NULL            |\n",
            "|DSNYEN         |0                  |NULL          |NULL            |\n",
            "|EXP            |0                  |NULL          |NULL            |\n",
            "|RURAL          |0                  |NULL          |NULL            |\n",
            "|SAB            |0                  |NULL          |NULL            |\n",
            "|WFN            |0                  |NULL          |NULL            |\n",
            "|YOOP           |0                  |NULL          |NULL            |\n",
            "|PENT           |0                  |NULL          |NULL            |\n",
            "|BNN            |0                  |NULL          |NULL            |\n",
            "|V              |0                  |NULL          |NULL            |\n",
            "|TRV            |0                  |NULL          |NULL            |\n",
            "|WTN            |0                  |NULL          |NULL            |\n",
            "|FOOD           |0                  |NULL          |NULL            |\n",
            "|SPARK          |0                  |NULL          |NULL            |\n",
            "|CARTN          |0                  |NULL          |NULL            |\n",
            "|ATN11          |0                  |NULL          |NULL            |\n",
            "|FASH           |0                  |NULL          |NULL            |\n",
            "|TLTOON         |0                  |NULL          |NULL            |\n",
            "|unis           |0                  |NULL          |NULL            |\n",
            "|EURO           |0                  |NULL          |NULL            |\n",
            "|NGWILD         |0                  |NULL          |NULL            |\n",
            "|RAPT           |0                  |NULL          |NULL            |\n",
            "|ABORIH         |0                  |NULL          |NULL            |\n",
            "|SNPAC          |0                  |NULL          |NULL            |\n",
            "|OMON           |0                  |NULL          |NULL            |\n",
            "|YTV            |0                  |NULL          |NULL            |\n",
            "|INVST          |0                  |NULL          |NULL            |\n",
            "|FAMCHA         |0                  |NULL          |NULL            |\n",
            "|MAGINO         |0                  |NULL          |NULL            |\n",
            "|TMN1           |0                  |NULL          |NULL            |\n",
            "|CTVNC          |0                  |NULL          |NULL            |\n",
            "|MOICIE         |0                  |NULL          |NULL            |\n",
            "|DIVA           |0                  |NULL          |NULL            |\n",
            "|NINOS          |0                  |NULL          |NULL            |\n",
            "|CP24           |0                  |NULL          |NULL            |\n",
            "|ONEBMS         |0                  |NULL          |NULL            |\n",
            "|TTV            |0                  |NULL          |NULL            |\n",
            "|THTV           |0                  |NULL          |NULL            |\n",
            "|HGTV           |0                  |NULL          |NULL            |\n",
            "|MSET           |0                  |NULL          |NULL            |\n",
            "|IDNR           |0                  |NULL          |NULL            |\n",
            "|GUS            |0                  |NULL          |NULL            |\n",
            "|E!             |0                  |NULL          |NULL            |\n",
            "|DISSCI         |0                  |NULL          |NULL            |\n",
            "|TDC            |0                  |NULL          |NULL            |\n",
            "|SPTVA2         |0                  |NULL          |NULL            |\n",
            "|PRIDE          |0                  |NULL          |NULL            |\n",
            "|FIGHT          |0                  |NULL          |NULL            |\n",
            "|DSNYFR         |0                  |NULL          |NULL            |\n",
            "|LIFENT         |0                  |NULL          |NULL            |\n",
            "|TMN4           |0                  |NULL          |NULL            |\n",
            "|HISTORY        |0                  |NULL          |NULL            |\n",
            "|NATUR          |0                  |NULL          |NULL            |\n",
            "|RDS            |0                  |NULL          |NULL            |\n",
            "|FACHTV         |0                  |NULL          |NULL            |\n",
            "|DTOUR          |0                  |NULL          |NULL            |\n",
            "|NICK           |0                  |NULL          |NULL            |\n",
            "|SALT           |0                  |NULL          |NULL            |\n",
            "|SPRTVA         |0                  |NULL          |NULL            |\n",
            "|SCSD02         |0                  |NULL          |NULL            |\n",
            "|DSNYXD         |0                  |NULL          |NULL            |\n",
            "|NGCE           |0                  |NULL          |NULL            |\n",
            "|ZEETV          |0                  |NULL          |NULL            |\n",
            "|MUCHM          |0                  |NULL          |NULL            |\n",
            "|AMIFR          |0                  |NULL          |NULL            |\n",
            "|70SM           |0                  |NULL          |NULL            |\n",
            "|TSN1           |0                  |NULL          |NULL            |\n",
            "|90SM           |0                  |NULL          |NULL            |\n",
            "|CHISTO         |0                  |NULL          |NULL            |\n",
            "|SNEST          |0                  |NULL          |NULL            |\n",
            "|ATN14          |0                  |NULL          |NULL            |\n",
            "|TSN2           |0                  |NULL          |NULL            |\n",
            "|FNTSY          |0                  |NULL          |NULL            |\n",
            "|FACHV2         |0                  |NULL          |NULL            |\n",
            "|FAMJR          |0                  |NULL          |NULL            |\n",
            "|PRIS           |0                  |NULL          |NULL            |\n",
            "|TCN            |0                  |NULL          |NULL            |\n",
            "|MVOLA          |0                  |NULL          |NULL            |\n",
            "|NEWSW          |0                  |NULL          |NULL            |\n",
            "|SERIEP         |0                  |NULL          |NULL            |\n",
            "|TMN2           |0                  |NULL          |NULL            |\n",
            "|HPITV          |0                  |NULL          |NULL            |\n",
            "|SNONT          |0                  |NULL          |NULL            |\n",
            "|SE01           |0                  |NULL          |NULL            |\n",
            "|DEJA           |0                  |NULL          |NULL            |\n",
            "|TENCH2         |0                  |NULL          |NULL            |\n",
            "|CHRGD          |0                  |NULL          |NULL            |\n",
            "|VISION         |0                  |NULL          |NULL            |\n",
            "|LEAF           |0                  |NULL          |NULL            |\n",
            "|SN360          |0                  |NULL          |NULL            |\n",
            "|SE03           |0                  |NULL          |NULL            |\n",
            "|SE04           |0                  |NULL          |NULL            |\n",
            "|ZOOM           |0                  |NULL          |NULL            |\n",
            "|80SM           |0                  |NULL          |NULL            |\n",
            "|MPLU           |0                  |NULL          |NULL            |\n",
            "|DSNYJR         |0                  |NULL          |NULL            |\n",
            "|FPTV           |0                  |NULL          |NULL            |\n",
            "|RDI            |0                  |NULL          |NULL            |\n",
            "|SE02           |0                  |NULL          |NULL            |\n",
            "|SRC            |0                  |NULL          |NULL            |\n",
            "|MTV1           |0                  |NULL          |NULL            |\n",
            "|NEOCRI         |0                  |NULL          |NULL            |\n",
            "|WILD           |0                  |NULL          |NULL            |\n",
            "|TVADIK         |0                  |NULL          |NULL            |\n",
            "|FXC            |0                  |NULL          |NULL            |\n",
            "|FXX            |0                  |NULL          |NULL            |\n",
            "|DISVEL         |0                  |NULL          |NULL            |\n",
            "|TSN5           |0                  |NULL          |NULL            |\n",
            "|TANG           |0                  |NULL          |NULL            |\n",
            "|SMITH          |0                  |NULL          |NULL            |\n",
            "|RDS2           |0                  |NULL          |NULL            |\n",
            "|RAZER          |0                  |NULL          |NULL            |\n",
            "|BBCE           |0                  |NULL          |NULL            |\n",
            "+---------------+-------------------+--------------+----------------+\n",
            "\n"
          ]
        }
      ]
    },
    {
      "cell_type": "code",
      "source": [],
      "metadata": {
        "id": "MXjrgWTzzI9r"
      },
      "execution_count": null,
      "outputs": []
    }
  ]
}