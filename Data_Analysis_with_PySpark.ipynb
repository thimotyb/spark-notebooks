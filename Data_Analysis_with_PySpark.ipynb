{
  "nbformat": 4,
  "nbformat_minor": 0,
  "metadata": {
    "colab": {
      "provenance": [],
      "collapsed_sections": [
        "kkSXsFae8Cct",
        "7AYS0MlUvfrI",
        "WNaboQo22HOW",
        "2fj4XecA5nX_",
        "fUjc4g4xHE7p",
        "D6Syynf5QCxB",
        "0k8qNqs2T2a0",
        "jzlxJnZ6bNcq"
      ],
      "toc_visible": true,
      "include_colab_link": true
    },
    "kernelspec": {
      "name": "python3",
      "display_name": "Python 3"
    },
    "language_info": {
      "name": "python"
    }
  },
  "cells": [
    {
      "cell_type": "markdown",
      "metadata": {
        "id": "view-in-github",
        "colab_type": "text"
      },
      "source": [
        "<a href=\"https://colab.research.google.com/github/thimotyb/spark-notebooks/blob/main/Data_Analysis_with_PySpark.ipynb\" target=\"_parent\"><img src=\"https://colab.research.google.com/assets/colab-badge.svg\" alt=\"Open In Colab\"/></a>"
      ]
    },
    {
      "cell_type": "markdown",
      "metadata": {
        "id": "32fjpkeS-nYP"
      },
      "source": [
        "#Data Analysis with PySpark in Google Colab\n",
        "\n",
        "PySpark is Python interface for Apache Spark. The primary use cases for PySpark are to work with huge amounts of data and for creating data pipelines.\n",
        "\n",
        "You don't need to work with big data to benefit from PySpark. I find that the SparkSQL is a great tool for performing routine data anlysis. Pandas can get slow and you may find yourself writing a lot of code for data cleaning whereas the same actions take much less code in SQL. Let's get started!\n",
        "\n",
        "See more here! http://spark.apache.org/docs/latest/api/python/"
      ]
    },
    {
      "cell_type": "markdown",
      "metadata": {
        "id": "m9yXqV3LigUA"
      },
      "source": [
        "# 1. Installing PySpark in Google Colab"
      ]
    },
    {
      "cell_type": "code",
      "metadata": {
        "colab": {
          "base_uri": "https://localhost:8080/",
          "height": 1000
        },
        "id": "hxv7w_2y2bb9",
        "outputId": "0d601b1c-96b0-4ce8-cb71-4a118d85f787"
      },
      "source": [
        "!sudo apt update\n",
        "!apt-get install openjdk-8-jdk-headless -qq > /dev/null\n",
        "#Check this site for the latest download link https://www.apache.org/dyn/closer.lua/spark/spark-3.2.1/spark-3.2.1-bin-hadoop3.2.tgz\n",
        "#  https://archive.apache.org/dist/spark/spark-3.2.1/spark-3.2.1-bin-hadoop3.2.tgz\n",
        "!wget https://archive.apache.org/dist/spark/spark-3.2.1/spark-3.2.1-bin-hadoop3.2.tgz\n",
        "!tar xf spark-3.2.1-bin-hadoop3.2.tgz\n",
        "!pip install -q findspark\n",
        "!pip install pyspark\n",
        "!pip install py4j\n",
        "\n",
        "import os\n",
        "import sys\n",
        "# os.environ[\"JAVA_HOME\"] = \"/usr/lib/jvm/java-8-openjdk-amd64\"\n",
        "# os.environ[\"SPARK_HOME\"] = \"/content/spark-3.2.1-bin-hadoop3.2\"\n",
        "\n",
        "\n",
        "import findspark\n",
        "findspark.init()\n",
        "findspark.find()\n",
        "\n",
        "import pyspark\n",
        "\n",
        "from pyspark.sql import DataFrame, SparkSession\n",
        "from typing import List\n",
        "import pyspark.sql.types as T\n",
        "import pyspark.sql.functions as F\n",
        "\n",
        "spark= SparkSession \\\n",
        "       .builder \\\n",
        "       .appName(\"Our First Spark Example\") \\\n",
        "       .getOrCreate()\n",
        "\n",
        "spark"
      ],
      "execution_count": 1,
      "outputs": [
        {
          "output_type": "stream",
          "name": "stdout",
          "text": [
            "Hit:1 http://archive.ubuntu.com/ubuntu jammy InRelease\n",
            "Get:2 http://archive.ubuntu.com/ubuntu jammy-updates InRelease [128 kB]\n",
            "Get:3 https://cloud.r-project.org/bin/linux/ubuntu jammy-cran40/ InRelease [3,626 B]\n",
            "Get:4 https://developer.download.nvidia.com/compute/cuda/repos/ubuntu2204/x86_64  InRelease [1,581 B]\n",
            "Get:5 http://security.ubuntu.com/ubuntu jammy-security InRelease [129 kB]\n",
            "Ign:6 https://r2u.stat.illinois.edu/ubuntu jammy InRelease\n",
            "Hit:7 http://archive.ubuntu.com/ubuntu jammy-backports InRelease\n",
            "Get:8 https://r2u.stat.illinois.edu/ubuntu jammy Release [5,713 B]\n",
            "Get:9 https://r2u.stat.illinois.edu/ubuntu jammy Release.gpg [793 B]\n",
            "Hit:10 https://ppa.launchpadcontent.net/deadsnakes/ppa/ubuntu jammy InRelease\n",
            "Hit:11 https://ppa.launchpadcontent.net/graphics-drivers/ppa/ubuntu jammy InRelease\n",
            "Hit:12 https://ppa.launchpadcontent.net/ubuntugis/ppa/ubuntu jammy InRelease\n",
            "Get:13 https://developer.download.nvidia.com/compute/cuda/repos/ubuntu2204/x86_64  Packages [1,031 kB]\n",
            "Get:14 http://archive.ubuntu.com/ubuntu jammy-updates/restricted amd64 Packages [3,200 kB]\n",
            "Get:15 http://archive.ubuntu.com/ubuntu jammy-updates/main amd64 Packages [2,602 kB]\n",
            "Get:16 http://archive.ubuntu.com/ubuntu jammy-updates/universe amd64 Packages [1,449 kB]\n",
            "Get:17 https://r2u.stat.illinois.edu/ubuntu jammy/main all Packages [8,380 kB]\n",
            "Get:18 https://r2u.stat.illinois.edu/ubuntu jammy/main amd64 Packages [2,594 kB]\n",
            "Get:19 http://security.ubuntu.com/ubuntu jammy-security/universe amd64 Packages [1,160 kB]\n",
            "Get:20 http://security.ubuntu.com/ubuntu jammy-security/restricted amd64 Packages [3,122 kB]\n",
            "Get:21 http://security.ubuntu.com/ubuntu jammy-security/main amd64 Packages [2,326 kB]\n",
            "Fetched 26.1 MB in 9s (2,799 kB/s)\n",
            "Reading package lists... Done\n",
            "Building dependency tree... Done\n",
            "Reading state information... Done\n",
            "51 packages can be upgraded. Run 'apt list --upgradable' to see them.\n",
            "\u001b[1;33mW: \u001b[0mSkipping acquire of configured file 'main/source/Sources' as repository 'https://r2u.stat.illinois.edu/ubuntu jammy InRelease' does not seem to provide it (sources.list entry misspelt?)\u001b[0m\n",
            "--2024-10-11 15:40:22--  https://archive.apache.org/dist/spark/spark-3.2.1/spark-3.2.1-bin-hadoop3.2.tgz\n",
            "Resolving archive.apache.org (archive.apache.org)... 65.108.204.189, 2a01:4f9:1a:a084::2\n",
            "Connecting to archive.apache.org (archive.apache.org)|65.108.204.189|:443... connected.\n",
            "HTTP request sent, awaiting response... 200 OK\n",
            "Length: 300971569 (287M) [application/x-gzip]\n",
            "Saving to: ‘spark-3.2.1-bin-hadoop3.2.tgz’\n",
            "\n",
            "spark-3.2.1-bin-had 100%[===================>] 287.03M  19.4MB/s    in 14s     \n",
            "\n",
            "2024-10-11 15:40:36 (20.8 MB/s) - ‘spark-3.2.1-bin-hadoop3.2.tgz’ saved [300971569/300971569]\n",
            "\n",
            "Collecting pyspark\n",
            "  Downloading pyspark-3.5.3.tar.gz (317.3 MB)\n",
            "\u001b[2K     \u001b[90m━━━━━━━━━━━━━━━━━━━━━━━━━━━━━━━━━━━━━━━━\u001b[0m \u001b[32m317.3/317.3 MB\u001b[0m \u001b[31m4.4 MB/s\u001b[0m eta \u001b[36m0:00:00\u001b[0m\n",
            "\u001b[?25h  Preparing metadata (setup.py) ... \u001b[?25l\u001b[?25hdone\n",
            "Requirement already satisfied: py4j==0.10.9.7 in /usr/local/lib/python3.10/dist-packages (from pyspark) (0.10.9.7)\n",
            "Building wheels for collected packages: pyspark\n",
            "  Building wheel for pyspark (setup.py) ... \u001b[?25l\u001b[?25hdone\n",
            "  Created wheel for pyspark: filename=pyspark-3.5.3-py2.py3-none-any.whl size=317840625 sha256=51662f92ce037f6ced6bf0e97c3d67ac8c9bcffccb09acef8877777b85d60dfb\n",
            "  Stored in directory: /root/.cache/pip/wheels/1b/3a/92/28b93e2fbfdbb07509ca4d6f50c5e407f48dce4ddbda69a4ab\n",
            "Successfully built pyspark\n",
            "Installing collected packages: pyspark\n",
            "Successfully installed pyspark-3.5.3\n",
            "Requirement already satisfied: py4j in /usr/local/lib/python3.10/dist-packages (0.10.9.7)\n"
          ]
        },
        {
          "output_type": "execute_result",
          "data": {
            "text/plain": [
              "<pyspark.sql.session.SparkSession at 0x7c19bbf8b070>"
            ],
            "text/html": [
              "\n",
              "            <div>\n",
              "                <p><b>SparkSession - in-memory</b></p>\n",
              "                \n",
              "        <div>\n",
              "            <p><b>SparkContext</b></p>\n",
              "\n",
              "            <p><a href=\"http://e29ee5c4b787:4040\">Spark UI</a></p>\n",
              "\n",
              "            <dl>\n",
              "              <dt>Version</dt>\n",
              "                <dd><code>v3.5.3</code></dd>\n",
              "              <dt>Master</dt>\n",
              "                <dd><code>local[*]</code></dd>\n",
              "              <dt>AppName</dt>\n",
              "                <dd><code>Our First Spark Example</code></dd>\n",
              "            </dl>\n",
              "        </div>\n",
              "        \n",
              "            </div>\n",
              "        "
            ]
          },
          "metadata": {},
          "execution_count": 1
        }
      ]
    },
    {
      "cell_type": "code",
      "metadata": {
        "colab": {
          "base_uri": "https://localhost:8080/",
          "height": 219
        },
        "id": "hcOCBgQo2Pqf",
        "outputId": "97b82dae-5fb6-4c7b-9bef-1af71f14f23c"
      },
      "source": [
        "spark"
      ],
      "execution_count": null,
      "outputs": [
        {
          "output_type": "execute_result",
          "data": {
            "text/plain": [
              "<pyspark.sql.session.SparkSession at 0x78b8841a30d0>"
            ],
            "text/html": [
              "\n",
              "            <div>\n",
              "                <p><b>SparkSession - in-memory</b></p>\n",
              "                \n",
              "        <div>\n",
              "            <p><b>SparkContext</b></p>\n",
              "\n",
              "            <p><a href=\"http://7c81f60acd8e:4040\">Spark UI</a></p>\n",
              "\n",
              "            <dl>\n",
              "              <dt>Version</dt>\n",
              "                <dd><code>v3.5.3</code></dd>\n",
              "              <dt>Master</dt>\n",
              "                <dd><code>local[*]</code></dd>\n",
              "              <dt>AppName</dt>\n",
              "                <dd><code>Our First Spark Example</code></dd>\n",
              "            </dl>\n",
              "        </div>\n",
              "        \n",
              "            </div>\n",
              "        "
            ]
          },
          "metadata": {},
          "execution_count": 2
        }
      ]
    },
    {
      "cell_type": "code",
      "source": [
        "# Get more example data\n",
        "!git clone https://github.com/thimotyb/DataAnalysisWithPythonAndPySpark-Data.git"
      ],
      "metadata": {
        "colab": {
          "base_uri": "https://localhost:8080/"
        },
        "id": "pYX_v49bIXYR",
        "outputId": "77dccf72-5309-4d4d-a70c-68e9642de953"
      },
      "execution_count": 2,
      "outputs": [
        {
          "output_type": "stream",
          "name": "stdout",
          "text": [
            "Cloning into 'DataAnalysisWithPythonAndPySpark-Data'...\n",
            "remote: Enumerating objects: 71, done.\u001b[K\n",
            "remote: Total 71 (delta 0), reused 0 (delta 0), pack-reused 71 (from 1)\u001b[K\n",
            "Receiving objects: 100% (71/71), 828.81 MiB | 26.32 MiB/s, done.\n",
            "Updating files: 100% (59/59), done.\n"
          ]
        }
      ]
    },
    {
      "cell_type": "code",
      "source": [
        "!mv DataAnalysisWithPythonAndPySpark-Data /content/data"
      ],
      "metadata": {
        "id": "jg40eTP6IwfR"
      },
      "execution_count": 3,
      "outputs": []
    },
    {
      "cell_type": "markdown",
      "source": [
        "# PySpark Data Analysis Examples"
      ],
      "metadata": {
        "id": "GbnrZrIcJZ-f"
      }
    },
    {
      "cell_type": "markdown",
      "source": [
        "## WordCount Example"
      ],
      "metadata": {
        "id": "9Yu2tpSDJl2w"
      }
    },
    {
      "cell_type": "code",
      "source": [
        "from pyspark.sql import SparkSession\n",
        "from pyspark.sql.functions import col, split, explode, lower, regexp_extract\n",
        "\n",
        "spark = SparkSession.builder.getOrCreate()\n",
        "\n",
        "book = spark.read.text(\"data/gutenberg_books/1342-0.txt\")\n",
        "\n",
        "lines = book.select(split(book.value, \" \").alias(\"line\"))\n",
        "\n",
        "words = lines.select(explode(col(\"line\")).alias(\"word\"))\n",
        "\n",
        "words_lower = words.select(lower(col(\"word\")).alias(\"word_lower\"))\n",
        "\n",
        "words_clean = words_lower.select(\n",
        "    regexp_extract(col(\"word_lower\"), \"[a-z]*\", 0).alias(\"word\")\n",
        ")\n",
        "\n",
        "words_nonull = words_clean.where(col(\"word\") != \"\")"
      ],
      "metadata": {
        "id": "zo8SK4fQeMUQ"
      },
      "execution_count": null,
      "outputs": []
    },
    {
      "cell_type": "code",
      "source": [
        "words_nonull.show(50)"
      ],
      "metadata": {
        "colab": {
          "base_uri": "https://localhost:8080/"
        },
        "id": "vOiTP37IJr4d",
        "outputId": "31b4b615-3fb6-4ed6-a103-ae126bdca856"
      },
      "execution_count": null,
      "outputs": [
        {
          "output_type": "stream",
          "name": "stdout",
          "text": [
            "+------------+\n",
            "|        word|\n",
            "+------------+\n",
            "|         the|\n",
            "|     project|\n",
            "|   gutenberg|\n",
            "|       ebook|\n",
            "|          of|\n",
            "|       pride|\n",
            "|         and|\n",
            "|   prejudice|\n",
            "|          by|\n",
            "|        jane|\n",
            "|      austen|\n",
            "|        this|\n",
            "|       ebook|\n",
            "|          is|\n",
            "|         for|\n",
            "|         the|\n",
            "|         use|\n",
            "|          of|\n",
            "|      anyone|\n",
            "|    anywhere|\n",
            "|          at|\n",
            "|          no|\n",
            "|        cost|\n",
            "|         and|\n",
            "|        with|\n",
            "|      almost|\n",
            "|          no|\n",
            "|restrictions|\n",
            "|  whatsoever|\n",
            "|         you|\n",
            "|         may|\n",
            "|        copy|\n",
            "|          it|\n",
            "|        give|\n",
            "|          it|\n",
            "|        away|\n",
            "|          or|\n",
            "|          re|\n",
            "|          it|\n",
            "|       under|\n",
            "|         the|\n",
            "|       terms|\n",
            "|          of|\n",
            "|         the|\n",
            "|     project|\n",
            "|   gutenberg|\n",
            "|     license|\n",
            "|    included|\n",
            "|        with|\n",
            "|        this|\n",
            "+------------+\n",
            "only showing top 50 rows\n",
            "\n"
          ]
        }
      ]
    },
    {
      "cell_type": "code",
      "source": [
        "from pyspark.sql import SparkSession\n",
        "import pyspark.sql.functions as F\n",
        "\n",
        "spark = SparkSession.builder.getOrCreate()"
      ],
      "metadata": {
        "id": "adUmVrJuyUzs"
      },
      "execution_count": null,
      "outputs": []
    },
    {
      "cell_type": "code",
      "source": [
        "(\n",
        "    spark.read.csv(\"./data/list_of_numbers/sample.csv\", header=True)\n",
        "    .withColumn(\n",
        "        \"new_column\", F.when(F.col(\"old_column\") > 10, 10).otherwise(0)\n",
        "    )\n",
        "    .where(\"old_column > 8\")\n",
        "    .groupby(\"new_column\")\n",
        "    .count()\n",
        "    .write.csv(\"updated_frequencies.csv\", mode=\"overwrite\")\n",
        ")"
      ],
      "metadata": {
        "id": "NfUYt0kzJwXE"
      },
      "execution_count": null,
      "outputs": []
    },
    {
      "cell_type": "markdown",
      "source": [
        "# Using PySpark"
      ],
      "metadata": {
        "id": "BzXd7IaJh_fm"
      }
    },
    {
      "cell_type": "code",
      "source": [
        "from pyspark.sql import SparkSession\n",
        "import pyspark.sql.functions as F\n",
        "\n",
        "spark = SparkSession.builder.getOrCreate()"
      ],
      "metadata": {
        "id": "xl-mJ8PYMlrs"
      },
      "execution_count": null,
      "outputs": []
    },
    {
      "cell_type": "code",
      "source": [
        "my_grocery_list = [\n",
        "    [\"Banana\", 2, 1.74],\n",
        "    [\"Apple\", 4, 2.04],\n",
        "    [\"Carrot\", 1, 1.09],\n",
        "    [\"Cake\", 1, 10.99],\n",
        "]\n",
        "\n",
        "df_grocery_list = spark.createDataFrame(\n",
        "    my_grocery_list, [\"Item\", \"Quantity\", \"Price\"]\n",
        ")\n",
        "\n",
        "df_grocery_list.printSchema()"
      ],
      "metadata": {
        "colab": {
          "base_uri": "https://localhost:8080/"
        },
        "id": "sVdQbz_DlPvT",
        "outputId": "96de9379-7585-4ff0-c61f-45e352df9cb4"
      },
      "execution_count": null,
      "outputs": [
        {
          "output_type": "stream",
          "name": "stdout",
          "text": [
            "root\n",
            " |-- Item: string (nullable = true)\n",
            " |-- Quantity: long (nullable = true)\n",
            " |-- Price: double (nullable = true)\n",
            "\n"
          ]
        }
      ]
    },
    {
      "cell_type": "code",
      "source": [
        "df_grocery_list.select(\"Item\", \"Price\").where(\"Price > 2\").show()"
      ],
      "metadata": {
        "colab": {
          "base_uri": "https://localhost:8080/"
        },
        "id": "ge91tFVWlbYj",
        "outputId": "83c65265-f9bb-4a65-b21e-24138544c7b8"
      },
      "execution_count": null,
      "outputs": [
        {
          "output_type": "stream",
          "name": "stdout",
          "text": [
            "+-----+-----+\n",
            "| Item|Price|\n",
            "+-----+-----+\n",
            "|Apple| 2.04|\n",
            "| Cake|10.99|\n",
            "+-----+-----+\n",
            "\n"
          ]
        }
      ]
    },
    {
      "cell_type": "code",
      "source": [
        "DIRECTORY = \"data/broadcast_logs\"\n",
        "logs = (\n",
        "    spark.read.csv(\n",
        "        os.path.join(DIRECTORY, \"BroadcastLogs_2018_Q3_M8_sample.CSV\"),\n",
        "        sep=\"|\",\n",
        "        header=True,\n",
        "        inferSchema=True,\n",
        "        timestampFormat=\"yyyy-MM-dd\",\n",
        "    ))"
      ],
      "metadata": {
        "id": "Y4p-MUL_zmp1"
      },
      "execution_count": null,
      "outputs": []
    },
    {
      "cell_type": "code",
      "source": [
        "logs.select(\"BroadcastLogID\", \"LogServiceID\", \"LogDate\").show(5, False)"
      ],
      "metadata": {
        "id": "HyKUBvyDzqEy",
        "outputId": "f599ef77-215c-41e2-f2cc-6f1e7496799d",
        "colab": {
          "base_uri": "https://localhost:8080/"
        }
      },
      "execution_count": null,
      "outputs": [
        {
          "output_type": "stream",
          "name": "stdout",
          "text": [
            "+--------------+------------+----------+\n",
            "|BroadcastLogID|LogServiceID|LogDate   |\n",
            "+--------------+------------+----------+\n",
            "|1196192316    |3157        |2018-08-01|\n",
            "|1196192317    |3157        |2018-08-01|\n",
            "|1196192318    |3157        |2018-08-01|\n",
            "|1196192319    |3157        |2018-08-01|\n",
            "|1196192320    |3157        |2018-08-01|\n",
            "+--------------+------------+----------+\n",
            "only showing top 5 rows\n",
            "\n"
          ]
        }
      ]
    },
    {
      "cell_type": "code",
      "source": [
        "# Using the string to column conversion\n",
        "logs.select(\"BroadCastLogID\", \"LogServiceID\", \"LogDate\")\n",
        "logs.select(*[\"BroadCastLogID\", \"LogServiceID\", \"LogDate\"])\n",
        "\n",
        "# Passing the column object explicitly\n",
        "logs.select(\n",
        "    F.col(\"BroadCastLogID\"), F.col(\"LogServiceID\"), F.col(\"LogDate\")\n",
        ")\n",
        "logs.select(\n",
        "    *[F.col(\"BroadCastLogID\"), F.col(\"LogServiceID\"), F.col(\"LogDate\")]\n",
        ")"
      ],
      "metadata": {
        "id": "GcLHRBl2z4Rj",
        "outputId": "6aae6021-65c3-47fd-c171-4246fd2bc4ee",
        "colab": {
          "base_uri": "https://localhost:8080/"
        }
      },
      "execution_count": null,
      "outputs": [
        {
          "output_type": "execute_result",
          "data": {
            "text/plain": [
              "DataFrame[BroadCastLogID: int, LogServiceID: int, LogDate: date]"
            ]
          },
          "metadata": {},
          "execution_count": 23
        }
      ]
    },
    {
      "cell_type": "code",
      "source": [
        "import numpy as np\n",
        "\n",
        "column_split = np.array_split(\n",
        "    np.array(logs.columns), len(logs.columns) // 3\n",
        ")"
      ],
      "metadata": {
        "id": "sLu6nalx1HGy"
      },
      "execution_count": null,
      "outputs": []
    },
    {
      "cell_type": "code",
      "source": [
        "column_split"
      ],
      "metadata": {
        "id": "mOHLh-vs1Kkc",
        "outputId": "a5e2a5cb-5be3-43f9-8dd2-e9bfd229d754",
        "colab": {
          "base_uri": "https://localhost:8080/"
        }
      },
      "execution_count": null,
      "outputs": [
        {
          "output_type": "execute_result",
          "data": {
            "text/plain": [
              "[array(['BroadcastLogID', 'LogServiceID', 'LogDate'], dtype='<U22'),\n",
              " array(['SequenceNO', 'AudienceTargetAgeID', 'AudienceTargetEthnicID'],\n",
              "       dtype='<U22'),\n",
              " array(['CategoryID', 'ClosedCaptionID', 'CountryOfOriginID'], dtype='<U22'),\n",
              " array(['DubDramaCreditID', 'EthnicProgramID', 'ProductionSourceID'],\n",
              "       dtype='<U22'),\n",
              " array(['ProgramClassID', 'FilmClassificationID', 'ExhibitionID'],\n",
              "       dtype='<U22'),\n",
              " array(['Duration', 'EndTime', 'LogEntryDate'], dtype='<U22'),\n",
              " array(['ProductionNO', 'ProgramTitle', 'StartTime'], dtype='<U22'),\n",
              " array(['Subtitle', 'NetworkAffiliationID', 'SpecialAttentionID'],\n",
              "       dtype='<U22'),\n",
              " array(['BroadcastOriginPointID', 'CompositionID', 'Producer1'],\n",
              "       dtype='<U22'),\n",
              " array(['Producer2', 'Language1', 'Language2'], dtype='<U22')]"
            ]
          },
          "metadata": {},
          "execution_count": 25
        }
      ]
    },
    {
      "cell_type": "code",
      "source": [
        "for x in column_split:\n",
        "    logs.select(*x).show(5, False)"
      ],
      "metadata": {
        "id": "HhtKh_tt1NG8",
        "outputId": "cd64319a-e54f-4720-86c9-a2932d3fe838",
        "colab": {
          "base_uri": "https://localhost:8080/"
        }
      },
      "execution_count": null,
      "outputs": [
        {
          "output_type": "stream",
          "name": "stdout",
          "text": [
            "+--------------+------------+----------+\n",
            "|BroadcastLogID|LogServiceID|LogDate   |\n",
            "+--------------+------------+----------+\n",
            "|1196192316    |3157        |2018-08-01|\n",
            "|1196192317    |3157        |2018-08-01|\n",
            "|1196192318    |3157        |2018-08-01|\n",
            "|1196192319    |3157        |2018-08-01|\n",
            "|1196192320    |3157        |2018-08-01|\n",
            "+--------------+------------+----------+\n",
            "only showing top 5 rows\n",
            "\n",
            "+----------+-------------------+----------------------+\n",
            "|SequenceNO|AudienceTargetAgeID|AudienceTargetEthnicID|\n",
            "+----------+-------------------+----------------------+\n",
            "|1         |4                  |NULL                  |\n",
            "|2         |NULL               |NULL                  |\n",
            "|3         |NULL               |NULL                  |\n",
            "|4         |NULL               |NULL                  |\n",
            "|5         |NULL               |NULL                  |\n",
            "+----------+-------------------+----------------------+\n",
            "only showing top 5 rows\n",
            "\n",
            "+----------+---------------+-----------------+\n",
            "|CategoryID|ClosedCaptionID|CountryOfOriginID|\n",
            "+----------+---------------+-----------------+\n",
            "|13        |3              |3                |\n",
            "|NULL      |1              |NULL             |\n",
            "|NULL      |1              |NULL             |\n",
            "|NULL      |1              |NULL             |\n",
            "|NULL      |1              |NULL             |\n",
            "+----------+---------------+-----------------+\n",
            "only showing top 5 rows\n",
            "\n",
            "+----------------+---------------+------------------+\n",
            "|DubDramaCreditID|EthnicProgramID|ProductionSourceID|\n",
            "+----------------+---------------+------------------+\n",
            "|NULL            |NULL           |10                |\n",
            "|NULL            |NULL           |NULL              |\n",
            "|NULL            |NULL           |NULL              |\n",
            "|NULL            |NULL           |NULL              |\n",
            "|NULL            |NULL           |NULL              |\n",
            "+----------------+---------------+------------------+\n",
            "only showing top 5 rows\n",
            "\n",
            "+--------------+--------------------+------------+\n",
            "|ProgramClassID|FilmClassificationID|ExhibitionID|\n",
            "+--------------+--------------------+------------+\n",
            "|19            |NULL                |2           |\n",
            "|20            |NULL                |NULL        |\n",
            "|3             |NULL                |NULL        |\n",
            "|3             |NULL                |NULL        |\n",
            "|3             |NULL                |NULL        |\n",
            "+--------------+--------------------+------------+\n",
            "only showing top 5 rows\n",
            "\n",
            "+----------------+----------------+------------+\n",
            "|Duration        |EndTime         |LogEntryDate|\n",
            "+----------------+----------------+------------+\n",
            "|02:00:00.0000000|08:00:00.0000000|2018-08-01  |\n",
            "|00:00:30.0000000|06:13:45.0000000|2018-08-01  |\n",
            "|00:00:15.0000000|06:14:00.0000000|2018-08-01  |\n",
            "|00:00:15.0000000|06:14:15.0000000|2018-08-01  |\n",
            "|00:00:15.0000000|06:14:30.0000000|2018-08-01  |\n",
            "+----------------+----------------+------------+\n",
            "only showing top 5 rows\n",
            "\n",
            "+------------+-------------------------------------------+----------------+\n",
            "|ProductionNO|ProgramTitle                               |StartTime       |\n",
            "+------------+-------------------------------------------+----------------+\n",
            "|A39082      |Newlywed and Dead                          |06:00:00.0000000|\n",
            "|NULL        |15-SPECIALTY CHANNELS-Canadian Generic     |06:13:15.0000000|\n",
            "|NULL        |3-PROCTER & GAMBLE INC-Anti-Perspirant 3rd |06:13:45.0000000|\n",
            "|NULL        |12-CREDIT KARMA-Bank/Credit Union/Trust 3rd|06:14:00.0000000|\n",
            "|NULL        |3-L'OREAL CANADA-Hair Products 3rd         |06:14:15.0000000|\n",
            "+------------+-------------------------------------------+----------------+\n",
            "only showing top 5 rows\n",
            "\n",
            "+--------+--------------------+------------------+\n",
            "|Subtitle|NetworkAffiliationID|SpecialAttentionID|\n",
            "+--------+--------------------+------------------+\n",
            "|NULL    |NULL                |NULL              |\n",
            "|NULL    |NULL                |NULL              |\n",
            "|NULL    |NULL                |NULL              |\n",
            "|NULL    |NULL                |NULL              |\n",
            "|NULL    |NULL                |NULL              |\n",
            "+--------+--------------------+------------------+\n",
            "only showing top 5 rows\n",
            "\n",
            "+----------------------+-------------+---------+\n",
            "|BroadcastOriginPointID|CompositionID|Producer1|\n",
            "+----------------------+-------------+---------+\n",
            "|NULL                  |NULL         |NULL     |\n",
            "|NULL                  |NULL         |NULL     |\n",
            "|NULL                  |NULL         |NULL     |\n",
            "|NULL                  |NULL         |NULL     |\n",
            "|NULL                  |NULL         |NULL     |\n",
            "+----------------------+-------------+---------+\n",
            "only showing top 5 rows\n",
            "\n",
            "+---------+---------+---------+\n",
            "|Producer2|Language1|Language2|\n",
            "+---------+---------+---------+\n",
            "|NULL     |94       |NULL     |\n",
            "|NULL     |NULL     |NULL     |\n",
            "|NULL     |NULL     |NULL     |\n",
            "|NULL     |NULL     |NULL     |\n",
            "|NULL     |NULL     |NULL     |\n",
            "+---------+---------+---------+\n",
            "only showing top 5 rows\n",
            "\n"
          ]
        }
      ]
    },
    {
      "cell_type": "code",
      "source": [
        "DIRECTORY = \"data/broadcast_logs\"\n",
        "logs = (\n",
        "    spark.read.csv(\n",
        "        os.path.join(DIRECTORY, \"BroadcastLogs_2018_Q3_M8_sample.CSV\"),\n",
        "        sep=\"|\",\n",
        "        header=True,\n",
        "        inferSchema=True,\n",
        "        timestampFormat=\"yyyy-MM-dd\",\n",
        "    )\n",
        "    .drop(\"BroadcastLogID\", \"SequenceNO\")\n",
        "    .withColumn(\n",
        "        \"duration_seconds\",\n",
        "        (\n",
        "            F.col(\"Duration\").substr(1, 2).cast(\"int\") * 60 * 60\n",
        "            + F.col(\"Duration\").substr(4, 2).cast(\"int\") * 60\n",
        "            + F.col(\"Duration\").substr(7, 2).cast(\"int\")\n",
        "        ),\n",
        "    )\n",
        ")"
      ],
      "metadata": {
        "id": "lKOlEtJrwnLN"
      },
      "execution_count": null,
      "outputs": []
    },
    {
      "cell_type": "code",
      "source": [
        "logs.printSchema()"
      ],
      "metadata": {
        "colab": {
          "base_uri": "https://localhost:8080/"
        },
        "id": "gQ5n876QxJjX",
        "outputId": "1f49974a-0623-40ce-f63e-7ca7dc67dcbf"
      },
      "execution_count": null,
      "outputs": [
        {
          "output_type": "stream",
          "name": "stdout",
          "text": [
            "root\n",
            " |-- LogServiceID: integer (nullable = true)\n",
            " |-- LogDate: date (nullable = true)\n",
            " |-- AudienceTargetAgeID: integer (nullable = true)\n",
            " |-- AudienceTargetEthnicID: integer (nullable = true)\n",
            " |-- CategoryID: integer (nullable = true)\n",
            " |-- ClosedCaptionID: integer (nullable = true)\n",
            " |-- CountryOfOriginID: integer (nullable = true)\n",
            " |-- DubDramaCreditID: integer (nullable = true)\n",
            " |-- EthnicProgramID: integer (nullable = true)\n",
            " |-- ProductionSourceID: integer (nullable = true)\n",
            " |-- ProgramClassID: integer (nullable = true)\n",
            " |-- FilmClassificationID: integer (nullable = true)\n",
            " |-- ExhibitionID: integer (nullable = true)\n",
            " |-- Duration: string (nullable = true)\n",
            " |-- EndTime: string (nullable = true)\n",
            " |-- LogEntryDate: date (nullable = true)\n",
            " |-- ProductionNO: string (nullable = true)\n",
            " |-- ProgramTitle: string (nullable = true)\n",
            " |-- StartTime: string (nullable = true)\n",
            " |-- Subtitle: string (nullable = true)\n",
            " |-- NetworkAffiliationID: integer (nullable = true)\n",
            " |-- SpecialAttentionID: integer (nullable = true)\n",
            " |-- BroadcastOriginPointID: integer (nullable = true)\n",
            " |-- CompositionID: integer (nullable = true)\n",
            " |-- Producer1: string (nullable = true)\n",
            " |-- Producer2: string (nullable = true)\n",
            " |-- Language1: integer (nullable = true)\n",
            " |-- Language2: integer (nullable = true)\n",
            " |-- duration_seconds: integer (nullable = true)\n",
            "\n"
          ]
        }
      ]
    },
    {
      "cell_type": "code",
      "source": [
        "logs.select(F.col(\"Duration\")).show(5)"
      ],
      "metadata": {
        "id": "TTuZ520j2HvZ",
        "outputId": "f46fb8bc-f523-4111-b4da-274aefce37a1",
        "colab": {
          "base_uri": "https://localhost:8080/"
        }
      },
      "execution_count": null,
      "outputs": [
        {
          "output_type": "stream",
          "name": "stdout",
          "text": [
            "+----------------+\n",
            "|        Duration|\n",
            "+----------------+\n",
            "|02:00:00.0000000|\n",
            "|00:00:30.0000000|\n",
            "|00:00:15.0000000|\n",
            "|00:00:15.0000000|\n",
            "|00:00:15.0000000|\n",
            "+----------------+\n",
            "only showing top 5 rows\n",
            "\n"
          ]
        }
      ]
    },
    {
      "cell_type": "code",
      "source": [
        "logs.select(F.col(\"duration_seconds\")).show(5)"
      ],
      "metadata": {
        "colab": {
          "base_uri": "https://localhost:8080/"
        },
        "id": "AqNVnlyESfog",
        "outputId": "e4ef21a6-c063-4886-a929-d90728e79dd2"
      },
      "execution_count": null,
      "outputs": [
        {
          "output_type": "stream",
          "name": "stdout",
          "text": [
            "+----------------+\n",
            "|duration_seconds|\n",
            "+----------------+\n",
            "|            7200|\n",
            "|              30|\n",
            "|              15|\n",
            "|              15|\n",
            "|              15|\n",
            "+----------------+\n",
            "only showing top 5 rows\n",
            "\n"
          ]
        }
      ]
    },
    {
      "cell_type": "code",
      "source": [
        "print(logs.select(F.col(\"Duration\")).dtypes)"
      ],
      "metadata": {
        "id": "ATzzgUR12LIq",
        "outputId": "8be8638c-7093-49d4-ce8e-6f0472432a49",
        "colab": {
          "base_uri": "https://localhost:8080/"
        }
      },
      "execution_count": null,
      "outputs": [
        {
          "output_type": "stream",
          "name": "stdout",
          "text": [
            "[('Duration', 'string')]\n"
          ]
        }
      ]
    },
    {
      "cell_type": "code",
      "source": [
        "logs.select(\n",
        "    F.col(\"Duration\"),\n",
        "    F.col(\"Duration\").substr(1, 2).cast(\"int\").alias(\"dur_hours\"),\n",
        "    F.col(\"Duration\").substr(4, 2).cast(\"int\").alias(\"dur_minutes\"),\n",
        "    F.col(\"Duration\").substr(7, 2).cast(\"int\").alias(\"dur_seconds\"),\n",
        ").distinct().show(\n",
        "    5\n",
        ")"
      ],
      "metadata": {
        "id": "Ib-ZtjW12Twz",
        "outputId": "1f7a01d3-9205-4f8d-aeb1-317b86ced39e",
        "colab": {
          "base_uri": "https://localhost:8080/"
        }
      },
      "execution_count": null,
      "outputs": [
        {
          "output_type": "stream",
          "name": "stdout",
          "text": [
            "+----------------+---------+-----------+-----------+\n",
            "|        Duration|dur_hours|dur_minutes|dur_seconds|\n",
            "+----------------+---------+-----------+-----------+\n",
            "|00:04:52.0000000|        0|          4|         52|\n",
            "|00:10:06.0000000|        0|         10|          6|\n",
            "|00:26:41.0000000|        0|         26|         41|\n",
            "|00:05:29.0000000|        0|          5|         29|\n",
            "|00:08:18.0000000|        0|          8|         18|\n",
            "+----------------+---------+-----------+-----------+\n",
            "only showing top 5 rows\n",
            "\n"
          ]
        }
      ]
    },
    {
      "cell_type": "code",
      "source": [
        "logs.select(\n",
        "    F.col(\"Duration\"),\n",
        "    (\n",
        "        F.col(\"Duration\").substr(1, 2).cast(\"int\") * 60 * 60\n",
        "        + F.col(\"Duration\").substr(4, 2).cast(\"int\") * 60\n",
        "        + F.col(\"Duration\").substr(7, 2).cast(\"int\")\n",
        "    ).alias(\"Duration_seconds\"),\n",
        ").distinct().show(5)"
      ],
      "metadata": {
        "id": "mvBRip222Z0r",
        "outputId": "0e600b1d-30e1-4eaf-d042-4aac5e2bdb40",
        "colab": {
          "base_uri": "https://localhost:8080/"
        }
      },
      "execution_count": null,
      "outputs": [
        {
          "output_type": "stream",
          "name": "stdout",
          "text": [
            "+----------------+----------------+\n",
            "|        Duration|Duration_seconds|\n",
            "+----------------+----------------+\n",
            "|01:59:30.0000000|            7170|\n",
            "|00:31:00.0000000|            1860|\n",
            "|00:28:08.0000000|            1688|\n",
            "|00:10:30.0000000|             630|\n",
            "|00:32:00.0000000|            1920|\n",
            "+----------------+----------------+\n",
            "only showing top 5 rows\n",
            "\n"
          ]
        }
      ]
    },
    {
      "cell_type": "code",
      "source": [
        "#for i in logs.columns:\n",
        "#    logs.describe(i).show()\n",
        "\n",
        "for i in logs.columns:\n",
        "    logs.select(i).summary().show()"
      ],
      "metadata": {
        "id": "MdLxoQ4L2dYR",
        "outputId": "1b3a9684-797a-4ed2-ab1c-7079dbebb591",
        "colab": {
          "base_uri": "https://localhost:8080/"
        }
      },
      "execution_count": null,
      "outputs": [
        {
          "output_type": "stream",
          "name": "stdout",
          "text": [
            "+-------+--------------------+\n",
            "|summary|      BroadcastLogID|\n",
            "+-------+--------------------+\n",
            "|  count|              238945|\n",
            "|   mean|1.2168651122760174E9|\n",
            "| stddev| 1.496913424143109E7|\n",
            "|    min|          1195788151|\n",
            "|    25%|          1204679733|\n",
            "|    50%|          1213242718|\n",
            "|    75%|          1226220079|\n",
            "|    max|          1249431576|\n",
            "+-------+--------------------+\n",
            "\n",
            "+-------+------------------+\n",
            "|summary|      LogServiceID|\n",
            "+-------+------------------+\n",
            "|  count|            238945|\n",
            "|   mean| 3450.890284375065|\n",
            "| stddev|199.50673962555592|\n",
            "|    min|              3157|\n",
            "|    25%|              3287|\n",
            "|    50%|              3379|\n",
            "|    75%|              3627|\n",
            "|    max|              3925|\n",
            "+-------+------------------+\n",
            "\n",
            "+-------+\n",
            "|summary|\n",
            "+-------+\n",
            "|  count|\n",
            "|   mean|\n",
            "| stddev|\n",
            "|    min|\n",
            "|    25%|\n",
            "|    50%|\n",
            "|    75%|\n",
            "|    max|\n",
            "+-------+\n",
            "\n",
            "+-------+-----------------+\n",
            "|summary|       SequenceNO|\n",
            "+-------+-----------------+\n",
            "|  count|           238945|\n",
            "|   mean|466.3855824562138|\n",
            "| stddev|311.5109104839782|\n",
            "|    min|                1|\n",
            "|    25%|              201|\n",
            "|    50%|              428|\n",
            "|    75%|              699|\n",
            "|    max|             1463|\n",
            "+-------+-----------------+\n",
            "\n",
            "+-------+-------------------+\n",
            "|summary|AudienceTargetAgeID|\n",
            "+-------+-------------------+\n",
            "|  count|              16112|\n",
            "|   mean| 3.4929245283018866|\n",
            "| stddev| 1.0415963394745125|\n",
            "|    min|                  1|\n",
            "|    25%|                  4|\n",
            "|    50%|                  4|\n",
            "|    75%|                  4|\n",
            "|    max|                  4|\n",
            "+-------+-------------------+\n",
            "\n",
            "+-------+----------------------+\n",
            "|summary|AudienceTargetEthnicID|\n",
            "+-------+----------------------+\n",
            "|  count|                  1710|\n",
            "|   mean|    120.56432748538012|\n",
            "| stddev|     71.98694059436133|\n",
            "|    min|                     4|\n",
            "|    25%|                    74|\n",
            "|    50%|                    95|\n",
            "|    75%|                   136|\n",
            "|    max|                   337|\n",
            "+-------+----------------------+\n",
            "\n",
            "+-------+------------------+\n",
            "|summary|        CategoryID|\n",
            "+-------+------------------+\n",
            "|  count|             25506|\n",
            "|   mean|18.485297577040697|\n",
            "| stddev| 9.655852252020834|\n",
            "|    min|                 1|\n",
            "|    25%|                11|\n",
            "|    50%|                24|\n",
            "|    75%|                26|\n",
            "|    max|                29|\n",
            "+-------+------------------+\n",
            "\n",
            "+-------+-------------------+\n",
            "|summary|    ClosedCaptionID|\n",
            "+-------+-------------------+\n",
            "|  count|             224117|\n",
            "|   mean| 1.0316174141185184|\n",
            "| stddev|0.24947032900378974|\n",
            "|    min|                  1|\n",
            "|    25%|                  1|\n",
            "|    50%|                  1|\n",
            "|    75%|                  1|\n",
            "|    max|                  3|\n",
            "+-------+-------------------+\n",
            "\n",
            "+-------+------------------+\n",
            "|summary| CountryOfOriginID|\n",
            "+-------+------------------+\n",
            "|  count|             17822|\n",
            "|   mean|  4.06390977443609|\n",
            "| stddev|2.6159675821007298|\n",
            "|    min|                 2|\n",
            "|    25%|                 2|\n",
            "|    50%|                 3|\n",
            "|    75%|                 5|\n",
            "|    max|                11|\n",
            "+-------+------------------+\n",
            "\n",
            "+-------+------------------+\n",
            "|summary|  DubDramaCreditID|\n",
            "+-------+------------------+\n",
            "|  count|               263|\n",
            "|   mean|5.1254752851711025|\n",
            "| stddev| 3.451329711438564|\n",
            "|    min|                 1|\n",
            "|    25%|                 2|\n",
            "|    50%|                 4|\n",
            "|    75%|                10|\n",
            "|    max|                10|\n",
            "+-------+------------------+\n",
            "\n",
            "+-------+------------------+\n",
            "|summary|   EthnicProgramID|\n",
            "+-------+------------------+\n",
            "|  count|              1895|\n",
            "|   mean| 4.316622691292876|\n",
            "| stddev|2.2966421456800274|\n",
            "|    min|                 1|\n",
            "|    25%|                 1|\n",
            "|    50%|                 6|\n",
            "|    75%|                 6|\n",
            "|    max|                 6|\n",
            "+-------+------------------+\n",
            "\n",
            "+-------+------------------+\n",
            "|summary|ProductionSourceID|\n",
            "+-------+------------------+\n",
            "|  count|             16223|\n",
            "|   mean|11.193737286568453|\n",
            "| stddev| 6.079022239331335|\n",
            "|    min|                 1|\n",
            "|    25%|                 7|\n",
            "|    50%|                12|\n",
            "|    75%|                16|\n",
            "|    max|                19|\n",
            "+-------+------------------+\n",
            "\n",
            "+-------+-----------------+\n",
            "|summary|   ProgramClassID|\n",
            "+-------+-----------------+\n",
            "|  count|           238945|\n",
            "|   mean| 8.49341061750612|\n",
            "| stddev|7.902116846905711|\n",
            "|    min|                3|\n",
            "|    25%|                3|\n",
            "|    50%|                3|\n",
            "|    75%|               19|\n",
            "|    max|               30|\n",
            "+-------+-----------------+\n",
            "\n",
            "+-------+--------------------+\n",
            "|summary|FilmClassificationID|\n",
            "+-------+--------------------+\n",
            "|  count|                1885|\n",
            "|   mean|   1.953315649867374|\n",
            "| stddev|  1.6420515263133848|\n",
            "|    min|                   1|\n",
            "|    25%|                   1|\n",
            "|    50%|                   1|\n",
            "|    75%|                   2|\n",
            "|    max|                   8|\n",
            "+-------+--------------------+\n",
            "\n",
            "+-------+------------------+\n",
            "|summary|      ExhibitionID|\n",
            "+-------+------------------+\n",
            "|  count|              9263|\n",
            "|   mean|  4.52067364784627|\n",
            "| stddev|1.4418772626833427|\n",
            "|    min|                 1|\n",
            "|    25%|                 4|\n",
            "|    50%|                 5|\n",
            "|    75%|                 5|\n",
            "|    max|                 8|\n",
            "+-------+------------------+\n",
            "\n",
            "+-------+----------------+\n",
            "|summary|        Duration|\n",
            "+-------+----------------+\n",
            "|  count|          236724|\n",
            "|   mean|            NULL|\n",
            "| stddev|            NULL|\n",
            "|    min|00:00:01.0000000|\n",
            "|    25%|            NULL|\n",
            "|    50%|            NULL|\n",
            "|    75%|            NULL|\n",
            "|    max|06:30:09.0000000|\n",
            "+-------+----------------+\n",
            "\n",
            "+-------+----------------+\n",
            "|summary|         EndTime|\n",
            "+-------+----------------+\n",
            "|  count|          169979|\n",
            "|   mean|            NULL|\n",
            "| stddev|            NULL|\n",
            "|    min|00:00:00.0000000|\n",
            "|    25%|            NULL|\n",
            "|    50%|            NULL|\n",
            "|    75%|            NULL|\n",
            "|    max|23:59:59.0000000|\n",
            "+-------+----------------+\n",
            "\n",
            "+-------+\n",
            "|summary|\n",
            "+-------+\n",
            "|  count|\n",
            "|   mean|\n",
            "| stddev|\n",
            "|    min|\n",
            "|    25%|\n",
            "|    50%|\n",
            "|    75%|\n",
            "|    max|\n",
            "+-------+\n",
            "\n",
            "+-------+------------------+\n",
            "|summary|      ProductionNO|\n",
            "+-------+------------------+\n",
            "|  count|              3519|\n",
            "|   mean| 35710.61538461538|\n",
            "| stddev|3749.1340008607663|\n",
            "|    min|            030641|\n",
            "|    25%|           32974.0|\n",
            "|    50%|           37775.0|\n",
            "|    75%|           37775.0|\n",
            "|    max|            c34183|\n",
            "+-------+------------------+\n",
            "\n",
            "+-------+------------------+\n",
            "|summary|      ProgramTitle|\n",
            "+-------+------------------+\n",
            "|  count|            238703|\n",
            "|   mean|            1999.0|\n",
            "| stddev|              NULL|\n",
            "|    min|  !NO 5PM A ID(:5)|\n",
            "|    25%|            1999.0|\n",
            "|    50%|            1999.0|\n",
            "|    75%|            1999.0|\n",
            "|    max|�t� avec Jo�l 2/Un|\n",
            "+-------+------------------+\n",
            "\n",
            "+-------+----------------+\n",
            "|summary|       StartTime|\n",
            "+-------+----------------+\n",
            "|  count|          238945|\n",
            "|   mean|            NULL|\n",
            "| stddev|            NULL|\n",
            "|    min|00:00:00.0000000|\n",
            "|    25%|            NULL|\n",
            "|    50%|            NULL|\n",
            "|    75%|            NULL|\n",
            "|    max|23:59:59.0000000|\n",
            "+-------+----------------+\n",
            "\n",
            "+-------+--------------------+\n",
            "|summary|            Subtitle|\n",
            "+-------+--------------------+\n",
            "|  count|               15468|\n",
            "|   mean|   3463.573913043478|\n",
            "| stddev|  16251.272419144227|\n",
            "|    min|                #001|\n",
            "|    25%|                17.0|\n",
            "|    50%|               106.0|\n",
            "|    75%|              2014.0|\n",
            "|    max|�tre dans le trou...|\n",
            "+-------+--------------------+\n",
            "\n",
            "+-------+--------------------+\n",
            "|summary|NetworkAffiliationID|\n",
            "+-------+--------------------+\n",
            "|  count|              108807|\n",
            "|   mean|   6.082200593711802|\n",
            "| stddev|  2.9908486752285115|\n",
            "|    min|                   1|\n",
            "|    25%|                   5|\n",
            "|    50%|                   6|\n",
            "|    75%|                   9|\n",
            "|    max|                   9|\n",
            "+-------+--------------------+\n",
            "\n",
            "+-------+------------------+\n",
            "|summary|SpecialAttentionID|\n",
            "+-------+------------------+\n",
            "|  count|              2395|\n",
            "|   mean| 1.704384133611691|\n",
            "| stddev|0.5394635034869686|\n",
            "|    min|                 1|\n",
            "|    25%|                 1|\n",
            "|    50%|                 2|\n",
            "|    75%|                 2|\n",
            "|    max|                 3|\n",
            "+-------+------------------+\n",
            "\n",
            "+-------+----------------------+\n",
            "|summary|BroadcastOriginPointID|\n",
            "+-------+----------------------+\n",
            "|  count|                  9978|\n",
            "|   mean|    2.1390058127881337|\n",
            "| stddev|    0.9323192037553304|\n",
            "|    min|                     1|\n",
            "|    25%|                     1|\n",
            "|    50%|                     3|\n",
            "|    75%|                     3|\n",
            "|    max|                     3|\n",
            "+-------+----------------------+\n",
            "\n",
            "+-------+------------------+\n",
            "|summary|     CompositionID|\n",
            "+-------+------------------+\n",
            "|  count|              9978|\n",
            "|   mean|3.4141110442974543|\n",
            "| stddev|0.9338603403654618|\n",
            "|    min|                 1|\n",
            "|    25%|                 3|\n",
            "|    50%|                 4|\n",
            "|    75%|                 4|\n",
            "|    max|                 4|\n",
            "+-------+------------------+\n",
            "\n",
            "+-------+---------+\n",
            "|summary|Producer1|\n",
            "+-------+---------+\n",
            "|  count|     2607|\n",
            "|   mean|     NULL|\n",
            "| stddev|     NULL|\n",
            "|    min|      AMI|\n",
            "|    25%|     NULL|\n",
            "|    50%|     NULL|\n",
            "|    75%|     NULL|\n",
            "|    max|   VISION|\n",
            "+-------+---------+\n",
            "\n",
            "+-------+---------+\n",
            "|summary|Producer2|\n",
            "+-------+---------+\n",
            "|  count|       38|\n",
            "|   mean|     NULL|\n",
            "| stddev|     NULL|\n",
            "|    min|    NEWSW|\n",
            "|    25%|     NULL|\n",
            "|    50%|     NULL|\n",
            "|    75%|     NULL|\n",
            "|    max|       QC|\n",
            "+-------+---------+\n",
            "\n",
            "+-------+------------------+\n",
            "|summary|         Language1|\n",
            "+-------+------------------+\n",
            "|  count|             12586|\n",
            "|   mean|101.75377403464167|\n",
            "| stddev| 45.68403685468214|\n",
            "|    min|                94|\n",
            "|    25%|                94|\n",
            "|    50%|                94|\n",
            "|    75%|                94|\n",
            "|    max|               437|\n",
            "+-------+------------------+\n",
            "\n",
            "+-------+------------------+\n",
            "|summary|         Language2|\n",
            "+-------+------------------+\n",
            "|  count|              2629|\n",
            "|   mean|175.49334347660707|\n",
            "| stddev| 86.03603792883942|\n",
            "|    min|                 3|\n",
            "|    25%|               134|\n",
            "|    50%|               151|\n",
            "|    75%|               259|\n",
            "|    max|               438|\n",
            "+-------+------------------+\n",
            "\n"
          ]
        }
      ]
    },
    {
      "cell_type": "code",
      "source": [
        "DIRECTORY = \"data/broadcast_logs\"\n",
        "log_identifier = spark.read.csv(\n",
        "    os.path.join(DIRECTORY, \"ReferenceTables/LogIdentifier.csv\"),\n",
        "    sep=\"|\",\n",
        "    header=True,\n",
        "    inferSchema=True,\n",
        ")\n",
        "\n",
        "log_identifier.printSchema()"
      ],
      "metadata": {
        "colab": {
          "base_uri": "https://localhost:8080/"
        },
        "id": "2yrBKoSkI3-O",
        "outputId": "95012edb-7e12-4155-cc17-e3cc87e8013a"
      },
      "execution_count": null,
      "outputs": [
        {
          "output_type": "stream",
          "name": "stdout",
          "text": [
            "root\n",
            " |-- LogIdentifierID: string (nullable = true)\n",
            " |-- LogServiceID: integer (nullable = true)\n",
            " |-- PrimaryFG: integer (nullable = true)\n",
            "\n"
          ]
        }
      ]
    },
    {
      "cell_type": "code",
      "source": [
        "log_identifier.show(5)"
      ],
      "metadata": {
        "colab": {
          "base_uri": "https://localhost:8080/"
        },
        "id": "ASd0QkkbI-F9",
        "outputId": "c3ce4749-e5ad-46f3-9d17-ddfac2ae9933"
      },
      "execution_count": null,
      "outputs": [
        {
          "output_type": "stream",
          "name": "stdout",
          "text": [
            "+---------------+------------+---------+\n",
            "|LogIdentifierID|LogServiceID|PrimaryFG|\n",
            "+---------------+------------+---------+\n",
            "|           13ST|        3157|        1|\n",
            "|         2000SM|        3466|        1|\n",
            "|           70SM|        3883|        1|\n",
            "|           80SM|        3590|        1|\n",
            "|           90SM|        3470|        1|\n",
            "+---------------+------------+---------+\n",
            "only showing top 5 rows\n",
            "\n"
          ]
        }
      ]
    },
    {
      "cell_type": "code",
      "source": [
        "logs_and_channels_verbose = logs.join(\n",
        "    log_identifier, logs[\"LogServiceID\"] == log_identifier[\"LogServiceID\"]\n",
        ")\n",
        "\n",
        "logs_and_channels_verbose.printSchema()"
      ],
      "metadata": {
        "id": "hopAn65P2dG6",
        "colab": {
          "base_uri": "https://localhost:8080/"
        },
        "outputId": "ac390931-9f53-4b41-f6e1-4cf2fee595a7"
      },
      "execution_count": null,
      "outputs": [
        {
          "output_type": "stream",
          "name": "stdout",
          "text": [
            "root\n",
            " |-- LogServiceID: integer (nullable = true)\n",
            " |-- LogDate: date (nullable = true)\n",
            " |-- AudienceTargetAgeID: integer (nullable = true)\n",
            " |-- AudienceTargetEthnicID: integer (nullable = true)\n",
            " |-- CategoryID: integer (nullable = true)\n",
            " |-- ClosedCaptionID: integer (nullable = true)\n",
            " |-- CountryOfOriginID: integer (nullable = true)\n",
            " |-- DubDramaCreditID: integer (nullable = true)\n",
            " |-- EthnicProgramID: integer (nullable = true)\n",
            " |-- ProductionSourceID: integer (nullable = true)\n",
            " |-- ProgramClassID: integer (nullable = true)\n",
            " |-- FilmClassificationID: integer (nullable = true)\n",
            " |-- ExhibitionID: integer (nullable = true)\n",
            " |-- Duration: string (nullable = true)\n",
            " |-- EndTime: string (nullable = true)\n",
            " |-- LogEntryDate: date (nullable = true)\n",
            " |-- ProductionNO: string (nullable = true)\n",
            " |-- ProgramTitle: string (nullable = true)\n",
            " |-- StartTime: string (nullable = true)\n",
            " |-- Subtitle: string (nullable = true)\n",
            " |-- NetworkAffiliationID: integer (nullable = true)\n",
            " |-- SpecialAttentionID: integer (nullable = true)\n",
            " |-- BroadcastOriginPointID: integer (nullable = true)\n",
            " |-- CompositionID: integer (nullable = true)\n",
            " |-- Producer1: string (nullable = true)\n",
            " |-- Producer2: string (nullable = true)\n",
            " |-- Language1: integer (nullable = true)\n",
            " |-- Language2: integer (nullable = true)\n",
            " |-- duration_seconds: integer (nullable = true)\n",
            " |-- LogIdentifierID: string (nullable = true)\n",
            " |-- LogServiceID: integer (nullable = true)\n",
            " |-- PrimaryFG: integer (nullable = true)\n",
            "\n"
          ]
        }
      ]
    },
    {
      "cell_type": "code",
      "source": [
        "logs_and_channels = logs.join(log_identifier, \"LogServiceID\")\n",
        "\n",
        "logs_and_channels.printSchema()"
      ],
      "metadata": {
        "colab": {
          "base_uri": "https://localhost:8080/"
        },
        "id": "npLOOaduIo1u",
        "outputId": "b8d0f5ef-7c79-4f25-e504-ff9725e583f3"
      },
      "execution_count": null,
      "outputs": [
        {
          "output_type": "stream",
          "name": "stdout",
          "text": [
            "root\n",
            " |-- LogServiceID: integer (nullable = true)\n",
            " |-- LogDate: date (nullable = true)\n",
            " |-- AudienceTargetAgeID: integer (nullable = true)\n",
            " |-- AudienceTargetEthnicID: integer (nullable = true)\n",
            " |-- CategoryID: integer (nullable = true)\n",
            " |-- ClosedCaptionID: integer (nullable = true)\n",
            " |-- CountryOfOriginID: integer (nullable = true)\n",
            " |-- DubDramaCreditID: integer (nullable = true)\n",
            " |-- EthnicProgramID: integer (nullable = true)\n",
            " |-- ProductionSourceID: integer (nullable = true)\n",
            " |-- ProgramClassID: integer (nullable = true)\n",
            " |-- FilmClassificationID: integer (nullable = true)\n",
            " |-- ExhibitionID: integer (nullable = true)\n",
            " |-- Duration: string (nullable = true)\n",
            " |-- EndTime: string (nullable = true)\n",
            " |-- LogEntryDate: date (nullable = true)\n",
            " |-- ProductionNO: string (nullable = true)\n",
            " |-- ProgramTitle: string (nullable = true)\n",
            " |-- StartTime: string (nullable = true)\n",
            " |-- Subtitle: string (nullable = true)\n",
            " |-- NetworkAffiliationID: integer (nullable = true)\n",
            " |-- SpecialAttentionID: integer (nullable = true)\n",
            " |-- BroadcastOriginPointID: integer (nullable = true)\n",
            " |-- CompositionID: integer (nullable = true)\n",
            " |-- Producer1: string (nullable = true)\n",
            " |-- Producer2: string (nullable = true)\n",
            " |-- Language1: integer (nullable = true)\n",
            " |-- Language2: integer (nullable = true)\n",
            " |-- duration_seconds: integer (nullable = true)\n",
            " |-- LogIdentifierID: string (nullable = true)\n",
            " |-- PrimaryFG: integer (nullable = true)\n",
            "\n"
          ]
        }
      ]
    },
    {
      "cell_type": "code",
      "source": [
        "DIRECTORY = \"data/broadcast_logs\"\n",
        "\n",
        "cd_category = spark.read.csv(\n",
        "    os.path.join(DIRECTORY, \"ReferenceTables/CD_Category.csv\"),\n",
        "    sep=\"|\",\n",
        "    header=True,\n",
        "    inferSchema=True,\n",
        ").select(\n",
        "    \"CategoryID\",\n",
        "    \"CategoryCD\",\n",
        "    F.col(\"EnglishDescription\").alias(\"Category_Description\"),\n",
        ")\n",
        "\n",
        "cd_program_class = spark.read.csv(\n",
        "    os.path.join(DIRECTORY, \"ReferenceTables/CD_ProgramClass.csv\"),\n",
        "    sep=\"|\",\n",
        "    header=True,\n",
        "    inferSchema=True,\n",
        ").select(\n",
        "    \"ProgramClassID\",\n",
        "    \"ProgramClassCD\",\n",
        "    F.col(\"EnglishDescription\").alias(\"ProgramClass_Description\"),\n",
        ")\n",
        "\n",
        "full_log = logs_and_channels.join(cd_category, \"CategoryID\", how=\"left\").join(\n",
        "    cd_program_class, \"ProgramClassID\", how=\"left\"\n",
        ")"
      ],
      "metadata": {
        "id": "xxFS-TDMH07t"
      },
      "execution_count": null,
      "outputs": []
    },
    {
      "cell_type": "code",
      "source": [
        "full_log.show(10)"
      ],
      "metadata": {
        "colab": {
          "base_uri": "https://localhost:8080/"
        },
        "id": "NkpOcpOAJO2N",
        "outputId": "2eae74f7-5975-4823-e5d7-85113e7754db"
      },
      "execution_count": null,
      "outputs": [
        {
          "output_type": "stream",
          "name": "stdout",
          "text": [
            "+--------------+----------+------------+----------+-------------------+----------------------+---------------+-----------------+----------------+---------------+------------------+--------------------+------------+----------------+----------------+------------+------------+--------------------+----------------+--------+--------------------+------------------+----------------------+-------------+---------+---------+---------+---------+----------------+---------------+---------+----------+--------------------+--------------+------------------------+\n",
            "|ProgramClassID|CategoryID|LogServiceID|   LogDate|AudienceTargetAgeID|AudienceTargetEthnicID|ClosedCaptionID|CountryOfOriginID|DubDramaCreditID|EthnicProgramID|ProductionSourceID|FilmClassificationID|ExhibitionID|        Duration|         EndTime|LogEntryDate|ProductionNO|        ProgramTitle|       StartTime|Subtitle|NetworkAffiliationID|SpecialAttentionID|BroadcastOriginPointID|CompositionID|Producer1|Producer2|Language1|Language2|duration_seconds|LogIdentifierID|PrimaryFG|CategoryCD|Category_Description|ProgramClassCD|ProgramClass_Description|\n",
            "+--------------+----------+------------+----------+-------------------+----------------------+---------------+-----------------+----------------+---------------+------------------+--------------------+------------+----------------+----------------+------------+------------+--------------------+----------------+--------+--------------------+------------------+----------------------+-------------+---------+---------+---------+---------+----------------+---------------+---------+----------+--------------------+--------------+------------------------+\n",
            "|            19|        13|        3157|2018-08-01|                  4|                  NULL|              3|                3|            NULL|           NULL|                10|                NULL|           2|02:00:00.0000000|08:00:00.0000000|  2018-08-01|      A39082|   Newlywed and Dead|06:00:00.0000000|    NULL|                NULL|              NULL|                  NULL|         NULL|     NULL|     NULL|       94|     NULL|            7200|           13ST|        1|       07C|SPECIALS,MINI-SER...|          PGR |                 PROGRAM|\n",
            "|            20|      NULL|        3157|2018-08-01|               NULL|                  NULL|              1|             NULL|            NULL|           NULL|              NULL|                NULL|        NULL|00:00:30.0000000|06:13:45.0000000|  2018-08-01|        NULL|15-SPECIALTY CHAN...|06:13:15.0000000|    NULL|                NULL|              NULL|                  NULL|         NULL|     NULL|     NULL|     NULL|     NULL|              30|           13ST|        1|      NULL|                NULL|          PRC |    PROMOTION OF UPCO...|\n",
            "|             3|      NULL|        3157|2018-08-01|               NULL|                  NULL|              1|             NULL|            NULL|           NULL|              NULL|                NULL|        NULL|00:00:15.0000000|06:14:00.0000000|  2018-08-01|        NULL|3-PROCTER & GAMBL...|06:13:45.0000000|    NULL|                NULL|              NULL|                  NULL|         NULL|     NULL|     NULL|     NULL|     NULL|              15|           13ST|        1|      NULL|                NULL|          COM |      COMMERCIAL MESSAGE|\n",
            "|             3|      NULL|        3157|2018-08-01|               NULL|                  NULL|              1|             NULL|            NULL|           NULL|              NULL|                NULL|        NULL|00:00:15.0000000|06:14:15.0000000|  2018-08-01|        NULL|12-CREDIT KARMA-B...|06:14:00.0000000|    NULL|                NULL|              NULL|                  NULL|         NULL|     NULL|     NULL|     NULL|     NULL|              15|           13ST|        1|      NULL|                NULL|          COM |      COMMERCIAL MESSAGE|\n",
            "|             3|      NULL|        3157|2018-08-01|               NULL|                  NULL|              1|             NULL|            NULL|           NULL|              NULL|                NULL|        NULL|00:00:15.0000000|06:14:30.0000000|  2018-08-01|        NULL|3-L'OREAL CANADA-...|06:14:15.0000000|    NULL|                NULL|              NULL|                  NULL|         NULL|     NULL|     NULL|     NULL|     NULL|              15|           13ST|        1|      NULL|                NULL|          COM |      COMMERCIAL MESSAGE|\n",
            "|             3|      NULL|        3157|2018-08-01|               NULL|                  NULL|              1|             NULL|            NULL|           NULL|              NULL|                NULL|        NULL|00:00:15.0000000|06:14:45.0000000|  2018-08-01|        NULL|11-YUM! BRANDS-Ch...|06:14:30.0000000|    NULL|                NULL|              NULL|                  NULL|         NULL|     NULL|     NULL|     NULL|     NULL|              15|           13ST|        1|      NULL|                NULL|          COM |      COMMERCIAL MESSAGE|\n",
            "|             3|      NULL|        3157|2018-08-01|               NULL|                  NULL|              1|             NULL|            NULL|           NULL|              NULL|                NULL|        NULL|00:00:30.0000000|06:15:16.0000000|  2018-08-01|        NULL|2-PIER 1 IMPORTS ...|06:14:46.0000000|    NULL|                NULL|              NULL|                  NULL|         NULL|     NULL|     NULL|     NULL|     NULL|              30|           13ST|        1|      NULL|                NULL|          COM |      COMMERCIAL MESSAGE|\n",
            "|             3|      NULL|        3157|2018-08-01|               NULL|                  NULL|              1|             NULL|            NULL|           NULL|              NULL|                NULL|        NULL|00:00:15.0000000|06:15:31.0000000|  2018-08-01|        NULL|3-HAVAS EDGE-Trav...|06:15:16.0000000|    NULL|                NULL|              NULL|                  NULL|         NULL|     NULL|     NULL|     NULL|     NULL|              15|           13ST|        1|      NULL|                NULL|          COM |      COMMERCIAL MESSAGE|\n",
            "|             3|      NULL|        3157|2018-08-01|               NULL|                  NULL|              1|             NULL|            NULL|           NULL|              NULL|                NULL|        NULL|00:00:15.0000000|06:15:46.0000000|  2018-08-01|        NULL|2-AUTOTRADER-Inte...|06:15:31.0000000|    NULL|                NULL|              NULL|                  NULL|         NULL|     NULL|     NULL|     NULL|     NULL|              15|           13ST|        1|      NULL|                NULL|          COM |      COMMERCIAL MESSAGE|\n",
            "|             3|      NULL|        3157|2018-08-01|               NULL|                  NULL|              1|             NULL|            NULL|           NULL|              NULL|                NULL|        NULL|00:00:15.0000000|06:16:01.0000000|  2018-08-01|        NULL|11-SLEEP COUNTRY ...|06:15:46.0000000|    NULL|                NULL|              NULL|                  NULL|         NULL|     NULL|     NULL|     NULL|     NULL|              15|           13ST|        1|      NULL|                NULL|          COM |      COMMERCIAL MESSAGE|\n",
            "+--------------+----------+------------+----------+-------------------+----------------------+---------------+-----------------+----------------+---------------+------------------+--------------------+------------+----------------+----------------+------------+------------+--------------------+----------------+--------+--------------------+------------------+----------------------+-------------+---------+---------+---------+---------+----------------+---------------+---------+----------+--------------------+--------------+------------------------+\n",
            "only showing top 10 rows\n",
            "\n"
          ]
        }
      ]
    },
    {
      "cell_type": "code",
      "source": [
        "(full_log\n",
        " .groupby(\"ProgramClassCD\", \"ProgramClass_Description\")\n",
        " .agg(F.sum(\"duration_seconds\").alias(\"duration_total\"))\n",
        " .orderBy(\"duration_total\", ascending=False).show(100, False)\n",
        " )"
      ],
      "metadata": {
        "colab": {
          "base_uri": "https://localhost:8080/"
        },
        "id": "gaNYK6fjJbR1",
        "outputId": "f089b4f9-9118-4e1d-dae4-7d80c292c764"
      },
      "execution_count": null,
      "outputs": [
        {
          "output_type": "stream",
          "name": "stdout",
          "text": [
            "+--------------+--------------------------------------+--------------+\n",
            "|ProgramClassCD|ProgramClass_Description              |duration_total|\n",
            "+--------------+--------------------------------------+--------------+\n",
            "|PGR           |PROGRAM                               |20992510      |\n",
            "|COM           |COMMERCIAL MESSAGE                    |3519163       |\n",
            "|PFS           |PROGRAM FIRST SEGMENT                 |1344762       |\n",
            "|SEG           |SEGMENT OF A PROGRAM                  |1205998       |\n",
            "|PRC           |PROMOTION OF UPCOMING CANADIAN PROGRAM|880600        |\n",
            "|PGI           |PROGRAM INFOMERCIAL                   |679182        |\n",
            "|PRO           |PROMOTION OF NON-CANADIAN PROGRAM     |335701        |\n",
            "|OFF           |SCHEDULED OFF AIR TIME PERIOD         |142279        |\n",
            "|ID            |NETWORK IDENTIFICATION MESSAGE        |74926         |\n",
            "|NRN           |No recognized nationality             |59686         |\n",
            "|MAG           |MAGAZINE PROGRAM                      |57622         |\n",
            "|PSA           |PUBLIC SERVICE ANNOUNCEMENT           |51214         |\n",
            "|SO            |MAY IDENTIFY THE SIGN ON\\OFF OF A DAY |32509         |\n",
            "|OFT           |OFF AIR DUE TO TECHNICAL DIFFICULTY   |18263         |\n",
            "|LOC           |LOCAL ADVERTISING                     |13294         |\n",
            "|MVC           |MUSIC VIDEO CLIP                      |7907          |\n",
            "|REG           |REGIONAL                              |6749          |\n",
            "|MER           |MERCHANDISING                         |1680          |\n",
            "|SPO           |SPONSORSHIP MESSAGE                   |1544          |\n",
            "|SOL           |SOLICITATION MESSAGE                  |596           |\n",
            "|MOS           |Mosaic                                |NULL          |\n",
            "|COR           |CORNERSTONE                           |NULL          |\n",
            "+--------------+--------------------------------------+--------------+\n",
            "\n"
          ]
        }
      ]
    },
    {
      "cell_type": "code",
      "source": [
        "mytest = full_log.groupby(\"LogIdentifierID\").agg(\n",
        "        F.sum(\n",
        "            \"duration_seconds\"\n",
        "            ).alias(\"duration_commercial\")\n",
        "        )\n",
        "mytest = mytest.filter(mytest[\"duration_commercial\"].isNotNull())\n",
        "mytest.show(100, False)"
      ],
      "metadata": {
        "colab": {
          "base_uri": "https://localhost:8080/"
        },
        "id": "7alAEAhlM0Wg",
        "outputId": "5ef2446d-84d7-41df-98f6-d28e03b681da"
      },
      "execution_count": null,
      "outputs": [
        {
          "output_type": "stream",
          "name": "stdout",
          "text": [
            "+---------------+-------------------+\n",
            "|LogIdentifierID|duration_commercial|\n",
            "+---------------+-------------------+\n",
            "|CJCO           |106174             |\n",
            "|BRAVO          |108920             |\n",
            "|CFTF           |1805               |\n",
            "|CKCS           |97158              |\n",
            "|CJNT           |112904             |\n",
            "|CKES           |97019              |\n",
            "|CHBX           |108007             |\n",
            "|BBCKID         |92104              |\n",
            "|BOOK           |105885             |\n",
            "|CHAN           |107938             |\n",
            "|CEVASI         |107180             |\n",
            "|CMT            |108942             |\n",
            "|CIII           |107812             |\n",
            "|CFMT           |102688             |\n",
            "|CFGS           |91500              |\n",
            "|CBKT           |103410             |\n",
            "|CHEK           |100372             |\n",
            "|CFCF           |107878             |\n",
            "|CBXT           |103810             |\n",
            "|CIVM           |11802              |\n",
            "|CESS           |105700             |\n",
            "|CBHT           |103779             |\n",
            "|CICC           |107731             |\n",
            "|CFTM           |105732             |\n",
            "|CJOH           |108093             |\n",
            "|CBAFT          |100479             |\n",
            "|CFTV           |102                |\n",
            "|CFCM           |105894             |\n",
            "|CKPG           |100070             |\n",
            "|CKVU           |113367             |\n",
            "|ATN9           |99792              |\n",
            "|CJPM           |105655             |\n",
            "|CKWS1          |96287              |\n",
            "|CFTU           |7619               |\n",
            "|CICA           |90140              |\n",
            "|MAKE           |110196             |\n",
            "|CITY           |112061             |\n",
            "|CFRS           |17789              |\n",
            "|CKY            |107669             |\n",
            "|13ST           |108982             |\n",
            "|CFRE           |108109             |\n",
            "|CJMT           |105811             |\n",
            "|BBCCND         |110578             |\n",
            "|CFKS           |19581              |\n",
            "|CJDC           |91470              |\n",
            "|CKVR           |105861             |\n",
            "|CKCK           |107856             |\n",
            "|CFPL           |105616             |\n",
            "|CJCB           |107990             |\n",
            "|OWN            |109612             |\n",
            "|CFTK           |91785              |\n",
            "|CITV           |108442             |\n",
            "|ANIMAL         |109445             |\n",
            "|ASN            |106920             |\n",
            "|CBMT           |103605             |\n",
            "|CKAL           |113368             |\n",
            "|CBUFT          |100448             |\n",
            "|CKND           |107971             |\n",
            "|ATN3           |107267             |\n",
            "|CFJP           |19533              |\n",
            "|VRAK           |38050              |\n",
            "|CBXFT          |100448             |\n",
            "|CFQC           |107986             |\n",
            "|CFKM           |19582              |\n",
            "|CBWT           |103107             |\n",
            "|CIMT           |775                |\n",
            "|CIPA           |107742             |\n",
            "|CIHF           |108224             |\n",
            "|CFCN           |108424             |\n",
            "|CHFD           |98125              |\n",
            "|CBVT           |101348             |\n",
            "|CHMG           |96870              |\n",
            "|ARTV           |108519             |\n",
            "|CANALD         |21875              |\n",
            "|CKRT           |14400              |\n",
            "|CFER           |105556             |\n",
            "|GAME           |107889             |\n",
            "|ZT�L�          |21965              |\n",
            "|CBC            |98735              |\n",
            "|CITS           |98727              |\n",
            "|CBAT           |103809             |\n",
            "|CKLT           |107990             |\n",
            "|CIVI           |105330             |\n",
            "|COSMO          |109263             |\n",
            "|CKEM           |113308             |\n",
            "|ATN8           |88153              |\n",
            "|CKWS           |96289              |\n",
            "|CBNT           |103809             |\n",
            "|CHAT           |92665              |\n",
            "|CBUT           |103750             |\n",
            "|ABORIN         |105300             |\n",
            "|CKNO           |96123              |\n",
            "|ALLTV          |23126              |\n",
            "|CHMI           |113305             |\n",
            "|CJEO           |105746             |\n",
            "|CITO           |107972             |\n",
            "|BC1            |100958             |\n",
            "|CBLT           |103665             |\n",
            "|CFYK           |103285             |\n",
            "|CANALVIE       |21309              |\n",
            "+---------------+-------------------+\n",
            "only showing top 100 rows\n",
            "\n"
          ]
        }
      ]
    },
    {
      "cell_type": "code",
      "source": [
        "# When the field of the column ProgramClass, trimmed of spaces at the beginning and end of the field,\n",
        "# is in our list of commercial codes,\n",
        "# then take the value of the field in the column duration_seconds. Otherwise, use zero as a value.\n",
        "answer = (\n",
        "    full_log.groupby(\"LogIdentifierID\")\n",
        "    .agg(\n",
        "        F.sum(\n",
        "            F.when(\n",
        "                F.trim(F.col(\"ProgramClassCD\")).isin(\n",
        "                    [\"COM\", \"PGR\", \"PGI\", \"PRO\", \"LOC\", \"SPO\", \"MER\", \"SOL\"]\n",
        "                ),\n",
        "                F.col(\"duration_seconds\"),\n",
        "            ).otherwise(0)\n",
        "        ).alias(\"duration_commercial\"),\n",
        "        F.sum(\"duration_seconds\").alias(\"duration_total\"),\n",
        "    )\n",
        "    .withColumn(\n",
        "        \"commercial_ratio\", F.col(\"duration_commercial\") / F.col(\"duration_total\")\n",
        "    )\n",
        "    .fillna(0)\n",
        ")\n",
        "\n",
        "answer.orderBy(\"commercial_ratio\", ascending=False).show(1000, False)"
      ],
      "metadata": {
        "colab": {
          "base_uri": "https://localhost:8080/"
        },
        "id": "562eeDMsPjQW",
        "outputId": "091e3f86-2ffe-4e59-8a55-a281df99c70a"
      },
      "execution_count": null,
      "outputs": [
        {
          "output_type": "stream",
          "name": "stdout",
          "text": [
            "+---------------+-------------------+--------------+-------------------+\n",
            "|LogIdentifierID|duration_commercial|duration_total|commercial_ratio   |\n",
            "+---------------+-------------------+--------------+-------------------+\n",
            "|CIMT           |775                |775           |1.0                |\n",
            "|ATN6           |97121              |97121         |1.0                |\n",
            "|MOVIEP         |86400              |86400         |1.0                |\n",
            "|ATN13          |86400              |86400         |1.0                |\n",
            "|SKIN           |86400              |86400         |1.0                |\n",
            "|SNONE          |1800               |1800          |1.0                |\n",
            "|TIMESN         |86400              |86400         |1.0                |\n",
            "|MPIX2          |86400              |86400         |1.0                |\n",
            "|OTN3           |86400              |86400         |1.0                |\n",
            "|TMN3           |86400              |86400         |1.0                |\n",
            "|PLAY           |86400              |86400         |1.0                |\n",
            "|PENT           |86400              |86400         |1.0                |\n",
            "|ATN11          |86400              |86400         |1.0                |\n",
            "|TMN1           |86400              |86400         |1.0                |\n",
            "|TMN4           |86400              |86400         |1.0                |\n",
            "|ATN14          |86400              |86400         |1.0                |\n",
            "|TMN2           |86400              |86400         |1.0                |\n",
            "|HPITV          |13                 |13            |1.0                |\n",
            "|TENCH2         |86400              |86400         |1.0                |\n",
            "|ZOOM           |86400              |86400         |1.0                |\n",
            "|NEOCRI         |90646              |90646         |1.0                |\n",
            "|ATN10          |98797              |98866         |0.9993020856512855 |\n",
            "|ATN9           |99712              |99792         |0.9991983325316659 |\n",
            "|OTN1           |86640              |86730         |0.99896229678312   |\n",
            "|ATN5           |101076             |101181        |0.9989622557594805 |\n",
            "|ATN3           |107145             |107267        |0.998862651141544  |\n",
            "|ATN8           |88023              |88153         |0.9985252912549771 |\n",
            "|ATN7           |94851              |94995         |0.9984841307437233 |\n",
            "|ATN1           |102259             |102442        |0.9982136233185608 |\n",
            "|SAB            |87016              |87207         |0.9978098088456202 |\n",
            "|ZEETV          |89745              |89971         |0.9974880794922808 |\n",
            "|ATN2           |99075              |99335         |0.9973825942517743 |\n",
            "|TCC            |90681              |91081         |0.9956083046958202 |\n",
            "|SLVSC          |89292              |89722         |0.9952074184703863 |\n",
            "|ESPN           |101390             |101965        |0.9943608100818908 |\n",
            "|2000SM         |88722              |89311         |0.9934050676848316 |\n",
            "|CFJC           |94540              |95170         |0.9933802668908269 |\n",
            "|SATV           |104172             |104877        |0.9932778397551417 |\n",
            "|SCSD03         |85750              |86400         |0.9924768518518519 |\n",
            "|SCSD01         |85742              |86400         |0.9923842592592592 |\n",
            "|80SM           |87646              |88352         |0.9920092357841361 |\n",
            "|OUTDR          |108667             |109607        |0.9914239054075014 |\n",
            "|FNTSY          |101610             |102545        |0.9908820517821444 |\n",
            "|CHAT           |91805              |92665         |0.9907192575406032 |\n",
            "|CHCH           |105998             |106997        |0.9906632896249428 |\n",
            "|BLC            |103680             |104721        |0.9900593004268485 |\n",
            "|FIGHT          |102970             |104229        |0.9879208281764192 |\n",
            "|CHMI           |111795             |113305        |0.9866731388729535 |\n",
            "|FXC            |108907             |110414        |0.9863513684858805 |\n",
            "|SCSD02         |85209              |86400         |0.9862152777777777 |\n",
            "|CSCN           |101634             |103091        |0.9858668554966001 |\n",
            "|CFTK           |90360              |91785         |0.9844745873508743 |\n",
            "|CFMT           |101086             |102688        |0.9843993455905267 |\n",
            "|CITY           |110233             |112061        |0.983687455939176  |\n",
            "|SCSD04         |84970              |86400         |0.9834490740740741 |\n",
            "|CKVU           |111448             |113367        |0.9830726754699339 |\n",
            "|RDS            |102065             |103855        |0.9827644311780849 |\n",
            "|SPRTVA         |102315             |104117        |0.9826925478067943 |\n",
            "|CKEM           |111312             |113308        |0.9823842976665372 |\n",
            "|CJNT           |110866             |112904        |0.9819492666336003 |\n",
            "|CKPG           |98235              |100070        |0.9816628360147897 |\n",
            "|CKAL           |111267             |113368        |0.9814674334909322 |\n",
            "|CPOP           |84742              |86400         |0.9808101851851851 |\n",
            "|CHRGD          |93428              |95431         |0.9790110131927781 |\n",
            "|CICA           |88212              |90140         |0.9786110494785889 |\n",
            "|CBC            |96605              |98735         |0.9784271028510659 |\n",
            "|FXX            |106838             |109220        |0.9781908075444058 |\n",
            "|TSN            |102061             |104390        |0.9776894338538175 |\n",
            "|FAMJR          |84451              |86400         |0.9774421296296296 |\n",
            "|SPTVA2         |101775             |104132        |0.9773652671609111 |\n",
            "|CHEX02         |93477              |95654         |0.9772408890375729 |\n",
            "|BOOK           |103470             |105885        |0.9771922368607452 |\n",
            "|TSN1           |101626             |104059        |0.9766190334329563 |\n",
            "|SE01           |84353              |86400         |0.9763078703703704 |\n",
            "|RDSINF         |100650             |103200        |0.9752906976744186 |\n",
            "|RDS2           |100665             |103240        |0.9750581170089113 |\n",
            "|TSN3           |102060             |104730        |0.9745058722429103 |\n",
            "|CHEX           |94847              |97329         |0.9744988646754821 |\n",
            "|SE02           |84147              |86400         |0.9739236111111111 |\n",
            "|CHRO           |104475             |107345        |0.9732637756765569 |\n",
            "|TSN5           |102152             |104996        |0.9729132538382415 |\n",
            "|LCN            |100965             |103780        |0.972875313162459  |\n",
            "|CJEO           |102819             |105746        |0.9723204660223554 |\n",
            "|CBUT           |100730             |103750        |0.9708915662650602 |\n",
            "|CBXT           |100770             |103810        |0.970715730661786  |\n",
            "|ASN            |103755             |106920        |0.9703984287317621 |\n",
            "|CBLT           |100595             |103665        |0.9703853759706748 |\n",
            "|CBET           |100595             |103665        |0.9703853759706748 |\n",
            "|CBRT           |100670             |103750        |0.9703132530120482 |\n",
            "|CJCO           |103013             |106174        |0.970228116111289  |\n",
            "|OMAB           |103013             |106174        |0.970228116111289  |\n",
            "|CBWT           |100035             |103107        |0.9702057086327796 |\n",
            "|PRIS           |102345             |105545        |0.9696811786441802 |\n",
            "|TSN2           |99810              |102987        |0.9691514462990475 |\n",
            "|CBMT           |100400             |103605        |0.969065199556006  |\n",
            "|OMON           |102173             |105457        |0.9688593455152337 |\n",
            "|CJMT           |102502             |105811        |0.9687272589806353 |\n",
            "|FAMCHA         |83685              |86400         |0.9685763888888889 |\n",
            "|CBOT           |100460             |103732        |0.9684571781128292 |\n",
            "|CBHT           |100475             |103779        |0.9681631158519546 |\n",
            "|CBAT           |100490             |103809        |0.968027820323864  |\n",
            "|CBCT           |100460             |103779        |0.9680185779396603 |\n",
            "|CBKT           |100065             |103410        |0.9676530316217    |\n",
            "|OWN            |106032             |109612        |0.9673393424077655 |\n",
            "|BBCKID         |89057              |92104         |0.9669178320159819 |\n",
            "|CJDC           |88425              |91470         |0.9667103968514267 |\n",
            "|CKWS           |93047              |96289         |0.9663305258129173 |\n",
            "|CKWS1          |93043              |96287         |0.9663090552203308 |\n",
            "|CBNT           |100295             |103809        |0.9661493704784749 |\n",
            "|13ST           |105255             |108982        |0.9658016920225359 |\n",
            "|CMT            |105060             |108942        |0.9643663600815112 |\n",
            "|CHNM           |102040             |105845        |0.9640512069535642 |\n",
            "|OMBC           |102040             |105845        |0.9640512069535642 |\n",
            "|HISTORY        |105329             |109288        |0.9637746138642852 |\n",
            "|NEWSW          |102152             |106082        |0.9629531871571049 |\n",
            "|SE03           |83185              |86400         |0.9627893518518519 |\n",
            "|CFER           |101491             |105556        |0.9614896358331123 |\n",
            "|CHEM           |101476             |105626        |0.9607104311438471 |\n",
            "|CJPM           |101491             |105655        |0.9605887085324878 |\n",
            "|CFCM           |101684             |105894        |0.9602432621300546 |\n",
            "|SNWST          |100126             |104278        |0.9601833560290761 |\n",
            "|CHLT           |101476             |105686        |0.9601650171262041 |\n",
            "|MVOLA          |88176              |91851         |0.9599895482901656 |\n",
            "|COMGLD         |103680             |108135        |0.9588014981273408 |\n",
            "|CFTM           |101341             |105732        |0.9584704725154163 |\n",
            "|RAZER          |103680             |108330        |0.9570756023262255 |\n",
            "|COTT           |103890             |108568        |0.9569117972146489 |\n",
            "|SNPAC          |99751              |104258        |0.9567707034472175 |\n",
            "|FYI            |105914             |110769        |0.956170047576488  |\n",
            "|BBCCND         |105699             |110578        |0.9558772992819549 |\n",
            "|SNONT          |99499              |104235        |0.9545642058809422 |\n",
            "|DISVEL         |103680             |108645        |0.9543007041281237 |\n",
            "|INVDIS         |103680             |108730        |0.9535546767221558 |\n",
            "|DISSCI         |103680             |108730        |0.9535546767221558 |\n",
            "|MOICIE         |102645             |107715        |0.9529313466091074 |\n",
            "|SE04           |82279              |86400         |0.9523032407407407 |\n",
            "|TRESR          |100270             |105394        |0.9513824316374746 |\n",
            "|COSMO          |103944             |109263        |0.9513192938140084 |\n",
            "|CASA           |103680             |109022        |0.9510007154519271 |\n",
            "|MUCHM          |102240             |107510        |0.9509813040647381 |\n",
            "|90SM           |84012              |88372         |0.9506631059611642 |\n",
            "|SN360          |100165             |105447        |0.9499084848312422 |\n",
            "|SNEST          |99009              |104235        |0.9498632896819686 |\n",
            "|COOK           |105921             |111561        |0.9494446984161131 |\n",
            "|TVADIK         |103095             |108661        |0.9487764699386164 |\n",
            "|NICK           |95761              |100935        |0.9487392876603755 |\n",
            "|GAME           |102300             |107889        |0.9481967577788283 |\n",
            "|DSNYEN         |97832              |103184        |0.9481314932547682 |\n",
            "|SPACE          |102090             |107695        |0.9479548725567575 |\n",
            "|GUS            |102270             |107935        |0.9475147079260666 |\n",
            "|ANIMAL         |103680             |109445        |0.9473251404815204 |\n",
            "|YTV            |99135              |104672        |0.9471014215836135 |\n",
            "|DSNYJR         |86697              |91602         |0.9464531342110434 |\n",
            "|MTV1           |101610             |107585        |0.9444625180090161 |\n",
            "|TCN            |102430             |108600        |0.9431860036832412 |\n",
            "|PRIDE          |94159              |99859         |0.9429195165182908 |\n",
            "|TRV            |103410             |109713        |0.9425501080090782 |\n",
            "|DOCS           |96555              |102460        |0.9423677532695686 |\n",
            "|CKNO           |90522              |96123         |0.9417309072750538 |\n",
            "|SMITH          |97815              |103894        |0.9414884401409128 |\n",
            "|WILD           |101385             |107721        |0.9411813852452168 |\n",
            "|THTV           |86711              |92253         |0.9399260728648391 |\n",
            "|MAKE           |103530             |110196        |0.9395077861265382 |\n",
            "|CFHD           |96955              |103223        |0.9392770990961317 |\n",
            "|OMQC           |96955              |103223        |0.9392770990961317 |\n",
            "|BRAVO          |102280             |108920        |0.9390378259272861 |\n",
            "|TOON           |97835              |104466        |0.9365248023280301 |\n",
            "|DEJA           |102264             |109325        |0.9354127601189115 |\n",
            "|CARTN          |97992              |104776        |0.9352523478659235 |\n",
            "|TV5            |10489              |11220         |0.9348484848484848 |\n",
            "|SN2            |86400              |92495         |0.934104546191686  |\n",
            "|E!             |102345             |109745        |0.9325709599526174 |\n",
            "|TDC            |102210             |109615        |0.9324453770013228 |\n",
            "|ABORIN         |98100              |105300        |0.9316239316239316 |\n",
            "|DSNYXD         |97459              |104682        |0.9310005540589595 |\n",
            "|NATUR          |86400              |92847         |0.9305631845940096 |\n",
            "|FASH           |103590             |111320        |0.9305605461731944 |\n",
            "|MAGINO         |84734              |91221         |0.9288869887416275 |\n",
            "|MSET           |2505               |2700          |0.9277777777777778 |\n",
            "|DSNYFR         |91200              |98312         |0.9276588819269265 |\n",
            "|TLTOON         |95880              |103498        |0.9263947129413129 |\n",
            "|SALT           |86610              |93541         |0.9259041489827989 |\n",
            "|CIVT           |100092             |108232        |0.9247911892970656 |\n",
            "|ABORIW         |97820              |105846        |0.9241728549024054 |\n",
            "|70SM           |82507              |89326         |0.9236616438662876 |\n",
            "|LIFENT         |100400             |108901        |0.921938274212358  |\n",
            "|ASIDE          |93912              |102166        |0.9192099132783901 |\n",
            "|CIVM           |10843              |11802         |0.9187425860023725 |\n",
            "|CFYK           |94790              |103285        |0.9177518516725566 |\n",
            "|BBCE           |95156              |103685        |0.9177412354728264 |\n",
            "|WFN            |102075             |111498        |0.9154872733143196 |\n",
            "|EXP            |98615              |107951        |0.9135163175885356 |\n",
            "|BNN            |94745              |104162        |0.909592749755189  |\n",
            "|CHWI           |95710              |105816        |0.9044945943902624 |\n",
            "|CFQC           |97453              |107986        |0.9024595780934566 |\n",
            "|ABORI          |95443              |105784        |0.9022441957195795 |\n",
            "|SRC            |86265              |95648         |0.9019007193041151 |\n",
            "|ABORIH         |95343              |106223        |0.8975739717387007 |\n",
            "|CKY            |95995              |107669        |0.891575105183479  |\n",
            "|CKVR           |94190              |105861        |0.8897516554727426 |\n",
            "|CAVE           |97809              |109990        |0.8892535685062278 |\n",
            "|TELENO         |15795              |17790         |0.887858347386172  |\n",
            "|CITS           |87265              |98727         |0.8839020733943096 |\n",
            "|CIII           |95004              |107812        |0.88120060846659   |\n",
            "|NGWILD         |94733              |108667        |0.8717733994680998 |\n",
            "|RURAL          |2220               |2550          |0.8705882352941177 |\n",
            "|CKCK           |93883              |107856        |0.8704476338822134 |\n",
            "|CBFT           |87725              |101048        |0.8681517694561001 |\n",
            "|DIY            |97363              |112587        |0.8647801255917645 |\n",
            "|SERIEP         |94065              |108896        |0.8638058330884514 |\n",
            "|CHBC           |91600              |108000        |0.8481481481481481 |\n",
            "|CIHF           |91695              |108224        |0.8472704760496748 |\n",
            "|CHNB2          |91680              |108251        |0.8469205827197901 |\n",
            "|CKMI           |91287              |107956        |0.8455945014635592 |\n",
            "|INVST          |17280              |20470         |0.844162188568637  |\n",
            "|TLNSP          |13050              |15480         |0.8430232558139535 |\n",
            "|CFSK           |91042              |108069        |0.8424432538470792 |\n",
            "|BC1            |84915              |100958        |0.8410923354266131 |\n",
            "|CHEK           |84410              |100372        |0.8409715857011916 |\n",
            "|CHISTO         |91731              |109109        |0.8407280792601893 |\n",
            "|CITL           |80405              |95687         |0.8402917846729441 |\n",
            "|CFPL           |88610              |105616        |0.8389827298894107 |\n",
            "|ONEBMS         |15450              |18522         |0.8341431810819566 |\n",
            "|CISA           |90376              |108521        |0.8327973387639259 |\n",
            "|CTVNC          |87608              |105310        |0.8319058019181464 |\n",
            "|CICT           |90102              |108398        |0.8312145980553147 |\n",
            "|CHNU           |4064               |4921          |0.8258484047957733 |\n",
            "|VISION         |11221              |13621         |0.8238014830041848 |\n",
            "|CKCS           |79992              |97158         |0.8233187179645526 |\n",
            "|CKSA           |84540              |103387        |0.8177043535454167 |\n",
            "|CANALVIE       |17280              |21309         |0.8109249612839645 |\n",
            "|CFRE           |87493              |108109        |0.8093035732455207 |\n",
            "|CIVI           |84740              |105330        |0.8045191303522263 |\n",
            "|CFAP           |14060              |17681         |0.7952038911826255 |\n",
            "|CFTO           |85704              |108003        |0.7935335129579734 |\n",
            "|HGTV           |86802              |109420        |0.7932919027600073 |\n",
            "|CJCH           |85564              |107930        |0.7927730936718244 |\n",
            "|CJCB           |85569              |107990        |0.7923789239744421 |\n",
            "|CKLT           |85559              |107990        |0.7922863228076674 |\n",
            "|CKCW           |85559              |107990        |0.7922863228076674 |\n",
            "|CITO           |85484              |107972        |0.7917237802393213 |\n",
            "|CJOH           |85559              |108093        |0.7915313665084696 |\n",
            "|CKNY           |85469              |107982        |0.7915115482209998 |\n",
            "|CFCF           |85354              |107878        |0.7912085874784479 |\n",
            "|CHBX           |85454              |108007        |0.7911894599424112 |\n",
            "|CICI           |85459              |108036        |0.7910233625828428 |\n",
            "|CKCO           |85329              |107928        |0.7906104069379586 |\n",
            "|CANALD         |17280              |21875         |0.7899428571428572 |\n",
            "|CESS           |83220              |105700        |0.7873226111636707 |\n",
            "|ZT�L�          |17280              |21965         |0.7867061233781015 |\n",
            "|CFRN6          |85496              |108740        |0.7862424130954571 |\n",
            "|CJIL           |3303               |4213          |0.7840018988844054 |\n",
            "|FPTV           |74469              |95285         |0.7815395917510626 |\n",
            "|CFRS           |13628              |17789         |0.7660914048007196 |\n",
            "|CHAN           |82425              |107938        |0.7636328262521077 |\n",
            "|CP24           |79217              |103860        |0.7627286732139419 |\n",
            "|YOOP           |70920              |92984         |0.7627118644067796 |\n",
            "|RAPT           |13740              |18279         |0.7516822583292303 |\n",
            "|CFJP           |14676              |19533         |0.7513438795883889 |\n",
            "|IDNR           |64633              |86530         |0.7469432566739859 |\n",
            "|CITV           |80907              |108442        |0.7460854650412202 |\n",
            "|FACHV2         |69503              |97848         |0.7103160003270379 |\n",
            "|ARTV           |75975              |108519        |0.7001078152212976 |\n",
            "|CIPA           |75421              |107742        |0.7000148502905088 |\n",
            "|CICC           |75106              |107731        |0.6971623766603856 |\n",
            "|CKES           |67497              |97019         |0.6957090879106155 |\n",
            "|CFKM           |13469              |19582         |0.6878255540802778 |\n",
            "|MMAX           |16083              |23582         |0.6820032227970486 |\n",
            "|CFCNL          |73543              |108434        |0.6782282309976576 |\n",
            "|CKTM           |67909              |100418        |0.6762632197414806 |\n",
            "|CKSH           |67909              |100418        |0.6762632197414806 |\n",
            "|CBVT           |68284              |101348        |0.6737577455894541 |\n",
            "|CBOFT          |67814              |101198        |0.6701120575505445 |\n",
            "|CJBRT          |67199              |100418        |0.669192774203828  |\n",
            "|CFKS           |13063              |19581         |0.6671262958990859 |\n",
            "|DTOUR          |73733              |110971        |0.6644348523488118 |\n",
            "|SPARK          |72489              |109425        |0.6624537354352296 |\n",
            "|CKTV           |66419              |100418        |0.6614252424864068 |\n",
            "|CFCN           |71632              |108424        |0.6606655353058364 |\n",
            "|V              |12902              |19557         |0.6597126348621977 |\n",
            "|NGCE           |70042              |107031        |0.6544085358447552 |\n",
            "|CKND           |70082              |107971        |0.6490816978633152 |\n",
            "|CFRN           |69055              |108409        |0.6369858591076387 |\n",
            "|unis           |7585               |11998         |0.6321886981163527 |\n",
            "|WTN            |67172              |107500        |0.6248558139534883 |\n",
            "|CFGS           |55290              |91500         |0.6042622950819672 |\n",
            "|CBUFT          |59564              |100448        |0.5929834342147181 |\n",
            "|CBXFT          |59564              |100448        |0.5929834342147181 |\n",
            "|CBKFT          |59564              |100448        |0.5929834342147181 |\n",
            "|CBWFT          |59564              |100448        |0.5929834342147181 |\n",
            "|CBLFT          |59234              |100658        |0.5884678813407777 |\n",
            "|CBAFT          |58869              |100479        |0.5858836174723077 |\n",
            "|MPLU           |12078              |20912         |0.5775631216526397 |\n",
            "|FTV            |53907              |94841         |0.5683934163494692 |\n",
            "|FACHTV         |53907              |94841         |0.5683934163494692 |\n",
            "|CJON           |59288              |104555        |0.5670508344890249 |\n",
            "|FOOD           |58647              |111088        |0.5279328100244851 |\n",
            "|TTV            |47624              |92687         |0.5138153139059415 |\n",
            "|DIVA           |54935              |109961        |0.4995862169314575 |\n",
            "|SHOW           |54003              |108662        |0.49698146546170696|\n",
            "|CFEM           |43280              |94580         |0.45760203002748995|\n",
            "|CFVS           |40515              |91130         |0.4445846592779546 |\n",
            "|CIIT           |1517               |3596          |0.4218576195773081 |\n",
            "|LEAF           |4831               |12034         |0.4014459032740568 |\n",
            "|CHOT           |37492              |94017         |0.3987789442334897 |\n",
            "|CHAU           |1080               |2880          |0.375              |\n",
            "|RDI            |36425              |105900        |0.3439565627950897 |\n",
            "|VRAK           |12240              |38050         |0.3216819973718791 |\n",
            "|CKPR           |27870              |94965         |0.29347654398989104|\n",
            "|CHFD           |25725              |98125         |0.2621656050955414 |\n",
            "|ALLTV          |5716               |23126         |0.24716769004583586|\n",
            "|CHMG           |18181              |96870         |0.18768452565293692|\n",
            "|TANG           |1236               |8125          |0.15212307692307692|\n",
            "|CHLF           |1960               |14439         |0.13574347253964955|\n",
            "|ZEST           |14250              |107945        |0.13201167261105193|\n",
            "|CEVASI         |12135              |107180        |0.11322075013995149|\n",
            "|AMIFR          |3338               |96120         |0.03472742405326675|\n",
            "|CFTF           |0                  |1805          |0.0                |\n",
            "|CFTV           |0                  |102           |0.0                |\n",
            "|CFTU           |0                  |7619          |0.0                |\n",
            "|CKRT           |0                  |14400         |0.0                |\n",
            "|AMITV          |0                  |98293         |0.0                |\n",
            "|EURO           |0                  |0             |0.0                |\n",
            "|NINOS          |0                  |0             |0.0                |\n",
            "+---------------+-------------------+--------------+-------------------+\n",
            "\n"
          ]
        }
      ]
    },
    {
      "cell_type": "code",
      "source": [
        "# Convert to pandas dataframe\n",
        "df = answer.orderBy(\"commercial_ratio\", ascending=False).toPandas()"
      ],
      "metadata": {
        "id": "0yodkoQhQ33t"
      },
      "execution_count": null,
      "outputs": []
    },
    {
      "cell_type": "code",
      "source": [
        "df.head(100)"
      ],
      "metadata": {
        "colab": {
          "base_uri": "https://localhost:8080/",
          "height": 423
        },
        "id": "BmCOsqeTR3vo",
        "outputId": "c18f293c-5259-465c-d865-335f4a55cd9c"
      },
      "execution_count": null,
      "outputs": [
        {
          "output_type": "execute_result",
          "data": {
            "text/plain": [
              "   LogIdentifierID  duration_commercial  duration_total  commercial_ratio\n",
              "0             CIMT                  775             775          1.000000\n",
              "1             ATN6                97121           97121          1.000000\n",
              "2           MOVIEP                86400           86400          1.000000\n",
              "3            ATN13                86400           86400          1.000000\n",
              "4             SKIN                86400           86400          1.000000\n",
              "..             ...                  ...             ...               ...\n",
              "95            OMON               102173          105457          0.968859\n",
              "96            CJMT               102502          105811          0.968727\n",
              "97          FAMCHA                83685           86400          0.968576\n",
              "98            CBOT               100460          103732          0.968457\n",
              "99            CBHT               100475          103779          0.968163\n",
              "\n",
              "[100 rows x 4 columns]"
            ],
            "text/html": [
              "\n",
              "  <div id=\"df-a43a0e9e-851f-4bfa-a749-abea227a1b15\" class=\"colab-df-container\">\n",
              "    <div>\n",
              "<style scoped>\n",
              "    .dataframe tbody tr th:only-of-type {\n",
              "        vertical-align: middle;\n",
              "    }\n",
              "\n",
              "    .dataframe tbody tr th {\n",
              "        vertical-align: top;\n",
              "    }\n",
              "\n",
              "    .dataframe thead th {\n",
              "        text-align: right;\n",
              "    }\n",
              "</style>\n",
              "<table border=\"1\" class=\"dataframe\">\n",
              "  <thead>\n",
              "    <tr style=\"text-align: right;\">\n",
              "      <th></th>\n",
              "      <th>LogIdentifierID</th>\n",
              "      <th>duration_commercial</th>\n",
              "      <th>duration_total</th>\n",
              "      <th>commercial_ratio</th>\n",
              "    </tr>\n",
              "  </thead>\n",
              "  <tbody>\n",
              "    <tr>\n",
              "      <th>0</th>\n",
              "      <td>CIMT</td>\n",
              "      <td>775</td>\n",
              "      <td>775</td>\n",
              "      <td>1.000000</td>\n",
              "    </tr>\n",
              "    <tr>\n",
              "      <th>1</th>\n",
              "      <td>ATN6</td>\n",
              "      <td>97121</td>\n",
              "      <td>97121</td>\n",
              "      <td>1.000000</td>\n",
              "    </tr>\n",
              "    <tr>\n",
              "      <th>2</th>\n",
              "      <td>MOVIEP</td>\n",
              "      <td>86400</td>\n",
              "      <td>86400</td>\n",
              "      <td>1.000000</td>\n",
              "    </tr>\n",
              "    <tr>\n",
              "      <th>3</th>\n",
              "      <td>ATN13</td>\n",
              "      <td>86400</td>\n",
              "      <td>86400</td>\n",
              "      <td>1.000000</td>\n",
              "    </tr>\n",
              "    <tr>\n",
              "      <th>4</th>\n",
              "      <td>SKIN</td>\n",
              "      <td>86400</td>\n",
              "      <td>86400</td>\n",
              "      <td>1.000000</td>\n",
              "    </tr>\n",
              "    <tr>\n",
              "      <th>...</th>\n",
              "      <td>...</td>\n",
              "      <td>...</td>\n",
              "      <td>...</td>\n",
              "      <td>...</td>\n",
              "    </tr>\n",
              "    <tr>\n",
              "      <th>95</th>\n",
              "      <td>OMON</td>\n",
              "      <td>102173</td>\n",
              "      <td>105457</td>\n",
              "      <td>0.968859</td>\n",
              "    </tr>\n",
              "    <tr>\n",
              "      <th>96</th>\n",
              "      <td>CJMT</td>\n",
              "      <td>102502</td>\n",
              "      <td>105811</td>\n",
              "      <td>0.968727</td>\n",
              "    </tr>\n",
              "    <tr>\n",
              "      <th>97</th>\n",
              "      <td>FAMCHA</td>\n",
              "      <td>83685</td>\n",
              "      <td>86400</td>\n",
              "      <td>0.968576</td>\n",
              "    </tr>\n",
              "    <tr>\n",
              "      <th>98</th>\n",
              "      <td>CBOT</td>\n",
              "      <td>100460</td>\n",
              "      <td>103732</td>\n",
              "      <td>0.968457</td>\n",
              "    </tr>\n",
              "    <tr>\n",
              "      <th>99</th>\n",
              "      <td>CBHT</td>\n",
              "      <td>100475</td>\n",
              "      <td>103779</td>\n",
              "      <td>0.968163</td>\n",
              "    </tr>\n",
              "  </tbody>\n",
              "</table>\n",
              "<p>100 rows × 4 columns</p>\n",
              "</div>\n",
              "    <div class=\"colab-df-buttons\">\n",
              "\n",
              "  <div class=\"colab-df-container\">\n",
              "    <button class=\"colab-df-convert\" onclick=\"convertToInteractive('df-a43a0e9e-851f-4bfa-a749-abea227a1b15')\"\n",
              "            title=\"Convert this dataframe to an interactive table.\"\n",
              "            style=\"display:none;\">\n",
              "\n",
              "  <svg xmlns=\"http://www.w3.org/2000/svg\" height=\"24px\" viewBox=\"0 -960 960 960\">\n",
              "    <path d=\"M120-120v-720h720v720H120Zm60-500h600v-160H180v160Zm220 220h160v-160H400v160Zm0 220h160v-160H400v160ZM180-400h160v-160H180v160Zm440 0h160v-160H620v160ZM180-180h160v-160H180v160Zm440 0h160v-160H620v160Z\"/>\n",
              "  </svg>\n",
              "    </button>\n",
              "\n",
              "  <style>\n",
              "    .colab-df-container {\n",
              "      display:flex;\n",
              "      gap: 12px;\n",
              "    }\n",
              "\n",
              "    .colab-df-convert {\n",
              "      background-color: #E8F0FE;\n",
              "      border: none;\n",
              "      border-radius: 50%;\n",
              "      cursor: pointer;\n",
              "      display: none;\n",
              "      fill: #1967D2;\n",
              "      height: 32px;\n",
              "      padding: 0 0 0 0;\n",
              "      width: 32px;\n",
              "    }\n",
              "\n",
              "    .colab-df-convert:hover {\n",
              "      background-color: #E2EBFA;\n",
              "      box-shadow: 0px 1px 2px rgba(60, 64, 67, 0.3), 0px 1px 3px 1px rgba(60, 64, 67, 0.15);\n",
              "      fill: #174EA6;\n",
              "    }\n",
              "\n",
              "    .colab-df-buttons div {\n",
              "      margin-bottom: 4px;\n",
              "    }\n",
              "\n",
              "    [theme=dark] .colab-df-convert {\n",
              "      background-color: #3B4455;\n",
              "      fill: #D2E3FC;\n",
              "    }\n",
              "\n",
              "    [theme=dark] .colab-df-convert:hover {\n",
              "      background-color: #434B5C;\n",
              "      box-shadow: 0px 1px 3px 1px rgba(0, 0, 0, 0.15);\n",
              "      filter: drop-shadow(0px 1px 2px rgba(0, 0, 0, 0.3));\n",
              "      fill: #FFFFFF;\n",
              "    }\n",
              "  </style>\n",
              "\n",
              "    <script>\n",
              "      const buttonEl =\n",
              "        document.querySelector('#df-a43a0e9e-851f-4bfa-a749-abea227a1b15 button.colab-df-convert');\n",
              "      buttonEl.style.display =\n",
              "        google.colab.kernel.accessAllowed ? 'block' : 'none';\n",
              "\n",
              "      async function convertToInteractive(key) {\n",
              "        const element = document.querySelector('#df-a43a0e9e-851f-4bfa-a749-abea227a1b15');\n",
              "        const dataTable =\n",
              "          await google.colab.kernel.invokeFunction('convertToInteractive',\n",
              "                                                    [key], {});\n",
              "        if (!dataTable) return;\n",
              "\n",
              "        const docLinkHtml = 'Like what you see? Visit the ' +\n",
              "          '<a target=\"_blank\" href=https://colab.research.google.com/notebooks/data_table.ipynb>data table notebook</a>'\n",
              "          + ' to learn more about interactive tables.';\n",
              "        element.innerHTML = '';\n",
              "        dataTable['output_type'] = 'display_data';\n",
              "        await google.colab.output.renderOutput(dataTable, element);\n",
              "        const docLink = document.createElement('div');\n",
              "        docLink.innerHTML = docLinkHtml;\n",
              "        element.appendChild(docLink);\n",
              "      }\n",
              "    </script>\n",
              "  </div>\n",
              "\n",
              "\n",
              "<div id=\"df-082a2007-3fe3-4671-83dc-a6c99502dc53\">\n",
              "  <button class=\"colab-df-quickchart\" onclick=\"quickchart('df-082a2007-3fe3-4671-83dc-a6c99502dc53')\"\n",
              "            title=\"Suggest charts\"\n",
              "            style=\"display:none;\">\n",
              "\n",
              "<svg xmlns=\"http://www.w3.org/2000/svg\" height=\"24px\"viewBox=\"0 0 24 24\"\n",
              "     width=\"24px\">\n",
              "    <g>\n",
              "        <path d=\"M19 3H5c-1.1 0-2 .9-2 2v14c0 1.1.9 2 2 2h14c1.1 0 2-.9 2-2V5c0-1.1-.9-2-2-2zM9 17H7v-7h2v7zm4 0h-2V7h2v10zm4 0h-2v-4h2v4z\"/>\n",
              "    </g>\n",
              "</svg>\n",
              "  </button>\n",
              "\n",
              "<style>\n",
              "  .colab-df-quickchart {\n",
              "      --bg-color: #E8F0FE;\n",
              "      --fill-color: #1967D2;\n",
              "      --hover-bg-color: #E2EBFA;\n",
              "      --hover-fill-color: #174EA6;\n",
              "      --disabled-fill-color: #AAA;\n",
              "      --disabled-bg-color: #DDD;\n",
              "  }\n",
              "\n",
              "  [theme=dark] .colab-df-quickchart {\n",
              "      --bg-color: #3B4455;\n",
              "      --fill-color: #D2E3FC;\n",
              "      --hover-bg-color: #434B5C;\n",
              "      --hover-fill-color: #FFFFFF;\n",
              "      --disabled-bg-color: #3B4455;\n",
              "      --disabled-fill-color: #666;\n",
              "  }\n",
              "\n",
              "  .colab-df-quickchart {\n",
              "    background-color: var(--bg-color);\n",
              "    border: none;\n",
              "    border-radius: 50%;\n",
              "    cursor: pointer;\n",
              "    display: none;\n",
              "    fill: var(--fill-color);\n",
              "    height: 32px;\n",
              "    padding: 0;\n",
              "    width: 32px;\n",
              "  }\n",
              "\n",
              "  .colab-df-quickchart:hover {\n",
              "    background-color: var(--hover-bg-color);\n",
              "    box-shadow: 0 1px 2px rgba(60, 64, 67, 0.3), 0 1px 3px 1px rgba(60, 64, 67, 0.15);\n",
              "    fill: var(--button-hover-fill-color);\n",
              "  }\n",
              "\n",
              "  .colab-df-quickchart-complete:disabled,\n",
              "  .colab-df-quickchart-complete:disabled:hover {\n",
              "    background-color: var(--disabled-bg-color);\n",
              "    fill: var(--disabled-fill-color);\n",
              "    box-shadow: none;\n",
              "  }\n",
              "\n",
              "  .colab-df-spinner {\n",
              "    border: 2px solid var(--fill-color);\n",
              "    border-color: transparent;\n",
              "    border-bottom-color: var(--fill-color);\n",
              "    animation:\n",
              "      spin 1s steps(1) infinite;\n",
              "  }\n",
              "\n",
              "  @keyframes spin {\n",
              "    0% {\n",
              "      border-color: transparent;\n",
              "      border-bottom-color: var(--fill-color);\n",
              "      border-left-color: var(--fill-color);\n",
              "    }\n",
              "    20% {\n",
              "      border-color: transparent;\n",
              "      border-left-color: var(--fill-color);\n",
              "      border-top-color: var(--fill-color);\n",
              "    }\n",
              "    30% {\n",
              "      border-color: transparent;\n",
              "      border-left-color: var(--fill-color);\n",
              "      border-top-color: var(--fill-color);\n",
              "      border-right-color: var(--fill-color);\n",
              "    }\n",
              "    40% {\n",
              "      border-color: transparent;\n",
              "      border-right-color: var(--fill-color);\n",
              "      border-top-color: var(--fill-color);\n",
              "    }\n",
              "    60% {\n",
              "      border-color: transparent;\n",
              "      border-right-color: var(--fill-color);\n",
              "    }\n",
              "    80% {\n",
              "      border-color: transparent;\n",
              "      border-right-color: var(--fill-color);\n",
              "      border-bottom-color: var(--fill-color);\n",
              "    }\n",
              "    90% {\n",
              "      border-color: transparent;\n",
              "      border-bottom-color: var(--fill-color);\n",
              "    }\n",
              "  }\n",
              "</style>\n",
              "\n",
              "  <script>\n",
              "    async function quickchart(key) {\n",
              "      const quickchartButtonEl =\n",
              "        document.querySelector('#' + key + ' button');\n",
              "      quickchartButtonEl.disabled = true;  // To prevent multiple clicks.\n",
              "      quickchartButtonEl.classList.add('colab-df-spinner');\n",
              "      try {\n",
              "        const charts = await google.colab.kernel.invokeFunction(\n",
              "            'suggestCharts', [key], {});\n",
              "      } catch (error) {\n",
              "        console.error('Error during call to suggestCharts:', error);\n",
              "      }\n",
              "      quickchartButtonEl.classList.remove('colab-df-spinner');\n",
              "      quickchartButtonEl.classList.add('colab-df-quickchart-complete');\n",
              "    }\n",
              "    (() => {\n",
              "      let quickchartButtonEl =\n",
              "        document.querySelector('#df-082a2007-3fe3-4671-83dc-a6c99502dc53 button');\n",
              "      quickchartButtonEl.style.display =\n",
              "        google.colab.kernel.accessAllowed ? 'block' : 'none';\n",
              "    })();\n",
              "  </script>\n",
              "</div>\n",
              "\n",
              "    </div>\n",
              "  </div>\n"
            ],
            "application/vnd.google.colaboratory.intrinsic+json": {
              "type": "dataframe",
              "variable_name": "df",
              "summary": "{\n  \"name\": \"df\",\n  \"rows\": 324,\n  \"fields\": [\n    {\n      \"column\": \"LogIdentifierID\",\n      \"properties\": {\n        \"dtype\": \"string\",\n        \"num_unique_values\": 324,\n        \"samples\": [\n          \"INVDIS\",\n          \"CBNT\",\n          \"COSMO\"\n        ],\n        \"semantic_type\": \"\",\n        \"description\": \"\"\n      }\n    },\n    {\n      \"column\": \"duration_commercial\",\n      \"properties\": {\n        \"dtype\": \"number\",\n        \"std\": 31819,\n        \"min\": 0,\n        \"max\": 111795,\n        \"num_unique_values\": 273,\n        \"samples\": [\n          103680,\n          95761,\n          102502\n        ],\n        \"semantic_type\": \"\",\n        \"description\": \"\"\n      }\n    },\n    {\n      \"column\": \"duration_total\",\n      \"properties\": {\n        \"dtype\": \"number\",\n        \"std\": 30418,\n        \"min\": 0,\n        \"max\": 113368,\n        \"num_unique_values\": 279,\n        \"samples\": [\n          113305,\n          107721,\n          108003\n        ],\n        \"semantic_type\": \"\",\n        \"description\": \"\"\n      }\n    },\n    {\n      \"column\": \"commercial_ratio\",\n      \"properties\": {\n        \"dtype\": \"number\",\n        \"std\": 0.22123480375071408,\n        \"min\": 0.0,\n        \"max\": 1.0,\n        \"num_unique_values\": 287,\n        \"samples\": [\n          0.9978098088456202,\n          0.6369858591076387,\n          0.9348484848484848\n        ],\n        \"semantic_type\": \"\",\n        \"description\": \"\"\n      }\n    }\n  ]\n}"
            }
          },
          "metadata": {},
          "execution_count": 68
        }
      ]
    },
    {
      "cell_type": "code",
      "source": [
        "df.info()"
      ],
      "metadata": {
        "colab": {
          "base_uri": "https://localhost:8080/"
        },
        "id": "Qw6BtKcNRVhH",
        "outputId": "1aaa877a-537d-4c02-b933-4c69de42ec2e"
      },
      "execution_count": null,
      "outputs": [
        {
          "output_type": "stream",
          "name": "stdout",
          "text": [
            "<class 'pandas.core.frame.DataFrame'>\n",
            "RangeIndex: 324 entries, 0 to 323\n",
            "Data columns (total 4 columns):\n",
            " #   Column               Non-Null Count  Dtype  \n",
            "---  ------               --------------  -----  \n",
            " 0   LogIdentifierID      324 non-null    object \n",
            " 1   duration_commercial  324 non-null    int64  \n",
            " 2   duration_total       324 non-null    int64  \n",
            " 3   commercial_ratio     324 non-null    float64\n",
            "dtypes: float64(1), int64(2), object(1)\n",
            "memory usage: 10.2+ KB\n"
          ]
        }
      ]
    },
    {
      "cell_type": "code",
      "source": [
        "# prompt: using df plot a bar chart with the first top 100 log base 10 of commercial_ratio\n",
        "\n",
        "import matplotlib.pyplot as plt\n",
        "import numpy as np\n",
        "\n",
        "# Assuming 'df' is your Pandas DataFrame with 'LogIdentifierID' and 'commercial_ratio' columns\n",
        "\n",
        "# Take the top 100 rows ordered by commercial_ratio\n",
        "top_100_df = df.nlargest(100, 'commercial_ratio')\n",
        "\n",
        "# Calculate the base 10 logarithm of commercial_ratio\n",
        "top_100_df['log10_commercial_ratio'] = np.log10(top_100_df['commercial_ratio'])\n",
        "\n",
        "# Create a bar chart\n",
        "plt.figure(figsize=(15, 8))\n",
        "plt.bar(top_100_df['LogIdentifierID'].astype(str), top_100_df['log10_commercial_ratio'])\n",
        "plt.xlabel('LogIdentifierID')\n",
        "plt.ylabel('Log10(Commercial Ratio)')\n",
        "plt.title('Top 100 LogIdentifierIDs by Log10(Commercial Ratio)')\n",
        "plt.xticks(rotation=90)  # Rotate x-axis labels for better readability\n",
        "plt.tight_layout()  # Adjust layout to prevent overlapping labels\n",
        "plt.show()\n"
      ],
      "metadata": {
        "colab": {
          "base_uri": "https://localhost:8080/",
          "height": 533
        },
        "id": "klFnQfWoRXsO",
        "outputId": "7debec7b-7404-4bd8-b3ef-a38c1c0af5bb"
      },
      "execution_count": null,
      "outputs": [
        {
          "output_type": "display_data",
          "data": {
            "text/plain": [
              "<Figure size 1500x800 with 1 Axes>"
            ],
            "image/png": "[encoded data removed]"
          },
          "metadata": {}
        }
      ]
    },
    {
      "cell_type": "markdown",
      "source": [
        "# Using JSON Data With Spark"
      ],
      "metadata": {
        "id": "NDA03teMP1iu"
      }
    },
    {
      "cell_type": "code",
      "source": [
        "from pyspark.sql import SparkSession\n",
        "\n",
        "spark = SparkSession.builder.getOrCreate()\n",
        "shows = spark.read.json(\"data/shows/shows-silicon-valley.json\")\n",
        "shows.count()"
      ],
      "metadata": {
        "colab": {
          "base_uri": "https://localhost:8080/"
        },
        "id": "XGDfMMMPP1Bm",
        "outputId": "ec6c3149-c845-481d-d793-1ed7d2511d95"
      },
      "execution_count": null,
      "outputs": [
        {
          "output_type": "execute_result",
          "data": {
            "text/plain": [
              "1"
            ]
          },
          "metadata": {},
          "execution_count": 72
        }
      ]
    },
    {
      "cell_type": "code",
      "source": [
        "shows.show(1)"
      ],
      "metadata": {
        "id": "MXjrgWTzzI9r",
        "colab": {
          "base_uri": "https://localhost:8080/"
        },
        "outputId": "fc72c864-e9e9-40e4-dccc-1f83e47d6048"
      },
      "execution_count": null,
      "outputs": [
        {
          "output_type": "stream",
          "name": "stdout",
          "text": [
            "+--------------------+--------------------+--------------------+--------+---+--------------------+--------+--------------+--------------------+--------------------+----------+------+-------+-----------------+------+--------------------+--------+----------+--------------------+----------+------+\n",
            "|           _embedded|              _links|           externals|  genres| id|               image|language|          name|             network|        officialSite| premiered|rating|runtime|         schedule|status|             summary|    type|   updated|                 url|webChannel|weight|\n",
            "+--------------------+--------------------+--------------------+--------+---+--------------------+--------+--------------+--------------------+--------------------+----------+------+-------+-----------------+------+--------------------+--------+----------+--------------------+----------+------+\n",
            "|{[{{{http://api.t...|{{http://api.tvma...|{tt2575988, 27716...|[Comedy]|143|{http://static.tv...| English|Silicon Valley|{{US, United Stat...|http://www.hbo.co...|2014-04-06| {8.5}|     30|{[Sunday], 22:00}| Ended|<p>In the high-te...|Scripted|1576570329|http://www.tvmaze...|      NULL|    96|\n",
            "+--------------------+--------------------+--------------------+--------+---+--------------------+--------+--------------+--------------------+--------------------+----------+------+-------+-----------------+------+--------------------+--------+----------+--------------------+----------+------+\n",
            "\n"
          ]
        }
      ]
    },
    {
      "cell_type": "code",
      "source": [
        "three_shows = spark.read.json(\"data/shows/shows-*.json\", multiLine=True)\n",
        "three_shows.show()"
      ],
      "metadata": {
        "colab": {
          "base_uri": "https://localhost:8080/"
        },
        "id": "hE9NzWsMVNJw",
        "outputId": "fe489856-fe8b-48bc-f3ee-a2d88aa43cf3"
      },
      "execution_count": null,
      "outputs": [
        {
          "output_type": "stream",
          "name": "stdout",
          "text": [
            "+--------------------+--------------------+--------------------+--------------------+---+--------------------+--------+----------------+--------------------+--------------------+----------+------+-------+-------------------+------+--------------------+--------+----------+--------------------+------------------+------+\n",
            "|           _embedded|              _links|           externals|              genres| id|               image|language|            name|             network|        officialSite| premiered|rating|runtime|           schedule|status|             summary|    type|   updated|                 url|        webChannel|weight|\n",
            "+--------------------+--------------------+--------------------+--------------------+---+--------------------+--------+----------------+--------------------+--------------------+----------+------+-------+-------------------+------+--------------------+--------+----------+--------------------+------------------+------+\n",
            "|{[{{{http://api.t...|{{http://api.tvma...|{tt0088526, 71292...|     [Drama, Comedy]|722|{http://static.tv...| English|The Golden Girls|{{US, United Stat...|                NULL|1985-09-14| {8.5}|     30|{[Saturday], 21:00}| Ended|<p><b>The Golden ...|Scripted|1587944467|http://www.tvmaze...|              NULL|    68|\n",
            "|{[{{{http://api.t...|{{http://api.tvma...|{tt0903747, 81189...|[Drama, Crime, Th...|169|{http://static.tv...| English|    Breaking Bad|{{US, United Stat...|http://www.amc.co...|2008-01-20| {9.3}|     60|  {[Sunday], 22:00}| Ended|<p><b>Breaking Ba...|Scripted|1582273722|http://www.tvmaze...|{NULL, 1, Netflix}|    98|\n",
            "|{[{{{http://api.t...|{{http://api.tvma...|{tt2575988, 27716...|            [Comedy]|143|{http://static.tv...| English|  Silicon Valley|{{US, United Stat...|http://www.hbo.co...|2014-04-06| {8.5}|     30|  {[Sunday], 22:00}| Ended|<p>In the high-te...|Scripted|1576570329|http://www.tvmaze...|              NULL|    96|\n",
            "+--------------------+--------------------+--------------------+--------------------+---+--------------------+--------+----------------+--------------------+--------------------+----------+------+-------+-------------------+------+--------------------+--------+----------+--------------------+------------------+------+\n",
            "\n"
          ]
        }
      ]
    },
    {
      "cell_type": "code",
      "source": [
        "shows.printSchema()"
      ],
      "metadata": {
        "colab": {
          "base_uri": "https://localhost:8080/"
        },
        "id": "duJEHM16VYql",
        "outputId": "7b959098-9da5-4d46-dd11-51bca869540f"
      },
      "execution_count": null,
      "outputs": [
        {
          "output_type": "stream",
          "name": "stdout",
          "text": [
            "root\n",
            " |-- _embedded: struct (nullable = true)\n",
            " |    |-- episodes: array (nullable = true)\n",
            " |    |    |-- element: struct (containsNull = true)\n",
            " |    |    |    |-- _links: struct (nullable = true)\n",
            " |    |    |    |    |-- self: struct (nullable = true)\n",
            " |    |    |    |    |    |-- href: string (nullable = true)\n",
            " |    |    |    |-- airdate: string (nullable = true)\n",
            " |    |    |    |-- airstamp: string (nullable = true)\n",
            " |    |    |    |-- airtime: string (nullable = true)\n",
            " |    |    |    |-- id: long (nullable = true)\n",
            " |    |    |    |-- image: struct (nullable = true)\n",
            " |    |    |    |    |-- medium: string (nullable = true)\n",
            " |    |    |    |    |-- original: string (nullable = true)\n",
            " |    |    |    |-- name: string (nullable = true)\n",
            " |    |    |    |-- number: long (nullable = true)\n",
            " |    |    |    |-- runtime: long (nullable = true)\n",
            " |    |    |    |-- season: long (nullable = true)\n",
            " |    |    |    |-- summary: string (nullable = true)\n",
            " |    |    |    |-- url: string (nullable = true)\n",
            " |-- _links: struct (nullable = true)\n",
            " |    |-- previousepisode: struct (nullable = true)\n",
            " |    |    |-- href: string (nullable = true)\n",
            " |    |-- self: struct (nullable = true)\n",
            " |    |    |-- href: string (nullable = true)\n",
            " |-- externals: struct (nullable = true)\n",
            " |    |-- imdb: string (nullable = true)\n",
            " |    |-- thetvdb: long (nullable = true)\n",
            " |    |-- tvrage: long (nullable = true)\n",
            " |-- genres: array (nullable = true)\n",
            " |    |-- element: string (containsNull = true)\n",
            " |-- id: long (nullable = true)\n",
            " |-- image: struct (nullable = true)\n",
            " |    |-- medium: string (nullable = true)\n",
            " |    |-- original: string (nullable = true)\n",
            " |-- language: string (nullable = true)\n",
            " |-- name: string (nullable = true)\n",
            " |-- network: struct (nullable = true)\n",
            " |    |-- country: struct (nullable = true)\n",
            " |    |    |-- code: string (nullable = true)\n",
            " |    |    |-- name: string (nullable = true)\n",
            " |    |    |-- timezone: string (nullable = true)\n",
            " |    |-- id: long (nullable = true)\n",
            " |    |-- name: string (nullable = true)\n",
            " |-- officialSite: string (nullable = true)\n",
            " |-- premiered: string (nullable = true)\n",
            " |-- rating: struct (nullable = true)\n",
            " |    |-- average: double (nullable = true)\n",
            " |-- runtime: long (nullable = true)\n",
            " |-- schedule: struct (nullable = true)\n",
            " |    |-- days: array (nullable = true)\n",
            " |    |    |-- element: string (containsNull = true)\n",
            " |    |-- time: string (nullable = true)\n",
            " |-- status: string (nullable = true)\n",
            " |-- summary: string (nullable = true)\n",
            " |-- type: string (nullable = true)\n",
            " |-- updated: long (nullable = true)\n",
            " |-- url: string (nullable = true)\n",
            " |-- webChannel: string (nullable = true)\n",
            " |-- weight: long (nullable = true)\n",
            "\n"
          ]
        }
      ]
    },
    {
      "cell_type": "markdown",
      "source": [
        "## Manipulating Arrays"
      ],
      "metadata": {
        "id": "nebLrqdNWc94"
      }
    },
    {
      "cell_type": "code",
      "source": [
        "array_subset = three_shows.select(\"name\", \"genres\")\n",
        "array_subset.show()"
      ],
      "metadata": {
        "colab": {
          "base_uri": "https://localhost:8080/"
        },
        "id": "8XE4Rx57Vdnt",
        "outputId": "03b40a07-9393-473d-bd1d-59f30bbf3f48"
      },
      "execution_count": null,
      "outputs": [
        {
          "output_type": "stream",
          "name": "stdout",
          "text": [
            "+----------------+--------------------+\n",
            "|            name|              genres|\n",
            "+----------------+--------------------+\n",
            "|The Golden Girls|     [Drama, Comedy]|\n",
            "|    Breaking Bad|[Drama, Crime, Th...|\n",
            "|  Silicon Valley|            [Comedy]|\n",
            "+----------------+--------------------+\n",
            "\n"
          ]
        }
      ]
    },
    {
      "cell_type": "code",
      "source": [
        "import pyspark.sql.functions as F\n",
        "\n",
        "array_subset = array_subset.select(\n",
        "    \"name\",\n",
        "    array_subset.genres[0].alias(\"dot_and_index\"),\n",
        "    F.col(\"genres\")[0].alias(\"col_and_index\"),\n",
        "    array_subset.genres.getItem(0).alias(\"dot_and_method\"),\n",
        "    F.col(\"genres\").getItem(0).alias(\"col_and_method\"),\n",
        ")\n",
        "\n",
        "array_subset.show()"
      ],
      "metadata": {
        "colab": {
          "base_uri": "https://localhost:8080/"
        },
        "id": "XPVf4pNXVkDS",
        "outputId": "b3fce7e1-29af-42c9-ebff-03ef680d4843"
      },
      "execution_count": null,
      "outputs": [
        {
          "output_type": "stream",
          "name": "stdout",
          "text": [
            "+----------------+-------------+-------------+--------------+--------------+\n",
            "|            name|dot_and_index|col_and_index|dot_and_method|col_and_method|\n",
            "+----------------+-------------+-------------+--------------+--------------+\n",
            "|The Golden Girls|        Drama|        Drama|         Drama|         Drama|\n",
            "|    Breaking Bad|        Drama|        Drama|         Drama|         Drama|\n",
            "|  Silicon Valley|       Comedy|       Comedy|        Comedy|        Comedy|\n",
            "+----------------+-------------+-------------+--------------+--------------+\n",
            "\n"
          ]
        }
      ]
    },
    {
      "cell_type": "code",
      "source": [
        "array_subset_repeated = array_subset.select(\n",
        "    \"name\",\n",
        "    F.lit(\"Comedy\").alias(\"one\"),\n",
        "    F.lit(\"Horror\").alias(\"two\"),\n",
        "    F.lit(\"Drama\").alias(\"three\"),\n",
        "    F.col(\"dot_and_index\"),\n",
        ").select(\n",
        "    \"name\",\n",
        "    F.array(\"one\", \"two\", \"three\").alias(\"Some_Genres\"),\n",
        "    F.array_repeat(\"dot_and_index\", 5).alias(\"Repeated_Genres\"),\n",
        ")\n",
        "\n",
        "array_subset_repeated.show()"
      ],
      "metadata": {
        "colab": {
          "base_uri": "https://localhost:8080/"
        },
        "id": "u9FojRpEV5dG",
        "outputId": "5e80a661-bef9-4e91-a744-9c9e99e8782c"
      },
      "execution_count": null,
      "outputs": [
        {
          "output_type": "stream",
          "name": "stdout",
          "text": [
            "+----------------+--------------------+--------------------+\n",
            "|            name|         Some_Genres|     Repeated_Genres|\n",
            "+----------------+--------------------+--------------------+\n",
            "|The Golden Girls|[Comedy, Horror, ...|[Drama, Drama, Dr...|\n",
            "|    Breaking Bad|[Comedy, Horror, ...|[Drama, Drama, Dr...|\n",
            "|  Silicon Valley|[Comedy, Horror, ...|[Comedy, Comedy, ...|\n",
            "+----------------+--------------------+--------------------+\n",
            "\n"
          ]
        }
      ]
    },
    {
      "cell_type": "code",
      "source": [
        "array_subset_repeated.select(\n",
        "    \"name\", F.size(\"Some_Genres\"), F.size(\"Repeated_Genres\")\n",
        ").show()"
      ],
      "metadata": {
        "colab": {
          "base_uri": "https://localhost:8080/"
        },
        "id": "dmCJRQAZV0F-",
        "outputId": "b800a149-cafa-4367-9f51-0a4bdcc90de7"
      },
      "execution_count": null,
      "outputs": [
        {
          "output_type": "stream",
          "name": "stdout",
          "text": [
            "+----------------+-----------------+---------------------+\n",
            "|            name|size(Some_Genres)|size(Repeated_Genres)|\n",
            "+----------------+-----------------+---------------------+\n",
            "|The Golden Girls|                3|                    5|\n",
            "|    Breaking Bad|                3|                    5|\n",
            "|  Silicon Valley|                3|                    5|\n",
            "+----------------+-----------------+---------------------+\n",
            "\n"
          ]
        }
      ]
    },
    {
      "cell_type": "code",
      "source": [
        "array_subset_repeated.select(\n",
        "    \"name\",\n",
        "    F.array_distinct(\"Some_Genres\"),\n",
        "    F.array_distinct(\"Repeated_Genres\"),\n",
        ").show(truncate=False)"
      ],
      "metadata": {
        "colab": {
          "base_uri": "https://localhost:8080/"
        },
        "id": "_K9eZqdHWGik",
        "outputId": "fe7b142f-3aff-446d-93de-8fceb9ee9e47"
      },
      "execution_count": null,
      "outputs": [
        {
          "output_type": "stream",
          "name": "stdout",
          "text": [
            "+----------------+---------------------------+-------------------------------+\n",
            "|name            |array_distinct(Some_Genres)|array_distinct(Repeated_Genres)|\n",
            "+----------------+---------------------------+-------------------------------+\n",
            "|The Golden Girls|[Comedy, Horror, Drama]    |[Drama]                        |\n",
            "|Breaking Bad    |[Comedy, Horror, Drama]    |[Drama]                        |\n",
            "|Silicon Valley  |[Comedy, Horror, Drama]    |[Comedy]                       |\n",
            "+----------------+---------------------------+-------------------------------+\n",
            "\n"
          ]
        }
      ]
    },
    {
      "cell_type": "code",
      "source": [
        "array_subset_repeated = array_subset_repeated.select(\n",
        "    \"name\",\n",
        "    F.array_intersect(\"Some_Genres\", \"Repeated_Genres\").alias(\n",
        "        \"Genres\"\n",
        "    ),\n",
        ")\n",
        "\n",
        "array_subset_repeated.show()"
      ],
      "metadata": {
        "colab": {
          "base_uri": "https://localhost:8080/"
        },
        "id": "5WSi7XNcWM3E",
        "outputId": "65ba0e8b-06cc-45a4-d35e-3dc6786878e5"
      },
      "execution_count": null,
      "outputs": [
        {
          "output_type": "stream",
          "name": "stdout",
          "text": [
            "+----------------+--------+\n",
            "|            name|  Genres|\n",
            "+----------------+--------+\n",
            "|The Golden Girls| [Drama]|\n",
            "|    Breaking Bad| [Drama]|\n",
            "|  Silicon Valley|[Comedy]|\n",
            "+----------------+--------+\n",
            "\n"
          ]
        }
      ]
    },
    {
      "cell_type": "code",
      "source": [
        "array_subset_repeated.select(\n",
        "    \"Genres\", F.array_position(\"Genres\", \"Comedy\")\n",
        ").show()"
      ],
      "metadata": {
        "colab": {
          "base_uri": "https://localhost:8080/"
        },
        "id": "RqUgUBwzWQ_H",
        "outputId": "eef71640-f05f-4a6e-abda-7540cd21616a"
      },
      "execution_count": null,
      "outputs": [
        {
          "output_type": "stream",
          "name": "stdout",
          "text": [
            "+--------+------------------------------+\n",
            "|  Genres|array_position(Genres, Comedy)|\n",
            "+--------+------------------------------+\n",
            "| [Drama]|                             0|\n",
            "| [Drama]|                             0|\n",
            "|[Comedy]|                             1|\n",
            "+--------+------------------------------+\n",
            "\n"
          ]
        }
      ]
    },
    {
      "cell_type": "markdown",
      "source": [
        "## Manipulating Maps"
      ],
      "metadata": {
        "id": "089ULPNiWnun"
      }
    },
    {
      "cell_type": "code",
      "source": [
        "columns = [\"name\", \"language\", \"type\"]\n",
        "\n",
        "shows_map = three_shows.select(\n",
        "    *[F.lit(column) for column in columns],\n",
        "    F.array(*columns).alias(\"values\"),\n",
        ")\n",
        "\n",
        "shows_map = shows_map.select(F.array(*columns).alias(\"keys\"), \"values\")\n",
        "\n",
        "shows_map.show(truncate=False)"
      ],
      "metadata": {
        "colab": {
          "base_uri": "https://localhost:8080/"
        },
        "id": "s7BlYE3bWVSP",
        "outputId": "f030b5c7-94d5-48c2-f25f-9a4eb146ed21"
      },
      "execution_count": null,
      "outputs": [
        {
          "output_type": "stream",
          "name": "stdout",
          "text": [
            "+----------------------+-------------------------------------+\n",
            "|keys                  |values                               |\n",
            "+----------------------+-------------------------------------+\n",
            "|[name, language, type]|[The Golden Girls, English, Scripted]|\n",
            "|[name, language, type]|[Breaking Bad, English, Scripted]    |\n",
            "|[name, language, type]|[Silicon Valley, English, Scripted]  |\n",
            "+----------------------+-------------------------------------+\n",
            "\n"
          ]
        }
      ]
    },
    {
      "cell_type": "code",
      "source": [
        "shows_map = shows_map.select(\n",
        "    F.map_from_arrays(\"keys\", \"values\").alias(\"mapped\")\n",
        ")\n",
        "\n",
        "shows_map.printSchema()"
      ],
      "metadata": {
        "colab": {
          "base_uri": "https://localhost:8080/"
        },
        "id": "kK-ZJ3zWWtv2",
        "outputId": "bdcc3ada-20d9-4b94-82f0-114d69f76e29"
      },
      "execution_count": null,
      "outputs": [
        {
          "output_type": "stream",
          "name": "stdout",
          "text": [
            "root\n",
            " |-- mapped: map (nullable = false)\n",
            " |    |-- key: string\n",
            " |    |-- value: string (valueContainsNull = true)\n",
            "\n"
          ]
        }
      ]
    },
    {
      "cell_type": "code",
      "source": [
        "shows_map.show(truncate=False)"
      ],
      "metadata": {
        "colab": {
          "base_uri": "https://localhost:8080/"
        },
        "id": "ydWxf5QdXLTh",
        "outputId": "a1c62808-4160-45a8-d434-46c2e29779d3"
      },
      "execution_count": null,
      "outputs": [
        {
          "output_type": "stream",
          "name": "stdout",
          "text": [
            "+-----------------------------------------------------------------+\n",
            "|mapped                                                           |\n",
            "+-----------------------------------------------------------------+\n",
            "|{name -> The Golden Girls, language -> English, type -> Scripted}|\n",
            "|{name -> Breaking Bad, language -> English, type -> Scripted}    |\n",
            "|{name -> Silicon Valley, language -> English, type -> Scripted}  |\n",
            "+-----------------------------------------------------------------+\n",
            "\n"
          ]
        }
      ]
    },
    {
      "cell_type": "code",
      "source": [
        "shows_map.select(\n",
        "    F.col(\"mapped.name\"),\n",
        "    F.col(\"mapped\")[\"name\"],\n",
        "    shows_map.mapped[\"name\"],\n",
        ").show()"
      ],
      "metadata": {
        "colab": {
          "base_uri": "https://localhost:8080/"
        },
        "id": "SrfkD3AmXVY-",
        "outputId": "472d8325-199c-48b5-a126-3506310e89e0"
      },
      "execution_count": null,
      "outputs": [
        {
          "output_type": "stream",
          "name": "stdout",
          "text": [
            "+----------------+----------------+----------------+\n",
            "|            name|    mapped[name]|    mapped[name]|\n",
            "+----------------+----------------+----------------+\n",
            "|The Golden Girls|The Golden Girls|The Golden Girls|\n",
            "|    Breaking Bad|    Breaking Bad|    Breaking Bad|\n",
            "|  Silicon Valley|  Silicon Valley|  Silicon Valley|\n",
            "+----------------+----------------+----------------+\n",
            "\n"
          ]
        }
      ]
    },
    {
      "cell_type": "markdown",
      "source": [
        "## Using structs\n",
        "The struct is very different from the array and the map in that the number of fields and their names are known ahead of time. In our case, the schedule struct column is fixed."
      ],
      "metadata": {
        "id": "no0vACP3XuMS"
      }
    },
    {
      "cell_type": "code",
      "source": [
        "shows.select(\"schedule\").printSchema()"
      ],
      "metadata": {
        "colab": {
          "base_uri": "https://localhost:8080/"
        },
        "id": "d5YvNl-mXZX9",
        "outputId": "0f5b199c-fa30-465e-bfd5-d2505a9f182e"
      },
      "execution_count": null,
      "outputs": [
        {
          "output_type": "stream",
          "name": "stdout",
          "text": [
            "root\n",
            " |-- schedule: struct (nullable = true)\n",
            " |    |-- days: array (nullable = true)\n",
            " |    |    |-- element: string (containsNull = true)\n",
            " |    |-- time: string (nullable = true)\n",
            "\n"
          ]
        }
      ]
    },
    {
      "cell_type": "markdown",
      "source": [
        "![image.png](data:image/png;base64,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)"
      ],
      "metadata": {
        "id": "srmvJ57ZYD7J"
      }
    },
    {
      "cell_type": "code",
      "source": [
        "shows.select(F.col(\"_embedded\")).printSchema()"
      ],
      "metadata": {
        "id": "i-f8xZcjXxMF",
        "outputId": "95357d79-49f9-43c6-9cac-43d67030627b",
        "colab": {
          "base_uri": "https://localhost:8080/"
        }
      },
      "execution_count": null,
      "outputs": [
        {
          "output_type": "stream",
          "name": "stdout",
          "text": [
            "root\n",
            " |-- _embedded: struct (nullable = true)\n",
            " |    |-- episodes: array (nullable = true)\n",
            " |    |    |-- element: struct (containsNull = true)\n",
            " |    |    |    |-- _links: struct (nullable = true)\n",
            " |    |    |    |    |-- self: struct (nullable = true)\n",
            " |    |    |    |    |    |-- href: string (nullable = true)\n",
            " |    |    |    |-- airdate: string (nullable = true)\n",
            " |    |    |    |-- airstamp: string (nullable = true)\n",
            " |    |    |    |-- airtime: string (nullable = true)\n",
            " |    |    |    |-- id: long (nullable = true)\n",
            " |    |    |    |-- image: struct (nullable = true)\n",
            " |    |    |    |    |-- medium: string (nullable = true)\n",
            " |    |    |    |    |-- original: string (nullable = true)\n",
            " |    |    |    |-- name: string (nullable = true)\n",
            " |    |    |    |-- number: long (nullable = true)\n",
            " |    |    |    |-- runtime: long (nullable = true)\n",
            " |    |    |    |-- season: long (nullable = true)\n",
            " |    |    |    |-- summary: string (nullable = true)\n",
            " |    |    |    |-- url: string (nullable = true)\n",
            "\n"
          ]
        }
      ]
    },
    {
      "cell_type": "code",
      "source": [
        "shows_clean = shows.withColumn(\n",
        " \"episodes\", F.col(\"_embedded.episodes\")\n",
        ").drop(\"_embedded\")\n",
        "\n",
        "shows_clean.printSchema()"
      ],
      "metadata": {
        "id": "VYLu-jQgX_Mf",
        "outputId": "0d3cda6b-ca66-4267-bc7b-107bd9e6d70e",
        "colab": {
          "base_uri": "https://localhost:8080/"
        }
      },
      "execution_count": null,
      "outputs": [
        {
          "output_type": "stream",
          "name": "stdout",
          "text": [
            "root\n",
            " |-- _links: struct (nullable = true)\n",
            " |    |-- previousepisode: struct (nullable = true)\n",
            " |    |    |-- href: string (nullable = true)\n",
            " |    |-- self: struct (nullable = true)\n",
            " |    |    |-- href: string (nullable = true)\n",
            " |-- externals: struct (nullable = true)\n",
            " |    |-- imdb: string (nullable = true)\n",
            " |    |-- thetvdb: long (nullable = true)\n",
            " |    |-- tvrage: long (nullable = true)\n",
            " |-- genres: array (nullable = true)\n",
            " |    |-- element: string (containsNull = true)\n",
            " |-- id: long (nullable = true)\n",
            " |-- image: struct (nullable = true)\n",
            " |    |-- medium: string (nullable = true)\n",
            " |    |-- original: string (nullable = true)\n",
            " |-- language: string (nullable = true)\n",
            " |-- name: string (nullable = true)\n",
            " |-- network: struct (nullable = true)\n",
            " |    |-- country: struct (nullable = true)\n",
            " |    |    |-- code: string (nullable = true)\n",
            " |    |    |-- name: string (nullable = true)\n",
            " |    |    |-- timezone: string (nullable = true)\n",
            " |    |-- id: long (nullable = true)\n",
            " |    |-- name: string (nullable = true)\n",
            " |-- officialSite: string (nullable = true)\n",
            " |-- premiered: string (nullable = true)\n",
            " |-- rating: struct (nullable = true)\n",
            " |    |-- average: double (nullable = true)\n",
            " |-- runtime: long (nullable = true)\n",
            " |-- schedule: struct (nullable = true)\n",
            " |    |-- days: array (nullable = true)\n",
            " |    |    |-- element: string (containsNull = true)\n",
            " |    |-- time: string (nullable = true)\n",
            " |-- status: string (nullable = true)\n",
            " |-- summary: string (nullable = true)\n",
            " |-- type: string (nullable = true)\n",
            " |-- updated: long (nullable = true)\n",
            " |-- url: string (nullable = true)\n",
            " |-- webChannel: string (nullable = true)\n",
            " |-- weight: long (nullable = true)\n",
            " |-- episodes: array (nullable = true)\n",
            " |    |-- element: struct (containsNull = true)\n",
            " |    |    |-- _links: struct (nullable = true)\n",
            " |    |    |    |-- self: struct (nullable = true)\n",
            " |    |    |    |    |-- href: string (nullable = true)\n",
            " |    |    |-- airdate: string (nullable = true)\n",
            " |    |    |-- airstamp: string (nullable = true)\n",
            " |    |    |-- airtime: string (nullable = true)\n",
            " |    |    |-- id: long (nullable = true)\n",
            " |    |    |-- image: struct (nullable = true)\n",
            " |    |    |    |-- medium: string (nullable = true)\n",
            " |    |    |    |-- original: string (nullable = true)\n",
            " |    |    |-- name: string (nullable = true)\n",
            " |    |    |-- number: long (nullable = true)\n",
            " |    |    |-- runtime: long (nullable = true)\n",
            " |    |    |-- season: long (nullable = true)\n",
            " |    |    |-- summary: string (nullable = true)\n",
            " |    |    |-- url: string (nullable = true)\n",
            "\n"
          ]
        }
      ]
    },
    {
      "cell_type": "code",
      "source": [
        "episodes_name = shows_clean.select(F.col(\"episodes.name\"))\n",
        "episodes_name.printSchema()"
      ],
      "metadata": {
        "id": "I0AFZ_K3YPP0",
        "outputId": "1dca2990-9d27-4655-cbca-ee4fa5390452",
        "colab": {
          "base_uri": "https://localhost:8080/"
        }
      },
      "execution_count": null,
      "outputs": [
        {
          "output_type": "stream",
          "name": "stdout",
          "text": [
            "root\n",
            " |-- name: array (nullable = true)\n",
            " |    |-- element: string (containsNull = true)\n",
            "\n"
          ]
        }
      ]
    },
    {
      "cell_type": "code",
      "source": [
        "episodes_name.select(F.explode(\"name\").alias(\"name\")).show(truncate=False)"
      ],
      "metadata": {
        "id": "Zxr1ALmHYX_Q",
        "outputId": "6e43b60a-7fa9-491a-9a4c-f008767fcb87",
        "colab": {
          "base_uri": "https://localhost:8080/"
        }
      },
      "execution_count": null,
      "outputs": [
        {
          "output_type": "stream",
          "name": "stdout",
          "text": [
            "+-----------------------------+\n",
            "|name                         |\n",
            "+-----------------------------+\n",
            "|Minimum Viable Product       |\n",
            "|The Cap Table                |\n",
            "|Articles of Incorporation    |\n",
            "|Fiduciary Duties             |\n",
            "|Signaling Risk               |\n",
            "|Third Party Insourcing       |\n",
            "|Proof of Concept             |\n",
            "|Optimal Tip-to-Tip Efficiency|\n",
            "|Sand Hill Shuffle            |\n",
            "|Runaway Devaluation          |\n",
            "|Bad Money                    |\n",
            "|The Lady                     |\n",
            "|Server Space                 |\n",
            "|Homicide                     |\n",
            "|Adult Content                |\n",
            "|White Hat/Black Hat          |\n",
            "|Binding Arbitration          |\n",
            "|Two Days of the Condor       |\n",
            "|Founder Friendly             |\n",
            "|Two in the Box               |\n",
            "+-----------------------------+\n",
            "only showing top 20 rows\n",
            "\n"
          ]
        }
      ]
    },
    {
      "cell_type": "markdown",
      "source": [
        "## Building a Spark DF from a JSON Schema"
      ],
      "metadata": {
        "id": "dWcXVHYgZIGP"
      }
    },
    {
      "cell_type": "code",
      "source": [
        "episode_links_schema = T.StructType(\n",
        "    [\n",
        "        T.StructField(\n",
        "            \"self\", T.StructType([T.StructField(\"href\", T.StringType())])\n",
        "        )\n",
        "    ]\n",
        ")\n",
        "\n",
        "episode_image_schema = T.StructType(\n",
        "    [\n",
        "        T.StructField(\"medium\", T.StringType()),\n",
        "        T.StructField(\"original\", T.StringType()),\n",
        "    ]\n",
        ")\n",
        "\n",
        "episode_schema = T.StructType(\n",
        "    [\n",
        "        T.StructField(\"_links\", episode_links_schema),\n",
        "        T.StructField(\"airdate\", T.DateType()),\n",
        "        T.StructField(\"airstamp\", T.TimestampType()),\n",
        "        T.StructField(\"airtime\", T.StringType()),\n",
        "        T.StructField(\"id\", T.StringType()),\n",
        "        T.StructField(\"image\", episode_image_schema),\n",
        "        T.StructField(\"name\", T.StringType()),\n",
        "        T.StructField(\"number\", T.LongType()),\n",
        "        T.StructField(\"runtime\", T.LongType()),\n",
        "        T.StructField(\"season\", T.LongType()),\n",
        "        T.StructField(\"summary\", T.StringType()),\n",
        "        T.StructField(\"url\", T.StringType()),\n",
        "    ]\n",
        ")\n",
        "\n",
        "embedded_schema = T.StructType(\n",
        "    [\n",
        "        T.StructField(\n",
        "            \"_embedded\",\n",
        "            T.StructType(\n",
        "                [\n",
        "                    T.StructField(\n",
        "                        \"episodes\", T.ArrayType(episode_schema)\n",
        "                    )\n",
        "                ]\n",
        "            ),\n",
        "        )\n",
        "    ]\n",
        ")"
      ],
      "metadata": {
        "id": "Tgset_GMYh-a"
      },
      "execution_count": null,
      "outputs": []
    },
    {
      "cell_type": "code",
      "source": [
        "shows_with_schema = spark.read.json(\n",
        "    \"data/shows/shows-silicon-valley.json\",\n",
        "    schema=embedded_schema,\n",
        "    mode=\"FAILFAST\",\n",
        ")"
      ],
      "metadata": {
        "id": "G0Cs56LvZUht"
      },
      "execution_count": null,
      "outputs": []
    },
    {
      "cell_type": "code",
      "source": [
        "for column in [\"airdate\", \"airstamp\"]:\n",
        "    shows.select(f\"_embedded.episodes.{column}\").select(\n",
        "        F.explode(column)\n",
        "    ).show(5)"
      ],
      "metadata": {
        "id": "b3UOTzE5Za69",
        "outputId": "36e56e93-b64b-47d7-f36e-bb1cce764bd1",
        "colab": {
          "base_uri": "https://localhost:8080/"
        }
      },
      "execution_count": null,
      "outputs": [
        {
          "output_type": "stream",
          "name": "stdout",
          "text": [
            "+----------+\n",
            "|       col|\n",
            "+----------+\n",
            "|2014-04-06|\n",
            "|2014-04-13|\n",
            "|2014-04-20|\n",
            "|2014-04-27|\n",
            "|2014-05-04|\n",
            "+----------+\n",
            "only showing top 5 rows\n",
            "\n",
            "+--------------------+\n",
            "|                 col|\n",
            "+--------------------+\n",
            "|2014-04-07T02:00:...|\n",
            "|2014-04-14T02:00:...|\n",
            "|2014-04-21T02:00:...|\n",
            "|2014-04-28T02:00:...|\n",
            "|2014-05-05T02:00:...|\n",
            "+--------------------+\n",
            "only showing top 5 rows\n",
            "\n"
          ]
        }
      ]
    },
    {
      "cell_type": "code",
      "source": [
        "import pprint\n",
        "\n",
        "pprint.pprint(\n",
        "    shows_with_schema.select(\n",
        "        F.explode(\"_embedded.episodes\").alias(\"episode\")\n",
        "    )\n",
        "    .select(\"episode.airtime\")\n",
        "    .schema.jsonValue()\n",
        ")"
      ],
      "metadata": {
        "id": "zs3fk-FmZfFW",
        "outputId": "5bd92841-7222-4b53-ad89-f49f74fb34fd",
        "colab": {
          "base_uri": "https://localhost:8080/"
        }
      },
      "execution_count": null,
      "outputs": [
        {
          "output_type": "stream",
          "name": "stdout",
          "text": [
            "{'fields': [{'metadata': {},\n",
            "             'name': 'airtime',\n",
            "             'nullable': True,\n",
            "             'type': 'string'}],\n",
            " 'type': 'struct'}\n"
          ]
        }
      ]
    },
    {
      "cell_type": "markdown",
      "source": [
        "## Some JSON manipulation examples"
      ],
      "metadata": {
        "id": "SOboYVSvZ5Vg"
      }
    },
    {
      "cell_type": "code",
      "source": [
        "episodes = shows.select(\n",
        "    \"id\", F.explode(\"_embedded.episodes\").alias(\"episodes\")\n",
        ")\n",
        "episodes.show(5, truncate=70)"
      ],
      "metadata": {
        "id": "HlXP6R8fZqpH",
        "outputId": "9951d139-69a5-4fed-fd71-056ac4b9ae0f",
        "colab": {
          "base_uri": "https://localhost:8080/"
        }
      },
      "execution_count": null,
      "outputs": [
        {
          "output_type": "stream",
          "name": "stdout",
          "text": [
            "+---+----------------------------------------------------------------------+\n",
            "| id|                                                              episodes|\n",
            "+---+----------------------------------------------------------------------+\n",
            "|143|{{{http://api.tvmaze.com/episodes/10897}}, 2014-04-06, 2014-04-07T0...|\n",
            "|143|{{{http://api.tvmaze.com/episodes/10898}}, 2014-04-13, 2014-04-14T0...|\n",
            "|143|{{{http://api.tvmaze.com/episodes/10899}}, 2014-04-20, 2014-04-21T0...|\n",
            "|143|{{{http://api.tvmaze.com/episodes/10900}}, 2014-04-27, 2014-04-28T0...|\n",
            "|143|{{{http://api.tvmaze.com/episodes/10901}}, 2014-05-04, 2014-05-05T0...|\n",
            "+---+----------------------------------------------------------------------+\n",
            "only showing top 5 rows\n",
            "\n"
          ]
        }
      ]
    },
    {
      "cell_type": "code",
      "source": [
        "# Exploding a map using posexplode()\n",
        "episode_name_id = shows.select(\n",
        "    F.map_from_arrays(\n",
        "        F.col(\"_embedded.episodes.id\"), F.col(\"_embedded.episodes.name\")\n",
        "    ).alias(\"name_id\")\n",
        ")\n",
        "\n",
        "episode_name_id = episode_name_id.select(\n",
        "    F.posexplode(\"name_id\").alias(\"position\", \"id\", \"name\")\n",
        ")\n",
        "\n",
        "episode_name_id.show(5)"
      ],
      "metadata": {
        "id": "N-hX5lkqZ9b9",
        "outputId": "87f6d2a0-aeca-4c2c-eb36-04f4ae033d13",
        "colab": {
          "base_uri": "https://localhost:8080/"
        }
      },
      "execution_count": null,
      "outputs": [
        {
          "output_type": "stream",
          "name": "stdout",
          "text": [
            "+--------+-----+--------------------+\n",
            "|position|   id|                name|\n",
            "+--------+-----+--------------------+\n",
            "|       0|10897|Minimum Viable Pr...|\n",
            "|       1|10898|       The Cap Table|\n",
            "|       2|10899|Articles of Incor...|\n",
            "|       3|10900|    Fiduciary Duties|\n",
            "|       4|10901|      Signaling Risk|\n",
            "+--------+-----+--------------------+\n",
            "only showing top 5 rows\n",
            "\n"
          ]
        }
      ]
    },
    {
      "cell_type": "markdown",
      "source": [
        "## PySpark and SQL"
      ],
      "metadata": {
        "id": "2NcB1tnhPIXh"
      }
    },
    {
      "cell_type": "code",
      "source": [
        "from pyspark.sql import SparkSession\n",
        "from pyspark.sql.utils import AnalysisException\n",
        "import pyspark.sql.functions as F\n",
        "import pyspark.sql.types as T\n",
        "\n",
        "spark = SparkSession.builder.getOrCreate()"
      ],
      "metadata": {
        "id": "fdeut9yNaQUq"
      },
      "execution_count": 4,
      "outputs": []
    },
    {
      "cell_type": "code",
      "source": [
        "elements = spark.read.csv(\n",
        "    \"data/elements/Periodic_Table_Of_Elements.csv\",\n",
        "    header=True,\n",
        "    inferSchema=True,\n",
        ")\n",
        "\n",
        "elements.where(F.col(\"phase\") == \"liq\").groupby(\"period\").count().show()\n"
      ],
      "metadata": {
        "colab": {
          "base_uri": "https://localhost:8080/"
        },
        "id": "w3QeiL-JPQDh",
        "outputId": "c3832b8d-6f6e-4c7b-b578-fa169a83aaf6"
      },
      "execution_count": 5,
      "outputs": [
        {
          "output_type": "stream",
          "name": "stdout",
          "text": [
            "+------+-----+\n",
            "|period|count|\n",
            "+------+-----+\n",
            "|     6|    1|\n",
            "|     4|    1|\n",
            "+------+-----+\n",
            "\n"
          ]
        }
      ]
    },
    {
      "cell_type": "markdown",
      "source": [
        "/*\n",
        "-- In SQL: We assume that the data is in a table called `elements`\n",
        "\n",
        "SELECT\n",
        "  period,\n",
        "  count(*)\n",
        "FROM elements\n",
        "WHERE phase = 'liq'\n",
        "GROUP BY period;*/"
      ],
      "metadata": {
        "id": "etFXEKBSPesY"
      }
    },
    {
      "cell_type": "code",
      "source": [
        "try:\n",
        "    spark.sql(\n",
        "        \"select period, count(*) from elements \"\n",
        "        \"where phase='liq' group by period\"\n",
        "    ).show(5)\n",
        "except AnalysisException as e:\n",
        "    print(e)"
      ],
      "metadata": {
        "colab": {
          "base_uri": "https://localhost:8080/"
        },
        "id": "oxAsy7yqQkcJ",
        "outputId": "b173806a-0ac1-401c-b1d6-fd3e3e2a7a14"
      },
      "execution_count": 6,
      "outputs": [
        {
          "output_type": "stream",
          "name": "stdout",
          "text": [
            "[TABLE_OR_VIEW_NOT_FOUND] The table or view `elements` cannot be found. Verify the spelling and correctness of the schema and catalog.\n",
            "If you did not qualify the name with a schema, verify the current_schema() output, or qualify the name with the correct schema and catalog.\n",
            "To tolerate the error on drop use DROP VIEW IF EXISTS or DROP TABLE IF EXISTS.; line 1 pos 29;\n",
            "'Aggregate ['period], ['period, unresolvedalias(count(1), None)]\n",
            "+- 'Filter ('phase = liq)\n",
            "   +- 'UnresolvedRelation [elements], [], false\n",
            "\n"
          ]
        }
      ]
    },
    {
      "cell_type": "code",
      "source": [
        "elements.createOrReplaceTempView(\"elements\")"
      ],
      "metadata": {
        "id": "aYh7S20UQmsW"
      },
      "execution_count": 7,
      "outputs": []
    },
    {
      "cell_type": "code",
      "source": [
        "spark.sql(\n",
        "    \"select period, count(*) from elements where phase='liq' group by period\"\n",
        ").show(5)"
      ],
      "metadata": {
        "colab": {
          "base_uri": "https://localhost:8080/"
        },
        "id": "fmiqrBEkQp-y",
        "outputId": "155a3b4d-da80-4e38-f2fe-0609a2c31cc1"
      },
      "execution_count": 8,
      "outputs": [
        {
          "output_type": "stream",
          "name": "stdout",
          "text": [
            "+------+--------+\n",
            "|period|count(1)|\n",
            "+------+--------+\n",
            "|     6|       1|\n",
            "|     4|       1|\n",
            "+------+--------+\n",
            "\n"
          ]
        }
      ]
    },
    {
      "cell_type": "code",
      "source": [
        "spark.catalog.listTables()"
      ],
      "metadata": {
        "colab": {
          "base_uri": "https://localhost:8080/"
        },
        "id": "ZjdbQUPUQ9Nh",
        "outputId": "aa3317db-b7d7-44b5-f429-df64d007e247"
      },
      "execution_count": 9,
      "outputs": [
        {
          "output_type": "execute_result",
          "data": {
            "text/plain": [
              "[Table(name='elements', catalog=None, namespace=[], description=None, tableType='TEMPORARY', isTemporary=True)]"
            ]
          },
          "metadata": {},
          "execution_count": 9
        }
      ]
    },
    {
      "cell_type": "code",
      "source": [
        "spark.catalog.dropTempView(\"elements\")\n",
        "spark.catalog.listTables()"
      ],
      "metadata": {
        "colab": {
          "base_uri": "https://localhost:8080/"
        },
        "id": "kDWyaoOOQror",
        "outputId": "a9b67ff8-c6ed-4c12-9409-19d556ea21d3"
      },
      "execution_count": 10,
      "outputs": [
        {
          "output_type": "execute_result",
          "data": {
            "text/plain": [
              "[]"
            ]
          },
          "metadata": {},
          "execution_count": 10
        }
      ]
    },
    {
      "cell_type": "code",
      "source": [
        "!pip install wget\n",
        "!mkdir -p data/backblaze"
      ],
      "metadata": {
        "colab": {
          "base_uri": "https://localhost:8080/"
        },
        "id": "ngCLvvlwRujj",
        "outputId": "1d848121-6e1a-4ad9-9fcb-ddfb66b22c89"
      },
      "execution_count": 23,
      "outputs": [
        {
          "output_type": "stream",
          "name": "stdout",
          "text": [
            "Requirement already satisfied: wget in /usr/local/lib/python3.10/dist-packages (3.2)\n"
          ]
        }
      ]
    },
    {
      "cell_type": "code",
      "source": [
        "# Import Blackblaze dataset\n",
        "import sys\n",
        "import wget\n",
        "\n",
        "\n",
        "DATASETS_FULL = [\n",
        "    \"https://f001.backblazeb2.com/file/Backblaze-Hard-Drive-Data/data_Q1_2019.zip\",\n",
        "    \"https://f001.backblazeb2.com/file/Backblaze-Hard-Drive-Data/data_Q2_2019.zip\",\n",
        "    \"https://f001.backblazeb2.com/file/Backblaze-Hard-Drive-Data/data_Q3_2019.zip\",\n",
        "    \"https://f001.backblazeb2.com/file/Backblaze-Hard-Drive-Data/data_Q4_2019.zip\",\n",
        "]\n",
        "\n",
        "DATASETS_MINIMAL = DATASETS_FULL[2:3]  # Slice to keep as a list\n",
        "datasets = DATASETS_MINIMAL\n",
        "for dataset in datasets:\n",
        "        print(\"\\n\", dataset.split(\"/\")[-1])\n",
        "        wget.download(dataset, out=\"data/backblaze/\")"
      ],
      "metadata": {
        "colab": {
          "base_uri": "https://localhost:8080/"
        },
        "id": "wGuMmugIRCGL",
        "outputId": "3bd95166-99b6-4f9c-ab27-506242cdf518"
      },
      "execution_count": 25,
      "outputs": [
        {
          "output_type": "stream",
          "name": "stdout",
          "text": [
            "\n",
            " data_Q3_2019.zip\n"
          ]
        }
      ]
    },
    {
      "cell_type": "code",
      "source": [
        "!unzip data/backblaze/data_Q3_2019.zip -d data/backblaze/data_Q3_2019"
      ],
      "metadata": {
        "colab": {
          "base_uri": "https://localhost:8080/"
        },
        "id": "LnYlvkzkRrW-",
        "outputId": "1c630ed3-82cb-4048-fdea-167d639e52fc"
      },
      "execution_count": 26,
      "outputs": [
        {
          "output_type": "stream",
          "name": "stdout",
          "text": [
            "Archive:  data/backblaze/data_Q3_2019.zip\n",
            "  inflating: data/backblaze/data_Q3_2019/2019-07-01.csv  \n",
            "  inflating: data/backblaze/data_Q3_2019/__MACOSX/._2019-07-01.csv  \n",
            "  inflating: data/backblaze/data_Q3_2019/2019-07-02.csv  \n",
            "  inflating: data/backblaze/data_Q3_2019/__MACOSX/._2019-07-02.csv  \n",
            "  inflating: data/backblaze/data_Q3_2019/2019-07-03.csv  \n",
            "  inflating: data/backblaze/data_Q3_2019/__MACOSX/._2019-07-03.csv  \n",
            "  inflating: data/backblaze/data_Q3_2019/2019-07-04.csv  \n",
            "  inflating: data/backblaze/data_Q3_2019/__MACOSX/._2019-07-04.csv  \n",
            "  inflating: data/backblaze/data_Q3_2019/2019-07-05.csv  \n",
            "  inflating: data/backblaze/data_Q3_2019/__MACOSX/._2019-07-05.csv  \n",
            "  inflating: data/backblaze/data_Q3_2019/2019-07-06.csv  \n",
            "  inflating: data/backblaze/data_Q3_2019/__MACOSX/._2019-07-06.csv  \n",
            "  inflating: data/backblaze/data_Q3_2019/2019-07-07.csv  \n",
            "  inflating: data/backblaze/data_Q3_2019/__MACOSX/._2019-07-07.csv  \n",
            "  inflating: data/backblaze/data_Q3_2019/2019-07-08.csv  \n",
            "  inflating: data/backblaze/data_Q3_2019/__MACOSX/._2019-07-08.csv  \n",
            "  inflating: data/backblaze/data_Q3_2019/2019-07-09.csv  \n",
            "  inflating: data/backblaze/data_Q3_2019/__MACOSX/._2019-07-09.csv  \n",
            "  inflating: data/backblaze/data_Q3_2019/2019-07-10.csv  \n",
            "  inflating: data/backblaze/data_Q3_2019/__MACOSX/._2019-07-10.csv  \n",
            "  inflating: data/backblaze/data_Q3_2019/2019-07-11.csv  \n",
            "  inflating: data/backblaze/data_Q3_2019/__MACOSX/._2019-07-11.csv  \n",
            "  inflating: data/backblaze/data_Q3_2019/2019-07-12.csv  \n",
            "  inflating: data/backblaze/data_Q3_2019/__MACOSX/._2019-07-12.csv  \n",
            "  inflating: data/backblaze/data_Q3_2019/2019-07-13.csv  \n",
            "  inflating: data/backblaze/data_Q3_2019/__MACOSX/._2019-07-13.csv  \n",
            "  inflating: data/backblaze/data_Q3_2019/2019-07-14.csv  \n",
            "  inflating: data/backblaze/data_Q3_2019/__MACOSX/._2019-07-14.csv  \n",
            "  inflating: data/backblaze/data_Q3_2019/2019-07-15.csv  \n",
            "  inflating: data/backblaze/data_Q3_2019/__MACOSX/._2019-07-15.csv  \n",
            "  inflating: data/backblaze/data_Q3_2019/2019-07-16.csv  \n",
            "  inflating: data/backblaze/data_Q3_2019/__MACOSX/._2019-07-16.csv  \n",
            "  inflating: data/backblaze/data_Q3_2019/2019-07-17.csv  \n",
            "  inflating: data/backblaze/data_Q3_2019/__MACOSX/._2019-07-17.csv  \n",
            "  inflating: data/backblaze/data_Q3_2019/2019-07-18.csv  \n",
            "  inflating: data/backblaze/data_Q3_2019/__MACOSX/._2019-07-18.csv  \n",
            "  inflating: data/backblaze/data_Q3_2019/2019-07-19.csv  \n",
            "  inflating: data/backblaze/data_Q3_2019/__MACOSX/._2019-07-19.csv  \n",
            "  inflating: data/backblaze/data_Q3_2019/2019-07-20.csv  \n",
            "  inflating: data/backblaze/data_Q3_2019/__MACOSX/._2019-07-20.csv  \n",
            "  inflating: data/backblaze/data_Q3_2019/2019-07-21.csv  \n",
            "  inflating: data/backblaze/data_Q3_2019/__MACOSX/._2019-07-21.csv  \n",
            "  inflating: data/backblaze/data_Q3_2019/2019-07-22.csv  \n",
            "  inflating: data/backblaze/data_Q3_2019/__MACOSX/._2019-07-22.csv  \n",
            "  inflating: data/backblaze/data_Q3_2019/2019-07-23.csv  \n",
            "  inflating: data/backblaze/data_Q3_2019/__MACOSX/._2019-07-23.csv  \n",
            "  inflating: data/backblaze/data_Q3_2019/2019-07-24.csv  \n",
            "  inflating: data/backblaze/data_Q3_2019/__MACOSX/._2019-07-24.csv  \n",
            "  inflating: data/backblaze/data_Q3_2019/2019-07-25.csv  \n",
            "  inflating: data/backblaze/data_Q3_2019/__MACOSX/._2019-07-25.csv  \n",
            "  inflating: data/backblaze/data_Q3_2019/2019-07-26.csv  \n",
            "  inflating: data/backblaze/data_Q3_2019/__MACOSX/._2019-07-26.csv  \n",
            "  inflating: data/backblaze/data_Q3_2019/2019-07-27.csv  \n",
            "  inflating: data/backblaze/data_Q3_2019/__MACOSX/._2019-07-27.csv  \n",
            "  inflating: data/backblaze/data_Q3_2019/2019-07-28.csv  \n",
            "  inflating: data/backblaze/data_Q3_2019/__MACOSX/._2019-07-28.csv  \n",
            "  inflating: data/backblaze/data_Q3_2019/2019-07-29.csv  \n",
            "  inflating: data/backblaze/data_Q3_2019/__MACOSX/._2019-07-29.csv  \n",
            "  inflating: data/backblaze/data_Q3_2019/2019-07-30.csv  \n",
            "  inflating: data/backblaze/data_Q3_2019/__MACOSX/._2019-07-30.csv  \n",
            "  inflating: data/backblaze/data_Q3_2019/2019-07-31.csv  \n",
            "  inflating: data/backblaze/data_Q3_2019/__MACOSX/._2019-07-31.csv  \n",
            "  inflating: data/backblaze/data_Q3_2019/2019-08-01.csv  \n",
            "  inflating: data/backblaze/data_Q3_2019/__MACOSX/._2019-08-01.csv  \n",
            "  inflating: data/backblaze/data_Q3_2019/2019-08-02.csv  \n",
            "  inflating: data/backblaze/data_Q3_2019/__MACOSX/._2019-08-02.csv  \n",
            "  inflating: data/backblaze/data_Q3_2019/2019-08-03.csv  \n",
            "  inflating: data/backblaze/data_Q3_2019/__MACOSX/._2019-08-03.csv  \n",
            "  inflating: data/backblaze/data_Q3_2019/2019-08-04.csv  \n",
            "  inflating: data/backblaze/data_Q3_2019/__MACOSX/._2019-08-04.csv  \n",
            "  inflating: data/backblaze/data_Q3_2019/2019-08-05.csv  \n",
            "  inflating: data/backblaze/data_Q3_2019/__MACOSX/._2019-08-05.csv  \n",
            "  inflating: data/backblaze/data_Q3_2019/2019-08-06.csv  \n",
            "  inflating: data/backblaze/data_Q3_2019/__MACOSX/._2019-08-06.csv  \n",
            "  inflating: data/backblaze/data_Q3_2019/2019-08-07.csv  \n",
            "  inflating: data/backblaze/data_Q3_2019/__MACOSX/._2019-08-07.csv  \n",
            "  inflating: data/backblaze/data_Q3_2019/2019-08-08.csv  \n",
            "  inflating: data/backblaze/data_Q3_2019/__MACOSX/._2019-08-08.csv  \n",
            "  inflating: data/backblaze/data_Q3_2019/2019-08-09.csv  \n",
            "  inflating: data/backblaze/data_Q3_2019/__MACOSX/._2019-08-09.csv  \n",
            "  inflating: data/backblaze/data_Q3_2019/2019-08-10.csv  \n",
            "  inflating: data/backblaze/data_Q3_2019/__MACOSX/._2019-08-10.csv  \n",
            "  inflating: data/backblaze/data_Q3_2019/2019-08-11.csv  \n",
            "  inflating: data/backblaze/data_Q3_2019/__MACOSX/._2019-08-11.csv  \n",
            "  inflating: data/backblaze/data_Q3_2019/2019-08-12.csv  \n",
            "  inflating: data/backblaze/data_Q3_2019/__MACOSX/._2019-08-12.csv  \n",
            "  inflating: data/backblaze/data_Q3_2019/2019-08-13.csv  \n",
            "  inflating: data/backblaze/data_Q3_2019/__MACOSX/._2019-08-13.csv  \n",
            "  inflating: data/backblaze/data_Q3_2019/2019-08-14.csv  \n",
            "  inflating: data/backblaze/data_Q3_2019/__MACOSX/._2019-08-14.csv  \n",
            "  inflating: data/backblaze/data_Q3_2019/2019-08-15.csv  \n",
            "  inflating: data/backblaze/data_Q3_2019/__MACOSX/._2019-08-15.csv  \n",
            "  inflating: data/backblaze/data_Q3_2019/2019-08-16.csv  \n",
            "  inflating: data/backblaze/data_Q3_2019/__MACOSX/._2019-08-16.csv  \n",
            "  inflating: data/backblaze/data_Q3_2019/2019-08-17.csv  \n",
            "  inflating: data/backblaze/data_Q3_2019/__MACOSX/._2019-08-17.csv  \n",
            "  inflating: data/backblaze/data_Q3_2019/2019-08-18.csv  \n",
            "  inflating: data/backblaze/data_Q3_2019/__MACOSX/._2019-08-18.csv  \n",
            "  inflating: data/backblaze/data_Q3_2019/2019-08-19.csv  \n",
            "  inflating: data/backblaze/data_Q3_2019/__MACOSX/._2019-08-19.csv  \n",
            "  inflating: data/backblaze/data_Q3_2019/2019-08-20.csv  \n",
            "  inflating: data/backblaze/data_Q3_2019/__MACOSX/._2019-08-20.csv  \n",
            "  inflating: data/backblaze/data_Q3_2019/2019-08-21.csv  \n",
            "  inflating: data/backblaze/data_Q3_2019/__MACOSX/._2019-08-21.csv  \n",
            "  inflating: data/backblaze/data_Q3_2019/2019-08-22.csv  \n",
            "  inflating: data/backblaze/data_Q3_2019/__MACOSX/._2019-08-22.csv  \n",
            "  inflating: data/backblaze/data_Q3_2019/2019-08-23.csv  \n",
            "  inflating: data/backblaze/data_Q3_2019/__MACOSX/._2019-08-23.csv  \n",
            "  inflating: data/backblaze/data_Q3_2019/2019-08-24.csv  \n",
            "  inflating: data/backblaze/data_Q3_2019/__MACOSX/._2019-08-24.csv  \n",
            "  inflating: data/backblaze/data_Q3_2019/2019-08-25.csv  \n",
            "  inflating: data/backblaze/data_Q3_2019/__MACOSX/._2019-08-25.csv  \n",
            "  inflating: data/backblaze/data_Q3_2019/2019-08-26.csv  \n",
            "  inflating: data/backblaze/data_Q3_2019/__MACOSX/._2019-08-26.csv  \n",
            "  inflating: data/backblaze/data_Q3_2019/2019-08-27.csv  \n",
            "  inflating: data/backblaze/data_Q3_2019/__MACOSX/._2019-08-27.csv  \n",
            "  inflating: data/backblaze/data_Q3_2019/2019-08-28.csv  \n",
            "  inflating: data/backblaze/data_Q3_2019/__MACOSX/._2019-08-28.csv  \n",
            "  inflating: data/backblaze/data_Q3_2019/2019-08-29.csv  \n",
            "  inflating: data/backblaze/data_Q3_2019/__MACOSX/._2019-08-29.csv  \n",
            "  inflating: data/backblaze/data_Q3_2019/2019-08-30.csv  \n",
            "  inflating: data/backblaze/data_Q3_2019/__MACOSX/._2019-08-30.csv  \n",
            "  inflating: data/backblaze/data_Q3_2019/2019-08-31.csv  \n",
            "  inflating: data/backblaze/data_Q3_2019/__MACOSX/._2019-08-31.csv  \n",
            "  inflating: data/backblaze/data_Q3_2019/2019-09-01.csv  \n",
            "  inflating: data/backblaze/data_Q3_2019/__MACOSX/._2019-09-01.csv  \n",
            "  inflating: data/backblaze/data_Q3_2019/2019-09-02.csv  \n",
            "  inflating: data/backblaze/data_Q3_2019/__MACOSX/._2019-09-02.csv  \n",
            "  inflating: data/backblaze/data_Q3_2019/2019-09-03.csv  \n",
            "  inflating: data/backblaze/data_Q3_2019/__MACOSX/._2019-09-03.csv  \n",
            "  inflating: data/backblaze/data_Q3_2019/2019-09-04.csv  \n",
            "  inflating: data/backblaze/data_Q3_2019/__MACOSX/._2019-09-04.csv  \n",
            "  inflating: data/backblaze/data_Q3_2019/2019-09-05.csv  \n",
            "  inflating: data/backblaze/data_Q3_2019/__MACOSX/._2019-09-05.csv  \n",
            "  inflating: data/backblaze/data_Q3_2019/2019-09-06.csv  \n",
            "  inflating: data/backblaze/data_Q3_2019/__MACOSX/._2019-09-06.csv  \n",
            "  inflating: data/backblaze/data_Q3_2019/2019-09-07.csv  \n",
            "  inflating: data/backblaze/data_Q3_2019/__MACOSX/._2019-09-07.csv  \n",
            "  inflating: data/backblaze/data_Q3_2019/2019-09-08.csv  \n",
            "  inflating: data/backblaze/data_Q3_2019/__MACOSX/._2019-09-08.csv  \n",
            "  inflating: data/backblaze/data_Q3_2019/2019-09-09.csv  \n",
            "  inflating: data/backblaze/data_Q3_2019/__MACOSX/._2019-09-09.csv  \n",
            "  inflating: data/backblaze/data_Q3_2019/2019-09-10.csv  \n",
            "  inflating: data/backblaze/data_Q3_2019/__MACOSX/._2019-09-10.csv  \n",
            "  inflating: data/backblaze/data_Q3_2019/2019-09-11.csv  \n",
            "  inflating: data/backblaze/data_Q3_2019/__MACOSX/._2019-09-11.csv  \n",
            "  inflating: data/backblaze/data_Q3_2019/2019-09-12.csv  \n",
            "  inflating: data/backblaze/data_Q3_2019/__MACOSX/._2019-09-12.csv  \n",
            "  inflating: data/backblaze/data_Q3_2019/2019-09-13.csv  \n",
            "  inflating: data/backblaze/data_Q3_2019/__MACOSX/._2019-09-13.csv  \n",
            "  inflating: data/backblaze/data_Q3_2019/2019-09-14.csv  \n",
            "  inflating: data/backblaze/data_Q3_2019/__MACOSX/._2019-09-14.csv  \n",
            "  inflating: data/backblaze/data_Q3_2019/2019-09-15.csv  \n",
            "  inflating: data/backblaze/data_Q3_2019/__MACOSX/._2019-09-15.csv  \n",
            "  inflating: data/backblaze/data_Q3_2019/2019-09-16.csv  \n",
            "  inflating: data/backblaze/data_Q3_2019/__MACOSX/._2019-09-16.csv  \n",
            "  inflating: data/backblaze/data_Q3_2019/2019-09-17.csv  \n",
            "  inflating: data/backblaze/data_Q3_2019/__MACOSX/._2019-09-17.csv  \n",
            "  inflating: data/backblaze/data_Q3_2019/2019-09-18.csv  \n",
            "  inflating: data/backblaze/data_Q3_2019/__MACOSX/._2019-09-18.csv  \n",
            "  inflating: data/backblaze/data_Q3_2019/2019-09-19.csv  \n",
            "  inflating: data/backblaze/data_Q3_2019/__MACOSX/._2019-09-19.csv  \n",
            "  inflating: data/backblaze/data_Q3_2019/2019-09-20.csv  \n",
            "  inflating: data/backblaze/data_Q3_2019/__MACOSX/._2019-09-20.csv  \n",
            "  inflating: data/backblaze/data_Q3_2019/2019-09-21.csv  \n",
            "  inflating: data/backblaze/data_Q3_2019/__MACOSX/._2019-09-21.csv  \n",
            "  inflating: data/backblaze/data_Q3_2019/2019-09-22.csv  \n",
            "  inflating: data/backblaze/data_Q3_2019/__MACOSX/._2019-09-22.csv  \n",
            "  inflating: data/backblaze/data_Q3_2019/2019-09-23.csv  \n",
            "  inflating: data/backblaze/data_Q3_2019/__MACOSX/._2019-09-23.csv  \n",
            "  inflating: data/backblaze/data_Q3_2019/2019-09-24.csv  \n",
            "  inflating: data/backblaze/data_Q3_2019/__MACOSX/._2019-09-24.csv  \n",
            "  inflating: data/backblaze/data_Q3_2019/2019-09-25.csv  \n",
            "  inflating: data/backblaze/data_Q3_2019/__MACOSX/._2019-09-25.csv  \n",
            "  inflating: data/backblaze/data_Q3_2019/2019-09-26.csv  \n",
            "  inflating: data/backblaze/data_Q3_2019/__MACOSX/._2019-09-26.csv  \n",
            "  inflating: data/backblaze/data_Q3_2019/2019-09-27.csv  \n",
            "  inflating: data/backblaze/data_Q3_2019/__MACOSX/._2019-09-27.csv  \n",
            "  inflating: data/backblaze/data_Q3_2019/2019-09-28.csv  \n",
            "  inflating: data/backblaze/data_Q3_2019/__MACOSX/._2019-09-28.csv  \n",
            "  inflating: data/backblaze/data_Q3_2019/2019-09-29.csv  \n",
            "  inflating: data/backblaze/data_Q3_2019/__MACOSX/._2019-09-29.csv  \n",
            "  inflating: data/backblaze/data_Q3_2019/2019-09-30.csv  \n",
            "  inflating: data/backblaze/data_Q3_2019/__MACOSX/._2019-09-30.csv  \n"
          ]
        }
      ]
    },
    {
      "cell_type": "code",
      "source": [
        "#!rm -Rf /content/data/backblaze"
      ],
      "metadata": {
        "id": "AHF7LdaSTDai"
      },
      "execution_count": 21,
      "outputs": []
    },
    {
      "cell_type": "code",
      "source": [
        "DATA_DIRECTORY = \"data/backblaze/\"\n",
        "q3 = spark.read.csv(\n",
        "    DATA_DIRECTORY + \"data_Q3_2019\", header=True, inferSchema=True\n",
        ")"
      ],
      "metadata": {
        "id": "bpWMqvIvSEUo"
      },
      "execution_count": 27,
      "outputs": []
    },
    {
      "cell_type": "code",
      "source": [
        "backblaze_2019 = q3\n",
        "backblaze_2019.printSchema()"
      ],
      "metadata": {
        "colab": {
          "base_uri": "https://localhost:8080/"
        },
        "id": "YT_btBocS1sp",
        "outputId": "dc121626-b767-48f3-cf32-163d882f4f6e"
      },
      "execution_count": 28,
      "outputs": [
        {
          "output_type": "stream",
          "name": "stdout",
          "text": [
            "root\n",
            " |-- date: date (nullable = true)\n",
            " |-- serial_number: string (nullable = true)\n",
            " |-- model: string (nullable = true)\n",
            " |-- capacity_bytes: long (nullable = true)\n",
            " |-- failure: integer (nullable = true)\n",
            " |-- smart_1_normalized: integer (nullable = true)\n",
            " |-- smart_1_raw: integer (nullable = true)\n",
            " |-- smart_2_normalized: integer (nullable = true)\n",
            " |-- smart_2_raw: integer (nullable = true)\n",
            " |-- smart_3_normalized: integer (nullable = true)\n",
            " |-- smart_3_raw: integer (nullable = true)\n",
            " |-- smart_4_normalized: integer (nullable = true)\n",
            " |-- smart_4_raw: integer (nullable = true)\n",
            " |-- smart_5_normalized: integer (nullable = true)\n",
            " |-- smart_5_raw: integer (nullable = true)\n",
            " |-- smart_7_normalized: integer (nullable = true)\n",
            " |-- smart_7_raw: long (nullable = true)\n",
            " |-- smart_8_normalized: integer (nullable = true)\n",
            " |-- smart_8_raw: integer (nullable = true)\n",
            " |-- smart_9_normalized: integer (nullable = true)\n",
            " |-- smart_9_raw: integer (nullable = true)\n",
            " |-- smart_10_normalized: integer (nullable = true)\n",
            " |-- smart_10_raw: integer (nullable = true)\n",
            " |-- smart_11_normalized: integer (nullable = true)\n",
            " |-- smart_11_raw: integer (nullable = true)\n",
            " |-- smart_12_normalized: integer (nullable = true)\n",
            " |-- smart_12_raw: integer (nullable = true)\n",
            " |-- smart_13_normalized: string (nullable = true)\n",
            " |-- smart_13_raw: string (nullable = true)\n",
            " |-- smart_15_normalized: string (nullable = true)\n",
            " |-- smart_15_raw: string (nullable = true)\n",
            " |-- smart_16_normalized: integer (nullable = true)\n",
            " |-- smart_16_raw: integer (nullable = true)\n",
            " |-- smart_17_normalized: integer (nullable = true)\n",
            " |-- smart_17_raw: integer (nullable = true)\n",
            " |-- smart_22_normalized: integer (nullable = true)\n",
            " |-- smart_22_raw: integer (nullable = true)\n",
            " |-- smart_23_normalized: integer (nullable = true)\n",
            " |-- smart_23_raw: integer (nullable = true)\n",
            " |-- smart_24_normalized: integer (nullable = true)\n",
            " |-- smart_24_raw: integer (nullable = true)\n",
            " |-- smart_168_normalized: integer (nullable = true)\n",
            " |-- smart_168_raw: integer (nullable = true)\n",
            " |-- smart_170_normalized: integer (nullable = true)\n",
            " |-- smart_170_raw: long (nullable = true)\n",
            " |-- smart_173_normalized: integer (nullable = true)\n",
            " |-- smart_173_raw: long (nullable = true)\n",
            " |-- smart_174_normalized: integer (nullable = true)\n",
            " |-- smart_174_raw: integer (nullable = true)\n",
            " |-- smart_177_normalized: integer (nullable = true)\n",
            " |-- smart_177_raw: integer (nullable = true)\n",
            " |-- smart_179_normalized: string (nullable = true)\n",
            " |-- smart_179_raw: string (nullable = true)\n",
            " |-- smart_181_normalized: string (nullable = true)\n",
            " |-- smart_181_raw: string (nullable = true)\n",
            " |-- smart_182_normalized: string (nullable = true)\n",
            " |-- smart_182_raw: string (nullable = true)\n",
            " |-- smart_183_normalized: integer (nullable = true)\n",
            " |-- smart_183_raw: integer (nullable = true)\n",
            " |-- smart_184_normalized: integer (nullable = true)\n",
            " |-- smart_184_raw: integer (nullable = true)\n",
            " |-- smart_187_normalized: integer (nullable = true)\n",
            " |-- smart_187_raw: integer (nullable = true)\n",
            " |-- smart_188_normalized: integer (nullable = true)\n",
            " |-- smart_188_raw: long (nullable = true)\n",
            " |-- smart_189_normalized: integer (nullable = true)\n",
            " |-- smart_189_raw: integer (nullable = true)\n",
            " |-- smart_190_normalized: integer (nullable = true)\n",
            " |-- smart_190_raw: integer (nullable = true)\n",
            " |-- smart_191_normalized: integer (nullable = true)\n",
            " |-- smart_191_raw: integer (nullable = true)\n",
            " |-- smart_192_normalized: integer (nullable = true)\n",
            " |-- smart_192_raw: integer (nullable = true)\n",
            " |-- smart_193_normalized: integer (nullable = true)\n",
            " |-- smart_193_raw: integer (nullable = true)\n",
            " |-- smart_194_normalized: integer (nullable = true)\n",
            " |-- smart_194_raw: integer (nullable = true)\n",
            " |-- smart_195_normalized: integer (nullable = true)\n",
            " |-- smart_195_raw: integer (nullable = true)\n",
            " |-- smart_196_normalized: integer (nullable = true)\n",
            " |-- smart_196_raw: integer (nullable = true)\n",
            " |-- smart_197_normalized: integer (nullable = true)\n",
            " |-- smart_197_raw: integer (nullable = true)\n",
            " |-- smart_198_normalized: integer (nullable = true)\n",
            " |-- smart_198_raw: integer (nullable = true)\n",
            " |-- smart_199_normalized: integer (nullable = true)\n",
            " |-- smart_199_raw: integer (nullable = true)\n",
            " |-- smart_200_normalized: integer (nullable = true)\n",
            " |-- smart_200_raw: integer (nullable = true)\n",
            " |-- smart_201_normalized: string (nullable = true)\n",
            " |-- smart_201_raw: string (nullable = true)\n",
            " |-- smart_218_normalized: integer (nullable = true)\n",
            " |-- smart_218_raw: integer (nullable = true)\n",
            " |-- smart_220_normalized: integer (nullable = true)\n",
            " |-- smart_220_raw: integer (nullable = true)\n",
            " |-- smart_222_normalized: integer (nullable = true)\n",
            " |-- smart_222_raw: integer (nullable = true)\n",
            " |-- smart_223_normalized: integer (nullable = true)\n",
            " |-- smart_223_raw: integer (nullable = true)\n",
            " |-- smart_224_normalized: integer (nullable = true)\n",
            " |-- smart_224_raw: integer (nullable = true)\n",
            " |-- smart_225_normalized: integer (nullable = true)\n",
            " |-- smart_225_raw: integer (nullable = true)\n",
            " |-- smart_226_normalized: integer (nullable = true)\n",
            " |-- smart_226_raw: integer (nullable = true)\n",
            " |-- smart_231_normalized: integer (nullable = true)\n",
            " |-- smart_231_raw: long (nullable = true)\n",
            " |-- smart_232_normalized: integer (nullable = true)\n",
            " |-- smart_232_raw: long (nullable = true)\n",
            " |-- smart_233_normalized: integer (nullable = true)\n",
            " |-- smart_233_raw: integer (nullable = true)\n",
            " |-- smart_235_normalized: integer (nullable = true)\n",
            " |-- smart_235_raw: long (nullable = true)\n",
            " |-- smart_240_normalized: integer (nullable = true)\n",
            " |-- smart_240_raw: long (nullable = true)\n",
            " |-- smart_241_normalized: integer (nullable = true)\n",
            " |-- smart_241_raw: long (nullable = true)\n",
            " |-- smart_242_normalized: integer (nullable = true)\n",
            " |-- smart_242_raw: long (nullable = true)\n",
            " |-- smart_250_normalized: integer (nullable = true)\n",
            " |-- smart_250_raw: integer (nullable = true)\n",
            " |-- smart_251_normalized: integer (nullable = true)\n",
            " |-- smart_251_raw: integer (nullable = true)\n",
            " |-- smart_252_normalized: integer (nullable = true)\n",
            " |-- smart_252_raw: integer (nullable = true)\n",
            " |-- smart_254_normalized: integer (nullable = true)\n",
            " |-- smart_254_raw: integer (nullable = true)\n",
            " |-- smart_255_normalized: string (nullable = true)\n",
            " |-- smart_255_raw: string (nullable = true)\n",
            "\n"
          ]
        }
      ]
    },
    {
      "cell_type": "code",
      "source": [
        "backblaze_2019 = backblaze_2019.select(\n",
        "    [\n",
        "        F.col(x).cast(T.LongType()) if x.startswith(\"smart\") else F.col(x)\n",
        "        for x in backblaze_2019.columns\n",
        "    ]\n",
        ")"
      ],
      "metadata": {
        "id": "Wd-M2Qd0SZ6I"
      },
      "execution_count": 29,
      "outputs": []
    },
    {
      "cell_type": "code",
      "source": [
        "backblaze_2019.printSchema()"
      ],
      "metadata": {
        "colab": {
          "base_uri": "https://localhost:8080/"
        },
        "id": "YUoeA_AFVDb5",
        "outputId": "2a665ee9-2301-407f-d7f9-afe695131273"
      },
      "execution_count": 31,
      "outputs": [
        {
          "output_type": "stream",
          "name": "stdout",
          "text": [
            "root\n",
            " |-- date: date (nullable = true)\n",
            " |-- serial_number: string (nullable = true)\n",
            " |-- model: string (nullable = true)\n",
            " |-- capacity_bytes: long (nullable = true)\n",
            " |-- failure: integer (nullable = true)\n",
            " |-- smart_1_normalized: long (nullable = true)\n",
            " |-- smart_1_raw: long (nullable = true)\n",
            " |-- smart_2_normalized: long (nullable = true)\n",
            " |-- smart_2_raw: long (nullable = true)\n",
            " |-- smart_3_normalized: long (nullable = true)\n",
            " |-- smart_3_raw: long (nullable = true)\n",
            " |-- smart_4_normalized: long (nullable = true)\n",
            " |-- smart_4_raw: long (nullable = true)\n",
            " |-- smart_5_normalized: long (nullable = true)\n",
            " |-- smart_5_raw: long (nullable = true)\n",
            " |-- smart_7_normalized: long (nullable = true)\n",
            " |-- smart_7_raw: long (nullable = true)\n",
            " |-- smart_8_normalized: long (nullable = true)\n",
            " |-- smart_8_raw: long (nullable = true)\n",
            " |-- smart_9_normalized: long (nullable = true)\n",
            " |-- smart_9_raw: long (nullable = true)\n",
            " |-- smart_10_normalized: long (nullable = true)\n",
            " |-- smart_10_raw: long (nullable = true)\n",
            " |-- smart_11_normalized: long (nullable = true)\n",
            " |-- smart_11_raw: long (nullable = true)\n",
            " |-- smart_12_normalized: long (nullable = true)\n",
            " |-- smart_12_raw: long (nullable = true)\n",
            " |-- smart_13_normalized: long (nullable = true)\n",
            " |-- smart_13_raw: long (nullable = true)\n",
            " |-- smart_15_normalized: long (nullable = true)\n",
            " |-- smart_15_raw: long (nullable = true)\n",
            " |-- smart_16_normalized: long (nullable = true)\n",
            " |-- smart_16_raw: long (nullable = true)\n",
            " |-- smart_17_normalized: long (nullable = true)\n",
            " |-- smart_17_raw: long (nullable = true)\n",
            " |-- smart_22_normalized: long (nullable = true)\n",
            " |-- smart_22_raw: long (nullable = true)\n",
            " |-- smart_23_normalized: long (nullable = true)\n",
            " |-- smart_23_raw: long (nullable = true)\n",
            " |-- smart_24_normalized: long (nullable = true)\n",
            " |-- smart_24_raw: long (nullable = true)\n",
            " |-- smart_168_normalized: long (nullable = true)\n",
            " |-- smart_168_raw: long (nullable = true)\n",
            " |-- smart_170_normalized: long (nullable = true)\n",
            " |-- smart_170_raw: long (nullable = true)\n",
            " |-- smart_173_normalized: long (nullable = true)\n",
            " |-- smart_173_raw: long (nullable = true)\n",
            " |-- smart_174_normalized: long (nullable = true)\n",
            " |-- smart_174_raw: long (nullable = true)\n",
            " |-- smart_177_normalized: long (nullable = true)\n",
            " |-- smart_177_raw: long (nullable = true)\n",
            " |-- smart_179_normalized: long (nullable = true)\n",
            " |-- smart_179_raw: long (nullable = true)\n",
            " |-- smart_181_normalized: long (nullable = true)\n",
            " |-- smart_181_raw: long (nullable = true)\n",
            " |-- smart_182_normalized: long (nullable = true)\n",
            " |-- smart_182_raw: long (nullable = true)\n",
            " |-- smart_183_normalized: long (nullable = true)\n",
            " |-- smart_183_raw: long (nullable = true)\n",
            " |-- smart_184_normalized: long (nullable = true)\n",
            " |-- smart_184_raw: long (nullable = true)\n",
            " |-- smart_187_normalized: long (nullable = true)\n",
            " |-- smart_187_raw: long (nullable = true)\n",
            " |-- smart_188_normalized: long (nullable = true)\n",
            " |-- smart_188_raw: long (nullable = true)\n",
            " |-- smart_189_normalized: long (nullable = true)\n",
            " |-- smart_189_raw: long (nullable = true)\n",
            " |-- smart_190_normalized: long (nullable = true)\n",
            " |-- smart_190_raw: long (nullable = true)\n",
            " |-- smart_191_normalized: long (nullable = true)\n",
            " |-- smart_191_raw: long (nullable = true)\n",
            " |-- smart_192_normalized: long (nullable = true)\n",
            " |-- smart_192_raw: long (nullable = true)\n",
            " |-- smart_193_normalized: long (nullable = true)\n",
            " |-- smart_193_raw: long (nullable = true)\n",
            " |-- smart_194_normalized: long (nullable = true)\n",
            " |-- smart_194_raw: long (nullable = true)\n",
            " |-- smart_195_normalized: long (nullable = true)\n",
            " |-- smart_195_raw: long (nullable = true)\n",
            " |-- smart_196_normalized: long (nullable = true)\n",
            " |-- smart_196_raw: long (nullable = true)\n",
            " |-- smart_197_normalized: long (nullable = true)\n",
            " |-- smart_197_raw: long (nullable = true)\n",
            " |-- smart_198_normalized: long (nullable = true)\n",
            " |-- smart_198_raw: long (nullable = true)\n",
            " |-- smart_199_normalized: long (nullable = true)\n",
            " |-- smart_199_raw: long (nullable = true)\n",
            " |-- smart_200_normalized: long (nullable = true)\n",
            " |-- smart_200_raw: long (nullable = true)\n",
            " |-- smart_201_normalized: long (nullable = true)\n",
            " |-- smart_201_raw: long (nullable = true)\n",
            " |-- smart_218_normalized: long (nullable = true)\n",
            " |-- smart_218_raw: long (nullable = true)\n",
            " |-- smart_220_normalized: long (nullable = true)\n",
            " |-- smart_220_raw: long (nullable = true)\n",
            " |-- smart_222_normalized: long (nullable = true)\n",
            " |-- smart_222_raw: long (nullable = true)\n",
            " |-- smart_223_normalized: long (nullable = true)\n",
            " |-- smart_223_raw: long (nullable = true)\n",
            " |-- smart_224_normalized: long (nullable = true)\n",
            " |-- smart_224_raw: long (nullable = true)\n",
            " |-- smart_225_normalized: long (nullable = true)\n",
            " |-- smart_225_raw: long (nullable = true)\n",
            " |-- smart_226_normalized: long (nullable = true)\n",
            " |-- smart_226_raw: long (nullable = true)\n",
            " |-- smart_231_normalized: long (nullable = true)\n",
            " |-- smart_231_raw: long (nullable = true)\n",
            " |-- smart_232_normalized: long (nullable = true)\n",
            " |-- smart_232_raw: long (nullable = true)\n",
            " |-- smart_233_normalized: long (nullable = true)\n",
            " |-- smart_233_raw: long (nullable = true)\n",
            " |-- smart_235_normalized: long (nullable = true)\n",
            " |-- smart_235_raw: long (nullable = true)\n",
            " |-- smart_240_normalized: long (nullable = true)\n",
            " |-- smart_240_raw: long (nullable = true)\n",
            " |-- smart_241_normalized: long (nullable = true)\n",
            " |-- smart_241_raw: long (nullable = true)\n",
            " |-- smart_242_normalized: long (nullable = true)\n",
            " |-- smart_242_raw: long (nullable = true)\n",
            " |-- smart_250_normalized: long (nullable = true)\n",
            " |-- smart_250_raw: long (nullable = true)\n",
            " |-- smart_251_normalized: long (nullable = true)\n",
            " |-- smart_251_raw: long (nullable = true)\n",
            " |-- smart_252_normalized: long (nullable = true)\n",
            " |-- smart_252_raw: long (nullable = true)\n",
            " |-- smart_254_normalized: long (nullable = true)\n",
            " |-- smart_254_raw: long (nullable = true)\n",
            " |-- smart_255_normalized: long (nullable = true)\n",
            " |-- smart_255_raw: long (nullable = true)\n",
            "\n"
          ]
        }
      ]
    },
    {
      "cell_type": "code",
      "source": [
        "backblaze_2019.createOrReplaceTempView(\"backblaze_stats_2019\")"
      ],
      "metadata": {
        "id": "_HfeIYA4SydD"
      },
      "execution_count": 32,
      "outputs": []
    },
    {
      "cell_type": "code",
      "source": [
        "spark.sql(\n",
        "    \"select serial_number from backblaze_stats_2019 where failure = 1\"\n",
        ").show(\n",
        "    5\n",
        ")"
      ],
      "metadata": {
        "colab": {
          "base_uri": "https://localhost:8080/"
        },
        "id": "L2UOtjhBUSVh",
        "outputId": "392bcf87-1ab6-43df-a3c0-b8abd61cf9d2"
      },
      "execution_count": 33,
      "outputs": [
        {
          "output_type": "stream",
          "name": "stdout",
          "text": [
            "+-------------+\n",
            "|serial_number|\n",
            "+-------------+\n",
            "|     ZA10MCJ5|\n",
            "|     ZCH07T9K|\n",
            "|     ZCH0CA7Z|\n",
            "|     Z302F381|\n",
            "|     ZCH0B3Z2|\n",
            "+-------------+\n",
            "only showing top 5 rows\n",
            "\n"
          ]
        }
      ]
    },
    {
      "cell_type": "code",
      "source": [
        "backblaze_2019.where(\"failure = 1\").select(F.col(\"serial_number\")).show(5)"
      ],
      "metadata": {
        "colab": {
          "base_uri": "https://localhost:8080/"
        },
        "id": "Gz6X-b98UUw9",
        "outputId": "247c719b-4522-4a63-f17b-6f2adae48ddb"
      },
      "execution_count": 34,
      "outputs": [
        {
          "output_type": "stream",
          "name": "stdout",
          "text": [
            "+-------------+\n",
            "|serial_number|\n",
            "+-------------+\n",
            "|     ZA10MCJ5|\n",
            "|     ZCH07T9K|\n",
            "|     ZCH0CA7Z|\n",
            "|     Z302F381|\n",
            "|     ZCH0B3Z2|\n",
            "+-------------+\n",
            "only showing top 5 rows\n",
            "\n"
          ]
        }
      ]
    },
    {
      "cell_type": "code",
      "source": [
        "spark.sql(\n",
        "    \"\"\"SELECT\n",
        "           model,\n",
        "           min(capacity_bytes / pow(1024, 3)) min_GB,\n",
        "           max(capacity_bytes/ pow(1024, 3)) max_GB\n",
        "        FROM backblaze_stats_2019\n",
        "        GROUP BY 1\n",
        "        ORDER BY 3 DESC\"\"\"\n",
        ").show(5)"
      ],
      "metadata": {
        "colab": {
          "base_uri": "https://localhost:8080/"
        },
        "id": "7AqQ3BOiUXoB",
        "outputId": "71e2793a-b284-49f3-8e9e-61660610ac4f"
      },
      "execution_count": 35,
      "outputs": [
        {
          "output_type": "stream",
          "name": "stdout",
          "text": [
            "+--------------------+--------------------+-------+\n",
            "|               model|              min_GB| max_GB|\n",
            "+--------------------+--------------------+-------+\n",
            "| TOSHIBA MG07ACA14TA|             13039.0|13039.0|\n",
            "|       ST12000NM0007|-9.31322574615478...|11176.0|\n",
            "|HGST HUH721212ALE600|             11176.0|11176.0|\n",
            "|       ST12000NM0117|             11176.0|11176.0|\n",
            "|HGST HUH721212ALN604|-9.31322574615478...|11176.0|\n",
            "+--------------------+--------------------+-------+\n",
            "only showing top 5 rows\n",
            "\n"
          ]
        }
      ]
    },
    {
      "cell_type": "code",
      "source": [
        "backblaze_2019.groupby(F.col(\"model\")).agg(\n",
        "    F.min(F.col(\"capacity_bytes\") / F.pow(F.lit(1024), 3)).alias(\"min_GB\"),\n",
        "    F.max(F.col(\"capacity_bytes\") / F.pow(F.lit(1024), 3)).alias(\"max_GB\"),\n",
        ").orderBy(F.col(\"max_GB\"), ascending=False).show(5)"
      ],
      "metadata": {
        "id": "kZAcyGxzUfPp"
      },
      "execution_count": null,
      "outputs": []
    },
    {
      "cell_type": "code",
      "source": [
        "spark.sql(\n",
        "    \"\"\"SELECT\n",
        "           model,\n",
        "           min(capacity_bytes / pow(1024, 3)) min_GB,\n",
        "           max(capacity_bytes/ pow(1024, 3)) max_GB\n",
        "        FROM backblaze_stats_2019\n",
        "        GROUP BY 1\n",
        "        HAVING min_GB != max_GB\n",
        "        ORDER BY 3 DESC\"\"\"\n",
        ").show(5)"
      ],
      "metadata": {
        "colab": {
          "base_uri": "https://localhost:8080/"
        },
        "id": "lvebgsamUhDJ",
        "outputId": "f9ba06e5-a2ea-4c9b-e4d3-837900751b01"
      },
      "execution_count": 36,
      "outputs": [
        {
          "output_type": "stream",
          "name": "stdout",
          "text": [
            "+--------------------+--------------------+-----------------+\n",
            "|               model|              min_GB|           max_GB|\n",
            "+--------------------+--------------------+-----------------+\n",
            "|       ST12000NM0007|-9.31322574615478...|          11176.0|\n",
            "|HGST HUH721212ALN604|-9.31322574615478...|          11176.0|\n",
            "|HGST HUH721010ALE600|-9.31322574615478...|           9314.0|\n",
            "|       ST10000NM0086|-9.31322574615478...|           9314.0|\n",
            "|        ST8000NM0055|-9.31322574615478...|7452.036460876465|\n",
            "+--------------------+--------------------+-----------------+\n",
            "only showing top 5 rows\n",
            "\n"
          ]
        }
      ]
    },
    {
      "cell_type": "code",
      "source": [
        "backblaze_2019.groupby(F.col(\"model\")).agg(\n",
        "    F.min(F.col(\"capacity_bytes\") / F.pow(F.lit(1024), 3)).alias(\"min_GB\"),\n",
        "    F.max(F.col(\"capacity_bytes\") / F.pow(F.lit(1024), 3)).alias(\"max_GB\"),\n",
        ").where(F.col(\"min_GB\") != F.col(\"max_GB\")).orderBy(\n",
        "    F.col(\"max_GB\"), ascending=False\n",
        ").show(\n",
        "    5\n",
        ")"
      ],
      "metadata": {
        "id": "PYVNAEuLUmip"
      },
      "execution_count": null,
      "outputs": []
    },
    {
      "cell_type": "markdown",
      "source": [
        "### Creating a view in Spark SQL and in PySpark"
      ],
      "metadata": {
        "id": "J3e2ZPO5UrCB"
      }
    },
    {
      "cell_type": "code",
      "source": [
        "backblaze_2019.createOrReplaceTempView(\"drive_stats\")\n",
        "spark.sql(\n",
        "    \"\"\"\n",
        "    CREATE OR REPLACE TEMP VIEW drive_days AS\n",
        "        SELECT model, count(*) AS drive_days\n",
        "        FROM drive_stats\n",
        "        GROUP BY model\"\"\"\n",
        ")\n",
        "\n",
        "spark.sql(\n",
        "    \"\"\"CREATE OR REPLACE TEMP VIEW failures AS\n",
        "           SELECT model, count(*) AS failures\n",
        "           FROM drive_stats\n",
        "           WHERE failure = 1\n",
        "           GROUP BY model\"\"\"\n",
        ")\n",
        "\n",
        "drive_days = backblaze_2019.groupby(F.col(\"model\")).agg(\n",
        "    F.count(F.col(\"*\")).alias(\"drive_days\")\n",
        ")\n",
        "\n",
        "failures = (\n",
        "    backblaze_2019.where(F.col(\"failure\") == 1)\n",
        "    .groupby(F.col(\"model\"))\n",
        "    .agg(F.count(F.col(\"*\")).alias(\"failures\"))\n",
        ")"
      ],
      "metadata": {
        "id": "tqOQ5AvJUtRS"
      },
      "execution_count": 37,
      "outputs": []
    },
    {
      "cell_type": "code",
      "source": [
        "# Example of Join\n",
        "spark.sql(\n",
        "    \"\"\"select\n",
        "           drive_days.model,\n",
        "           drive_days,\n",
        "           failures\n",
        "    from drive_days\n",
        "    left join failures\n",
        "    on\n",
        "        drive_days.model = failures.model\"\"\"\n",
        ").show(5)"
      ],
      "metadata": {
        "colab": {
          "base_uri": "https://localhost:8080/"
        },
        "id": "W256We6VVvm6",
        "outputId": "acfd3c66-7a29-492f-dc27-cc73a8992adb"
      },
      "execution_count": 38,
      "outputs": [
        {
          "output_type": "stream",
          "name": "stdout",
          "text": [
            "+-------------+----------+--------+\n",
            "|        model|drive_days|failures|\n",
            "+-------------+----------+--------+\n",
            "|  ST9250315AS|        89|    NULL|\n",
            "|  ST4000DM000|   1796728|      72|\n",
            "|ST12000NM0007|   3212635|     361|\n",
            "|  ST8000DM005|      2280|       1|\n",
            "|   ST320LT007|        89|    NULL|\n",
            "+-------------+----------+--------+\n",
            "only showing top 5 rows\n",
            "\n"
          ]
        }
      ]
    },
    {
      "cell_type": "code",
      "source": [
        "drive_days.join(failures, on=\"model\", how=\"left\").show(5)"
      ],
      "metadata": {
        "id": "Q5oSLTVQV2fy"
      },
      "execution_count": null,
      "outputs": []
    },
    {
      "cell_type": "code",
      "source": [
        "# Using Subqueries\n",
        "spark.sql(\n",
        "    \"\"\"\n",
        "    SELECT\n",
        "        failures.model,\n",
        "        failures / drive_days failure_rate\n",
        "    FROM (\n",
        "        SELECT\n",
        "            model,\n",
        "            count(*) AS drive_days\n",
        "        FROM drive_stats\n",
        "        GROUP BY model) drive_days\n",
        "    INNER JOIN (\n",
        "        SELECT\n",
        "            model,\n",
        "            count(*) AS failures\n",
        "        FROM drive_stats\n",
        "        WHERE failure = 1\n",
        "        GROUP BY model) failures\n",
        "    ON\n",
        "        drive_days.model = failures.model\n",
        "    ORDER BY 2 desc\n",
        "    \"\"\"\n",
        ").show(5)"
      ],
      "metadata": {
        "colab": {
          "base_uri": "https://localhost:8080/"
        },
        "id": "6bZiohh1V4_y",
        "outputId": "56bf0eea-74a0-4901-9df9-5539a17d4282"
      },
      "execution_count": 39,
      "outputs": [
        {
          "output_type": "stream",
          "name": "stdout",
          "text": [
            "+------------------+--------------------+\n",
            "|             model|        failure_rate|\n",
            "+------------------+--------------------+\n",
            "|     ST12000NM0117|0.019305019305019305|\n",
            "|TOSHIBA MQ01ABF050|5.579360828423496E-4|\n",
            "|       ST8000DM005|4.385964912280702E-4|\n",
            "|        ST500LM030| 4.19639110365086E-4|\n",
            "|     ST500LM012 HN|1.511585221015353...|\n",
            "+------------------+--------------------+\n",
            "only showing top 5 rows\n",
            "\n"
          ]
        }
      ]
    },
    {
      "cell_type": "markdown",
      "source": [
        "Subqueries are cool but can be hard to read and debug, since you are adding complexity into the main query. This is where common table expressions, or CTEs, are especially useful. A CTE is a table definition, just like in the subquery case. The difference here is that you put them at the top of your main statement (before your main SELECT) and prefix with the word WITH."
      ],
      "metadata": {
        "id": "6fzdPEXDWCQD"
      }
    },
    {
      "cell_type": "code",
      "source": [
        "spark.sql(\n",
        "    \"\"\"\n",
        "    WITH drive_days as (\n",
        "        SELECT\n",
        "            model,\n",
        "            count(*) AS drive_days\n",
        "        FROM drive_stats\n",
        "        GROUP BY model),\n",
        "    failures as (\n",
        "        SELECT\n",
        "            model,\n",
        "            count(*) AS failures\n",
        "        FROM drive_stats\n",
        "        WHERE failure = 1\n",
        "        GROUP BY model)\n",
        "    SELECT\n",
        "        failures.model,\n",
        "        failures / drive_days failure_rate\n",
        "    FROM drive_days\n",
        "    INNER JOIN failures\n",
        "    ON\n",
        "        drive_days.model = failures.model\n",
        "    ORDER BY 2 desc\n",
        "    \"\"\"\n",
        ").show(5)"
      ],
      "metadata": {
        "id": "3_YT6c9GWAaR"
      },
      "execution_count": null,
      "outputs": []
    },
    {
      "cell_type": "markdown",
      "source": [
        "In Python, a good alternative is to wrap statements in a function. Any intermediate variable created in the scope of the function would not be kept once the function returns"
      ],
      "metadata": {
        "id": "GO6Y1hgAWNwR"
      }
    },
    {
      "cell_type": "code",
      "source": [
        "def failure_rate(drive_stats):\n",
        "    drive_days = drive_stats.groupby(F.col(\"model\")).agg(\n",
        "        F.count(F.col(\"*\")).alias(\"drive_days\")\n",
        "    )\n",
        "    failures = (\n",
        "        drive_stats.where(F.col(\"failure\") == 1)\n",
        "        .groupby(F.col(\"model\"))\n",
        "        .agg(F.count(F.col(\"*\")).alias(\"failures\"))\n",
        "    )\n",
        "    answer = (\n",
        "        drive_days.join(failures, on=\"model\", how=\"inner\")\n",
        "        .withColumn(\"failure_rate\", F.col(\"failures\") / F.col(\"drive_days\"))\n",
        "        .orderBy(F.col(\"failure_rate\").desc())\n",
        "    )\n",
        "    return answer\n",
        "\n",
        "\n",
        "failure_rate(backblaze_2019).show(5)\n",
        "\n",
        "print(\"drive_days\" in dir())"
      ],
      "metadata": {
        "id": "SkLRbsLjV-VC"
      },
      "execution_count": null,
      "outputs": []
    },
    {
      "cell_type": "markdown",
      "source": [
        "# Using RDD"
      ],
      "metadata": {
        "id": "hQte_4HnYGfp"
      }
    },
    {
      "cell_type": "markdown",
      "source": [
        "![image.png](data:image/png;base64,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)"
      ],
      "metadata": {
        "id": "rYkS4rCYYJOk"
      }
    },
    {
      "cell_type": "code",
      "source": [
        "from pyspark.sql import SparkSession\n",
        "spark = SparkSession.builder.getOrCreate()\n",
        "collection = [1, \"two\", 3.0, (\"four\", 4), {\"five\": 5}]\n",
        "sc = spark.sparkContext\n",
        "collection_rdd = sc.parallelize(collection)\n",
        "print(collection_rdd)"
      ],
      "metadata": {
        "id": "rbJDkevKYFvx",
        "outputId": "4344e408-be93-4a1c-80ec-647b51b77b4b",
        "colab": {
          "base_uri": "https://localhost:8080/"
        }
      },
      "execution_count": 40,
      "outputs": [
        {
          "output_type": "stream",
          "name": "stdout",
          "text": [
            "ParallelCollectionRDD[115] at readRDDFromFile at PythonRDD.scala:289\n"
          ]
        }
      ]
    },
    {
      "cell_type": "code",
      "source": [
        "def safer_add_one(value):\n",
        "    try:\n",
        "        return value + 1\n",
        "    except TypeError:\n",
        "        return value\n",
        "collection_rdd = collection_rdd.map(safer_add_one)\n",
        "\n",
        "print(collection_rdd.collect())"
      ],
      "metadata": {
        "id": "N5QKzo8qYTDy",
        "outputId": "91007915-204c-404e-f0aa-21352700ab0b",
        "colab": {
          "base_uri": "https://localhost:8080/"
        }
      },
      "execution_count": 41,
      "outputs": [
        {
          "output_type": "stream",
          "name": "stdout",
          "text": [
            "[2, 'two', 4.0, ('four', 4), {'five': 5}]\n"
          ]
        }
      ]
    },
    {
      "cell_type": "code",
      "source": [
        "# Filtering\n",
        "collection_rdd = collection_rdd.filter(\n",
        "    lambda elem: isinstance(elem, (float, int))\n",
        ")\n",
        "\n",
        "print(collection_rdd.collect())"
      ],
      "metadata": {
        "id": "7SnUFVHJYZmG",
        "outputId": "6900653f-946a-4b6a-93fd-7c5916bf8630",
        "colab": {
          "base_uri": "https://localhost:8080/"
        }
      },
      "execution_count": 42,
      "outputs": [
        {
          "output_type": "stream",
          "name": "stdout",
          "text": [
            "[2, 4.0]\n"
          ]
        }
      ]
    },
    {
      "cell_type": "markdown",
      "source": [
        "## Reduce"
      ],
      "metadata": {
        "id": "LTBY_AeIYk3L"
      }
    },
    {
      "cell_type": "markdown",
      "source": [
        "![image.png](data:image/png;base64,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)"
      ],
      "metadata": {
        "id": "xTYqJTPAYmWq"
      }
    },
    {
      "cell_type": "code",
      "source": [
        "from operator import add\n",
        "collection_rdd = sc.parallelize([4, 7, 9, 1, 3])\n",
        "print(collection_rdd.reduce(add))"
      ],
      "metadata": {
        "id": "gbvDwKFeYexL",
        "outputId": "cf75889b-8578-4c8d-bb70-46590bb64ebb",
        "colab": {
          "base_uri": "https://localhost:8080/"
        }
      },
      "execution_count": 43,
      "outputs": [
        {
          "output_type": "stream",
          "name": "stdout",
          "text": [
            "24\n"
          ]
        }
      ]
    },
    {
      "cell_type": "code",
      "source": [],
      "metadata": {
        "id": "KQiICCZDYtNq"
      },
      "execution_count": null,
      "outputs": []
    }
  ]
}