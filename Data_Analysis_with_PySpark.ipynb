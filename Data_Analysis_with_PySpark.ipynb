{
  "nbformat": 4,
  "nbformat_minor": 0,
  "metadata": {
    "colab": {
      "provenance": [],
      "collapsed_sections": [
        "kkSXsFae8Cct",
        "7AYS0MlUvfrI",
        "WNaboQo22HOW",
        "2fj4XecA5nX_",
        "fUjc4g4xHE7p",
        "D6Syynf5QCxB",
        "0k8qNqs2T2a0",
        "jzlxJnZ6bNcq"
      ],
      "toc_visible": true,
      "include_colab_link": true
    },
    "kernelspec": {
      "name": "python3",
      "display_name": "Python 3"
    },
    "language_info": {
      "name": "python"
    }
  },
  "cells": [
    {
      "cell_type": "markdown",
      "metadata": {
        "id": "view-in-github",
        "colab_type": "text"
      },
      "source": [
        "<a href=\"https://colab.research.google.com/github/thimotyb/spark-notebooks/blob/main/Data_Analysis_with_PySpark.ipynb\" target=\"_parent\"><img src=\"https://colab.research.google.com/assets/colab-badge.svg\" alt=\"Open In Colab\"/></a>"
      ]
    },
    {
      "cell_type": "markdown",
      "metadata": {
        "id": "32fjpkeS-nYP"
      },
      "source": [
        "#Data Analysis with PySpark in Google Colab\n",
        "\n",
        "PySpark is Python interface for Apache Spark. The primary use cases for PySpark are to work with huge amounts of data and for creating data pipelines.\n",
        "\n",
        "You don't need to work with big data to benefit from PySpark. I find that the SparkSQL is a great tool for performing routine data anlysis. Pandas can get slow and you may find yourself writing a lot of code for data cleaning whereas the same actions take much less code in SQL. Let's get started!\n",
        "\n",
        "See more here! http://spark.apache.org/docs/latest/api/python/"
      ]
    },
    {
      "cell_type": "markdown",
      "metadata": {
        "id": "m9yXqV3LigUA"
      },
      "source": [
        "# 1. Installing PySpark in Google Colab"
      ]
    },
    {
      "cell_type": "code",
      "metadata": {
        "colab": {
          "base_uri": "https://localhost:8080/",
          "height": 1000
        },
        "id": "hxv7w_2y2bb9",
        "outputId": "8dcc5cb0-7567-482d-d4b7-dfb6f55ffeee"
      },
      "source": [
        "!sudo apt update\n",
        "!apt-get install openjdk-8-jdk-headless -qq > /dev/null\n",
        "#Check this site for the latest download link https://www.apache.org/dyn/closer.lua/spark/spark-3.2.1/spark-3.2.1-bin-hadoop3.2.tgz\n",
        "#  https://archive.apache.org/dist/spark/spark-3.2.1/spark-3.2.1-bin-hadoop3.2.tgz\n",
        "!wget https://archive.apache.org/dist/spark/spark-3.2.1/spark-3.2.1-bin-hadoop3.2.tgz\n",
        "!tar xf spark-3.2.1-bin-hadoop3.2.tgz\n",
        "!pip install -q findspark\n",
        "!pip install pyspark\n",
        "!pip install py4j\n",
        "\n",
        "import os\n",
        "import sys\n",
        "# os.environ[\"JAVA_HOME\"] = \"/usr/lib/jvm/java-8-openjdk-amd64\"\n",
        "# os.environ[\"SPARK_HOME\"] = \"/content/spark-3.2.1-bin-hadoop3.2\"\n",
        "\n",
        "\n",
        "import findspark\n",
        "findspark.init()\n",
        "findspark.find()\n",
        "\n",
        "import pyspark\n",
        "\n",
        "from pyspark.sql import DataFrame, SparkSession\n",
        "from typing import List\n",
        "import pyspark.sql.types as T\n",
        "import pyspark.sql.functions as F\n",
        "\n",
        "spark= SparkSession \\\n",
        "       .builder \\\n",
        "       .appName(\"Our First Spark Example\") \\\n",
        "       .getOrCreate()\n",
        "\n",
        "spark"
      ],
      "execution_count": 1,
      "outputs": [
        {
          "output_type": "stream",
          "name": "stdout",
          "text": [
            "\u001b[33m\r0% [Working]\u001b[0m\r            \rGet:1 http://security.ubuntu.com/ubuntu jammy-security InRelease [129 kB]\n",
            "\u001b[33m\r0% [Connecting to archive.ubuntu.com (185.125.190.83)] [1 InRelease 0 B/129 kB \u001b[0m\r                                                                               \rGet:2 https://cloud.r-project.org/bin/linux/ubuntu jammy-cran40/ InRelease [3,626 B]\n",
            "\u001b[33m\r0% [Connecting to archive.ubuntu.com (185.125.190.83)] [1 InRelease 75.0 kB/129\u001b[0m\r                                                                               \rGet:3 https://developer.download.nvidia.com/compute/cuda/repos/ubuntu2204/x86_64  InRelease [1,581 B]\n",
            "\u001b[33m\r0% [Waiting for headers] [1 InRelease 111 kB/129 kB 86%] [Waiting for headers] \u001b[0m\u001b[33m\r0% [Waiting for headers] [Waiting for headers] [Connecting to ppa.launchpadcont\u001b[0m\r                                                                               \rIgn:4 https://r2u.stat.illinois.edu/ubuntu jammy InRelease\n",
            "\u001b[33m\r0% [Waiting for headers] [Connected to ppa.launchpadcontent.net (185.125.190.80\u001b[0m\r                                                                               \rHit:5 http://archive.ubuntu.com/ubuntu jammy InRelease\n",
            "Get:6 https://r2u.stat.illinois.edu/ubuntu jammy Release [5,713 B]\n",
            "Get:7 https://r2u.stat.illinois.edu/ubuntu jammy Release.gpg [793 B]\n",
            "Get:8 http://archive.ubuntu.com/ubuntu jammy-updates InRelease [128 kB]\n",
            "Hit:9 http://archive.ubuntu.com/ubuntu jammy-backports InRelease\n",
            "Get:10 https://developer.download.nvidia.com/compute/cuda/repos/ubuntu2204/x86_64  Packages [1,031 kB]\n",
            "Get:11 https://ppa.launchpadcontent.net/deadsnakes/ppa/ubuntu jammy InRelease [18.1 kB]\n",
            "Hit:12 https://ppa.launchpadcontent.net/graphics-drivers/ppa/ubuntu jammy InRelease\n",
            "Hit:13 https://ppa.launchpadcontent.net/ubuntugis/ppa/ubuntu jammy InRelease\n",
            "Get:14 http://security.ubuntu.com/ubuntu jammy-security/restricted amd64 Packages [3,122 kB]\n",
            "Get:15 http://security.ubuntu.com/ubuntu jammy-security/main amd64 Packages [2,325 kB]\n",
            "Get:16 http://security.ubuntu.com/ubuntu jammy-security/universe amd64 Packages [1,160 kB]\n",
            "Get:17 https://r2u.stat.illinois.edu/ubuntu jammy/main amd64 Packages [2,592 kB]\n",
            "Get:18 https://r2u.stat.illinois.edu/ubuntu jammy/main all Packages [8,379 kB]\n",
            "Get:19 http://archive.ubuntu.com/ubuntu jammy-updates/main amd64 Packages [2,602 kB]\n",
            "Get:20 http://archive.ubuntu.com/ubuntu jammy-updates/universe amd64 Packages [1,448 kB]\n",
            "Get:21 http://archive.ubuntu.com/ubuntu jammy-updates/restricted amd64 Packages [3,200 kB]\n",
            "Get:22 https://ppa.launchpadcontent.net/deadsnakes/ppa/ubuntu jammy/main amd64 Packages [27.8 kB]\n",
            "Fetched 26.2 MB in 9s (2,792 kB/s)\n",
            "Reading package lists... Done\n",
            "Building dependency tree... Done\n",
            "Reading state information... Done\n",
            "49 packages can be upgraded. Run 'apt list --upgradable' to see them.\n",
            "\u001b[1;33mW: \u001b[0mSkipping acquire of configured file 'main/source/Sources' as repository 'https://r2u.stat.illinois.edu/ubuntu jammy InRelease' does not seem to provide it (sources.list entry misspelt?)\u001b[0m\n",
            "--2024-10-10 15:33:02--  https://archive.apache.org/dist/spark/spark-3.2.1/spark-3.2.1-bin-hadoop3.2.tgz\n",
            "Resolving archive.apache.org (archive.apache.org)... 65.108.204.189, 2a01:4f9:1a:a084::2\n",
            "Connecting to archive.apache.org (archive.apache.org)|65.108.204.189|:443... connected.\n",
            "HTTP request sent, awaiting response... 200 OK\n",
            "Length: 300971569 (287M) [application/x-gzip]\n",
            "Saving to: ‘spark-3.2.1-bin-hadoop3.2.tgz’\n",
            "\n",
            "spark-3.2.1-bin-had 100%[===================>] 287.03M   621KB/s    in 8m 49s  \n",
            "\n",
            "2024-10-10 15:41:52 (556 KB/s) - ‘spark-3.2.1-bin-hadoop3.2.tgz’ saved [300971569/300971569]\n",
            "\n",
            "Collecting pyspark\n",
            "  Downloading pyspark-3.5.3.tar.gz (317.3 MB)\n",
            "\u001b[2K     \u001b[90m━━━━━━━━━━━━━━━━━━━━━━━━━━━━━━━━━━━━━━━━\u001b[0m \u001b[32m317.3/317.3 MB\u001b[0m \u001b[31m4.7 MB/s\u001b[0m eta \u001b[36m0:00:00\u001b[0m\n",
            "\u001b[?25h  Preparing metadata (setup.py) ... \u001b[?25l\u001b[?25hdone\n",
            "Requirement already satisfied: py4j==0.10.9.7 in /usr/local/lib/python3.10/dist-packages (from pyspark) (0.10.9.7)\n",
            "Building wheels for collected packages: pyspark\n",
            "  Building wheel for pyspark (setup.py) ... \u001b[?25l\u001b[?25hdone\n",
            "  Created wheel for pyspark: filename=pyspark-3.5.3-py2.py3-none-any.whl size=317840625 sha256=1485302e60b3e74ba05798d5d7a6ac8aa554039d8ed2f08f87360a46c2cbc96b\n",
            "  Stored in directory: /root/.cache/pip/wheels/1b/3a/92/28b93e2fbfdbb07509ca4d6f50c5e407f48dce4ddbda69a4ab\n",
            "Successfully built pyspark\n",
            "Installing collected packages: pyspark\n",
            "Successfully installed pyspark-3.5.3\n",
            "Requirement already satisfied: py4j in /usr/local/lib/python3.10/dist-packages (0.10.9.7)\n"
          ]
        },
        {
          "output_type": "execute_result",
          "data": {
            "text/plain": [
              "<pyspark.sql.session.SparkSession at 0x7e51b827b2e0>"
            ],
            "text/html": [
              "\n",
              "            <div>\n",
              "                <p><b>SparkSession - in-memory</b></p>\n",
              "                \n",
              "        <div>\n",
              "            <p><b>SparkContext</b></p>\n",
              "\n",
              "            <p><a href=\"http://a06fa5b3793a:4040\">Spark UI</a></p>\n",
              "\n",
              "            <dl>\n",
              "              <dt>Version</dt>\n",
              "                <dd><code>v3.5.3</code></dd>\n",
              "              <dt>Master</dt>\n",
              "                <dd><code>local[*]</code></dd>\n",
              "              <dt>AppName</dt>\n",
              "                <dd><code>Our First Spark Example</code></dd>\n",
              "            </dl>\n",
              "        </div>\n",
              "        \n",
              "            </div>\n",
              "        "
            ]
          },
          "metadata": {},
          "execution_count": 1
        }
      ]
    },
    {
      "cell_type": "code",
      "metadata": {
        "colab": {
          "base_uri": "https://localhost:8080/",
          "height": 219
        },
        "id": "hcOCBgQo2Pqf",
        "outputId": "97b82dae-5fb6-4c7b-9bef-1af71f14f23c"
      },
      "source": [
        "spark"
      ],
      "execution_count": null,
      "outputs": [
        {
          "output_type": "execute_result",
          "data": {
            "text/plain": [
              "<pyspark.sql.session.SparkSession at 0x78b8841a30d0>"
            ],
            "text/html": [
              "\n",
              "            <div>\n",
              "                <p><b>SparkSession - in-memory</b></p>\n",
              "                \n",
              "        <div>\n",
              "            <p><b>SparkContext</b></p>\n",
              "\n",
              "            <p><a href=\"http://7c81f60acd8e:4040\">Spark UI</a></p>\n",
              "\n",
              "            <dl>\n",
              "              <dt>Version</dt>\n",
              "                <dd><code>v3.5.3</code></dd>\n",
              "              <dt>Master</dt>\n",
              "                <dd><code>local[*]</code></dd>\n",
              "              <dt>AppName</dt>\n",
              "                <dd><code>Our First Spark Example</code></dd>\n",
              "            </dl>\n",
              "        </div>\n",
              "        \n",
              "            </div>\n",
              "        "
            ]
          },
          "metadata": {},
          "execution_count": 2
        }
      ]
    },
    {
      "cell_type": "code",
      "source": [
        "# Get more example data\n",
        "!git clone https://github.com/thimotyb/DataAnalysisWithPythonAndPySpark-Data.git"
      ],
      "metadata": {
        "colab": {
          "base_uri": "https://localhost:8080/"
        },
        "id": "pYX_v49bIXYR",
        "outputId": "db0813d4-debe-4290-f85c-a5ba9169acd5"
      },
      "execution_count": 2,
      "outputs": [
        {
          "output_type": "stream",
          "name": "stdout",
          "text": [
            "Cloning into 'DataAnalysisWithPythonAndPySpark-Data'...\n",
            "remote: Enumerating objects: 71, done.\u001b[K\n",
            "remote: Total 71 (delta 0), reused 0 (delta 0), pack-reused 71 (from 1)\u001b[K\n",
            "Receiving objects: 100% (71/71), 828.81 MiB | 26.14 MiB/s, done.\n",
            "Updating files: 100% (59/59), done.\n"
          ]
        }
      ]
    },
    {
      "cell_type": "code",
      "source": [
        "!mv DataAnalysisWithPythonAndPySpark-Data /content/data"
      ],
      "metadata": {
        "id": "jg40eTP6IwfR"
      },
      "execution_count": 5,
      "outputs": []
    },
    {
      "cell_type": "markdown",
      "source": [
        "# PySpark Data Analysis Examples"
      ],
      "metadata": {
        "id": "GbnrZrIcJZ-f"
      }
    },
    {
      "cell_type": "markdown",
      "source": [
        "## WordCount Example"
      ],
      "metadata": {
        "id": "9Yu2tpSDJl2w"
      }
    },
    {
      "cell_type": "code",
      "source": [
        "from pyspark.sql import SparkSession\n",
        "from pyspark.sql.functions import col, split, explode, lower, regexp_extract\n",
        "\n",
        "spark = SparkSession.builder.getOrCreate()\n",
        "\n",
        "book = spark.read.text(\"data/gutenberg_books/1342-0.txt\")\n",
        "\n",
        "lines = book.select(split(book.value, \" \").alias(\"line\"))\n",
        "\n",
        "words = lines.select(explode(col(\"line\")).alias(\"word\"))\n",
        "\n",
        "words_lower = words.select(lower(col(\"word\")).alias(\"word_lower\"))\n",
        "\n",
        "words_clean = words_lower.select(\n",
        "    regexp_extract(col(\"word_lower\"), \"[a-z]*\", 0).alias(\"word\")\n",
        ")\n",
        "\n",
        "words_nonull = words_clean.where(col(\"word\") != \"\")"
      ],
      "metadata": {
        "id": "zo8SK4fQeMUQ"
      },
      "execution_count": null,
      "outputs": []
    },
    {
      "cell_type": "code",
      "source": [
        "words_nonull.show(50)"
      ],
      "metadata": {
        "colab": {
          "base_uri": "https://localhost:8080/"
        },
        "id": "vOiTP37IJr4d",
        "outputId": "31b4b615-3fb6-4ed6-a103-ae126bdca856"
      },
      "execution_count": null,
      "outputs": [
        {
          "output_type": "stream",
          "name": "stdout",
          "text": [
            "+------------+\n",
            "|        word|\n",
            "+------------+\n",
            "|         the|\n",
            "|     project|\n",
            "|   gutenberg|\n",
            "|       ebook|\n",
            "|          of|\n",
            "|       pride|\n",
            "|         and|\n",
            "|   prejudice|\n",
            "|          by|\n",
            "|        jane|\n",
            "|      austen|\n",
            "|        this|\n",
            "|       ebook|\n",
            "|          is|\n",
            "|         for|\n",
            "|         the|\n",
            "|         use|\n",
            "|          of|\n",
            "|      anyone|\n",
            "|    anywhere|\n",
            "|          at|\n",
            "|          no|\n",
            "|        cost|\n",
            "|         and|\n",
            "|        with|\n",
            "|      almost|\n",
            "|          no|\n",
            "|restrictions|\n",
            "|  whatsoever|\n",
            "|         you|\n",
            "|         may|\n",
            "|        copy|\n",
            "|          it|\n",
            "|        give|\n",
            "|          it|\n",
            "|        away|\n",
            "|          or|\n",
            "|          re|\n",
            "|          it|\n",
            "|       under|\n",
            "|         the|\n",
            "|       terms|\n",
            "|          of|\n",
            "|         the|\n",
            "|     project|\n",
            "|   gutenberg|\n",
            "|     license|\n",
            "|    included|\n",
            "|        with|\n",
            "|        this|\n",
            "+------------+\n",
            "only showing top 50 rows\n",
            "\n"
          ]
        }
      ]
    },
    {
      "cell_type": "code",
      "source": [
        "from pyspark.sql import SparkSession\n",
        "import pyspark.sql.functions as F\n",
        "\n",
        "spark = SparkSession.builder.getOrCreate()"
      ],
      "metadata": {
        "id": "adUmVrJuyUzs"
      },
      "execution_count": null,
      "outputs": []
    },
    {
      "cell_type": "code",
      "source": [
        "(\n",
        "    spark.read.csv(\"./data/list_of_numbers/sample.csv\", header=True)\n",
        "    .withColumn(\n",
        "        \"new_column\", F.when(F.col(\"old_column\") > 10, 10).otherwise(0)\n",
        "    )\n",
        "    .where(\"old_column > 8\")\n",
        "    .groupby(\"new_column\")\n",
        "    .count()\n",
        "    .write.csv(\"updated_frequencies.csv\", mode=\"overwrite\")\n",
        ")"
      ],
      "metadata": {
        "id": "NfUYt0kzJwXE"
      },
      "execution_count": null,
      "outputs": []
    },
    {
      "cell_type": "markdown",
      "source": [
        "# Using PySpark"
      ],
      "metadata": {
        "id": "BzXd7IaJh_fm"
      }
    },
    {
      "cell_type": "code",
      "source": [
        "from pyspark.sql import SparkSession\n",
        "import pyspark.sql.functions as F\n",
        "\n",
        "spark = SparkSession.builder.getOrCreate()"
      ],
      "metadata": {
        "id": "xl-mJ8PYMlrs"
      },
      "execution_count": null,
      "outputs": []
    },
    {
      "cell_type": "code",
      "source": [
        "my_grocery_list = [\n",
        "    [\"Banana\", 2, 1.74],\n",
        "    [\"Apple\", 4, 2.04],\n",
        "    [\"Carrot\", 1, 1.09],\n",
        "    [\"Cake\", 1, 10.99],\n",
        "]\n",
        "\n",
        "df_grocery_list = spark.createDataFrame(\n",
        "    my_grocery_list, [\"Item\", \"Quantity\", \"Price\"]\n",
        ")\n",
        "\n",
        "df_grocery_list.printSchema()"
      ],
      "metadata": {
        "colab": {
          "base_uri": "https://localhost:8080/"
        },
        "id": "sVdQbz_DlPvT",
        "outputId": "96de9379-7585-4ff0-c61f-45e352df9cb4"
      },
      "execution_count": null,
      "outputs": [
        {
          "output_type": "stream",
          "name": "stdout",
          "text": [
            "root\n",
            " |-- Item: string (nullable = true)\n",
            " |-- Quantity: long (nullable = true)\n",
            " |-- Price: double (nullable = true)\n",
            "\n"
          ]
        }
      ]
    },
    {
      "cell_type": "code",
      "source": [
        "df_grocery_list.select(\"Item\", \"Price\").where(\"Price > 2\").show()"
      ],
      "metadata": {
        "colab": {
          "base_uri": "https://localhost:8080/"
        },
        "id": "ge91tFVWlbYj",
        "outputId": "83c65265-f9bb-4a65-b21e-24138544c7b8"
      },
      "execution_count": null,
      "outputs": [
        {
          "output_type": "stream",
          "name": "stdout",
          "text": [
            "+-----+-----+\n",
            "| Item|Price|\n",
            "+-----+-----+\n",
            "|Apple| 2.04|\n",
            "| Cake|10.99|\n",
            "+-----+-----+\n",
            "\n"
          ]
        }
      ]
    },
    {
      "cell_type": "code",
      "source": [
        "DIRECTORY = \"data/broadcast_logs\"\n",
        "logs = (\n",
        "    spark.read.csv(\n",
        "        os.path.join(DIRECTORY, \"BroadcastLogs_2018_Q3_M8_sample.CSV\"),\n",
        "        sep=\"|\",\n",
        "        header=True,\n",
        "        inferSchema=True,\n",
        "        timestampFormat=\"yyyy-MM-dd\",\n",
        "    ))"
      ],
      "metadata": {
        "id": "Y4p-MUL_zmp1"
      },
      "execution_count": null,
      "outputs": []
    },
    {
      "cell_type": "code",
      "source": [
        "logs.select(\"BroadcastLogID\", \"LogServiceID\", \"LogDate\").show(5, False)"
      ],
      "metadata": {
        "id": "HyKUBvyDzqEy",
        "outputId": "f599ef77-215c-41e2-f2cc-6f1e7496799d",
        "colab": {
          "base_uri": "https://localhost:8080/"
        }
      },
      "execution_count": null,
      "outputs": [
        {
          "output_type": "stream",
          "name": "stdout",
          "text": [
            "+--------------+------------+----------+\n",
            "|BroadcastLogID|LogServiceID|LogDate   |\n",
            "+--------------+------------+----------+\n",
            "|1196192316    |3157        |2018-08-01|\n",
            "|1196192317    |3157        |2018-08-01|\n",
            "|1196192318    |3157        |2018-08-01|\n",
            "|1196192319    |3157        |2018-08-01|\n",
            "|1196192320    |3157        |2018-08-01|\n",
            "+--------------+------------+----------+\n",
            "only showing top 5 rows\n",
            "\n"
          ]
        }
      ]
    },
    {
      "cell_type": "code",
      "source": [
        "# Using the string to column conversion\n",
        "logs.select(\"BroadCastLogID\", \"LogServiceID\", \"LogDate\")\n",
        "logs.select(*[\"BroadCastLogID\", \"LogServiceID\", \"LogDate\"])\n",
        "\n",
        "# Passing the column object explicitly\n",
        "logs.select(\n",
        "    F.col(\"BroadCastLogID\"), F.col(\"LogServiceID\"), F.col(\"LogDate\")\n",
        ")\n",
        "logs.select(\n",
        "    *[F.col(\"BroadCastLogID\"), F.col(\"LogServiceID\"), F.col(\"LogDate\")]\n",
        ")"
      ],
      "metadata": {
        "id": "GcLHRBl2z4Rj",
        "outputId": "6aae6021-65c3-47fd-c171-4246fd2bc4ee",
        "colab": {
          "base_uri": "https://localhost:8080/"
        }
      },
      "execution_count": null,
      "outputs": [
        {
          "output_type": "execute_result",
          "data": {
            "text/plain": [
              "DataFrame[BroadCastLogID: int, LogServiceID: int, LogDate: date]"
            ]
          },
          "metadata": {},
          "execution_count": 23
        }
      ]
    },
    {
      "cell_type": "code",
      "source": [
        "import numpy as np\n",
        "\n",
        "column_split = np.array_split(\n",
        "    np.array(logs.columns), len(logs.columns) // 3\n",
        ")"
      ],
      "metadata": {
        "id": "sLu6nalx1HGy"
      },
      "execution_count": null,
      "outputs": []
    },
    {
      "cell_type": "code",
      "source": [
        "column_split"
      ],
      "metadata": {
        "id": "mOHLh-vs1Kkc",
        "outputId": "a5e2a5cb-5be3-43f9-8dd2-e9bfd229d754",
        "colab": {
          "base_uri": "https://localhost:8080/"
        }
      },
      "execution_count": null,
      "outputs": [
        {
          "output_type": "execute_result",
          "data": {
            "text/plain": [
              "[array(['BroadcastLogID', 'LogServiceID', 'LogDate'], dtype='<U22'),\n",
              " array(['SequenceNO', 'AudienceTargetAgeID', 'AudienceTargetEthnicID'],\n",
              "       dtype='<U22'),\n",
              " array(['CategoryID', 'ClosedCaptionID', 'CountryOfOriginID'], dtype='<U22'),\n",
              " array(['DubDramaCreditID', 'EthnicProgramID', 'ProductionSourceID'],\n",
              "       dtype='<U22'),\n",
              " array(['ProgramClassID', 'FilmClassificationID', 'ExhibitionID'],\n",
              "       dtype='<U22'),\n",
              " array(['Duration', 'EndTime', 'LogEntryDate'], dtype='<U22'),\n",
              " array(['ProductionNO', 'ProgramTitle', 'StartTime'], dtype='<U22'),\n",
              " array(['Subtitle', 'NetworkAffiliationID', 'SpecialAttentionID'],\n",
              "       dtype='<U22'),\n",
              " array(['BroadcastOriginPointID', 'CompositionID', 'Producer1'],\n",
              "       dtype='<U22'),\n",
              " array(['Producer2', 'Language1', 'Language2'], dtype='<U22')]"
            ]
          },
          "metadata": {},
          "execution_count": 25
        }
      ]
    },
    {
      "cell_type": "code",
      "source": [
        "for x in column_split:\n",
        "    logs.select(*x).show(5, False)"
      ],
      "metadata": {
        "id": "HhtKh_tt1NG8",
        "outputId": "cd64319a-e54f-4720-86c9-a2932d3fe838",
        "colab": {
          "base_uri": "https://localhost:8080/"
        }
      },
      "execution_count": null,
      "outputs": [
        {
          "output_type": "stream",
          "name": "stdout",
          "text": [
            "+--------------+------------+----------+\n",
            "|BroadcastLogID|LogServiceID|LogDate   |\n",
            "+--------------+------------+----------+\n",
            "|1196192316    |3157        |2018-08-01|\n",
            "|1196192317    |3157        |2018-08-01|\n",
            "|1196192318    |3157        |2018-08-01|\n",
            "|1196192319    |3157        |2018-08-01|\n",
            "|1196192320    |3157        |2018-08-01|\n",
            "+--------------+------------+----------+\n",
            "only showing top 5 rows\n",
            "\n",
            "+----------+-------------------+----------------------+\n",
            "|SequenceNO|AudienceTargetAgeID|AudienceTargetEthnicID|\n",
            "+----------+-------------------+----------------------+\n",
            "|1         |4                  |NULL                  |\n",
            "|2         |NULL               |NULL                  |\n",
            "|3         |NULL               |NULL                  |\n",
            "|4         |NULL               |NULL                  |\n",
            "|5         |NULL               |NULL                  |\n",
            "+----------+-------------------+----------------------+\n",
            "only showing top 5 rows\n",
            "\n",
            "+----------+---------------+-----------------+\n",
            "|CategoryID|ClosedCaptionID|CountryOfOriginID|\n",
            "+----------+---------------+-----------------+\n",
            "|13        |3              |3                |\n",
            "|NULL      |1              |NULL             |\n",
            "|NULL      |1              |NULL             |\n",
            "|NULL      |1              |NULL             |\n",
            "|NULL      |1              |NULL             |\n",
            "+----------+---------------+-----------------+\n",
            "only showing top 5 rows\n",
            "\n",
            "+----------------+---------------+------------------+\n",
            "|DubDramaCreditID|EthnicProgramID|ProductionSourceID|\n",
            "+----------------+---------------+------------------+\n",
            "|NULL            |NULL           |10                |\n",
            "|NULL            |NULL           |NULL              |\n",
            "|NULL            |NULL           |NULL              |\n",
            "|NULL            |NULL           |NULL              |\n",
            "|NULL            |NULL           |NULL              |\n",
            "+----------------+---------------+------------------+\n",
            "only showing top 5 rows\n",
            "\n",
            "+--------------+--------------------+------------+\n",
            "|ProgramClassID|FilmClassificationID|ExhibitionID|\n",
            "+--------------+--------------------+------------+\n",
            "|19            |NULL                |2           |\n",
            "|20            |NULL                |NULL        |\n",
            "|3             |NULL                |NULL        |\n",
            "|3             |NULL                |NULL        |\n",
            "|3             |NULL                |NULL        |\n",
            "+--------------+--------------------+------------+\n",
            "only showing top 5 rows\n",
            "\n",
            "+----------------+----------------+------------+\n",
            "|Duration        |EndTime         |LogEntryDate|\n",
            "+----------------+----------------+------------+\n",
            "|02:00:00.0000000|08:00:00.0000000|2018-08-01  |\n",
            "|00:00:30.0000000|06:13:45.0000000|2018-08-01  |\n",
            "|00:00:15.0000000|06:14:00.0000000|2018-08-01  |\n",
            "|00:00:15.0000000|06:14:15.0000000|2018-08-01  |\n",
            "|00:00:15.0000000|06:14:30.0000000|2018-08-01  |\n",
            "+----------------+----------------+------------+\n",
            "only showing top 5 rows\n",
            "\n",
            "+------------+-------------------------------------------+----------------+\n",
            "|ProductionNO|ProgramTitle                               |StartTime       |\n",
            "+------------+-------------------------------------------+----------------+\n",
            "|A39082      |Newlywed and Dead                          |06:00:00.0000000|\n",
            "|NULL        |15-SPECIALTY CHANNELS-Canadian Generic     |06:13:15.0000000|\n",
            "|NULL        |3-PROCTER & GAMBLE INC-Anti-Perspirant 3rd |06:13:45.0000000|\n",
            "|NULL        |12-CREDIT KARMA-Bank/Credit Union/Trust 3rd|06:14:00.0000000|\n",
            "|NULL        |3-L'OREAL CANADA-Hair Products 3rd         |06:14:15.0000000|\n",
            "+------------+-------------------------------------------+----------------+\n",
            "only showing top 5 rows\n",
            "\n",
            "+--------+--------------------+------------------+\n",
            "|Subtitle|NetworkAffiliationID|SpecialAttentionID|\n",
            "+--------+--------------------+------------------+\n",
            "|NULL    |NULL                |NULL              |\n",
            "|NULL    |NULL                |NULL              |\n",
            "|NULL    |NULL                |NULL              |\n",
            "|NULL    |NULL                |NULL              |\n",
            "|NULL    |NULL                |NULL              |\n",
            "+--------+--------------------+------------------+\n",
            "only showing top 5 rows\n",
            "\n",
            "+----------------------+-------------+---------+\n",
            "|BroadcastOriginPointID|CompositionID|Producer1|\n",
            "+----------------------+-------------+---------+\n",
            "|NULL                  |NULL         |NULL     |\n",
            "|NULL                  |NULL         |NULL     |\n",
            "|NULL                  |NULL         |NULL     |\n",
            "|NULL                  |NULL         |NULL     |\n",
            "|NULL                  |NULL         |NULL     |\n",
            "+----------------------+-------------+---------+\n",
            "only showing top 5 rows\n",
            "\n",
            "+---------+---------+---------+\n",
            "|Producer2|Language1|Language2|\n",
            "+---------+---------+---------+\n",
            "|NULL     |94       |NULL     |\n",
            "|NULL     |NULL     |NULL     |\n",
            "|NULL     |NULL     |NULL     |\n",
            "|NULL     |NULL     |NULL     |\n",
            "|NULL     |NULL     |NULL     |\n",
            "+---------+---------+---------+\n",
            "only showing top 5 rows\n",
            "\n"
          ]
        }
      ]
    },
    {
      "cell_type": "code",
      "source": [
        "DIRECTORY = \"data/broadcast_logs\"\n",
        "logs = (\n",
        "    spark.read.csv(\n",
        "        os.path.join(DIRECTORY, \"BroadcastLogs_2018_Q3_M8_sample.CSV\"),\n",
        "        sep=\"|\",\n",
        "        header=True,\n",
        "        inferSchema=True,\n",
        "        timestampFormat=\"yyyy-MM-dd\",\n",
        "    )\n",
        "    .drop(\"BroadcastLogID\", \"SequenceNO\")\n",
        "    .withColumn(\n",
        "        \"duration_seconds\",\n",
        "        (\n",
        "            F.col(\"Duration\").substr(1, 2).cast(\"int\") * 60 * 60\n",
        "            + F.col(\"Duration\").substr(4, 2).cast(\"int\") * 60\n",
        "            + F.col(\"Duration\").substr(7, 2).cast(\"int\")\n",
        "        ),\n",
        "    )\n",
        ")"
      ],
      "metadata": {
        "id": "lKOlEtJrwnLN"
      },
      "execution_count": 57,
      "outputs": []
    },
    {
      "cell_type": "code",
      "source": [
        "logs.printSchema()"
      ],
      "metadata": {
        "colab": {
          "base_uri": "https://localhost:8080/"
        },
        "id": "gQ5n876QxJjX",
        "outputId": "1f49974a-0623-40ce-f63e-7ca7dc67dcbf"
      },
      "execution_count": 53,
      "outputs": [
        {
          "output_type": "stream",
          "name": "stdout",
          "text": [
            "root\n",
            " |-- LogServiceID: integer (nullable = true)\n",
            " |-- LogDate: date (nullable = true)\n",
            " |-- AudienceTargetAgeID: integer (nullable = true)\n",
            " |-- AudienceTargetEthnicID: integer (nullable = true)\n",
            " |-- CategoryID: integer (nullable = true)\n",
            " |-- ClosedCaptionID: integer (nullable = true)\n",
            " |-- CountryOfOriginID: integer (nullable = true)\n",
            " |-- DubDramaCreditID: integer (nullable = true)\n",
            " |-- EthnicProgramID: integer (nullable = true)\n",
            " |-- ProductionSourceID: integer (nullable = true)\n",
            " |-- ProgramClassID: integer (nullable = true)\n",
            " |-- FilmClassificationID: integer (nullable = true)\n",
            " |-- ExhibitionID: integer (nullable = true)\n",
            " |-- Duration: string (nullable = true)\n",
            " |-- EndTime: string (nullable = true)\n",
            " |-- LogEntryDate: date (nullable = true)\n",
            " |-- ProductionNO: string (nullable = true)\n",
            " |-- ProgramTitle: string (nullable = true)\n",
            " |-- StartTime: string (nullable = true)\n",
            " |-- Subtitle: string (nullable = true)\n",
            " |-- NetworkAffiliationID: integer (nullable = true)\n",
            " |-- SpecialAttentionID: integer (nullable = true)\n",
            " |-- BroadcastOriginPointID: integer (nullable = true)\n",
            " |-- CompositionID: integer (nullable = true)\n",
            " |-- Producer1: string (nullable = true)\n",
            " |-- Producer2: string (nullable = true)\n",
            " |-- Language1: integer (nullable = true)\n",
            " |-- Language2: integer (nullable = true)\n",
            " |-- duration_seconds: integer (nullable = true)\n",
            "\n"
          ]
        }
      ]
    },
    {
      "cell_type": "code",
      "source": [
        "logs.select(F.col(\"Duration\")).show(5)"
      ],
      "metadata": {
        "id": "TTuZ520j2HvZ",
        "outputId": "f46fb8bc-f523-4111-b4da-274aefce37a1",
        "colab": {
          "base_uri": "https://localhost:8080/"
        }
      },
      "execution_count": 26,
      "outputs": [
        {
          "output_type": "stream",
          "name": "stdout",
          "text": [
            "+----------------+\n",
            "|        Duration|\n",
            "+----------------+\n",
            "|02:00:00.0000000|\n",
            "|00:00:30.0000000|\n",
            "|00:00:15.0000000|\n",
            "|00:00:15.0000000|\n",
            "|00:00:15.0000000|\n",
            "+----------------+\n",
            "only showing top 5 rows\n",
            "\n"
          ]
        }
      ]
    },
    {
      "cell_type": "code",
      "source": [
        "logs.select(F.col(\"duration_seconds\")).show(5)"
      ],
      "metadata": {
        "colab": {
          "base_uri": "https://localhost:8080/"
        },
        "id": "AqNVnlyESfog",
        "outputId": "e4ef21a6-c063-4886-a929-d90728e79dd2"
      },
      "execution_count": 54,
      "outputs": [
        {
          "output_type": "stream",
          "name": "stdout",
          "text": [
            "+----------------+\n",
            "|duration_seconds|\n",
            "+----------------+\n",
            "|            7200|\n",
            "|              30|\n",
            "|              15|\n",
            "|              15|\n",
            "|              15|\n",
            "+----------------+\n",
            "only showing top 5 rows\n",
            "\n"
          ]
        }
      ]
    },
    {
      "cell_type": "code",
      "source": [
        "print(logs.select(F.col(\"Duration\")).dtypes)"
      ],
      "metadata": {
        "id": "ATzzgUR12LIq",
        "outputId": "8be8638c-7093-49d4-ce8e-6f0472432a49",
        "colab": {
          "base_uri": "https://localhost:8080/"
        }
      },
      "execution_count": null,
      "outputs": [
        {
          "output_type": "stream",
          "name": "stdout",
          "text": [
            "[('Duration', 'string')]\n"
          ]
        }
      ]
    },
    {
      "cell_type": "code",
      "source": [
        "logs.select(\n",
        "    F.col(\"Duration\"),\n",
        "    F.col(\"Duration\").substr(1, 2).cast(\"int\").alias(\"dur_hours\"),\n",
        "    F.col(\"Duration\").substr(4, 2).cast(\"int\").alias(\"dur_minutes\"),\n",
        "    F.col(\"Duration\").substr(7, 2).cast(\"int\").alias(\"dur_seconds\"),\n",
        ").distinct().show(\n",
        "    5\n",
        ")"
      ],
      "metadata": {
        "id": "Ib-ZtjW12Twz",
        "outputId": "1f7a01d3-9205-4f8d-aeb1-317b86ced39e",
        "colab": {
          "base_uri": "https://localhost:8080/"
        }
      },
      "execution_count": 49,
      "outputs": [
        {
          "output_type": "stream",
          "name": "stdout",
          "text": [
            "+----------------+---------+-----------+-----------+\n",
            "|        Duration|dur_hours|dur_minutes|dur_seconds|\n",
            "+----------------+---------+-----------+-----------+\n",
            "|00:04:52.0000000|        0|          4|         52|\n",
            "|00:10:06.0000000|        0|         10|          6|\n",
            "|00:26:41.0000000|        0|         26|         41|\n",
            "|00:05:29.0000000|        0|          5|         29|\n",
            "|00:08:18.0000000|        0|          8|         18|\n",
            "+----------------+---------+-----------+-----------+\n",
            "only showing top 5 rows\n",
            "\n"
          ]
        }
      ]
    },
    {
      "cell_type": "code",
      "source": [
        "logs.select(\n",
        "    F.col(\"Duration\"),\n",
        "    (\n",
        "        F.col(\"Duration\").substr(1, 2).cast(\"int\") * 60 * 60\n",
        "        + F.col(\"Duration\").substr(4, 2).cast(\"int\") * 60\n",
        "        + F.col(\"Duration\").substr(7, 2).cast(\"int\")\n",
        "    ).alias(\"Duration_seconds\"),\n",
        ").distinct().show(5)"
      ],
      "metadata": {
        "id": "mvBRip222Z0r",
        "outputId": "0e600b1d-30e1-4eaf-d042-4aac5e2bdb40",
        "colab": {
          "base_uri": "https://localhost:8080/"
        }
      },
      "execution_count": 50,
      "outputs": [
        {
          "output_type": "stream",
          "name": "stdout",
          "text": [
            "+----------------+----------------+\n",
            "|        Duration|Duration_seconds|\n",
            "+----------------+----------------+\n",
            "|01:59:30.0000000|            7170|\n",
            "|00:31:00.0000000|            1860|\n",
            "|00:28:08.0000000|            1688|\n",
            "|00:10:30.0000000|             630|\n",
            "|00:32:00.0000000|            1920|\n",
            "+----------------+----------------+\n",
            "only showing top 5 rows\n",
            "\n"
          ]
        }
      ]
    },
    {
      "cell_type": "code",
      "source": [
        "#for i in logs.columns:\n",
        "#    logs.describe(i).show()\n",
        "\n",
        "for i in logs.columns:\n",
        "    logs.select(i).summary().show()"
      ],
      "metadata": {
        "id": "MdLxoQ4L2dYR",
        "outputId": "1b3a9684-797a-4ed2-ab1c-7079dbebb591",
        "colab": {
          "base_uri": "https://localhost:8080/"
        }
      },
      "execution_count": null,
      "outputs": [
        {
          "output_type": "stream",
          "name": "stdout",
          "text": [
            "+-------+--------------------+\n",
            "|summary|      BroadcastLogID|\n",
            "+-------+--------------------+\n",
            "|  count|              238945|\n",
            "|   mean|1.2168651122760174E9|\n",
            "| stddev| 1.496913424143109E7|\n",
            "|    min|          1195788151|\n",
            "|    25%|          1204679733|\n",
            "|    50%|          1213242718|\n",
            "|    75%|          1226220079|\n",
            "|    max|          1249431576|\n",
            "+-------+--------------------+\n",
            "\n",
            "+-------+------------------+\n",
            "|summary|      LogServiceID|\n",
            "+-------+------------------+\n",
            "|  count|            238945|\n",
            "|   mean| 3450.890284375065|\n",
            "| stddev|199.50673962555592|\n",
            "|    min|              3157|\n",
            "|    25%|              3287|\n",
            "|    50%|              3379|\n",
            "|    75%|              3627|\n",
            "|    max|              3925|\n",
            "+-------+------------------+\n",
            "\n",
            "+-------+\n",
            "|summary|\n",
            "+-------+\n",
            "|  count|\n",
            "|   mean|\n",
            "| stddev|\n",
            "|    min|\n",
            "|    25%|\n",
            "|    50%|\n",
            "|    75%|\n",
            "|    max|\n",
            "+-------+\n",
            "\n",
            "+-------+-----------------+\n",
            "|summary|       SequenceNO|\n",
            "+-------+-----------------+\n",
            "|  count|           238945|\n",
            "|   mean|466.3855824562138|\n",
            "| stddev|311.5109104839782|\n",
            "|    min|                1|\n",
            "|    25%|              201|\n",
            "|    50%|              428|\n",
            "|    75%|              699|\n",
            "|    max|             1463|\n",
            "+-------+-----------------+\n",
            "\n",
            "+-------+-------------------+\n",
            "|summary|AudienceTargetAgeID|\n",
            "+-------+-------------------+\n",
            "|  count|              16112|\n",
            "|   mean| 3.4929245283018866|\n",
            "| stddev| 1.0415963394745125|\n",
            "|    min|                  1|\n",
            "|    25%|                  4|\n",
            "|    50%|                  4|\n",
            "|    75%|                  4|\n",
            "|    max|                  4|\n",
            "+-------+-------------------+\n",
            "\n",
            "+-------+----------------------+\n",
            "|summary|AudienceTargetEthnicID|\n",
            "+-------+----------------------+\n",
            "|  count|                  1710|\n",
            "|   mean|    120.56432748538012|\n",
            "| stddev|     71.98694059436133|\n",
            "|    min|                     4|\n",
            "|    25%|                    74|\n",
            "|    50%|                    95|\n",
            "|    75%|                   136|\n",
            "|    max|                   337|\n",
            "+-------+----------------------+\n",
            "\n",
            "+-------+------------------+\n",
            "|summary|        CategoryID|\n",
            "+-------+------------------+\n",
            "|  count|             25506|\n",
            "|   mean|18.485297577040697|\n",
            "| stddev| 9.655852252020834|\n",
            "|    min|                 1|\n",
            "|    25%|                11|\n",
            "|    50%|                24|\n",
            "|    75%|                26|\n",
            "|    max|                29|\n",
            "+-------+------------------+\n",
            "\n",
            "+-------+-------------------+\n",
            "|summary|    ClosedCaptionID|\n",
            "+-------+-------------------+\n",
            "|  count|             224117|\n",
            "|   mean| 1.0316174141185184|\n",
            "| stddev|0.24947032900378974|\n",
            "|    min|                  1|\n",
            "|    25%|                  1|\n",
            "|    50%|                  1|\n",
            "|    75%|                  1|\n",
            "|    max|                  3|\n",
            "+-------+-------------------+\n",
            "\n",
            "+-------+------------------+\n",
            "|summary| CountryOfOriginID|\n",
            "+-------+------------------+\n",
            "|  count|             17822|\n",
            "|   mean|  4.06390977443609|\n",
            "| stddev|2.6159675821007298|\n",
            "|    min|                 2|\n",
            "|    25%|                 2|\n",
            "|    50%|                 3|\n",
            "|    75%|                 5|\n",
            "|    max|                11|\n",
            "+-------+------------------+\n",
            "\n",
            "+-------+------------------+\n",
            "|summary|  DubDramaCreditID|\n",
            "+-------+------------------+\n",
            "|  count|               263|\n",
            "|   mean|5.1254752851711025|\n",
            "| stddev| 3.451329711438564|\n",
            "|    min|                 1|\n",
            "|    25%|                 2|\n",
            "|    50%|                 4|\n",
            "|    75%|                10|\n",
            "|    max|                10|\n",
            "+-------+------------------+\n",
            "\n",
            "+-------+------------------+\n",
            "|summary|   EthnicProgramID|\n",
            "+-------+------------------+\n",
            "|  count|              1895|\n",
            "|   mean| 4.316622691292876|\n",
            "| stddev|2.2966421456800274|\n",
            "|    min|                 1|\n",
            "|    25%|                 1|\n",
            "|    50%|                 6|\n",
            "|    75%|                 6|\n",
            "|    max|                 6|\n",
            "+-------+------------------+\n",
            "\n",
            "+-------+------------------+\n",
            "|summary|ProductionSourceID|\n",
            "+-------+------------------+\n",
            "|  count|             16223|\n",
            "|   mean|11.193737286568453|\n",
            "| stddev| 6.079022239331335|\n",
            "|    min|                 1|\n",
            "|    25%|                 7|\n",
            "|    50%|                12|\n",
            "|    75%|                16|\n",
            "|    max|                19|\n",
            "+-------+------------------+\n",
            "\n",
            "+-------+-----------------+\n",
            "|summary|   ProgramClassID|\n",
            "+-------+-----------------+\n",
            "|  count|           238945|\n",
            "|   mean| 8.49341061750612|\n",
            "| stddev|7.902116846905711|\n",
            "|    min|                3|\n",
            "|    25%|                3|\n",
            "|    50%|                3|\n",
            "|    75%|               19|\n",
            "|    max|               30|\n",
            "+-------+-----------------+\n",
            "\n",
            "+-------+--------------------+\n",
            "|summary|FilmClassificationID|\n",
            "+-------+--------------------+\n",
            "|  count|                1885|\n",
            "|   mean|   1.953315649867374|\n",
            "| stddev|  1.6420515263133848|\n",
            "|    min|                   1|\n",
            "|    25%|                   1|\n",
            "|    50%|                   1|\n",
            "|    75%|                   2|\n",
            "|    max|                   8|\n",
            "+-------+--------------------+\n",
            "\n",
            "+-------+------------------+\n",
            "|summary|      ExhibitionID|\n",
            "+-------+------------------+\n",
            "|  count|              9263|\n",
            "|   mean|  4.52067364784627|\n",
            "| stddev|1.4418772626833427|\n",
            "|    min|                 1|\n",
            "|    25%|                 4|\n",
            "|    50%|                 5|\n",
            "|    75%|                 5|\n",
            "|    max|                 8|\n",
            "+-------+------------------+\n",
            "\n",
            "+-------+----------------+\n",
            "|summary|        Duration|\n",
            "+-------+----------------+\n",
            "|  count|          236724|\n",
            "|   mean|            NULL|\n",
            "| stddev|            NULL|\n",
            "|    min|00:00:01.0000000|\n",
            "|    25%|            NULL|\n",
            "|    50%|            NULL|\n",
            "|    75%|            NULL|\n",
            "|    max|06:30:09.0000000|\n",
            "+-------+----------------+\n",
            "\n",
            "+-------+----------------+\n",
            "|summary|         EndTime|\n",
            "+-------+----------------+\n",
            "|  count|          169979|\n",
            "|   mean|            NULL|\n",
            "| stddev|            NULL|\n",
            "|    min|00:00:00.0000000|\n",
            "|    25%|            NULL|\n",
            "|    50%|            NULL|\n",
            "|    75%|            NULL|\n",
            "|    max|23:59:59.0000000|\n",
            "+-------+----------------+\n",
            "\n",
            "+-------+\n",
            "|summary|\n",
            "+-------+\n",
            "|  count|\n",
            "|   mean|\n",
            "| stddev|\n",
            "|    min|\n",
            "|    25%|\n",
            "|    50%|\n",
            "|    75%|\n",
            "|    max|\n",
            "+-------+\n",
            "\n",
            "+-------+------------------+\n",
            "|summary|      ProductionNO|\n",
            "+-------+------------------+\n",
            "|  count|              3519|\n",
            "|   mean| 35710.61538461538|\n",
            "| stddev|3749.1340008607663|\n",
            "|    min|            030641|\n",
            "|    25%|           32974.0|\n",
            "|    50%|           37775.0|\n",
            "|    75%|           37775.0|\n",
            "|    max|            c34183|\n",
            "+-------+------------------+\n",
            "\n",
            "+-------+------------------+\n",
            "|summary|      ProgramTitle|\n",
            "+-------+------------------+\n",
            "|  count|            238703|\n",
            "|   mean|            1999.0|\n",
            "| stddev|              NULL|\n",
            "|    min|  !NO 5PM A ID(:5)|\n",
            "|    25%|            1999.0|\n",
            "|    50%|            1999.0|\n",
            "|    75%|            1999.0|\n",
            "|    max|�t� avec Jo�l 2/Un|\n",
            "+-------+------------------+\n",
            "\n",
            "+-------+----------------+\n",
            "|summary|       StartTime|\n",
            "+-------+----------------+\n",
            "|  count|          238945|\n",
            "|   mean|            NULL|\n",
            "| stddev|            NULL|\n",
            "|    min|00:00:00.0000000|\n",
            "|    25%|            NULL|\n",
            "|    50%|            NULL|\n",
            "|    75%|            NULL|\n",
            "|    max|23:59:59.0000000|\n",
            "+-------+----------------+\n",
            "\n",
            "+-------+--------------------+\n",
            "|summary|            Subtitle|\n",
            "+-------+--------------------+\n",
            "|  count|               15468|\n",
            "|   mean|   3463.573913043478|\n",
            "| stddev|  16251.272419144227|\n",
            "|    min|                #001|\n",
            "|    25%|                17.0|\n",
            "|    50%|               106.0|\n",
            "|    75%|              2014.0|\n",
            "|    max|�tre dans le trou...|\n",
            "+-------+--------------------+\n",
            "\n",
            "+-------+--------------------+\n",
            "|summary|NetworkAffiliationID|\n",
            "+-------+--------------------+\n",
            "|  count|              108807|\n",
            "|   mean|   6.082200593711802|\n",
            "| stddev|  2.9908486752285115|\n",
            "|    min|                   1|\n",
            "|    25%|                   5|\n",
            "|    50%|                   6|\n",
            "|    75%|                   9|\n",
            "|    max|                   9|\n",
            "+-------+--------------------+\n",
            "\n",
            "+-------+------------------+\n",
            "|summary|SpecialAttentionID|\n",
            "+-------+------------------+\n",
            "|  count|              2395|\n",
            "|   mean| 1.704384133611691|\n",
            "| stddev|0.5394635034869686|\n",
            "|    min|                 1|\n",
            "|    25%|                 1|\n",
            "|    50%|                 2|\n",
            "|    75%|                 2|\n",
            "|    max|                 3|\n",
            "+-------+------------------+\n",
            "\n",
            "+-------+----------------------+\n",
            "|summary|BroadcastOriginPointID|\n",
            "+-------+----------------------+\n",
            "|  count|                  9978|\n",
            "|   mean|    2.1390058127881337|\n",
            "| stddev|    0.9323192037553304|\n",
            "|    min|                     1|\n",
            "|    25%|                     1|\n",
            "|    50%|                     3|\n",
            "|    75%|                     3|\n",
            "|    max|                     3|\n",
            "+-------+----------------------+\n",
            "\n",
            "+-------+------------------+\n",
            "|summary|     CompositionID|\n",
            "+-------+------------------+\n",
            "|  count|              9978|\n",
            "|   mean|3.4141110442974543|\n",
            "| stddev|0.9338603403654618|\n",
            "|    min|                 1|\n",
            "|    25%|                 3|\n",
            "|    50%|                 4|\n",
            "|    75%|                 4|\n",
            "|    max|                 4|\n",
            "+-------+------------------+\n",
            "\n",
            "+-------+---------+\n",
            "|summary|Producer1|\n",
            "+-------+---------+\n",
            "|  count|     2607|\n",
            "|   mean|     NULL|\n",
            "| stddev|     NULL|\n",
            "|    min|      AMI|\n",
            "|    25%|     NULL|\n",
            "|    50%|     NULL|\n",
            "|    75%|     NULL|\n",
            "|    max|   VISION|\n",
            "+-------+---------+\n",
            "\n",
            "+-------+---------+\n",
            "|summary|Producer2|\n",
            "+-------+---------+\n",
            "|  count|       38|\n",
            "|   mean|     NULL|\n",
            "| stddev|     NULL|\n",
            "|    min|    NEWSW|\n",
            "|    25%|     NULL|\n",
            "|    50%|     NULL|\n",
            "|    75%|     NULL|\n",
            "|    max|       QC|\n",
            "+-------+---------+\n",
            "\n",
            "+-------+------------------+\n",
            "|summary|         Language1|\n",
            "+-------+------------------+\n",
            "|  count|             12586|\n",
            "|   mean|101.75377403464167|\n",
            "| stddev| 45.68403685468214|\n",
            "|    min|                94|\n",
            "|    25%|                94|\n",
            "|    50%|                94|\n",
            "|    75%|                94|\n",
            "|    max|               437|\n",
            "+-------+------------------+\n",
            "\n",
            "+-------+------------------+\n",
            "|summary|         Language2|\n",
            "+-------+------------------+\n",
            "|  count|              2629|\n",
            "|   mean|175.49334347660707|\n",
            "| stddev| 86.03603792883942|\n",
            "|    min|                 3|\n",
            "|    25%|               134|\n",
            "|    50%|               151|\n",
            "|    75%|               259|\n",
            "|    max|               438|\n",
            "+-------+------------------+\n",
            "\n"
          ]
        }
      ]
    },
    {
      "cell_type": "code",
      "source": [
        "DIRECTORY = \"data/broadcast_logs\"\n",
        "log_identifier = spark.read.csv(\n",
        "    os.path.join(DIRECTORY, \"ReferenceTables/LogIdentifier.csv\"),\n",
        "    sep=\"|\",\n",
        "    header=True,\n",
        "    inferSchema=True,\n",
        ")\n",
        "\n",
        "log_identifier.printSchema()"
      ],
      "metadata": {
        "colab": {
          "base_uri": "https://localhost:8080/"
        },
        "id": "2yrBKoSkI3-O",
        "outputId": "95012edb-7e12-4155-cc17-e3cc87e8013a"
      },
      "execution_count": 28,
      "outputs": [
        {
          "output_type": "stream",
          "name": "stdout",
          "text": [
            "root\n",
            " |-- LogIdentifierID: string (nullable = true)\n",
            " |-- LogServiceID: integer (nullable = true)\n",
            " |-- PrimaryFG: integer (nullable = true)\n",
            "\n"
          ]
        }
      ]
    },
    {
      "cell_type": "code",
      "source": [
        "log_identifier.show(5)"
      ],
      "metadata": {
        "colab": {
          "base_uri": "https://localhost:8080/"
        },
        "id": "ASd0QkkbI-F9",
        "outputId": "c3ce4749-e5ad-46f3-9d17-ddfac2ae9933"
      },
      "execution_count": 29,
      "outputs": [
        {
          "output_type": "stream",
          "name": "stdout",
          "text": [
            "+---------------+------------+---------+\n",
            "|LogIdentifierID|LogServiceID|PrimaryFG|\n",
            "+---------------+------------+---------+\n",
            "|           13ST|        3157|        1|\n",
            "|         2000SM|        3466|        1|\n",
            "|           70SM|        3883|        1|\n",
            "|           80SM|        3590|        1|\n",
            "|           90SM|        3470|        1|\n",
            "+---------------+------------+---------+\n",
            "only showing top 5 rows\n",
            "\n"
          ]
        }
      ]
    },
    {
      "cell_type": "code",
      "source": [
        "logs_and_channels_verbose = logs.join(\n",
        "    log_identifier, logs[\"LogServiceID\"] == log_identifier[\"LogServiceID\"]\n",
        ")\n",
        "\n",
        "logs_and_channels_verbose.printSchema()"
      ],
      "metadata": {
        "id": "hopAn65P2dG6",
        "colab": {
          "base_uri": "https://localhost:8080/"
        },
        "outputId": "ac390931-9f53-4b41-f6e1-4cf2fee595a7"
      },
      "execution_count": 60,
      "outputs": [
        {
          "output_type": "stream",
          "name": "stdout",
          "text": [
            "root\n",
            " |-- LogServiceID: integer (nullable = true)\n",
            " |-- LogDate: date (nullable = true)\n",
            " |-- AudienceTargetAgeID: integer (nullable = true)\n",
            " |-- AudienceTargetEthnicID: integer (nullable = true)\n",
            " |-- CategoryID: integer (nullable = true)\n",
            " |-- ClosedCaptionID: integer (nullable = true)\n",
            " |-- CountryOfOriginID: integer (nullable = true)\n",
            " |-- DubDramaCreditID: integer (nullable = true)\n",
            " |-- EthnicProgramID: integer (nullable = true)\n",
            " |-- ProductionSourceID: integer (nullable = true)\n",
            " |-- ProgramClassID: integer (nullable = true)\n",
            " |-- FilmClassificationID: integer (nullable = true)\n",
            " |-- ExhibitionID: integer (nullable = true)\n",
            " |-- Duration: string (nullable = true)\n",
            " |-- EndTime: string (nullable = true)\n",
            " |-- LogEntryDate: date (nullable = true)\n",
            " |-- ProductionNO: string (nullable = true)\n",
            " |-- ProgramTitle: string (nullable = true)\n",
            " |-- StartTime: string (nullable = true)\n",
            " |-- Subtitle: string (nullable = true)\n",
            " |-- NetworkAffiliationID: integer (nullable = true)\n",
            " |-- SpecialAttentionID: integer (nullable = true)\n",
            " |-- BroadcastOriginPointID: integer (nullable = true)\n",
            " |-- CompositionID: integer (nullable = true)\n",
            " |-- Producer1: string (nullable = true)\n",
            " |-- Producer2: string (nullable = true)\n",
            " |-- Language1: integer (nullable = true)\n",
            " |-- Language2: integer (nullable = true)\n",
            " |-- duration_seconds: integer (nullable = true)\n",
            " |-- LogIdentifierID: string (nullable = true)\n",
            " |-- LogServiceID: integer (nullable = true)\n",
            " |-- PrimaryFG: integer (nullable = true)\n",
            "\n"
          ]
        }
      ]
    },
    {
      "cell_type": "code",
      "source": [
        "logs_and_channels = logs.join(log_identifier, \"LogServiceID\")\n",
        "\n",
        "logs_and_channels.printSchema()"
      ],
      "metadata": {
        "colab": {
          "base_uri": "https://localhost:8080/"
        },
        "id": "npLOOaduIo1u",
        "outputId": "b8d0f5ef-7c79-4f25-e504-ff9725e583f3"
      },
      "execution_count": 61,
      "outputs": [
        {
          "output_type": "stream",
          "name": "stdout",
          "text": [
            "root\n",
            " |-- LogServiceID: integer (nullable = true)\n",
            " |-- LogDate: date (nullable = true)\n",
            " |-- AudienceTargetAgeID: integer (nullable = true)\n",
            " |-- AudienceTargetEthnicID: integer (nullable = true)\n",
            " |-- CategoryID: integer (nullable = true)\n",
            " |-- ClosedCaptionID: integer (nullable = true)\n",
            " |-- CountryOfOriginID: integer (nullable = true)\n",
            " |-- DubDramaCreditID: integer (nullable = true)\n",
            " |-- EthnicProgramID: integer (nullable = true)\n",
            " |-- ProductionSourceID: integer (nullable = true)\n",
            " |-- ProgramClassID: integer (nullable = true)\n",
            " |-- FilmClassificationID: integer (nullable = true)\n",
            " |-- ExhibitionID: integer (nullable = true)\n",
            " |-- Duration: string (nullable = true)\n",
            " |-- EndTime: string (nullable = true)\n",
            " |-- LogEntryDate: date (nullable = true)\n",
            " |-- ProductionNO: string (nullable = true)\n",
            " |-- ProgramTitle: string (nullable = true)\n",
            " |-- StartTime: string (nullable = true)\n",
            " |-- Subtitle: string (nullable = true)\n",
            " |-- NetworkAffiliationID: integer (nullable = true)\n",
            " |-- SpecialAttentionID: integer (nullable = true)\n",
            " |-- BroadcastOriginPointID: integer (nullable = true)\n",
            " |-- CompositionID: integer (nullable = true)\n",
            " |-- Producer1: string (nullable = true)\n",
            " |-- Producer2: string (nullable = true)\n",
            " |-- Language1: integer (nullable = true)\n",
            " |-- Language2: integer (nullable = true)\n",
            " |-- duration_seconds: integer (nullable = true)\n",
            " |-- LogIdentifierID: string (nullable = true)\n",
            " |-- PrimaryFG: integer (nullable = true)\n",
            "\n"
          ]
        }
      ]
    },
    {
      "cell_type": "code",
      "source": [
        "DIRECTORY = \"data/broadcast_logs\"\n",
        "\n",
        "cd_category = spark.read.csv(\n",
        "    os.path.join(DIRECTORY, \"ReferenceTables/CD_Category.csv\"),\n",
        "    sep=\"|\",\n",
        "    header=True,\n",
        "    inferSchema=True,\n",
        ").select(\n",
        "    \"CategoryID\",\n",
        "    \"CategoryCD\",\n",
        "    F.col(\"EnglishDescription\").alias(\"Category_Description\"),\n",
        ")\n",
        "\n",
        "cd_program_class = spark.read.csv(\n",
        "    os.path.join(DIRECTORY, \"ReferenceTables/CD_ProgramClass.csv\"),\n",
        "    sep=\"|\",\n",
        "    header=True,\n",
        "    inferSchema=True,\n",
        ").select(\n",
        "    \"ProgramClassID\",\n",
        "    \"ProgramClassCD\",\n",
        "    F.col(\"EnglishDescription\").alias(\"ProgramClass_Description\"),\n",
        ")\n",
        "\n",
        "full_log = logs_and_channels.join(cd_category, \"CategoryID\", how=\"left\").join(\n",
        "    cd_program_class, \"ProgramClassID\", how=\"left\"\n",
        ")"
      ],
      "metadata": {
        "id": "xxFS-TDMH07t"
      },
      "execution_count": 62,
      "outputs": []
    },
    {
      "cell_type": "code",
      "source": [
        "full_log.show(10)"
      ],
      "metadata": {
        "colab": {
          "base_uri": "https://localhost:8080/"
        },
        "id": "NkpOcpOAJO2N",
        "outputId": "2eae74f7-5975-4823-e5d7-85113e7754db"
      },
      "execution_count": 63,
      "outputs": [
        {
          "output_type": "stream",
          "name": "stdout",
          "text": [
            "+--------------+----------+------------+----------+-------------------+----------------------+---------------+-----------------+----------------+---------------+------------------+--------------------+------------+----------------+----------------+------------+------------+--------------------+----------------+--------+--------------------+------------------+----------------------+-------------+---------+---------+---------+---------+----------------+---------------+---------+----------+--------------------+--------------+------------------------+\n",
            "|ProgramClassID|CategoryID|LogServiceID|   LogDate|AudienceTargetAgeID|AudienceTargetEthnicID|ClosedCaptionID|CountryOfOriginID|DubDramaCreditID|EthnicProgramID|ProductionSourceID|FilmClassificationID|ExhibitionID|        Duration|         EndTime|LogEntryDate|ProductionNO|        ProgramTitle|       StartTime|Subtitle|NetworkAffiliationID|SpecialAttentionID|BroadcastOriginPointID|CompositionID|Producer1|Producer2|Language1|Language2|duration_seconds|LogIdentifierID|PrimaryFG|CategoryCD|Category_Description|ProgramClassCD|ProgramClass_Description|\n",
            "+--------------+----------+------------+----------+-------------------+----------------------+---------------+-----------------+----------------+---------------+------------------+--------------------+------------+----------------+----------------+------------+------------+--------------------+----------------+--------+--------------------+------------------+----------------------+-------------+---------+---------+---------+---------+----------------+---------------+---------+----------+--------------------+--------------+------------------------+\n",
            "|            19|        13|        3157|2018-08-01|                  4|                  NULL|              3|                3|            NULL|           NULL|                10|                NULL|           2|02:00:00.0000000|08:00:00.0000000|  2018-08-01|      A39082|   Newlywed and Dead|06:00:00.0000000|    NULL|                NULL|              NULL|                  NULL|         NULL|     NULL|     NULL|       94|     NULL|            7200|           13ST|        1|       07C|SPECIALS,MINI-SER...|          PGR |                 PROGRAM|\n",
            "|            20|      NULL|        3157|2018-08-01|               NULL|                  NULL|              1|             NULL|            NULL|           NULL|              NULL|                NULL|        NULL|00:00:30.0000000|06:13:45.0000000|  2018-08-01|        NULL|15-SPECIALTY CHAN...|06:13:15.0000000|    NULL|                NULL|              NULL|                  NULL|         NULL|     NULL|     NULL|     NULL|     NULL|              30|           13ST|        1|      NULL|                NULL|          PRC |    PROMOTION OF UPCO...|\n",
            "|             3|      NULL|        3157|2018-08-01|               NULL|                  NULL|              1|             NULL|            NULL|           NULL|              NULL|                NULL|        NULL|00:00:15.0000000|06:14:00.0000000|  2018-08-01|        NULL|3-PROCTER & GAMBL...|06:13:45.0000000|    NULL|                NULL|              NULL|                  NULL|         NULL|     NULL|     NULL|     NULL|     NULL|              15|           13ST|        1|      NULL|                NULL|          COM |      COMMERCIAL MESSAGE|\n",
            "|             3|      NULL|        3157|2018-08-01|               NULL|                  NULL|              1|             NULL|            NULL|           NULL|              NULL|                NULL|        NULL|00:00:15.0000000|06:14:15.0000000|  2018-08-01|        NULL|12-CREDIT KARMA-B...|06:14:00.0000000|    NULL|                NULL|              NULL|                  NULL|         NULL|     NULL|     NULL|     NULL|     NULL|              15|           13ST|        1|      NULL|                NULL|          COM |      COMMERCIAL MESSAGE|\n",
            "|             3|      NULL|        3157|2018-08-01|               NULL|                  NULL|              1|             NULL|            NULL|           NULL|              NULL|                NULL|        NULL|00:00:15.0000000|06:14:30.0000000|  2018-08-01|        NULL|3-L'OREAL CANADA-...|06:14:15.0000000|    NULL|                NULL|              NULL|                  NULL|         NULL|     NULL|     NULL|     NULL|     NULL|              15|           13ST|        1|      NULL|                NULL|          COM |      COMMERCIAL MESSAGE|\n",
            "|             3|      NULL|        3157|2018-08-01|               NULL|                  NULL|              1|             NULL|            NULL|           NULL|              NULL|                NULL|        NULL|00:00:15.0000000|06:14:45.0000000|  2018-08-01|        NULL|11-YUM! BRANDS-Ch...|06:14:30.0000000|    NULL|                NULL|              NULL|                  NULL|         NULL|     NULL|     NULL|     NULL|     NULL|              15|           13ST|        1|      NULL|                NULL|          COM |      COMMERCIAL MESSAGE|\n",
            "|             3|      NULL|        3157|2018-08-01|               NULL|                  NULL|              1|             NULL|            NULL|           NULL|              NULL|                NULL|        NULL|00:00:30.0000000|06:15:16.0000000|  2018-08-01|        NULL|2-PIER 1 IMPORTS ...|06:14:46.0000000|    NULL|                NULL|              NULL|                  NULL|         NULL|     NULL|     NULL|     NULL|     NULL|              30|           13ST|        1|      NULL|                NULL|          COM |      COMMERCIAL MESSAGE|\n",
            "|             3|      NULL|        3157|2018-08-01|               NULL|                  NULL|              1|             NULL|            NULL|           NULL|              NULL|                NULL|        NULL|00:00:15.0000000|06:15:31.0000000|  2018-08-01|        NULL|3-HAVAS EDGE-Trav...|06:15:16.0000000|    NULL|                NULL|              NULL|                  NULL|         NULL|     NULL|     NULL|     NULL|     NULL|              15|           13ST|        1|      NULL|                NULL|          COM |      COMMERCIAL MESSAGE|\n",
            "|             3|      NULL|        3157|2018-08-01|               NULL|                  NULL|              1|             NULL|            NULL|           NULL|              NULL|                NULL|        NULL|00:00:15.0000000|06:15:46.0000000|  2018-08-01|        NULL|2-AUTOTRADER-Inte...|06:15:31.0000000|    NULL|                NULL|              NULL|                  NULL|         NULL|     NULL|     NULL|     NULL|     NULL|              15|           13ST|        1|      NULL|                NULL|          COM |      COMMERCIAL MESSAGE|\n",
            "|             3|      NULL|        3157|2018-08-01|               NULL|                  NULL|              1|             NULL|            NULL|           NULL|              NULL|                NULL|        NULL|00:00:15.0000000|06:16:01.0000000|  2018-08-01|        NULL|11-SLEEP COUNTRY ...|06:15:46.0000000|    NULL|                NULL|              NULL|                  NULL|         NULL|     NULL|     NULL|     NULL|     NULL|              15|           13ST|        1|      NULL|                NULL|          COM |      COMMERCIAL MESSAGE|\n",
            "+--------------+----------+------------+----------+-------------------+----------------------+---------------+-----------------+----------------+---------------+------------------+--------------------+------------+----------------+----------------+------------+------------+--------------------+----------------+--------+--------------------+------------------+----------------------+-------------+---------+---------+---------+---------+----------------+---------------+---------+----------+--------------------+--------------+------------------------+\n",
            "only showing top 10 rows\n",
            "\n"
          ]
        }
      ]
    },
    {
      "cell_type": "code",
      "source": [
        "(full_log\n",
        " .groupby(\"ProgramClassCD\", \"ProgramClass_Description\")\n",
        " .agg(F.sum(\"duration_seconds\").alias(\"duration_total\"))\n",
        " .orderBy(\"duration_total\", ascending=False).show(100, False)\n",
        " )"
      ],
      "metadata": {
        "colab": {
          "base_uri": "https://localhost:8080/"
        },
        "id": "gaNYK6fjJbR1",
        "outputId": "f089b4f9-9118-4e1d-dae4-7d80c292c764"
      },
      "execution_count": 64,
      "outputs": [
        {
          "output_type": "stream",
          "name": "stdout",
          "text": [
            "+--------------+--------------------------------------+--------------+\n",
            "|ProgramClassCD|ProgramClass_Description              |duration_total|\n",
            "+--------------+--------------------------------------+--------------+\n",
            "|PGR           |PROGRAM                               |20992510      |\n",
            "|COM           |COMMERCIAL MESSAGE                    |3519163       |\n",
            "|PFS           |PROGRAM FIRST SEGMENT                 |1344762       |\n",
            "|SEG           |SEGMENT OF A PROGRAM                  |1205998       |\n",
            "|PRC           |PROMOTION OF UPCOMING CANADIAN PROGRAM|880600        |\n",
            "|PGI           |PROGRAM INFOMERCIAL                   |679182        |\n",
            "|PRO           |PROMOTION OF NON-CANADIAN PROGRAM     |335701        |\n",
            "|OFF           |SCHEDULED OFF AIR TIME PERIOD         |142279        |\n",
            "|ID            |NETWORK IDENTIFICATION MESSAGE        |74926         |\n",
            "|NRN           |No recognized nationality             |59686         |\n",
            "|MAG           |MAGAZINE PROGRAM                      |57622         |\n",
            "|PSA           |PUBLIC SERVICE ANNOUNCEMENT           |51214         |\n",
            "|SO            |MAY IDENTIFY THE SIGN ON\\OFF OF A DAY |32509         |\n",
            "|OFT           |OFF AIR DUE TO TECHNICAL DIFFICULTY   |18263         |\n",
            "|LOC           |LOCAL ADVERTISING                     |13294         |\n",
            "|MVC           |MUSIC VIDEO CLIP                      |7907          |\n",
            "|REG           |REGIONAL                              |6749          |\n",
            "|MER           |MERCHANDISING                         |1680          |\n",
            "|SPO           |SPONSORSHIP MESSAGE                   |1544          |\n",
            "|SOL           |SOLICITATION MESSAGE                  |596           |\n",
            "|MOS           |Mosaic                                |NULL          |\n",
            "|COR           |CORNERSTONE                           |NULL          |\n",
            "+--------------+--------------------------------------+--------------+\n",
            "\n"
          ]
        }
      ]
    },
    {
      "cell_type": "code",
      "source": [
        "mytest = full_log.groupby(\"LogIdentifierID\").agg(\n",
        "        F.sum(\n",
        "            \"duration_seconds\"\n",
        "            ).alias(\"duration_commercial\")\n",
        "        )\n",
        "mytest = mytest.filter(mytest[\"duration_commercial\"].isNotNull())\n",
        "mytest.show(100, False)"
      ],
      "metadata": {
        "colab": {
          "base_uri": "https://localhost:8080/"
        },
        "id": "7alAEAhlM0Wg",
        "outputId": "5ef2446d-84d7-41df-98f6-d28e03b681da"
      },
      "execution_count": 65,
      "outputs": [
        {
          "output_type": "stream",
          "name": "stdout",
          "text": [
            "+---------------+-------------------+\n",
            "|LogIdentifierID|duration_commercial|\n",
            "+---------------+-------------------+\n",
            "|CJCO           |106174             |\n",
            "|BRAVO          |108920             |\n",
            "|CFTF           |1805               |\n",
            "|CKCS           |97158              |\n",
            "|CJNT           |112904             |\n",
            "|CKES           |97019              |\n",
            "|CHBX           |108007             |\n",
            "|BBCKID         |92104              |\n",
            "|BOOK           |105885             |\n",
            "|CHAN           |107938             |\n",
            "|CEVASI         |107180             |\n",
            "|CMT            |108942             |\n",
            "|CIII           |107812             |\n",
            "|CFMT           |102688             |\n",
            "|CFGS           |91500              |\n",
            "|CBKT           |103410             |\n",
            "|CHEK           |100372             |\n",
            "|CFCF           |107878             |\n",
            "|CBXT           |103810             |\n",
            "|CIVM           |11802              |\n",
            "|CESS           |105700             |\n",
            "|CBHT           |103779             |\n",
            "|CICC           |107731             |\n",
            "|CFTM           |105732             |\n",
            "|CJOH           |108093             |\n",
            "|CBAFT          |100479             |\n",
            "|CFTV           |102                |\n",
            "|CFCM           |105894             |\n",
            "|CKPG           |100070             |\n",
            "|CKVU           |113367             |\n",
            "|ATN9           |99792              |\n",
            "|CJPM           |105655             |\n",
            "|CKWS1          |96287              |\n",
            "|CFTU           |7619               |\n",
            "|CICA           |90140              |\n",
            "|MAKE           |110196             |\n",
            "|CITY           |112061             |\n",
            "|CFRS           |17789              |\n",
            "|CKY            |107669             |\n",
            "|13ST           |108982             |\n",
            "|CFRE           |108109             |\n",
            "|CJMT           |105811             |\n",
            "|BBCCND         |110578             |\n",
            "|CFKS           |19581              |\n",
            "|CJDC           |91470              |\n",
            "|CKVR           |105861             |\n",
            "|CKCK           |107856             |\n",
            "|CFPL           |105616             |\n",
            "|CJCB           |107990             |\n",
            "|OWN            |109612             |\n",
            "|CFTK           |91785              |\n",
            "|CITV           |108442             |\n",
            "|ANIMAL         |109445             |\n",
            "|ASN            |106920             |\n",
            "|CBMT           |103605             |\n",
            "|CKAL           |113368             |\n",
            "|CBUFT          |100448             |\n",
            "|CKND           |107971             |\n",
            "|ATN3           |107267             |\n",
            "|CFJP           |19533              |\n",
            "|VRAK           |38050              |\n",
            "|CBXFT          |100448             |\n",
            "|CFQC           |107986             |\n",
            "|CFKM           |19582              |\n",
            "|CBWT           |103107             |\n",
            "|CIMT           |775                |\n",
            "|CIPA           |107742             |\n",
            "|CIHF           |108224             |\n",
            "|CFCN           |108424             |\n",
            "|CHFD           |98125              |\n",
            "|CBVT           |101348             |\n",
            "|CHMG           |96870              |\n",
            "|ARTV           |108519             |\n",
            "|CANALD         |21875              |\n",
            "|CKRT           |14400              |\n",
            "|CFER           |105556             |\n",
            "|GAME           |107889             |\n",
            "|ZT�L�          |21965              |\n",
            "|CBC            |98735              |\n",
            "|CITS           |98727              |\n",
            "|CBAT           |103809             |\n",
            "|CKLT           |107990             |\n",
            "|CIVI           |105330             |\n",
            "|COSMO          |109263             |\n",
            "|CKEM           |113308             |\n",
            "|ATN8           |88153              |\n",
            "|CKWS           |96289              |\n",
            "|CBNT           |103809             |\n",
            "|CHAT           |92665              |\n",
            "|CBUT           |103750             |\n",
            "|ABORIN         |105300             |\n",
            "|CKNO           |96123              |\n",
            "|ALLTV          |23126              |\n",
            "|CHMI           |113305             |\n",
            "|CJEO           |105746             |\n",
            "|CITO           |107972             |\n",
            "|BC1            |100958             |\n",
            "|CBLT           |103665             |\n",
            "|CFYK           |103285             |\n",
            "|CANALVIE       |21309              |\n",
            "+---------------+-------------------+\n",
            "only showing top 100 rows\n",
            "\n"
          ]
        }
      ]
    },
    {
      "cell_type": "code",
      "source": [
        "# When the field of the column ProgramClass, trimmed of spaces at the beginning and end of the field,\n",
        "# is in our list of commercial codes,\n",
        "# then take the value of the field in the column duration_seconds. Otherwise, use zero as a value.\n",
        "answer = (\n",
        "    full_log.groupby(\"LogIdentifierID\")\n",
        "    .agg(\n",
        "        F.sum(\n",
        "            F.when(\n",
        "                F.trim(F.col(\"ProgramClassCD\")).isin(\n",
        "                    [\"COM\", \"PGR\", \"PGI\", \"PRO\", \"LOC\", \"SPO\", \"MER\", \"SOL\"]\n",
        "                ),\n",
        "                F.col(\"duration_seconds\"),\n",
        "            ).otherwise(0)\n",
        "        ).alias(\"duration_commercial\"),\n",
        "        F.sum(\"duration_seconds\").alias(\"duration_total\"),\n",
        "    )\n",
        "    .withColumn(\n",
        "        \"commercial_ratio\", F.col(\"duration_commercial\") / F.col(\"duration_total\")\n",
        "    )\n",
        "    .fillna(0)\n",
        ")\n",
        "\n",
        "answer.orderBy(\"commercial_ratio\", ascending=False).show(1000, False)"
      ],
      "metadata": {
        "colab": {
          "base_uri": "https://localhost:8080/"
        },
        "id": "562eeDMsPjQW",
        "outputId": "091e3f86-2ffe-4e59-8a55-a281df99c70a"
      },
      "execution_count": 66,
      "outputs": [
        {
          "output_type": "stream",
          "name": "stdout",
          "text": [
            "+---------------+-------------------+--------------+-------------------+\n",
            "|LogIdentifierID|duration_commercial|duration_total|commercial_ratio   |\n",
            "+---------------+-------------------+--------------+-------------------+\n",
            "|CIMT           |775                |775           |1.0                |\n",
            "|ATN6           |97121              |97121         |1.0                |\n",
            "|MOVIEP         |86400              |86400         |1.0                |\n",
            "|ATN13          |86400              |86400         |1.0                |\n",
            "|SKIN           |86400              |86400         |1.0                |\n",
            "|SNONE          |1800               |1800          |1.0                |\n",
            "|TIMESN         |86400              |86400         |1.0                |\n",
            "|MPIX2          |86400              |86400         |1.0                |\n",
            "|OTN3           |86400              |86400         |1.0                |\n",
            "|TMN3           |86400              |86400         |1.0                |\n",
            "|PLAY           |86400              |86400         |1.0                |\n",
            "|PENT           |86400              |86400         |1.0                |\n",
            "|ATN11          |86400              |86400         |1.0                |\n",
            "|TMN1           |86400              |86400         |1.0                |\n",
            "|TMN4           |86400              |86400         |1.0                |\n",
            "|ATN14          |86400              |86400         |1.0                |\n",
            "|TMN2           |86400              |86400         |1.0                |\n",
            "|HPITV          |13                 |13            |1.0                |\n",
            "|TENCH2         |86400              |86400         |1.0                |\n",
            "|ZOOM           |86400              |86400         |1.0                |\n",
            "|NEOCRI         |90646              |90646         |1.0                |\n",
            "|ATN10          |98797              |98866         |0.9993020856512855 |\n",
            "|ATN9           |99712              |99792         |0.9991983325316659 |\n",
            "|OTN1           |86640              |86730         |0.99896229678312   |\n",
            "|ATN5           |101076             |101181        |0.9989622557594805 |\n",
            "|ATN3           |107145             |107267        |0.998862651141544  |\n",
            "|ATN8           |88023              |88153         |0.9985252912549771 |\n",
            "|ATN7           |94851              |94995         |0.9984841307437233 |\n",
            "|ATN1           |102259             |102442        |0.9982136233185608 |\n",
            "|SAB            |87016              |87207         |0.9978098088456202 |\n",
            "|ZEETV          |89745              |89971         |0.9974880794922808 |\n",
            "|ATN2           |99075              |99335         |0.9973825942517743 |\n",
            "|TCC            |90681              |91081         |0.9956083046958202 |\n",
            "|SLVSC          |89292              |89722         |0.9952074184703863 |\n",
            "|ESPN           |101390             |101965        |0.9943608100818908 |\n",
            "|2000SM         |88722              |89311         |0.9934050676848316 |\n",
            "|CFJC           |94540              |95170         |0.9933802668908269 |\n",
            "|SATV           |104172             |104877        |0.9932778397551417 |\n",
            "|SCSD03         |85750              |86400         |0.9924768518518519 |\n",
            "|SCSD01         |85742              |86400         |0.9923842592592592 |\n",
            "|80SM           |87646              |88352         |0.9920092357841361 |\n",
            "|OUTDR          |108667             |109607        |0.9914239054075014 |\n",
            "|FNTSY          |101610             |102545        |0.9908820517821444 |\n",
            "|CHAT           |91805              |92665         |0.9907192575406032 |\n",
            "|CHCH           |105998             |106997        |0.9906632896249428 |\n",
            "|BLC            |103680             |104721        |0.9900593004268485 |\n",
            "|FIGHT          |102970             |104229        |0.9879208281764192 |\n",
            "|CHMI           |111795             |113305        |0.9866731388729535 |\n",
            "|FXC            |108907             |110414        |0.9863513684858805 |\n",
            "|SCSD02         |85209              |86400         |0.9862152777777777 |\n",
            "|CSCN           |101634             |103091        |0.9858668554966001 |\n",
            "|CFTK           |90360              |91785         |0.9844745873508743 |\n",
            "|CFMT           |101086             |102688        |0.9843993455905267 |\n",
            "|CITY           |110233             |112061        |0.983687455939176  |\n",
            "|SCSD04         |84970              |86400         |0.9834490740740741 |\n",
            "|CKVU           |111448             |113367        |0.9830726754699339 |\n",
            "|RDS            |102065             |103855        |0.9827644311780849 |\n",
            "|SPRTVA         |102315             |104117        |0.9826925478067943 |\n",
            "|CKEM           |111312             |113308        |0.9823842976665372 |\n",
            "|CJNT           |110866             |112904        |0.9819492666336003 |\n",
            "|CKPG           |98235              |100070        |0.9816628360147897 |\n",
            "|CKAL           |111267             |113368        |0.9814674334909322 |\n",
            "|CPOP           |84742              |86400         |0.9808101851851851 |\n",
            "|CHRGD          |93428              |95431         |0.9790110131927781 |\n",
            "|CICA           |88212              |90140         |0.9786110494785889 |\n",
            "|CBC            |96605              |98735         |0.9784271028510659 |\n",
            "|FXX            |106838             |109220        |0.9781908075444058 |\n",
            "|TSN            |102061             |104390        |0.9776894338538175 |\n",
            "|FAMJR          |84451              |86400         |0.9774421296296296 |\n",
            "|SPTVA2         |101775             |104132        |0.9773652671609111 |\n",
            "|CHEX02         |93477              |95654         |0.9772408890375729 |\n",
            "|BOOK           |103470             |105885        |0.9771922368607452 |\n",
            "|TSN1           |101626             |104059        |0.9766190334329563 |\n",
            "|SE01           |84353              |86400         |0.9763078703703704 |\n",
            "|RDSINF         |100650             |103200        |0.9752906976744186 |\n",
            "|RDS2           |100665             |103240        |0.9750581170089113 |\n",
            "|TSN3           |102060             |104730        |0.9745058722429103 |\n",
            "|CHEX           |94847              |97329         |0.9744988646754821 |\n",
            "|SE02           |84147              |86400         |0.9739236111111111 |\n",
            "|CHRO           |104475             |107345        |0.9732637756765569 |\n",
            "|TSN5           |102152             |104996        |0.9729132538382415 |\n",
            "|LCN            |100965             |103780        |0.972875313162459  |\n",
            "|CJEO           |102819             |105746        |0.9723204660223554 |\n",
            "|CBUT           |100730             |103750        |0.9708915662650602 |\n",
            "|CBXT           |100770             |103810        |0.970715730661786  |\n",
            "|ASN            |103755             |106920        |0.9703984287317621 |\n",
            "|CBLT           |100595             |103665        |0.9703853759706748 |\n",
            "|CBET           |100595             |103665        |0.9703853759706748 |\n",
            "|CBRT           |100670             |103750        |0.9703132530120482 |\n",
            "|CJCO           |103013             |106174        |0.970228116111289  |\n",
            "|OMAB           |103013             |106174        |0.970228116111289  |\n",
            "|CBWT           |100035             |103107        |0.9702057086327796 |\n",
            "|PRIS           |102345             |105545        |0.9696811786441802 |\n",
            "|TSN2           |99810              |102987        |0.9691514462990475 |\n",
            "|CBMT           |100400             |103605        |0.969065199556006  |\n",
            "|OMON           |102173             |105457        |0.9688593455152337 |\n",
            "|CJMT           |102502             |105811        |0.9687272589806353 |\n",
            "|FAMCHA         |83685              |86400         |0.9685763888888889 |\n",
            "|CBOT           |100460             |103732        |0.9684571781128292 |\n",
            "|CBHT           |100475             |103779        |0.9681631158519546 |\n",
            "|CBAT           |100490             |103809        |0.968027820323864  |\n",
            "|CBCT           |100460             |103779        |0.9680185779396603 |\n",
            "|CBKT           |100065             |103410        |0.9676530316217    |\n",
            "|OWN            |106032             |109612        |0.9673393424077655 |\n",
            "|BBCKID         |89057              |92104         |0.9669178320159819 |\n",
            "|CJDC           |88425              |91470         |0.9667103968514267 |\n",
            "|CKWS           |93047              |96289         |0.9663305258129173 |\n",
            "|CKWS1          |93043              |96287         |0.9663090552203308 |\n",
            "|CBNT           |100295             |103809        |0.9661493704784749 |\n",
            "|13ST           |105255             |108982        |0.9658016920225359 |\n",
            "|CMT            |105060             |108942        |0.9643663600815112 |\n",
            "|CHNM           |102040             |105845        |0.9640512069535642 |\n",
            "|OMBC           |102040             |105845        |0.9640512069535642 |\n",
            "|HISTORY        |105329             |109288        |0.9637746138642852 |\n",
            "|NEWSW          |102152             |106082        |0.9629531871571049 |\n",
            "|SE03           |83185              |86400         |0.9627893518518519 |\n",
            "|CFER           |101491             |105556        |0.9614896358331123 |\n",
            "|CHEM           |101476             |105626        |0.9607104311438471 |\n",
            "|CJPM           |101491             |105655        |0.9605887085324878 |\n",
            "|CFCM           |101684             |105894        |0.9602432621300546 |\n",
            "|SNWST          |100126             |104278        |0.9601833560290761 |\n",
            "|CHLT           |101476             |105686        |0.9601650171262041 |\n",
            "|MVOLA          |88176              |91851         |0.9599895482901656 |\n",
            "|COMGLD         |103680             |108135        |0.9588014981273408 |\n",
            "|CFTM           |101341             |105732        |0.9584704725154163 |\n",
            "|RAZER          |103680             |108330        |0.9570756023262255 |\n",
            "|COTT           |103890             |108568        |0.9569117972146489 |\n",
            "|SNPAC          |99751              |104258        |0.9567707034472175 |\n",
            "|FYI            |105914             |110769        |0.956170047576488  |\n",
            "|BBCCND         |105699             |110578        |0.9558772992819549 |\n",
            "|SNONT          |99499              |104235        |0.9545642058809422 |\n",
            "|DISVEL         |103680             |108645        |0.9543007041281237 |\n",
            "|INVDIS         |103680             |108730        |0.9535546767221558 |\n",
            "|DISSCI         |103680             |108730        |0.9535546767221558 |\n",
            "|MOICIE         |102645             |107715        |0.9529313466091074 |\n",
            "|SE04           |82279              |86400         |0.9523032407407407 |\n",
            "|TRESR          |100270             |105394        |0.9513824316374746 |\n",
            "|COSMO          |103944             |109263        |0.9513192938140084 |\n",
            "|CASA           |103680             |109022        |0.9510007154519271 |\n",
            "|MUCHM          |102240             |107510        |0.9509813040647381 |\n",
            "|90SM           |84012              |88372         |0.9506631059611642 |\n",
            "|SN360          |100165             |105447        |0.9499084848312422 |\n",
            "|SNEST          |99009              |104235        |0.9498632896819686 |\n",
            "|COOK           |105921             |111561        |0.9494446984161131 |\n",
            "|TVADIK         |103095             |108661        |0.9487764699386164 |\n",
            "|NICK           |95761              |100935        |0.9487392876603755 |\n",
            "|GAME           |102300             |107889        |0.9481967577788283 |\n",
            "|DSNYEN         |97832              |103184        |0.9481314932547682 |\n",
            "|SPACE          |102090             |107695        |0.9479548725567575 |\n",
            "|GUS            |102270             |107935        |0.9475147079260666 |\n",
            "|ANIMAL         |103680             |109445        |0.9473251404815204 |\n",
            "|YTV            |99135              |104672        |0.9471014215836135 |\n",
            "|DSNYJR         |86697              |91602         |0.9464531342110434 |\n",
            "|MTV1           |101610             |107585        |0.9444625180090161 |\n",
            "|TCN            |102430             |108600        |0.9431860036832412 |\n",
            "|PRIDE          |94159              |99859         |0.9429195165182908 |\n",
            "|TRV            |103410             |109713        |0.9425501080090782 |\n",
            "|DOCS           |96555              |102460        |0.9423677532695686 |\n",
            "|CKNO           |90522              |96123         |0.9417309072750538 |\n",
            "|SMITH          |97815              |103894        |0.9414884401409128 |\n",
            "|WILD           |101385             |107721        |0.9411813852452168 |\n",
            "|THTV           |86711              |92253         |0.9399260728648391 |\n",
            "|MAKE           |103530             |110196        |0.9395077861265382 |\n",
            "|CFHD           |96955              |103223        |0.9392770990961317 |\n",
            "|OMQC           |96955              |103223        |0.9392770990961317 |\n",
            "|BRAVO          |102280             |108920        |0.9390378259272861 |\n",
            "|TOON           |97835              |104466        |0.9365248023280301 |\n",
            "|DEJA           |102264             |109325        |0.9354127601189115 |\n",
            "|CARTN          |97992              |104776        |0.9352523478659235 |\n",
            "|TV5            |10489              |11220         |0.9348484848484848 |\n",
            "|SN2            |86400              |92495         |0.934104546191686  |\n",
            "|E!             |102345             |109745        |0.9325709599526174 |\n",
            "|TDC            |102210             |109615        |0.9324453770013228 |\n",
            "|ABORIN         |98100              |105300        |0.9316239316239316 |\n",
            "|DSNYXD         |97459              |104682        |0.9310005540589595 |\n",
            "|NATUR          |86400              |92847         |0.9305631845940096 |\n",
            "|FASH           |103590             |111320        |0.9305605461731944 |\n",
            "|MAGINO         |84734              |91221         |0.9288869887416275 |\n",
            "|MSET           |2505               |2700          |0.9277777777777778 |\n",
            "|DSNYFR         |91200              |98312         |0.9276588819269265 |\n",
            "|TLTOON         |95880              |103498        |0.9263947129413129 |\n",
            "|SALT           |86610              |93541         |0.9259041489827989 |\n",
            "|CIVT           |100092             |108232        |0.9247911892970656 |\n",
            "|ABORIW         |97820              |105846        |0.9241728549024054 |\n",
            "|70SM           |82507              |89326         |0.9236616438662876 |\n",
            "|LIFENT         |100400             |108901        |0.921938274212358  |\n",
            "|ASIDE          |93912              |102166        |0.9192099132783901 |\n",
            "|CIVM           |10843              |11802         |0.9187425860023725 |\n",
            "|CFYK           |94790              |103285        |0.9177518516725566 |\n",
            "|BBCE           |95156              |103685        |0.9177412354728264 |\n",
            "|WFN            |102075             |111498        |0.9154872733143196 |\n",
            "|EXP            |98615              |107951        |0.9135163175885356 |\n",
            "|BNN            |94745              |104162        |0.909592749755189  |\n",
            "|CHWI           |95710              |105816        |0.9044945943902624 |\n",
            "|CFQC           |97453              |107986        |0.9024595780934566 |\n",
            "|ABORI          |95443              |105784        |0.9022441957195795 |\n",
            "|SRC            |86265              |95648         |0.9019007193041151 |\n",
            "|ABORIH         |95343              |106223        |0.8975739717387007 |\n",
            "|CKY            |95995              |107669        |0.891575105183479  |\n",
            "|CKVR           |94190              |105861        |0.8897516554727426 |\n",
            "|CAVE           |97809              |109990        |0.8892535685062278 |\n",
            "|TELENO         |15795              |17790         |0.887858347386172  |\n",
            "|CITS           |87265              |98727         |0.8839020733943096 |\n",
            "|CIII           |95004              |107812        |0.88120060846659   |\n",
            "|NGWILD         |94733              |108667        |0.8717733994680998 |\n",
            "|RURAL          |2220               |2550          |0.8705882352941177 |\n",
            "|CKCK           |93883              |107856        |0.8704476338822134 |\n",
            "|CBFT           |87725              |101048        |0.8681517694561001 |\n",
            "|DIY            |97363              |112587        |0.8647801255917645 |\n",
            "|SERIEP         |94065              |108896        |0.8638058330884514 |\n",
            "|CHBC           |91600              |108000        |0.8481481481481481 |\n",
            "|CIHF           |91695              |108224        |0.8472704760496748 |\n",
            "|CHNB2          |91680              |108251        |0.8469205827197901 |\n",
            "|CKMI           |91287              |107956        |0.8455945014635592 |\n",
            "|INVST          |17280              |20470         |0.844162188568637  |\n",
            "|TLNSP          |13050              |15480         |0.8430232558139535 |\n",
            "|CFSK           |91042              |108069        |0.8424432538470792 |\n",
            "|BC1            |84915              |100958        |0.8410923354266131 |\n",
            "|CHEK           |84410              |100372        |0.8409715857011916 |\n",
            "|CHISTO         |91731              |109109        |0.8407280792601893 |\n",
            "|CITL           |80405              |95687         |0.8402917846729441 |\n",
            "|CFPL           |88610              |105616        |0.8389827298894107 |\n",
            "|ONEBMS         |15450              |18522         |0.8341431810819566 |\n",
            "|CISA           |90376              |108521        |0.8327973387639259 |\n",
            "|CTVNC          |87608              |105310        |0.8319058019181464 |\n",
            "|CICT           |90102              |108398        |0.8312145980553147 |\n",
            "|CHNU           |4064               |4921          |0.8258484047957733 |\n",
            "|VISION         |11221              |13621         |0.8238014830041848 |\n",
            "|CKCS           |79992              |97158         |0.8233187179645526 |\n",
            "|CKSA           |84540              |103387        |0.8177043535454167 |\n",
            "|CANALVIE       |17280              |21309         |0.8109249612839645 |\n",
            "|CFRE           |87493              |108109        |0.8093035732455207 |\n",
            "|CIVI           |84740              |105330        |0.8045191303522263 |\n",
            "|CFAP           |14060              |17681         |0.7952038911826255 |\n",
            "|CFTO           |85704              |108003        |0.7935335129579734 |\n",
            "|HGTV           |86802              |109420        |0.7932919027600073 |\n",
            "|CJCH           |85564              |107930        |0.7927730936718244 |\n",
            "|CJCB           |85569              |107990        |0.7923789239744421 |\n",
            "|CKLT           |85559              |107990        |0.7922863228076674 |\n",
            "|CKCW           |85559              |107990        |0.7922863228076674 |\n",
            "|CITO           |85484              |107972        |0.7917237802393213 |\n",
            "|CJOH           |85559              |108093        |0.7915313665084696 |\n",
            "|CKNY           |85469              |107982        |0.7915115482209998 |\n",
            "|CFCF           |85354              |107878        |0.7912085874784479 |\n",
            "|CHBX           |85454              |108007        |0.7911894599424112 |\n",
            "|CICI           |85459              |108036        |0.7910233625828428 |\n",
            "|CKCO           |85329              |107928        |0.7906104069379586 |\n",
            "|CANALD         |17280              |21875         |0.7899428571428572 |\n",
            "|CESS           |83220              |105700        |0.7873226111636707 |\n",
            "|ZT�L�          |17280              |21965         |0.7867061233781015 |\n",
            "|CFRN6          |85496              |108740        |0.7862424130954571 |\n",
            "|CJIL           |3303               |4213          |0.7840018988844054 |\n",
            "|FPTV           |74469              |95285         |0.7815395917510626 |\n",
            "|CFRS           |13628              |17789         |0.7660914048007196 |\n",
            "|CHAN           |82425              |107938        |0.7636328262521077 |\n",
            "|CP24           |79217              |103860        |0.7627286732139419 |\n",
            "|YOOP           |70920              |92984         |0.7627118644067796 |\n",
            "|RAPT           |13740              |18279         |0.7516822583292303 |\n",
            "|CFJP           |14676              |19533         |0.7513438795883889 |\n",
            "|IDNR           |64633              |86530         |0.7469432566739859 |\n",
            "|CITV           |80907              |108442        |0.7460854650412202 |\n",
            "|FACHV2         |69503              |97848         |0.7103160003270379 |\n",
            "|ARTV           |75975              |108519        |0.7001078152212976 |\n",
            "|CIPA           |75421              |107742        |0.7000148502905088 |\n",
            "|CICC           |75106              |107731        |0.6971623766603856 |\n",
            "|CKES           |67497              |97019         |0.6957090879106155 |\n",
            "|CFKM           |13469              |19582         |0.6878255540802778 |\n",
            "|MMAX           |16083              |23582         |0.6820032227970486 |\n",
            "|CFCNL          |73543              |108434        |0.6782282309976576 |\n",
            "|CKTM           |67909              |100418        |0.6762632197414806 |\n",
            "|CKSH           |67909              |100418        |0.6762632197414806 |\n",
            "|CBVT           |68284              |101348        |0.6737577455894541 |\n",
            "|CBOFT          |67814              |101198        |0.6701120575505445 |\n",
            "|CJBRT          |67199              |100418        |0.669192774203828  |\n",
            "|CFKS           |13063              |19581         |0.6671262958990859 |\n",
            "|DTOUR          |73733              |110971        |0.6644348523488118 |\n",
            "|SPARK          |72489              |109425        |0.6624537354352296 |\n",
            "|CKTV           |66419              |100418        |0.6614252424864068 |\n",
            "|CFCN           |71632              |108424        |0.6606655353058364 |\n",
            "|V              |12902              |19557         |0.6597126348621977 |\n",
            "|NGCE           |70042              |107031        |0.6544085358447552 |\n",
            "|CKND           |70082              |107971        |0.6490816978633152 |\n",
            "|CFRN           |69055              |108409        |0.6369858591076387 |\n",
            "|unis           |7585               |11998         |0.6321886981163527 |\n",
            "|WTN            |67172              |107500        |0.6248558139534883 |\n",
            "|CFGS           |55290              |91500         |0.6042622950819672 |\n",
            "|CBUFT          |59564              |100448        |0.5929834342147181 |\n",
            "|CBXFT          |59564              |100448        |0.5929834342147181 |\n",
            "|CBKFT          |59564              |100448        |0.5929834342147181 |\n",
            "|CBWFT          |59564              |100448        |0.5929834342147181 |\n",
            "|CBLFT          |59234              |100658        |0.5884678813407777 |\n",
            "|CBAFT          |58869              |100479        |0.5858836174723077 |\n",
            "|MPLU           |12078              |20912         |0.5775631216526397 |\n",
            "|FTV            |53907              |94841         |0.5683934163494692 |\n",
            "|FACHTV         |53907              |94841         |0.5683934163494692 |\n",
            "|CJON           |59288              |104555        |0.5670508344890249 |\n",
            "|FOOD           |58647              |111088        |0.5279328100244851 |\n",
            "|TTV            |47624              |92687         |0.5138153139059415 |\n",
            "|DIVA           |54935              |109961        |0.4995862169314575 |\n",
            "|SHOW           |54003              |108662        |0.49698146546170696|\n",
            "|CFEM           |43280              |94580         |0.45760203002748995|\n",
            "|CFVS           |40515              |91130         |0.4445846592779546 |\n",
            "|CIIT           |1517               |3596          |0.4218576195773081 |\n",
            "|LEAF           |4831               |12034         |0.4014459032740568 |\n",
            "|CHOT           |37492              |94017         |0.3987789442334897 |\n",
            "|CHAU           |1080               |2880          |0.375              |\n",
            "|RDI            |36425              |105900        |0.3439565627950897 |\n",
            "|VRAK           |12240              |38050         |0.3216819973718791 |\n",
            "|CKPR           |27870              |94965         |0.29347654398989104|\n",
            "|CHFD           |25725              |98125         |0.2621656050955414 |\n",
            "|ALLTV          |5716               |23126         |0.24716769004583586|\n",
            "|CHMG           |18181              |96870         |0.18768452565293692|\n",
            "|TANG           |1236               |8125          |0.15212307692307692|\n",
            "|CHLF           |1960               |14439         |0.13574347253964955|\n",
            "|ZEST           |14250              |107945        |0.13201167261105193|\n",
            "|CEVASI         |12135              |107180        |0.11322075013995149|\n",
            "|AMIFR          |3338               |96120         |0.03472742405326675|\n",
            "|CFTF           |0                  |1805          |0.0                |\n",
            "|CFTV           |0                  |102           |0.0                |\n",
            "|CFTU           |0                  |7619          |0.0                |\n",
            "|CKRT           |0                  |14400         |0.0                |\n",
            "|AMITV          |0                  |98293         |0.0                |\n",
            "|EURO           |0                  |0             |0.0                |\n",
            "|NINOS          |0                  |0             |0.0                |\n",
            "+---------------+-------------------+--------------+-------------------+\n",
            "\n"
          ]
        }
      ]
    },
    {
      "cell_type": "code",
      "source": [
        "# Convert to pandas dataframe\n",
        "df = answer.orderBy(\"commercial_ratio\", ascending=False).toPandas()"
      ],
      "metadata": {
        "id": "0yodkoQhQ33t"
      },
      "execution_count": 67,
      "outputs": []
    },
    {
      "cell_type": "code",
      "source": [
        "df.head(100)"
      ],
      "metadata": {
        "colab": {
          "base_uri": "https://localhost:8080/",
          "height": 423
        },
        "id": "BmCOsqeTR3vo",
        "outputId": "c18f293c-5259-465c-d865-335f4a55cd9c"
      },
      "execution_count": 68,
      "outputs": [
        {
          "output_type": "execute_result",
          "data": {
            "text/plain": [
              "   LogIdentifierID  duration_commercial  duration_total  commercial_ratio\n",
              "0             CIMT                  775             775          1.000000\n",
              "1             ATN6                97121           97121          1.000000\n",
              "2           MOVIEP                86400           86400          1.000000\n",
              "3            ATN13                86400           86400          1.000000\n",
              "4             SKIN                86400           86400          1.000000\n",
              "..             ...                  ...             ...               ...\n",
              "95            OMON               102173          105457          0.968859\n",
              "96            CJMT               102502          105811          0.968727\n",
              "97          FAMCHA                83685           86400          0.968576\n",
              "98            CBOT               100460          103732          0.968457\n",
              "99            CBHT               100475          103779          0.968163\n",
              "\n",
              "[100 rows x 4 columns]"
            ],
            "text/html": [
              "\n",
              "  <div id=\"df-a43a0e9e-851f-4bfa-a749-abea227a1b15\" class=\"colab-df-container\">\n",
              "    <div>\n",
              "<style scoped>\n",
              "    .dataframe tbody tr th:only-of-type {\n",
              "        vertical-align: middle;\n",
              "    }\n",
              "\n",
              "    .dataframe tbody tr th {\n",
              "        vertical-align: top;\n",
              "    }\n",
              "\n",
              "    .dataframe thead th {\n",
              "        text-align: right;\n",
              "    }\n",
              "</style>\n",
              "<table border=\"1\" class=\"dataframe\">\n",
              "  <thead>\n",
              "    <tr style=\"text-align: right;\">\n",
              "      <th></th>\n",
              "      <th>LogIdentifierID</th>\n",
              "      <th>duration_commercial</th>\n",
              "      <th>duration_total</th>\n",
              "      <th>commercial_ratio</th>\n",
              "    </tr>\n",
              "  </thead>\n",
              "  <tbody>\n",
              "    <tr>\n",
              "      <th>0</th>\n",
              "      <td>CIMT</td>\n",
              "      <td>775</td>\n",
              "      <td>775</td>\n",
              "      <td>1.000000</td>\n",
              "    </tr>\n",
              "    <tr>\n",
              "      <th>1</th>\n",
              "      <td>ATN6</td>\n",
              "      <td>97121</td>\n",
              "      <td>97121</td>\n",
              "      <td>1.000000</td>\n",
              "    </tr>\n",
              "    <tr>\n",
              "      <th>2</th>\n",
              "      <td>MOVIEP</td>\n",
              "      <td>86400</td>\n",
              "      <td>86400</td>\n",
              "      <td>1.000000</td>\n",
              "    </tr>\n",
              "    <tr>\n",
              "      <th>3</th>\n",
              "      <td>ATN13</td>\n",
              "      <td>86400</td>\n",
              "      <td>86400</td>\n",
              "      <td>1.000000</td>\n",
              "    </tr>\n",
              "    <tr>\n",
              "      <th>4</th>\n",
              "      <td>SKIN</td>\n",
              "      <td>86400</td>\n",
              "      <td>86400</td>\n",
              "      <td>1.000000</td>\n",
              "    </tr>\n",
              "    <tr>\n",
              "      <th>...</th>\n",
              "      <td>...</td>\n",
              "      <td>...</td>\n",
              "      <td>...</td>\n",
              "      <td>...</td>\n",
              "    </tr>\n",
              "    <tr>\n",
              "      <th>95</th>\n",
              "      <td>OMON</td>\n",
              "      <td>102173</td>\n",
              "      <td>105457</td>\n",
              "      <td>0.968859</td>\n",
              "    </tr>\n",
              "    <tr>\n",
              "      <th>96</th>\n",
              "      <td>CJMT</td>\n",
              "      <td>102502</td>\n",
              "      <td>105811</td>\n",
              "      <td>0.968727</td>\n",
              "    </tr>\n",
              "    <tr>\n",
              "      <th>97</th>\n",
              "      <td>FAMCHA</td>\n",
              "      <td>83685</td>\n",
              "      <td>86400</td>\n",
              "      <td>0.968576</td>\n",
              "    </tr>\n",
              "    <tr>\n",
              "      <th>98</th>\n",
              "      <td>CBOT</td>\n",
              "      <td>100460</td>\n",
              "      <td>103732</td>\n",
              "      <td>0.968457</td>\n",
              "    </tr>\n",
              "    <tr>\n",
              "      <th>99</th>\n",
              "      <td>CBHT</td>\n",
              "      <td>100475</td>\n",
              "      <td>103779</td>\n",
              "      <td>0.968163</td>\n",
              "    </tr>\n",
              "  </tbody>\n",
              "</table>\n",
              "<p>100 rows × 4 columns</p>\n",
              "</div>\n",
              "    <div class=\"colab-df-buttons\">\n",
              "\n",
              "  <div class=\"colab-df-container\">\n",
              "    <button class=\"colab-df-convert\" onclick=\"convertToInteractive('df-a43a0e9e-851f-4bfa-a749-abea227a1b15')\"\n",
              "            title=\"Convert this dataframe to an interactive table.\"\n",
              "            style=\"display:none;\">\n",
              "\n",
              "  <svg xmlns=\"http://www.w3.org/2000/svg\" height=\"24px\" viewBox=\"0 -960 960 960\">\n",
              "    <path d=\"M120-120v-720h720v720H120Zm60-500h600v-160H180v160Zm220 220h160v-160H400v160Zm0 220h160v-160H400v160ZM180-400h160v-160H180v160Zm440 0h160v-160H620v160ZM180-180h160v-160H180v160Zm440 0h160v-160H620v160Z\"/>\n",
              "  </svg>\n",
              "    </button>\n",
              "\n",
              "  <style>\n",
              "    .colab-df-container {\n",
              "      display:flex;\n",
              "      gap: 12px;\n",
              "    }\n",
              "\n",
              "    .colab-df-convert {\n",
              "      background-color: #E8F0FE;\n",
              "      border: none;\n",
              "      border-radius: 50%;\n",
              "      cursor: pointer;\n",
              "      display: none;\n",
              "      fill: #1967D2;\n",
              "      height: 32px;\n",
              "      padding: 0 0 0 0;\n",
              "      width: 32px;\n",
              "    }\n",
              "\n",
              "    .colab-df-convert:hover {\n",
              "      background-color: #E2EBFA;\n",
              "      box-shadow: 0px 1px 2px rgba(60, 64, 67, 0.3), 0px 1px 3px 1px rgba(60, 64, 67, 0.15);\n",
              "      fill: #174EA6;\n",
              "    }\n",
              "\n",
              "    .colab-df-buttons div {\n",
              "      margin-bottom: 4px;\n",
              "    }\n",
              "\n",
              "    [theme=dark] .colab-df-convert {\n",
              "      background-color: #3B4455;\n",
              "      fill: #D2E3FC;\n",
              "    }\n",
              "\n",
              "    [theme=dark] .colab-df-convert:hover {\n",
              "      background-color: #434B5C;\n",
              "      box-shadow: 0px 1px 3px 1px rgba(0, 0, 0, 0.15);\n",
              "      filter: drop-shadow(0px 1px 2px rgba(0, 0, 0, 0.3));\n",
              "      fill: #FFFFFF;\n",
              "    }\n",
              "  </style>\n",
              "\n",
              "    <script>\n",
              "      const buttonEl =\n",
              "        document.querySelector('#df-a43a0e9e-851f-4bfa-a749-abea227a1b15 button.colab-df-convert');\n",
              "      buttonEl.style.display =\n",
              "        google.colab.kernel.accessAllowed ? 'block' : 'none';\n",
              "\n",
              "      async function convertToInteractive(key) {\n",
              "        const element = document.querySelector('#df-a43a0e9e-851f-4bfa-a749-abea227a1b15');\n",
              "        const dataTable =\n",
              "          await google.colab.kernel.invokeFunction('convertToInteractive',\n",
              "                                                    [key], {});\n",
              "        if (!dataTable) return;\n",
              "\n",
              "        const docLinkHtml = 'Like what you see? Visit the ' +\n",
              "          '<a target=\"_blank\" href=https://colab.research.google.com/notebooks/data_table.ipynb>data table notebook</a>'\n",
              "          + ' to learn more about interactive tables.';\n",
              "        element.innerHTML = '';\n",
              "        dataTable['output_type'] = 'display_data';\n",
              "        await google.colab.output.renderOutput(dataTable, element);\n",
              "        const docLink = document.createElement('div');\n",
              "        docLink.innerHTML = docLinkHtml;\n",
              "        element.appendChild(docLink);\n",
              "      }\n",
              "    </script>\n",
              "  </div>\n",
              "\n",
              "\n",
              "<div id=\"df-082a2007-3fe3-4671-83dc-a6c99502dc53\">\n",
              "  <button class=\"colab-df-quickchart\" onclick=\"quickchart('df-082a2007-3fe3-4671-83dc-a6c99502dc53')\"\n",
              "            title=\"Suggest charts\"\n",
              "            style=\"display:none;\">\n",
              "\n",
              "<svg xmlns=\"http://www.w3.org/2000/svg\" height=\"24px\"viewBox=\"0 0 24 24\"\n",
              "     width=\"24px\">\n",
              "    <g>\n",
              "        <path d=\"M19 3H5c-1.1 0-2 .9-2 2v14c0 1.1.9 2 2 2h14c1.1 0 2-.9 2-2V5c0-1.1-.9-2-2-2zM9 17H7v-7h2v7zm4 0h-2V7h2v10zm4 0h-2v-4h2v4z\"/>\n",
              "    </g>\n",
              "</svg>\n",
              "  </button>\n",
              "\n",
              "<style>\n",
              "  .colab-df-quickchart {\n",
              "      --bg-color: #E8F0FE;\n",
              "      --fill-color: #1967D2;\n",
              "      --hover-bg-color: #E2EBFA;\n",
              "      --hover-fill-color: #174EA6;\n",
              "      --disabled-fill-color: #AAA;\n",
              "      --disabled-bg-color: #DDD;\n",
              "  }\n",
              "\n",
              "  [theme=dark] .colab-df-quickchart {\n",
              "      --bg-color: #3B4455;\n",
              "      --fill-color: #D2E3FC;\n",
              "      --hover-bg-color: #434B5C;\n",
              "      --hover-fill-color: #FFFFFF;\n",
              "      --disabled-bg-color: #3B4455;\n",
              "      --disabled-fill-color: #666;\n",
              "  }\n",
              "\n",
              "  .colab-df-quickchart {\n",
              "    background-color: var(--bg-color);\n",
              "    border: none;\n",
              "    border-radius: 50%;\n",
              "    cursor: pointer;\n",
              "    display: none;\n",
              "    fill: var(--fill-color);\n",
              "    height: 32px;\n",
              "    padding: 0;\n",
              "    width: 32px;\n",
              "  }\n",
              "\n",
              "  .colab-df-quickchart:hover {\n",
              "    background-color: var(--hover-bg-color);\n",
              "    box-shadow: 0 1px 2px rgba(60, 64, 67, 0.3), 0 1px 3px 1px rgba(60, 64, 67, 0.15);\n",
              "    fill: var(--button-hover-fill-color);\n",
              "  }\n",
              "\n",
              "  .colab-df-quickchart-complete:disabled,\n",
              "  .colab-df-quickchart-complete:disabled:hover {\n",
              "    background-color: var(--disabled-bg-color);\n",
              "    fill: var(--disabled-fill-color);\n",
              "    box-shadow: none;\n",
              "  }\n",
              "\n",
              "  .colab-df-spinner {\n",
              "    border: 2px solid var(--fill-color);\n",
              "    border-color: transparent;\n",
              "    border-bottom-color: var(--fill-color);\n",
              "    animation:\n",
              "      spin 1s steps(1) infinite;\n",
              "  }\n",
              "\n",
              "  @keyframes spin {\n",
              "    0% {\n",
              "      border-color: transparent;\n",
              "      border-bottom-color: var(--fill-color);\n",
              "      border-left-color: var(--fill-color);\n",
              "    }\n",
              "    20% {\n",
              "      border-color: transparent;\n",
              "      border-left-color: var(--fill-color);\n",
              "      border-top-color: var(--fill-color);\n",
              "    }\n",
              "    30% {\n",
              "      border-color: transparent;\n",
              "      border-left-color: var(--fill-color);\n",
              "      border-top-color: var(--fill-color);\n",
              "      border-right-color: var(--fill-color);\n",
              "    }\n",
              "    40% {\n",
              "      border-color: transparent;\n",
              "      border-right-color: var(--fill-color);\n",
              "      border-top-color: var(--fill-color);\n",
              "    }\n",
              "    60% {\n",
              "      border-color: transparent;\n",
              "      border-right-color: var(--fill-color);\n",
              "    }\n",
              "    80% {\n",
              "      border-color: transparent;\n",
              "      border-right-color: var(--fill-color);\n",
              "      border-bottom-color: var(--fill-color);\n",
              "    }\n",
              "    90% {\n",
              "      border-color: transparent;\n",
              "      border-bottom-color: var(--fill-color);\n",
              "    }\n",
              "  }\n",
              "</style>\n",
              "\n",
              "  <script>\n",
              "    async function quickchart(key) {\n",
              "      const quickchartButtonEl =\n",
              "        document.querySelector('#' + key + ' button');\n",
              "      quickchartButtonEl.disabled = true;  // To prevent multiple clicks.\n",
              "      quickchartButtonEl.classList.add('colab-df-spinner');\n",
              "      try {\n",
              "        const charts = await google.colab.kernel.invokeFunction(\n",
              "            'suggestCharts', [key], {});\n",
              "      } catch (error) {\n",
              "        console.error('Error during call to suggestCharts:', error);\n",
              "      }\n",
              "      quickchartButtonEl.classList.remove('colab-df-spinner');\n",
              "      quickchartButtonEl.classList.add('colab-df-quickchart-complete');\n",
              "    }\n",
              "    (() => {\n",
              "      let quickchartButtonEl =\n",
              "        document.querySelector('#df-082a2007-3fe3-4671-83dc-a6c99502dc53 button');\n",
              "      quickchartButtonEl.style.display =\n",
              "        google.colab.kernel.accessAllowed ? 'block' : 'none';\n",
              "    })();\n",
              "  </script>\n",
              "</div>\n",
              "\n",
              "    </div>\n",
              "  </div>\n"
            ],
            "application/vnd.google.colaboratory.intrinsic+json": {
              "type": "dataframe",
              "variable_name": "df",
              "summary": "{\n  \"name\": \"df\",\n  \"rows\": 324,\n  \"fields\": [\n    {\n      \"column\": \"LogIdentifierID\",\n      \"properties\": {\n        \"dtype\": \"string\",\n        \"num_unique_values\": 324,\n        \"samples\": [\n          \"INVDIS\",\n          \"CBNT\",\n          \"COSMO\"\n        ],\n        \"semantic_type\": \"\",\n        \"description\": \"\"\n      }\n    },\n    {\n      \"column\": \"duration_commercial\",\n      \"properties\": {\n        \"dtype\": \"number\",\n        \"std\": 31819,\n        \"min\": 0,\n        \"max\": 111795,\n        \"num_unique_values\": 273,\n        \"samples\": [\n          103680,\n          95761,\n          102502\n        ],\n        \"semantic_type\": \"\",\n        \"description\": \"\"\n      }\n    },\n    {\n      \"column\": \"duration_total\",\n      \"properties\": {\n        \"dtype\": \"number\",\n        \"std\": 30418,\n        \"min\": 0,\n        \"max\": 113368,\n        \"num_unique_values\": 279,\n        \"samples\": [\n          113305,\n          107721,\n          108003\n        ],\n        \"semantic_type\": \"\",\n        \"description\": \"\"\n      }\n    },\n    {\n      \"column\": \"commercial_ratio\",\n      \"properties\": {\n        \"dtype\": \"number\",\n        \"std\": 0.22123480375071408,\n        \"min\": 0.0,\n        \"max\": 1.0,\n        \"num_unique_values\": 287,\n        \"samples\": [\n          0.9978098088456202,\n          0.6369858591076387,\n          0.9348484848484848\n        ],\n        \"semantic_type\": \"\",\n        \"description\": \"\"\n      }\n    }\n  ]\n}"
            }
          },
          "metadata": {},
          "execution_count": 68
        }
      ]
    },
    {
      "cell_type": "code",
      "source": [
        "df.info()"
      ],
      "metadata": {
        "colab": {
          "base_uri": "https://localhost:8080/"
        },
        "id": "Qw6BtKcNRVhH",
        "outputId": "1aaa877a-537d-4c02-b933-4c69de42ec2e"
      },
      "execution_count": 69,
      "outputs": [
        {
          "output_type": "stream",
          "name": "stdout",
          "text": [
            "<class 'pandas.core.frame.DataFrame'>\n",
            "RangeIndex: 324 entries, 0 to 323\n",
            "Data columns (total 4 columns):\n",
            " #   Column               Non-Null Count  Dtype  \n",
            "---  ------               --------------  -----  \n",
            " 0   LogIdentifierID      324 non-null    object \n",
            " 1   duration_commercial  324 non-null    int64  \n",
            " 2   duration_total       324 non-null    int64  \n",
            " 3   commercial_ratio     324 non-null    float64\n",
            "dtypes: float64(1), int64(2), object(1)\n",
            "memory usage: 10.2+ KB\n"
          ]
        }
      ]
    },
    {
      "cell_type": "code",
      "source": [
        "# prompt: using df plot a bar chart with the first top 100 log base 10 of commercial_ratio\n",
        "\n",
        "import matplotlib.pyplot as plt\n",
        "import numpy as np\n",
        "\n",
        "# Assuming 'df' is your Pandas DataFrame with 'LogIdentifierID' and 'commercial_ratio' columns\n",
        "\n",
        "# Take the top 100 rows ordered by commercial_ratio\n",
        "top_100_df = df.nlargest(100, 'commercial_ratio')\n",
        "\n",
        "# Calculate the base 10 logarithm of commercial_ratio\n",
        "top_100_df['log10_commercial_ratio'] = np.log10(top_100_df['commercial_ratio'])\n",
        "\n",
        "# Create a bar chart\n",
        "plt.figure(figsize=(15, 8))\n",
        "plt.bar(top_100_df['LogIdentifierID'].astype(str), top_100_df['log10_commercial_ratio'])\n",
        "plt.xlabel('LogIdentifierID')\n",
        "plt.ylabel('Log10(Commercial Ratio)')\n",
        "plt.title('Top 100 LogIdentifierIDs by Log10(Commercial Ratio)')\n",
        "plt.xticks(rotation=90)  # Rotate x-axis labels for better readability\n",
        "plt.tight_layout()  # Adjust layout to prevent overlapping labels\n",
        "plt.show()\n"
      ],
      "metadata": {
        "colab": {
          "base_uri": "https://localhost:8080/",
          "height": 533
        },
        "id": "klFnQfWoRXsO",
        "outputId": "7debec7b-7404-4bd8-b3ef-a38c1c0af5bb"
      },
      "execution_count": 71,
      "outputs": [
        {
          "output_type": "display_data",
          "data": {
            "text/plain": [
              "<Figure size 1500x800 with 1 Axes>"
            ],
            "image/png": "[encoded data removed]"
          },
          "metadata": {}
        }
      ]
    },
    {
      "cell_type": "markdown",
      "source": [
        "# Using JSON Data With Spark"
      ],
      "metadata": {
        "id": "NDA03teMP1iu"
      }
    },
    {
      "cell_type": "code",
      "source": [
        "from pyspark.sql import SparkSession\n",
        "\n",
        "spark = SparkSession.builder.getOrCreate()\n",
        "shows = spark.read.json(\"data/shows/shows-silicon-valley.json\")\n",
        "shows.count()"
      ],
      "metadata": {
        "colab": {
          "base_uri": "https://localhost:8080/"
        },
        "id": "XGDfMMMPP1Bm",
        "outputId": "ec6c3149-c845-481d-d793-1ed7d2511d95"
      },
      "execution_count": 72,
      "outputs": [
        {
          "output_type": "execute_result",
          "data": {
            "text/plain": [
              "1"
            ]
          },
          "metadata": {},
          "execution_count": 72
        }
      ]
    },
    {
      "cell_type": "code",
      "source": [
        "shows.show(1)"
      ],
      "metadata": {
        "id": "MXjrgWTzzI9r",
        "colab": {
          "base_uri": "https://localhost:8080/"
        },
        "outputId": "fc72c864-e9e9-40e4-dccc-1f83e47d6048"
      },
      "execution_count": 74,
      "outputs": [
        {
          "output_type": "stream",
          "name": "stdout",
          "text": [
            "+--------------------+--------------------+--------------------+--------+---+--------------------+--------+--------------+--------------------+--------------------+----------+------+-------+-----------------+------+--------------------+--------+----------+--------------------+----------+------+\n",
            "|           _embedded|              _links|           externals|  genres| id|               image|language|          name|             network|        officialSite| premiered|rating|runtime|         schedule|status|             summary|    type|   updated|                 url|webChannel|weight|\n",
            "+--------------------+--------------------+--------------------+--------+---+--------------------+--------+--------------+--------------------+--------------------+----------+------+-------+-----------------+------+--------------------+--------+----------+--------------------+----------+------+\n",
            "|{[{{{http://api.t...|{{http://api.tvma...|{tt2575988, 27716...|[Comedy]|143|{http://static.tv...| English|Silicon Valley|{{US, United Stat...|http://www.hbo.co...|2014-04-06| {8.5}|     30|{[Sunday], 22:00}| Ended|<p>In the high-te...|Scripted|1576570329|http://www.tvmaze...|      NULL|    96|\n",
            "+--------------------+--------------------+--------------------+--------+---+--------------------+--------+--------------+--------------------+--------------------+----------+------+-------+-----------------+------+--------------------+--------+----------+--------------------+----------+------+\n",
            "\n"
          ]
        }
      ]
    },
    {
      "cell_type": "code",
      "source": [
        "three_shows = spark.read.json(\"data/shows/shows-*.json\", multiLine=True)\n",
        "three_shows.show()"
      ],
      "metadata": {
        "id": "hE9NzWsMVNJw",
        "outputId": "fe489856-fe8b-48bc-f3ee-a2d88aa43cf3",
        "colab": {
          "base_uri": "https://localhost:8080/"
        }
      },
      "execution_count": 75,
      "outputs": [
        {
          "output_type": "stream",
          "name": "stdout",
          "text": [
            "+--------------------+--------------------+--------------------+--------------------+---+--------------------+--------+----------------+--------------------+--------------------+----------+------+-------+-------------------+------+--------------------+--------+----------+--------------------+------------------+------+\n",
            "|           _embedded|              _links|           externals|              genres| id|               image|language|            name|             network|        officialSite| premiered|rating|runtime|           schedule|status|             summary|    type|   updated|                 url|        webChannel|weight|\n",
            "+--------------------+--------------------+--------------------+--------------------+---+--------------------+--------+----------------+--------------------+--------------------+----------+------+-------+-------------------+------+--------------------+--------+----------+--------------------+------------------+------+\n",
            "|{[{{{http://api.t...|{{http://api.tvma...|{tt0088526, 71292...|     [Drama, Comedy]|722|{http://static.tv...| English|The Golden Girls|{{US, United Stat...|                NULL|1985-09-14| {8.5}|     30|{[Saturday], 21:00}| Ended|<p><b>The Golden ...|Scripted|1587944467|http://www.tvmaze...|              NULL|    68|\n",
            "|{[{{{http://api.t...|{{http://api.tvma...|{tt0903747, 81189...|[Drama, Crime, Th...|169|{http://static.tv...| English|    Breaking Bad|{{US, United Stat...|http://www.amc.co...|2008-01-20| {9.3}|     60|  {[Sunday], 22:00}| Ended|<p><b>Breaking Ba...|Scripted|1582273722|http://www.tvmaze...|{NULL, 1, Netflix}|    98|\n",
            "|{[{{{http://api.t...|{{http://api.tvma...|{tt2575988, 27716...|            [Comedy]|143|{http://static.tv...| English|  Silicon Valley|{{US, United Stat...|http://www.hbo.co...|2014-04-06| {8.5}|     30|  {[Sunday], 22:00}| Ended|<p>In the high-te...|Scripted|1576570329|http://www.tvmaze...|              NULL|    96|\n",
            "+--------------------+--------------------+--------------------+--------------------+---+--------------------+--------+----------------+--------------------+--------------------+----------+------+-------+-------------------+------+--------------------+--------+----------+--------------------+------------------+------+\n",
            "\n"
          ]
        }
      ]
    },
    {
      "cell_type": "code",
      "source": [
        "shows.printSchema()"
      ],
      "metadata": {
        "id": "duJEHM16VYql",
        "outputId": "7b959098-9da5-4d46-dd11-51bca869540f",
        "colab": {
          "base_uri": "https://localhost:8080/"
        }
      },
      "execution_count": 76,
      "outputs": [
        {
          "output_type": "stream",
          "name": "stdout",
          "text": [
            "root\n",
            " |-- _embedded: struct (nullable = true)\n",
            " |    |-- episodes: array (nullable = true)\n",
            " |    |    |-- element: struct (containsNull = true)\n",
            " |    |    |    |-- _links: struct (nullable = true)\n",
            " |    |    |    |    |-- self: struct (nullable = true)\n",
            " |    |    |    |    |    |-- href: string (nullable = true)\n",
            " |    |    |    |-- airdate: string (nullable = true)\n",
            " |    |    |    |-- airstamp: string (nullable = true)\n",
            " |    |    |    |-- airtime: string (nullable = true)\n",
            " |    |    |    |-- id: long (nullable = true)\n",
            " |    |    |    |-- image: struct (nullable = true)\n",
            " |    |    |    |    |-- medium: string (nullable = true)\n",
            " |    |    |    |    |-- original: string (nullable = true)\n",
            " |    |    |    |-- name: string (nullable = true)\n",
            " |    |    |    |-- number: long (nullable = true)\n",
            " |    |    |    |-- runtime: long (nullable = true)\n",
            " |    |    |    |-- season: long (nullable = true)\n",
            " |    |    |    |-- summary: string (nullable = true)\n",
            " |    |    |    |-- url: string (nullable = true)\n",
            " |-- _links: struct (nullable = true)\n",
            " |    |-- previousepisode: struct (nullable = true)\n",
            " |    |    |-- href: string (nullable = true)\n",
            " |    |-- self: struct (nullable = true)\n",
            " |    |    |-- href: string (nullable = true)\n",
            " |-- externals: struct (nullable = true)\n",
            " |    |-- imdb: string (nullable = true)\n",
            " |    |-- thetvdb: long (nullable = true)\n",
            " |    |-- tvrage: long (nullable = true)\n",
            " |-- genres: array (nullable = true)\n",
            " |    |-- element: string (containsNull = true)\n",
            " |-- id: long (nullable = true)\n",
            " |-- image: struct (nullable = true)\n",
            " |    |-- medium: string (nullable = true)\n",
            " |    |-- original: string (nullable = true)\n",
            " |-- language: string (nullable = true)\n",
            " |-- name: string (nullable = true)\n",
            " |-- network: struct (nullable = true)\n",
            " |    |-- country: struct (nullable = true)\n",
            " |    |    |-- code: string (nullable = true)\n",
            " |    |    |-- name: string (nullable = true)\n",
            " |    |    |-- timezone: string (nullable = true)\n",
            " |    |-- id: long (nullable = true)\n",
            " |    |-- name: string (nullable = true)\n",
            " |-- officialSite: string (nullable = true)\n",
            " |-- premiered: string (nullable = true)\n",
            " |-- rating: struct (nullable = true)\n",
            " |    |-- average: double (nullable = true)\n",
            " |-- runtime: long (nullable = true)\n",
            " |-- schedule: struct (nullable = true)\n",
            " |    |-- days: array (nullable = true)\n",
            " |    |    |-- element: string (containsNull = true)\n",
            " |    |-- time: string (nullable = true)\n",
            " |-- status: string (nullable = true)\n",
            " |-- summary: string (nullable = true)\n",
            " |-- type: string (nullable = true)\n",
            " |-- updated: long (nullable = true)\n",
            " |-- url: string (nullable = true)\n",
            " |-- webChannel: string (nullable = true)\n",
            " |-- weight: long (nullable = true)\n",
            "\n"
          ]
        }
      ]
    },
    {
      "cell_type": "markdown",
      "source": [
        "## Manipulating Arrays"
      ],
      "metadata": {
        "id": "nebLrqdNWc94"
      }
    },
    {
      "cell_type": "code",
      "source": [
        "array_subset = three_shows.select(\"name\", \"genres\")\n",
        "array_subset.show()"
      ],
      "metadata": {
        "id": "8XE4Rx57Vdnt",
        "outputId": "03b40a07-9393-473d-bd1d-59f30bbf3f48",
        "colab": {
          "base_uri": "https://localhost:8080/"
        }
      },
      "execution_count": 79,
      "outputs": [
        {
          "output_type": "stream",
          "name": "stdout",
          "text": [
            "+----------------+--------------------+\n",
            "|            name|              genres|\n",
            "+----------------+--------------------+\n",
            "|The Golden Girls|     [Drama, Comedy]|\n",
            "|    Breaking Bad|[Drama, Crime, Th...|\n",
            "|  Silicon Valley|            [Comedy]|\n",
            "+----------------+--------------------+\n",
            "\n"
          ]
        }
      ]
    },
    {
      "cell_type": "code",
      "source": [
        "import pyspark.sql.functions as F\n",
        "\n",
        "array_subset = array_subset.select(\n",
        "    \"name\",\n",
        "    array_subset.genres[0].alias(\"dot_and_index\"),\n",
        "    F.col(\"genres\")[0].alias(\"col_and_index\"),\n",
        "    array_subset.genres.getItem(0).alias(\"dot_and_method\"),\n",
        "    F.col(\"genres\").getItem(0).alias(\"col_and_method\"),\n",
        ")\n",
        "\n",
        "array_subset.show()"
      ],
      "metadata": {
        "id": "XPVf4pNXVkDS",
        "outputId": "b3fce7e1-29af-42c9-ebff-03ef680d4843",
        "colab": {
          "base_uri": "https://localhost:8080/"
        }
      },
      "execution_count": 80,
      "outputs": [
        {
          "output_type": "stream",
          "name": "stdout",
          "text": [
            "+----------------+-------------+-------------+--------------+--------------+\n",
            "|            name|dot_and_index|col_and_index|dot_and_method|col_and_method|\n",
            "+----------------+-------------+-------------+--------------+--------------+\n",
            "|The Golden Girls|        Drama|        Drama|         Drama|         Drama|\n",
            "|    Breaking Bad|        Drama|        Drama|         Drama|         Drama|\n",
            "|  Silicon Valley|       Comedy|       Comedy|        Comedy|        Comedy|\n",
            "+----------------+-------------+-------------+--------------+--------------+\n",
            "\n"
          ]
        }
      ]
    },
    {
      "cell_type": "code",
      "source": [
        "array_subset_repeated = array_subset.select(\n",
        "    \"name\",\n",
        "    F.lit(\"Comedy\").alias(\"one\"),\n",
        "    F.lit(\"Horror\").alias(\"two\"),\n",
        "    F.lit(\"Drama\").alias(\"three\"),\n",
        "    F.col(\"dot_and_index\"),\n",
        ").select(\n",
        "    \"name\",\n",
        "    F.array(\"one\", \"two\", \"three\").alias(\"Some_Genres\"),\n",
        "    F.array_repeat(\"dot_and_index\", 5).alias(\"Repeated_Genres\"),\n",
        ")\n",
        "\n",
        "array_subset_repeated.show()"
      ],
      "metadata": {
        "id": "u9FojRpEV5dG",
        "outputId": "5e80a661-bef9-4e91-a744-9c9e99e8782c",
        "colab": {
          "base_uri": "https://localhost:8080/"
        }
      },
      "execution_count": 94,
      "outputs": [
        {
          "output_type": "stream",
          "name": "stdout",
          "text": [
            "+----------------+--------------------+--------------------+\n",
            "|            name|         Some_Genres|     Repeated_Genres|\n",
            "+----------------+--------------------+--------------------+\n",
            "|The Golden Girls|[Comedy, Horror, ...|[Drama, Drama, Dr...|\n",
            "|    Breaking Bad|[Comedy, Horror, ...|[Drama, Drama, Dr...|\n",
            "|  Silicon Valley|[Comedy, Horror, ...|[Comedy, Comedy, ...|\n",
            "+----------------+--------------------+--------------------+\n",
            "\n"
          ]
        }
      ]
    },
    {
      "cell_type": "code",
      "source": [
        "array_subset_repeated.select(\n",
        "    \"name\", F.size(\"Some_Genres\"), F.size(\"Repeated_Genres\")\n",
        ").show()"
      ],
      "metadata": {
        "id": "dmCJRQAZV0F-",
        "outputId": "b800a149-cafa-4367-9f51-0a4bdcc90de7",
        "colab": {
          "base_uri": "https://localhost:8080/"
        }
      },
      "execution_count": 95,
      "outputs": [
        {
          "output_type": "stream",
          "name": "stdout",
          "text": [
            "+----------------+-----------------+---------------------+\n",
            "|            name|size(Some_Genres)|size(Repeated_Genres)|\n",
            "+----------------+-----------------+---------------------+\n",
            "|The Golden Girls|                3|                    5|\n",
            "|    Breaking Bad|                3|                    5|\n",
            "|  Silicon Valley|                3|                    5|\n",
            "+----------------+-----------------+---------------------+\n",
            "\n"
          ]
        }
      ]
    },
    {
      "cell_type": "code",
      "source": [
        "array_subset_repeated.select(\n",
        "    \"name\",\n",
        "    F.array_distinct(\"Some_Genres\"),\n",
        "    F.array_distinct(\"Repeated_Genres\"),\n",
        ").show(truncate=False)"
      ],
      "metadata": {
        "id": "_K9eZqdHWGik",
        "outputId": "fe7b142f-3aff-446d-93de-8fceb9ee9e47",
        "colab": {
          "base_uri": "https://localhost:8080/"
        }
      },
      "execution_count": 96,
      "outputs": [
        {
          "output_type": "stream",
          "name": "stdout",
          "text": [
            "+----------------+---------------------------+-------------------------------+\n",
            "|name            |array_distinct(Some_Genres)|array_distinct(Repeated_Genres)|\n",
            "+----------------+---------------------------+-------------------------------+\n",
            "|The Golden Girls|[Comedy, Horror, Drama]    |[Drama]                        |\n",
            "|Breaking Bad    |[Comedy, Horror, Drama]    |[Drama]                        |\n",
            "|Silicon Valley  |[Comedy, Horror, Drama]    |[Comedy]                       |\n",
            "+----------------+---------------------------+-------------------------------+\n",
            "\n"
          ]
        }
      ]
    },
    {
      "cell_type": "code",
      "source": [
        "array_subset_repeated = array_subset_repeated.select(\n",
        "    \"name\",\n",
        "    F.array_intersect(\"Some_Genres\", \"Repeated_Genres\").alias(\n",
        "        \"Genres\"\n",
        "    ),\n",
        ")\n",
        "\n",
        "array_subset_repeated.show()"
      ],
      "metadata": {
        "id": "5WSi7XNcWM3E",
        "outputId": "65ba0e8b-06cc-45a4-d35e-3dc6786878e5",
        "colab": {
          "base_uri": "https://localhost:8080/"
        }
      },
      "execution_count": 97,
      "outputs": [
        {
          "output_type": "stream",
          "name": "stdout",
          "text": [
            "+----------------+--------+\n",
            "|            name|  Genres|\n",
            "+----------------+--------+\n",
            "|The Golden Girls| [Drama]|\n",
            "|    Breaking Bad| [Drama]|\n",
            "|  Silicon Valley|[Comedy]|\n",
            "+----------------+--------+\n",
            "\n"
          ]
        }
      ]
    },
    {
      "cell_type": "code",
      "source": [
        "array_subset_repeated.select(\n",
        "    \"Genres\", F.array_position(\"Genres\", \"Comedy\")\n",
        ").show()"
      ],
      "metadata": {
        "id": "RqUgUBwzWQ_H",
        "outputId": "eef71640-f05f-4a6e-abda-7540cd21616a",
        "colab": {
          "base_uri": "https://localhost:8080/"
        }
      },
      "execution_count": 98,
      "outputs": [
        {
          "output_type": "stream",
          "name": "stdout",
          "text": [
            "+--------+------------------------------+\n",
            "|  Genres|array_position(Genres, Comedy)|\n",
            "+--------+------------------------------+\n",
            "| [Drama]|                             0|\n",
            "| [Drama]|                             0|\n",
            "|[Comedy]|                             1|\n",
            "+--------+------------------------------+\n",
            "\n"
          ]
        }
      ]
    },
    {
      "cell_type": "markdown",
      "source": [
        "## Manipulating Maps"
      ],
      "metadata": {
        "id": "089ULPNiWnun"
      }
    },
    {
      "cell_type": "code",
      "source": [
        "columns = [\"name\", \"language\", \"type\"]\n",
        "\n",
        "shows_map = three_shows.select(\n",
        "    *[F.lit(column) for column in columns],\n",
        "    F.array(*columns).alias(\"values\"),\n",
        ")\n",
        "\n",
        "shows_map = shows_map.select(F.array(*columns).alias(\"keys\"), \"values\")\n",
        "\n",
        "shows_map.show(truncate=False)"
      ],
      "metadata": {
        "id": "s7BlYE3bWVSP",
        "outputId": "f030b5c7-94d5-48c2-f25f-9a4eb146ed21",
        "colab": {
          "base_uri": "https://localhost:8080/"
        }
      },
      "execution_count": 99,
      "outputs": [
        {
          "output_type": "stream",
          "name": "stdout",
          "text": [
            "+----------------------+-------------------------------------+\n",
            "|keys                  |values                               |\n",
            "+----------------------+-------------------------------------+\n",
            "|[name, language, type]|[The Golden Girls, English, Scripted]|\n",
            "|[name, language, type]|[Breaking Bad, English, Scripted]    |\n",
            "|[name, language, type]|[Silicon Valley, English, Scripted]  |\n",
            "+----------------------+-------------------------------------+\n",
            "\n"
          ]
        }
      ]
    },
    {
      "cell_type": "code",
      "source": [
        "shows_map = shows_map.select(\n",
        "    F.map_from_arrays(\"keys\", \"values\").alias(\"mapped\")\n",
        ")\n",
        "\n",
        "shows_map.printSchema()"
      ],
      "metadata": {
        "id": "kK-ZJ3zWWtv2",
        "outputId": "bdcc3ada-20d9-4b94-82f0-114d69f76e29",
        "colab": {
          "base_uri": "https://localhost:8080/"
        }
      },
      "execution_count": 100,
      "outputs": [
        {
          "output_type": "stream",
          "name": "stdout",
          "text": [
            "root\n",
            " |-- mapped: map (nullable = false)\n",
            " |    |-- key: string\n",
            " |    |-- value: string (valueContainsNull = true)\n",
            "\n"
          ]
        }
      ]
    },
    {
      "cell_type": "code",
      "source": [
        "shows_map.show(truncate=False)"
      ],
      "metadata": {
        "id": "ydWxf5QdXLTh",
        "outputId": "a1c62808-4160-45a8-d434-46c2e29779d3",
        "colab": {
          "base_uri": "https://localhost:8080/"
        }
      },
      "execution_count": 101,
      "outputs": [
        {
          "output_type": "stream",
          "name": "stdout",
          "text": [
            "+-----------------------------------------------------------------+\n",
            "|mapped                                                           |\n",
            "+-----------------------------------------------------------------+\n",
            "|{name -> The Golden Girls, language -> English, type -> Scripted}|\n",
            "|{name -> Breaking Bad, language -> English, type -> Scripted}    |\n",
            "|{name -> Silicon Valley, language -> English, type -> Scripted}  |\n",
            "+-----------------------------------------------------------------+\n",
            "\n"
          ]
        }
      ]
    },
    {
      "cell_type": "code",
      "source": [
        "shows_map.select(\n",
        "    F.col(\"mapped.name\"),\n",
        "    F.col(\"mapped\")[\"name\"],\n",
        "    shows_map.mapped[\"name\"],\n",
        ").show()"
      ],
      "metadata": {
        "id": "SrfkD3AmXVY-",
        "outputId": "472d8325-199c-48b5-a126-3506310e89e0",
        "colab": {
          "base_uri": "https://localhost:8080/"
        }
      },
      "execution_count": 102,
      "outputs": [
        {
          "output_type": "stream",
          "name": "stdout",
          "text": [
            "+----------------+----------------+----------------+\n",
            "|            name|    mapped[name]|    mapped[name]|\n",
            "+----------------+----------------+----------------+\n",
            "|The Golden Girls|The Golden Girls|The Golden Girls|\n",
            "|    Breaking Bad|    Breaking Bad|    Breaking Bad|\n",
            "|  Silicon Valley|  Silicon Valley|  Silicon Valley|\n",
            "+----------------+----------------+----------------+\n",
            "\n"
          ]
        }
      ]
    },
    {
      "cell_type": "code",
      "source": [],
      "metadata": {
        "id": "d5YvNl-mXZX9"
      },
      "execution_count": null,
      "outputs": []
    }
  ]
}